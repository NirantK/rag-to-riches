{
 "cells": [
  {
   "cell_type": "code",
   "execution_count": 1,
   "metadata": {},
   "outputs": [],
   "source": [
    "%reload_ext autoreload\n",
    "%autoreload 2\n",
    "\n",
    "import nest_asyncio\n",
    "nest_asyncio.apply()"
   ]
  },
  {
   "cell_type": "code",
   "execution_count": 2,
   "metadata": {},
   "outputs": [
    {
     "name": "stderr",
     "output_type": "stream",
     "text": [
      "/home/jjmachan/.pyenv/versions/3.10.12/envs/nirant-class/lib/python3.10/site-packages/tqdm/auto.py:21: TqdmWarning: IProgress not found. Please update jupyter and ipywidgets. See https://ipywidgets.readthedocs.io/en/stable/user_install.html\n",
      "  from .autonotebook import tqdm as notebook_tqdm\n",
      "WARNING: All log messages before absl::InitializeLog() is called are written to STDERR\n",
      "I0000 00:00:1726327324.950860   15981 config.cc:230] gRPC experiments enabled: call_status_override_on_cancellation, event_engine_dns, event_engine_listener, http2_stats_fix, monitoring_experiment, pick_first_new, trace_record_callops, work_serializer_clears_time_cache\n"
     ]
    },
    {
     "name": "stdout",
     "output_type": "stream",
     "text": [
      "🌍 To view the Phoenix app in your browser, visit http://localhost:6006/\n",
      "📖 For more information on how to use Phoenix, check out https://docs.arize.com/phoenix\n"
     ]
    }
   ],
   "source": [
    "import phoenix as px\n",
    "from phoenix.trace.langchain import LangChainInstrumentor\n",
    "\n",
    "# start the phoenix app\n",
    "session = px.launch_app()\n",
    "# Initialize Langchain auto-instrumentation\n",
    "LangChainInstrumentor().instrument()"
   ]
  },
  {
   "cell_type": "code",
   "execution_count": 6,
   "metadata": {},
   "outputs": [],
   "source": [
    "from langchain_openai import ChatOpenAI\n",
    "from ragas.llms import LangchainLLMWrapper\n",
    "\n",
    "llm = ChatOpenAI(model=\"gpt-4o\", temperature=0)"
   ]
  },
  {
   "cell_type": "code",
   "execution_count": 32,
   "metadata": {},
   "outputs": [],
   "source": [
    "def process_row(row, correct=False, column=\"response\"):\n",
    "    if correct:\n",
    "        row[column] = row[\"correct\"]\n",
    "    else:\n",
    "        row[column] = row[\"incorrect\"]\n",
    "    return row"
   ]
  },
  {
   "cell_type": "markdown",
   "metadata": {},
   "source": [
    "### Faithfulness"
   ]
  },
  {
   "cell_type": "code",
   "execution_count": 19,
   "metadata": {},
   "outputs": [
    {
     "name": "stderr",
     "output_type": "stream",
     "text": [
      "/tmp/ipykernel_1784025/361441268.py:11: DeprecationWarning: The function score was deprecated in 0.2, and will be removed in the 0.3 release. Use single_turn_ascore instead.\n",
      "  faithfulness.score(process_row(row, correct=False))\n"
     ]
    },
    {
     "data": {
      "text/plain": [
       "0.5"
      ]
     },
     "execution_count": 19,
     "metadata": {},
     "output_type": "execute_result"
    }
   ],
   "source": [
    "row = {\n",
    "    \"user_input\": \"Where and when was Einstein born?\",\n",
    "    \"retrieved_contexts\": [\"Albert Einstein (born 14 March 1879) was a German-born theoretical physicist, widely held to be one of the greatest and most influential scientists of all time\"],\n",
    "    \"correct\": \"Einstein was born in Germany on 14th March 1879.\",\n",
    "    \"incorrect\": \"Einstein was born in Germany on 20th March 1879.\",\n",
    "}\n",
    "\n",
    "from ragas.metrics import faithfulness\n",
    "faithfulness.llm = judge_llm\n",
    "\n",
    "faithfulness.score(process_row(row, correct=False))"
   ]
  },
  {
   "cell_type": "markdown",
   "metadata": {},
   "source": [
    "### Answer Correctness"
   ]
  },
  {
   "cell_type": "code",
   "execution_count": 29,
   "metadata": {},
   "outputs": [],
   "source": [
    "row = {\n",
    "    \"user_input\": \"Where and when was Einstein born?\",\n",
    "    \"reference\": \"Einstein was born in 1879 in Germany.\",\n",
    "    \"correct\": \"In 1879, Einstein was born in Germany.\",\n",
    "    \"incorrect\": \"Einstein was born in Spain in 1879.\",\n",
    "}\n",
    "\n",
    "from ragas.metrics import answer_correctness, answer_similarity\n",
    "from ragas.embeddings import embedding_factory\n",
    "\n",
    "answer_correctness.llm = judge_llm\n",
    "answer_similarity.embeddings = embedding_factory(\"text-embedding-3-small\")\n",
    "answer_correctness.answer_similarity = answer_similarity"
   ]
  },
  {
   "cell_type": "code",
   "execution_count": 31,
   "metadata": {},
   "outputs": [
    {
     "name": "stderr",
     "output_type": "stream",
     "text": [
      "/tmp/ipykernel_1784025/1311459674.py:1: DeprecationWarning: The function score was deprecated in 0.2, and will be removed in the 0.3 release. Use single_turn_ascore instead.\n",
      "  answer_correctness.score(process_row(row, correct=True))\n"
     ]
    },
    {
     "data": {
      "text/plain": [
       "0.9837395642029906"
      ]
     },
     "execution_count": 31,
     "metadata": {},
     "output_type": "execute_result"
    }
   ],
   "source": [
    "answer_correctness.score(process_row(row, correct=True))"
   ]
  },
  {
   "cell_type": "markdown",
   "metadata": {},
   "source": [
    "### Context Recall"
   ]
  },
  {
   "cell_type": "code",
   "execution_count": 43,
   "metadata": {},
   "outputs": [
    {
     "data": {
      "text/plain": [
       "('user_input', 'retrieved_contexts', 'reference')"
      ]
     },
     "execution_count": 43,
     "metadata": {},
     "output_type": "execute_result"
    }
   ],
   "source": [
    "row = {\n",
    "    \"user_input\": \"Where and when was Einstein born?\",\n",
    "    \"reference\": \"Einstein was born in 1879 in Germany.\",\n",
    "    \"correct\": [\"Albert Einstein was born on March 14, 1879 in Ulm, Württemberg, Germany\"],\n",
    "    \"incorrect\": [\"Einstein was born in Ulm, but his family moved to Munich when he was just six weeks old\", \n",
    "                  \"Einstein's birth was registered at the registry office in Ulm on March 15, 1879, the day after he was born\"\n",
    "                  \"At the time of Einstein's birth, Ulm was a growing town of about 33,000 inhabitants\"],\n",
    "}\n",
    "\n",
    "from ragas.metrics import context_recall\n",
    "context_recall.llm = judge_llm\n",
    "\n",
    "context_recall._required_columns"
   ]
  },
  {
   "cell_type": "code",
   "execution_count": 44,
   "metadata": {},
   "outputs": [
    {
     "name": "stderr",
     "output_type": "stream",
     "text": [
      "/tmp/ipykernel_1784025/420289945.py:1: DeprecationWarning: The function score was deprecated in 0.2, and will be removed in the 0.3 release. Use single_turn_ascore instead.\n",
      "  context_recall.score(process_row(row, correct=False, column=\"retrieved_contexts\"))\n"
     ]
    },
    {
     "data": {
      "text/plain": [
       "0.0"
      ]
     },
     "execution_count": 44,
     "metadata": {},
     "output_type": "execute_result"
    }
   ],
   "source": [
    "context_recall.score(process_row(row, correct=False, column=\"retrieved_contexts\"))"
   ]
  },
  {
   "cell_type": "markdown",
   "metadata": {},
   "source": [
    "### Context Enity Recall"
   ]
  },
  {
   "cell_type": "code",
   "execution_count": 51,
   "metadata": {},
   "outputs": [
    {
     "name": "stderr",
     "output_type": "stream",
     "text": [
      "/tmp/ipykernel_1784025/363734810.py:4: DeprecationWarning: The function score was deprecated in 0.2, and will be removed in the 0.3 release. Use single_turn_ascore instead.\n",
      "  context_entity_recall.score(process_row(row, correct=False, column=\"retrieved_contexts\"))\n"
     ]
    },
    {
     "data": {
      "text/plain": [
       "0.3333333322222222"
      ]
     },
     "execution_count": 51,
     "metadata": {},
     "output_type": "execute_result"
    }
   ],
   "source": [
    "from ragas.metrics import context_entity_recall\n",
    "context_entity_recall.llm = judge_llm\n",
    "context_entity_recall._required_columns\n",
    "context_entity_recall.score(process_row(row, correct=False, column=\"retrieved_contexts\"))"
   ]
  },
  {
   "cell_type": "markdown",
   "metadata": {},
   "source": [
    "### Context Precision"
   ]
  },
  {
   "cell_type": "code",
   "execution_count": 37,
   "metadata": {},
   "outputs": [
    {
     "data": {
      "text/plain": [
       "('user_input', 'retrieved_contexts', 'reference')"
      ]
     },
     "execution_count": 37,
     "metadata": {},
     "output_type": "execute_result"
    }
   ],
   "source": [
    "row = {\n",
    "    \"user_input\": \"Where and when was Einstein born?\",\n",
    "    \"reference\": \"Einstein was born in 1879 in Germany.\",\n",
    "    \"correct\": [\"Albert Einstein was born on March 14, 1879 in Ulm, Württemberg, Germany\"],\n",
    "    \"incorrect\": [\"Einstein was born in Ulm, but his family moved to Munich when he was just six weeks old\", \n",
    "                  \"Einstein's birth was registered at the registry office in Ulm on March 15, 1879, the day after he was born\"],\n",
    "}\n",
    "\n",
    "from ragas.metrics import context_precision\n",
    "context_precision.llm = judge_llm\n",
    "context_precision._required_columns"
   ]
  },
  {
   "cell_type": "code",
   "execution_count": 39,
   "metadata": {},
   "outputs": [
    {
     "name": "stderr",
     "output_type": "stream",
     "text": [
      "/tmp/ipykernel_1784025/295053778.py:1: DeprecationWarning: The function score was deprecated in 0.2, and will be removed in the 0.3 release. Use single_turn_ascore instead.\n",
      "  context_precision.score(process_row(row, correct=True, column=\"retrieved_contexts\"))\n"
     ]
    },
    {
     "data": {
      "text/plain": [
       "0.9999999999"
      ]
     },
     "execution_count": 39,
     "metadata": {},
     "output_type": "execute_result"
    }
   ],
   "source": [
    "context_precision.score(process_row(row, correct=True, column=\"retrieved_contexts\"))"
   ]
  },
  {
   "cell_type": "markdown",
   "metadata": {},
   "source": [
    "### Rubric Based Metrics"
   ]
  },
  {
   "cell_type": "code",
   "execution_count": 63,
   "metadata": {},
   "outputs": [
    {
     "name": "stderr",
     "output_type": "stream",
     "text": [
      "Evaluating: 100%|██████████| 2/2 [00:02<00:00,  1.49s/it]\n"
     ]
    },
    {
     "data": {
      "text/html": [
       "<div>\n",
       "<style scoped>\n",
       "    .dataframe tbody tr th:only-of-type {\n",
       "        vertical-align: middle;\n",
       "    }\n",
       "\n",
       "    .dataframe tbody tr th {\n",
       "        vertical-align: top;\n",
       "    }\n",
       "\n",
       "    .dataframe thead th {\n",
       "        text-align: right;\n",
       "    }\n",
       "</style>\n",
       "<table border=\"1\" class=\"dataframe\">\n",
       "  <thead>\n",
       "    <tr style=\"text-align: right;\">\n",
       "      <th></th>\n",
       "      <th>user_input</th>\n",
       "      <th>retrieved_contexts</th>\n",
       "      <th>response</th>\n",
       "      <th>reference</th>\n",
       "      <th>labelled_rubrics_score</th>\n",
       "      <th>reference_free_rubrics_score</th>\n",
       "    </tr>\n",
       "  </thead>\n",
       "  <tbody>\n",
       "    <tr>\n",
       "      <th>0</th>\n",
       "      <td>What's the longest river in the world?</td>\n",
       "      <td>[Scientists debate whether the Amazon or the N...</td>\n",
       "      <td>The longest river in the world is the Nile, st...</td>\n",
       "      <td>The Nile is a major north-flowing river in nor...</td>\n",
       "      <td>4</td>\n",
       "      <td>4</td>\n",
       "    </tr>\n",
       "  </tbody>\n",
       "</table>\n",
       "</div>"
      ],
      "text/plain": [
       "                               user_input  \\\n",
       "0  What's the longest river in the world?   \n",
       "\n",
       "                                  retrieved_contexts  \\\n",
       "0  [Scientists debate whether the Amazon or the N...   \n",
       "\n",
       "                                            response  \\\n",
       "0  The longest river in the world is the Nile, st...   \n",
       "\n",
       "                                           reference  labelled_rubrics_score  \\\n",
       "0  The Nile is a major north-flowing river in nor...                       4   \n",
       "\n",
       "   reference_free_rubrics_score  \n",
       "0                             4  "
      ]
     },
     "execution_count": 63,
     "metadata": {},
     "output_type": "execute_result"
    }
   ],
   "source": [
    "from ragas import evaluate\n",
    "from datasets import Dataset, DatasetDict\n",
    "\n",
    "from ragas.metrics import labelled_rubrics_score, reference_free_rubrics_score\n",
    "\n",
    "rows = {\n",
    "    \"user_input\": [\n",
    "        \"What's the longest river in the world?\",\n",
    "    ],\n",
    "    \"reference\": [\n",
    "        \"The Nile is a major north-flowing river in northeastern Africa.\",\n",
    "    ],\n",
    "    \"response\": [\n",
    "        \"The longest river in the world is the Nile, stretching approximately 6,650 kilometers (4,130 miles) through northeastern Africa, flowing through countries such as Uganda, Sudan, and Egypt before emptying into the Mediterranean Sea. There is some debate about this title, as recent studies suggest the Amazon River could be longer if its longest tributaries are included, potentially extending its length to about 7,000 kilometers (4,350 miles).\",\n",
    "    ],\n",
    "    \"retrieved_contexts\": [\n",
    "        [\n",
    "            \"Scientists debate whether the Amazon or the Nile is the longest river in the world. Traditionally, the Nile is considered longer, but recent information suggests that the Amazon may be longer.\",\n",
    "            \"The Nile River was central to the Ancient Egyptians' rise to wealth and power. Since rainfall is almost non-existent in Egypt, the Nile River and its yearly floodwaters offered the people a fertile oasis for rich agriculture.\",\n",
    "            \"The world's longest rivers are defined as the longest natural streams whose water flows within a channel, or streambed, with defined banks.\",\n",
    "            \"The Amazon River could be considered longer if its longest tributaries are included, potentially extending its length to about 7,000 kilometers.\"\n",
    "        ],\n",
    "    ]\n",
    "}\n",
    "\n",
    "\n",
    "\n",
    "dataset = Dataset.from_dict(rows)\n",
    "\n",
    "result = evaluate(\n",
    "    dataset,\n",
    "    metrics=[\n",
    "        labelled_rubrics_score,\n",
    "        reference_free_rubrics_score\n",
    "    ],\n",
    ")\n",
    "\n",
    "result.to_pandas()"
   ]
  },
  {
   "cell_type": "code",
   "execution_count": null,
   "metadata": {},
   "outputs": [],
   "source": []
  }
 ],
 "metadata": {
  "kernelspec": {
   "display_name": "nirant-class",
   "language": "python",
   "name": "python3"
  },
  "language_info": {
   "codemirror_mode": {
    "name": "ipython",
    "version": 3
   },
   "file_extension": ".py",
   "mimetype": "text/x-python",
   "name": "python",
   "nbconvert_exporter": "python",
   "pygments_lexer": "ipython3",
   "version": "3.10.12"
  }
 },
 "nbformat": 4,
 "nbformat_minor": 2
}
