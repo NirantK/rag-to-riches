{
 "cells": [
  {
   "cell_type": "markdown",
   "metadata": {},
   "source": [
    "# DSPy\n",
    "DSPy is a framework for algorithmically optimizing LM prompts and weights. DSPy can help you define your your tasks more accurately and can help you optimize your prompt for your sutaible use case. See [docs](https://dspy-docs.vercel.app/docs/intro) for more details.\n",
    "\n",
    "> 💡 DSPy stands for **D**eclarative **S**elf-improving Language Programs, **py**thonically."
   ]
  },
  {
   "cell_type": "code",
   "execution_count": 2,
   "metadata": {},
   "outputs": [],
   "source": [
    "import pandas as pd\n",
    "from fastembed import TextEmbedding\n",
    "from qdrant_client import QdrantClient\n",
    "from qdrant_client.http import models\n",
    "from tqdm import tqdm\n",
    "from datasets import load_dataset\n",
    "\n",
    "from typing import Optional\n",
    "import os\n",
    "import random"
   ]
  },
  {
   "cell_type": "code",
   "execution_count": 3,
   "metadata": {},
   "outputs": [],
   "source": [
    "import dspy\n",
    "from dspy.utils import dotdict"
   ]
  },
  {
   "cell_type": "markdown",
   "metadata": {},
   "source": [
    "### Load the Training and Testing Data"
   ]
  },
  {
   "cell_type": "code",
   "execution_count": 4,
   "metadata": {},
   "outputs": [],
   "source": [
    "corpora = load_dataset(\"nirantk/geneticsQA-corpus\", split=\"train\").to_pandas()"
   ]
  },
  {
   "cell_type": "code",
   "execution_count": 5,
   "metadata": {},
   "outputs": [],
   "source": [
    "train = load_dataset(\"nirantk/geneticsQA-train\", split=\"train\").to_pandas()"
   ]
  },
  {
   "cell_type": "markdown",
   "metadata": {},
   "source": [
    "Each Question in the training data is assosiated with ground_truth label , we will use this to train our model and optimize the prompts. "
   ]
  },
  {
   "cell_type": "code",
   "execution_count": 6,
   "metadata": {},
   "outputs": [
    {
     "data": {
      "text/html": [
       "<div>\n",
       "<style scoped>\n",
       "    .dataframe tbody tr th:only-of-type {\n",
       "        vertical-align: middle;\n",
       "    }\n",
       "\n",
       "    .dataframe tbody tr th {\n",
       "        vertical-align: top;\n",
       "    }\n",
       "\n",
       "    .dataframe thead th {\n",
       "        text-align: right;\n",
       "    }\n",
       "</style>\n",
       "<table border=\"1\" class=\"dataframe\">\n",
       "  <thead>\n",
       "    <tr style=\"text-align: right;\">\n",
       "      <th></th>\n",
       "      <th>question</th>\n",
       "      <th>contexts</th>\n",
       "      <th>ground_truth</th>\n",
       "    </tr>\n",
       "  </thead>\n",
       "  <tbody>\n",
       "    <tr>\n",
       "      <th>0</th>\n",
       "      <td>What is Snord116?</td>\n",
       "      <td>['Further analysis with array-CGH identified a mosaic 847\\u2009kb deletion in 15q11-q13, including SNURF-SNRPN, the snoRNA gene clusters SNORD116 (HBII-85), SNORD115, (HBII-52), SNORD109 A and B (HBII-438A and B), SNORD64 (HBII-13), and NPAP1 (C15ORF2).', 'All three deletions included SNORD116, but only two encompassed parts of SNURF-SNRPN, implicating SNORD116 as the major contributor to the Prader-Willi phenotype. Our case adds further information about genotype-phenotype correlation and s...</td>\n",
       "      <td>['SNORD116 is a small nucleolar (sno) RNA gene cluster (HBII-85) implicated as a major contributor the Prader-Willi phenotype. \\nSNORD116 genes appears to be responsible for the major features of PWS. \\nSNORD116 is a paternally expressed box C/D snoRNA gene cluster.\\nThe mouse C/D box snoRNA MBII-85 (SNORD116) is processed into at least five shorter RNAs using processing sites near known functional elements of C/D box snoRNAs.\\nSnord116 expression in the medial hypothalamus, particularly wit...</td>\n",
       "    </tr>\n",
       "    <tr>\n",
       "      <th>1</th>\n",
       "      <td>Are ultraconserved elements often transcribed?</td>\n",
       "      <td>['Starting from a genome-wide expression profiling, we demonstrate for the first time a functional link between oxygen deprivation and the modulation of long noncoding transcripts from ultraconserved regions, termed transcribed-ultraconserved regions (T-UCRs)', 'Our data gives a first glimpse of a novel functional hypoxic network comprising protein-coding transcripts and noncoding RNAs (ncRNAs) from the T-UCRs category', 'Highly conserved elements discovered in vertebrates are present in non...</td>\n",
       "      <td>['Yes.  Especially, a large fraction of non-exonic UCEs is transcribed across all developmental stages examined from only one DNA strand.']</td>\n",
       "    </tr>\n",
       "    <tr>\n",
       "      <th>2</th>\n",
       "      <td>List metalloenzyme inhibitors.</td>\n",
       "      <td>[' Clinically approved inhibitors were selected as well as several other reported metalloprotein inhibitors in order to represent a broad range of metal binding groups (MBGs), including hydroxamic acid, carboxylate, hydroxypyridinonate, thiol, and N-hydroxyurea functional groups.', 'A total of 21 different raltegravir-chelator derivative (RCD) compounds were prepared that differed only in the nature of the MBG. ', 'At least two compounds (RCD-4, RCD-5) containing a hydroxypyrone MBG were fou...</td>\n",
       "      <td>['Foscarnet\\nVT-1129\\nVT-1161 \\nBB-3497\\nhydroxamate molecules\\nsiderophores']</td>\n",
       "    </tr>\n",
       "    <tr>\n",
       "      <th>3</th>\n",
       "      <td>Which protein phosphatase has been found to interact with the heat shock protein, HSP20?</td>\n",
       "      <td>[' Moreover, protein phosphatase-1 activity is regulated by two binding partners, inhibitor-1 and the small heat shock protein 20, Hsp20. Indeed, human genetic variants of inhibitor-1 (G147D) or Hsp20 (P20L) result in reduced binding and inhibition of protein phosphatase-1, suggesting aberrant enzymatic regulation in human carriers. ', 'Small heat shock protein 20 interacts with protein phosphatase-1 and enhances sarcoplasmic reticulum calcium cycling.', ' Hsp20 overexpression in intact anim...</td>\n",
       "      <td>['Protein phosphatase-1 activity is regulated by two binding partners, inhibitor-1 and the small heat shock protein 20, Hsp20. Cell fractionation, coimmunoprecipitation, and coimmunolocalization studies, revealed an association between Hsp20 and PP1. Small heat shock protein 20 interacts with protein phosphatase-1 and enhances sarcoplasmic reticulum calcium cycling.', 'Moreover, protein phosphatase-1 activity is regulated by two binding partners, inhibitor-1 and the small heat shock protein ...</td>\n",
       "    </tr>\n",
       "    <tr>\n",
       "      <th>4</th>\n",
       "      <td>Do DNA double-strand breaks play a causal role in carcinogenesis?</td>\n",
       "      <td>['The DNA non-homologous end-joining repair gene XRCC6/Ku70 plays an important role in the repair of DNA double-strand breaks (DSBs) induced by both exogenous and endogenous DNA-damaging agents. Defects in overall DSB repair capacity can lead to genomic instability and carcinogenesis.', 'The tumor suppressor breast cancer susceptibility protein 1 (BRCA1) protects our cells from genomic instability in part by facilitating the efficient repair of DNA double-strand breaks (DSBs). BRCA1 promotes...</td>\n",
       "      <td>['Yes. It has been demonstrated that induction of DNA double-strand breaks (DSBs) and defects in overall DSBs repair capacity can lead to an accumulation of mutations, resulting in genomic instability of cells. Given that genomic instability is the hallmark of cancer, DSBs play a causal role in carcinogenesis.']</td>\n",
       "    </tr>\n",
       "    <tr>\n",
       "      <th>...</th>\n",
       "      <td>...</td>\n",
       "      <td>...</td>\n",
       "      <td>...</td>\n",
       "    </tr>\n",
       "    <tr>\n",
       "      <th>1654</th>\n",
       "      <td>Is thyroid hormone therapy indicated in patients with heart failure?</td>\n",
       "      <td>['Patients with chronic heart failure and subclinical hypothyroidism significantly improved their physical performance when normal TSH levels were reached.', 'Early and sustained physiological restoration of circulating L-T3 levels after MI halves infarct scar size and prevents the progression towards heart failure. This beneficial effect is likely due to enhanced capillary formation and mitochondrial protection.', 'These data indicate that T(3) replacement to euthyroid levels improves systo...</td>\n",
       "      <td>['There are several experimental and clinical evidences of the potential benefits of Thyroid hormone replacement therapy in heart failure. Initial clinical data showed also a good safety profile and tolerance of TH replacement therapy in patients withheart failure. \\nHowever currently there is no indication to treat patients with heart failure withTHreplacementtherapy.']</td>\n",
       "    </tr>\n",
       "    <tr>\n",
       "      <th>1655</th>\n",
       "      <td>Is protein Fbw7 a SCF type of E3 ubiquitin ligase?</td>\n",
       "      <td>['FBW7 (F-box and WD repeat domain-containing 7) is the substrate recognition component of an evolutionary conserved SCF (complex of SKP1, CUL1 and F-box protein)-type ubiquitin ligase.', 'However, very few E3 ubiquitin ligases are known to target G-CSFR for ubiquitin-proteasome pathway. Here we identified F-box and WD repeat domain-containing 7 (Fbw7), a substrate recognizing component of Skp-Cullin-F box (SCF) E3 ubiquitin Ligase physically associates with G-CSFR and promotes its ubiquitin...</td>\n",
       "      <td>['Fbxw7 (also known as Fbw7, SEL-10, hCdc4, or hAgo) is the F-box protein subunit of an Skp1-Cul1-F-box protein (SCF)-type ubiquitin ligase complex that plays a central role in the degradation of Notch family members.The F-box protein Fbw7 (also known as Fbxw7, hCdc4 and Sel-10) functions as a substrate recognition component of a SCF-type E3 ubiquitin ligase. SCF(Fbw7) facilitates polyubiquitination and subsequent degradation of various proteins such as Notch, cyclin E, c-Myc and c-Jun.', 'T...</td>\n",
       "    </tr>\n",
       "    <tr>\n",
       "      <th>1656</th>\n",
       "      <td>Is Annexin V an apoptotic marker?</td>\n",
       "      <td>['The apoptosis of the MSCs was induced by subjecting the cells to OGD conditions for 4 h and was detected by Annexin V/PI and Hoechst 33258 staining. ', 'In addition to the antimicrobial activity, we found that treatment of the cancer cell lines, Jurkat T-cells, Granta cells, and melanoma cells, with the Pseudomonas sp. In5 crude extract increased staining with the apoptotic marker Annexin V while no staining of healthy normal cells, i.e., naïve or activated CD4 T-cells, was observed.', 'At...</td>\n",
       "      <td>['Yes, annexin V is an early apoptotic marker.', 'Yes, Annexin V is an apoptotic marker.']</td>\n",
       "    </tr>\n",
       "    <tr>\n",
       "      <th>1657</th>\n",
       "      <td>Which are the clinical characteristics of Tuberous Sclerosis?</td>\n",
       "      <td>['Prevalence and long-term outcome of epilepsy in tuberous sclerosis complex (TSC) is reported to be variable', 'Subependymal giant cell astrocytomas (SEGAs) are benign tumors, most commonly associated with tuberous sclerosis complex (TSC).', 'Lymphangioleiomyomatosis (LAM) is a rare, progressive, frequently lethal cystic lung disease that almost exclusively affects women.', 'Rhabdomyoma is the most common type of cardiac tumor in fetuses and is often associated with tuberous sclerosis compl...</td>\n",
       "      <td>['The clinical characteristics of Tuberous Sclerosis include epilepsy, subependymal giant cell astrocytomas, lymphangioleiomyomatosis, rhabdomyoma, renal angiomyolipomas, cortical tubers, neurofibromas, angiofibromas, mental retardation, and behavioral disorders.']</td>\n",
       "    </tr>\n",
       "    <tr>\n",
       "      <th>1658</th>\n",
       "      <td>Is irritable bowel syndrome more common in women with endometriosis?</td>\n",
       "      <td>['CONCLUSIONS: Comorbid pain syndromes, mood conditions and asthma are common in adolescents and young women with endometriosis.', 'There are many etiologies of pelvic pain that present with symptoms resembling those of endometriosis-associated pelvic pain that are not diagnosable with laparoscopy, such as interstitial cystitis and irritable bowel syndrome.', 'Often, such patients are labelled with irritable bowel syndrome. ', 'Irritable bowel syndrome (IBS) is also common in this setting, a...</td>\n",
       "      <td>['Yes, irritable bowel syndrome (IBS) is more common in women with endometriosis. It has been shown that 15% of the patients with endometriosis also had IBS. Women with endometriosis are more likely to have received a diagnosis of IBS. Endometriosis may coexist with or be misdiagnosed as IBS.']</td>\n",
       "    </tr>\n",
       "  </tbody>\n",
       "</table>\n",
       "<p>1659 rows × 3 columns</p>\n",
       "</div>"
      ],
      "text/plain": [
       "                                                                                      question  \\\n",
       "0                                                                            What is Snord116?   \n",
       "1                                               Are ultraconserved elements often transcribed?   \n",
       "2                                                               List metalloenzyme inhibitors.   \n",
       "3     Which protein phosphatase has been found to interact with the heat shock protein, HSP20?   \n",
       "4                            Do DNA double-strand breaks play a causal role in carcinogenesis?   \n",
       "...                                                                                        ...   \n",
       "1654                      Is thyroid hormone therapy indicated in patients with heart failure?   \n",
       "1655                                        Is protein Fbw7 a SCF type of E3 ubiquitin ligase?   \n",
       "1656                                                         Is Annexin V an apoptotic marker?   \n",
       "1657                             Which are the clinical characteristics of Tuberous Sclerosis?   \n",
       "1658                      Is irritable bowel syndrome more common in women with endometriosis?   \n",
       "\n",
       "                                                                                                                                                                                                                                                                                                                                                                                                                                                                                                                 contexts  \\\n",
       "0     ['Further analysis with array-CGH identified a mosaic 847\\u2009kb deletion in 15q11-q13, including SNURF-SNRPN, the snoRNA gene clusters SNORD116 (HBII-85), SNORD115, (HBII-52), SNORD109 A and B (HBII-438A and B), SNORD64 (HBII-13), and NPAP1 (C15ORF2).', 'All three deletions included SNORD116, but only two encompassed parts of SNURF-SNRPN, implicating SNORD116 as the major contributor to the Prader-Willi phenotype. Our case adds further information about genotype-phenotype correlation and s...   \n",
       "1     ['Starting from a genome-wide expression profiling, we demonstrate for the first time a functional link between oxygen deprivation and the modulation of long noncoding transcripts from ultraconserved regions, termed transcribed-ultraconserved regions (T-UCRs)', 'Our data gives a first glimpse of a novel functional hypoxic network comprising protein-coding transcripts and noncoding RNAs (ncRNAs) from the T-UCRs category', 'Highly conserved elements discovered in vertebrates are present in non...   \n",
       "2     [' Clinically approved inhibitors were selected as well as several other reported metalloprotein inhibitors in order to represent a broad range of metal binding groups (MBGs), including hydroxamic acid, carboxylate, hydroxypyridinonate, thiol, and N-hydroxyurea functional groups.', 'A total of 21 different raltegravir-chelator derivative (RCD) compounds were prepared that differed only in the nature of the MBG. ', 'At least two compounds (RCD-4, RCD-5) containing a hydroxypyrone MBG were fou...   \n",
       "3     [' Moreover, protein phosphatase-1 activity is regulated by two binding partners, inhibitor-1 and the small heat shock protein 20, Hsp20. Indeed, human genetic variants of inhibitor-1 (G147D) or Hsp20 (P20L) result in reduced binding and inhibition of protein phosphatase-1, suggesting aberrant enzymatic regulation in human carriers. ', 'Small heat shock protein 20 interacts with protein phosphatase-1 and enhances sarcoplasmic reticulum calcium cycling.', ' Hsp20 overexpression in intact anim...   \n",
       "4     ['The DNA non-homologous end-joining repair gene XRCC6/Ku70 plays an important role in the repair of DNA double-strand breaks (DSBs) induced by both exogenous and endogenous DNA-damaging agents. Defects in overall DSB repair capacity can lead to genomic instability and carcinogenesis.', 'The tumor suppressor breast cancer susceptibility protein 1 (BRCA1) protects our cells from genomic instability in part by facilitating the efficient repair of DNA double-strand breaks (DSBs). BRCA1 promotes...   \n",
       "...                                                                                                                                                                                                                                                                                                                                                                                                                                                                                                                   ...   \n",
       "1654  ['Patients with chronic heart failure and subclinical hypothyroidism significantly improved their physical performance when normal TSH levels were reached.', 'Early and sustained physiological restoration of circulating L-T3 levels after MI halves infarct scar size and prevents the progression towards heart failure. This beneficial effect is likely due to enhanced capillary formation and mitochondrial protection.', 'These data indicate that T(3) replacement to euthyroid levels improves systo...   \n",
       "1655  ['FBW7 (F-box and WD repeat domain-containing 7) is the substrate recognition component of an evolutionary conserved SCF (complex of SKP1, CUL1 and F-box protein)-type ubiquitin ligase.', 'However, very few E3 ubiquitin ligases are known to target G-CSFR for ubiquitin-proteasome pathway. Here we identified F-box and WD repeat domain-containing 7 (Fbw7), a substrate recognizing component of Skp-Cullin-F box (SCF) E3 ubiquitin Ligase physically associates with G-CSFR and promotes its ubiquitin...   \n",
       "1656  ['The apoptosis of the MSCs was induced by subjecting the cells to OGD conditions for 4 h and was detected by Annexin V/PI and Hoechst 33258 staining. ', 'In addition to the antimicrobial activity, we found that treatment of the cancer cell lines, Jurkat T-cells, Granta cells, and melanoma cells, with the Pseudomonas sp. In5 crude extract increased staining with the apoptotic marker Annexin V while no staining of healthy normal cells, i.e., naïve or activated CD4 T-cells, was observed.', 'At...   \n",
       "1657  ['Prevalence and long-term outcome of epilepsy in tuberous sclerosis complex (TSC) is reported to be variable', 'Subependymal giant cell astrocytomas (SEGAs) are benign tumors, most commonly associated with tuberous sclerosis complex (TSC).', 'Lymphangioleiomyomatosis (LAM) is a rare, progressive, frequently lethal cystic lung disease that almost exclusively affects women.', 'Rhabdomyoma is the most common type of cardiac tumor in fetuses and is often associated with tuberous sclerosis compl...   \n",
       "1658  ['CONCLUSIONS: Comorbid pain syndromes, mood conditions and asthma are common in adolescents and young women with endometriosis.', 'There are many etiologies of pelvic pain that present with symptoms resembling those of endometriosis-associated pelvic pain that are not diagnosable with laparoscopy, such as interstitial cystitis and irritable bowel syndrome.', 'Often, such patients are labelled with irritable bowel syndrome. ', 'Irritable bowel syndrome (IBS) is also common in this setting, a...   \n",
       "\n",
       "                                                                                                                                                                                                                                                                                                                                                                                                                                                                                                             ground_truth  \n",
       "0     ['SNORD116 is a small nucleolar (sno) RNA gene cluster (HBII-85) implicated as a major contributor the Prader-Willi phenotype. \\nSNORD116 genes appears to be responsible for the major features of PWS. \\nSNORD116 is a paternally expressed box C/D snoRNA gene cluster.\\nThe mouse C/D box snoRNA MBII-85 (SNORD116) is processed into at least five shorter RNAs using processing sites near known functional elements of C/D box snoRNAs.\\nSnord116 expression in the medial hypothalamus, particularly wit...  \n",
       "1                                                                                                                                                                                                                                                                                                                                                                             ['Yes.  Especially, a large fraction of non-exonic UCEs is transcribed across all developmental stages examined from only one DNA strand.']  \n",
       "2                                                                                                                                                                                                                                                                                                                                                                                                                                          ['Foscarnet\\nVT-1129\\nVT-1161 \\nBB-3497\\nhydroxamate molecules\\nsiderophores']  \n",
       "3     ['Protein phosphatase-1 activity is regulated by two binding partners, inhibitor-1 and the small heat shock protein 20, Hsp20. Cell fractionation, coimmunoprecipitation, and coimmunolocalization studies, revealed an association between Hsp20 and PP1. Small heat shock protein 20 interacts with protein phosphatase-1 and enhances sarcoplasmic reticulum calcium cycling.', 'Moreover, protein phosphatase-1 activity is regulated by two binding partners, inhibitor-1 and the small heat shock protein ...  \n",
       "4                                                                                                                                                                                               ['Yes. It has been demonstrated that induction of DNA double-strand breaks (DSBs) and defects in overall DSBs repair capacity can lead to an accumulation of mutations, resulting in genomic instability of cells. Given that genomic instability is the hallmark of cancer, DSBs play a causal role in carcinogenesis.']  \n",
       "...                                                                                                                                                                                                                                                                                                                                                                                                                                                                                                                   ...  \n",
       "1654                                                                                                                                ['There are several experimental and clinical evidences of the potential benefits of Thyroid hormone replacement therapy in heart failure. Initial clinical data showed also a good safety profile and tolerance of TH replacement therapy in patients withheart failure. \\nHowever currently there is no indication to treat patients with heart failure withTHreplacementtherapy.']  \n",
       "1655  ['Fbxw7 (also known as Fbw7, SEL-10, hCdc4, or hAgo) is the F-box protein subunit of an Skp1-Cul1-F-box protein (SCF)-type ubiquitin ligase complex that plays a central role in the degradation of Notch family members.The F-box protein Fbw7 (also known as Fbxw7, hCdc4 and Sel-10) functions as a substrate recognition component of a SCF-type E3 ubiquitin ligase. SCF(Fbw7) facilitates polyubiquitination and subsequent degradation of various proteins such as Notch, cyclin E, c-Myc and c-Jun.', 'T...  \n",
       "1656                                                                                                                                                                                                                                                                                                                                                                                                                           ['Yes, annexin V is an early apoptotic marker.', 'Yes, Annexin V is an apoptotic marker.']  \n",
       "1657                                                                                                                                                                                                                                            ['The clinical characteristics of Tuberous Sclerosis include epilepsy, subependymal giant cell astrocytomas, lymphangioleiomyomatosis, rhabdomyoma, renal angiomyolipomas, cortical tubers, neurofibromas, angiofibromas, mental retardation, and behavioral disorders.']  \n",
       "1658                                                                                                                                                                                                              ['Yes, irritable bowel syndrome (IBS) is more common in women with endometriosis. It has been shown that 15% of the patients with endometriosis also had IBS. Women with endometriosis are more likely to have received a diagnosis of IBS. Endometriosis may coexist with or be misdiagnosed as IBS.']  \n",
       "\n",
       "[1659 rows x 3 columns]"
      ]
     },
     "execution_count": 6,
     "metadata": {},
     "output_type": "execute_result"
    }
   ],
   "source": [
    "pd.set_option(\"display.max_colwidth\", 500)\n",
    "train_data = train[[\"question\", \"contexts\", \"ground_truth\"]]\n",
    "train_data"
   ]
  },
  {
   "cell_type": "code",
   "execution_count": 7,
   "metadata": {},
   "outputs": [],
   "source": [
    "from sklearn.model_selection import train_test_split\n",
    "\n",
    "train_data, test_data = train_test_split(train_data, test_size=0.2, random_state=42)"
   ]
  },
  {
   "cell_type": "markdown",
   "metadata": {},
   "source": [
    "### Upload Contexts to Qdrant Vector Store"
   ]
  },
  {
   "cell_type": "code",
   "execution_count": 8,
   "metadata": {},
   "outputs": [
    {
     "data": {
      "text/html": [
       "<div>\n",
       "<style scoped>\n",
       "    .dataframe tbody tr th:only-of-type {\n",
       "        vertical-align: middle;\n",
       "    }\n",
       "\n",
       "    .dataframe tbody tr th {\n",
       "        vertical-align: top;\n",
       "    }\n",
       "\n",
       "    .dataframe thead th {\n",
       "        text-align: right;\n",
       "    }\n",
       "</style>\n",
       "<table border=\"1\" class=\"dataframe\">\n",
       "  <thead>\n",
       "    <tr style=\"text-align: right;\">\n",
       "      <th></th>\n",
       "      <th>text</th>\n",
       "    </tr>\n",
       "  </thead>\n",
       "  <tbody>\n",
       "    <tr>\n",
       "      <th>0</th>\n",
       "      <td>Both 7SL genes and Alu elements are transcribed by RNA polymerase III, and we show here that the internal 7SL promoter lies within the Alu-like part of the 7SL gene</td>\n",
       "    </tr>\n",
       "    <tr>\n",
       "      <th>1</th>\n",
       "      <td>We performed a comparative analysis in vitro and in vivo of the antitumor effects of three different antibodies targeting different epitopes of ErbB2: Herceptin (trastuzumab), 2C4 (pertuzumab) and Erb-hcAb (human anti-ErbB2-compact antibody), a novel fully human compact antibody produced in our laboratory. Herein, we demonstrate that the growth of both androgen-dependent and independent prostate cancer cells was efficiently inhibited by Erb-hcAb. The antitumor effects induced by Erb-hcAb on ...</td>\n",
       "    </tr>\n",
       "    <tr>\n",
       "      <th>2</th>\n",
       "      <td>The weight-reducing property of molindone, a recently introduced antipsychotic drug, was tested in 9 hospitalized chronic schizophrenic patients. There was an average weight loss of 7.6 kg after 3 months on molindone; most of the loss occurred during the first month.</td>\n",
       "    </tr>\n",
       "    <tr>\n",
       "      <th>3</th>\n",
       "      <td>Our study identifies a unique heterochromatin state marked by the presence of both H3.3 and H3K9me3, and establishes an important role for H3.3 in control of ERV retrotransposition in embryonic stem cells.</td>\n",
       "    </tr>\n",
       "    <tr>\n",
       "      <th>4</th>\n",
       "      <td>Polyneuropathy, organomegaly, endocrinopathy, monoclonal gammopathy, and skin changes (POEMS) syndrome is an uncommon condition related to a paraneoplastic syndrome secondary to an underlying plasma cell disorder.</td>\n",
       "    </tr>\n",
       "  </tbody>\n",
       "</table>\n",
       "</div>"
      ],
      "text/plain": [
       "                                                                                                                                                                                                                                                                                                                                                                                                                                                                                                                  text\n",
       "0                                                                                                                                                                                                                                                                                                                                                 Both 7SL genes and Alu elements are transcribed by RNA polymerase III, and we show here that the internal 7SL promoter lies within the Alu-like part of the 7SL gene\n",
       "1  We performed a comparative analysis in vitro and in vivo of the antitumor effects of three different antibodies targeting different epitopes of ErbB2: Herceptin (trastuzumab), 2C4 (pertuzumab) and Erb-hcAb (human anti-ErbB2-compact antibody), a novel fully human compact antibody produced in our laboratory. Herein, we demonstrate that the growth of both androgen-dependent and independent prostate cancer cells was efficiently inhibited by Erb-hcAb. The antitumor effects induced by Erb-hcAb on ...\n",
       "2                                                                                                                                                                                                                                          The weight-reducing property of molindone, a recently introduced antipsychotic drug, was tested in 9 hospitalized chronic schizophrenic patients. There was an average weight loss of 7.6 kg after 3 months on molindone; most of the loss occurred during the first month.\n",
       "3                                                                                                                                                                                                                                                                                                        Our study identifies a unique heterochromatin state marked by the presence of both H3.3 and H3K9me3, and establishes an important role for H3.3 in control of ERV retrotransposition in embryonic stem cells.\n",
       "4                                                                                                                                                                                                                                                                                                Polyneuropathy, organomegaly, endocrinopathy, monoclonal gammopathy, and skin changes (POEMS) syndrome is an uncommon condition related to a paraneoplastic syndrome secondary to an underlying plasma cell disorder."
      ]
     },
     "execution_count": 8,
     "metadata": {},
     "output_type": "execute_result"
    }
   ],
   "source": [
    "corpora.head()"
   ]
  },
  {
   "cell_type": "markdown",
   "metadata": {},
   "source": [
    "# FOR DEMONSTRATION PURPOSE WE ARE USING A VERY SMALL SUBSET OF THE DATASET"
   ]
  },
  {
   "cell_type": "code",
   "execution_count": 9,
   "metadata": {},
   "outputs": [],
   "source": [
    "corpora = corpora.sample(100)\n",
    "train_data = train_data.sample(100) # few shot pairs\n",
    "test_data = test_data.sample(20)"
   ]
  },
  {
   "cell_type": "code",
   "execution_count": 10,
   "metadata": {},
   "outputs": [
    {
     "data": {
      "application/vnd.jupyter.widget-view+json": {
       "model_id": "e742e1b33d9b4c4293ecc44f44fc6d2e",
       "version_major": 2,
       "version_minor": 0
      },
      "text/plain": [
       "Fetching 5 files:   0%|          | 0/5 [00:00<?, ?it/s]"
      ]
     },
     "metadata": {},
     "output_type": "display_data"
    },
    {
     "data": {
      "text/plain": [
       "True"
      ]
     },
     "execution_count": 10,
     "metadata": {},
     "output_type": "execute_result"
    }
   ],
   "source": [
    "embedding_model = TextEmbedding(\"BAAI/bge-base-en-v1.5\")\n",
    "qdrant_client = QdrantClient(\n",
    "    \":memory:\"\n",
    ")  # spin up a local instance if you require more advanced features\n",
    "# qdrant_client = QdrantClient(\"http://localhost:6333\") # uncomment if you want to use your local instance\n",
    "\n",
    "if qdrant_client.collection_exists(\"rag_contexts\"):\n",
    "    qdrant_client.delete_collection(\"rag_contexts\")\n",
    "\n",
    "qdrant_client.create_collection(\n",
    "    \"rag_contexts\",\n",
    "    vectors_config=models.VectorParams(size=768, distance=models.Distance.COSINE),\n",
    ")"
   ]
  },
  {
   "cell_type": "code",
   "execution_count": 11,
   "metadata": {},
   "outputs": [
    {
     "name": "stderr",
     "output_type": "stream",
     "text": [
      "100%|██████████| 100/100 [00:03<00:00, 25.73it/s]\n"
     ]
    }
   ],
   "source": [
    "# Create and upload points to Qdrant\n",
    "points = []\n",
    "for idx, row in tqdm(corpora.iterrows(), total=corpora.shape[0]):\n",
    "    point = models.PointStruct(\n",
    "        id=idx,  # Use the dataframe index as the point ID\n",
    "        vector=list(embedding_model.embed(row[\"text\"]))[\n",
    "            0\n",
    "        ],  # Convert the embedding to a list\n",
    "        payload={\"id\": idx, \"text\": row[\"text\"]},  # Use the label_text as the payload\n",
    "    )\n",
    "    points.append(point)\n",
    "qdrant_client.upload_points(collection_name=\"rag_contexts\", points=points)"
   ]
  },
  {
   "cell_type": "markdown",
   "metadata": {},
   "source": [
    "### Custom Retriever that searchs the contexts from Qdrant Vector Store. "
   ]
  },
  {
   "cell_type": "code",
   "execution_count": 12,
   "metadata": {},
   "outputs": [],
   "source": [
    "# use any embedding model\n",
    "def generate_embeddings(text):\n",
    "    return list(embedding_model.embed(text))[0]\n",
    "\n",
    "\n",
    "class QdrantRetriever(dspy.Retrieve):\n",
    "    def __init__(self, qdrant_collection_name, qdrant_client, k=10):\n",
    "        super().__init__(k=k)\n",
    "        self.client = qdrant_client\n",
    "        self.collection_name = qdrant_collection_name\n",
    "\n",
    "    def forward(self, query, k: Optional[int] = 10):\n",
    "        # Generate embedding for the query\n",
    "        query_embedding = generate_embeddings(query)\n",
    "        search_results = self.client.search(\n",
    "            collection_name=self.collection_name,\n",
    "            query_vector=query_embedding,\n",
    "            limit=k if k else self.k,\n",
    "        )\n",
    "        passages = [result.payload[\"text\"] for result in search_results]\n",
    "        passages = [dotdict({\"long_text\": passage}) for passage in passages]\n",
    "        return passages"
   ]
  },
  {
   "cell_type": "code",
   "execution_count": 13,
   "metadata": {},
   "outputs": [],
   "source": [
    "openai_api_key = os.environ[\"OPENAI_API_KEY\"]"
   ]
  },
  {
   "cell_type": "code",
   "execution_count": 14,
   "metadata": {},
   "outputs": [],
   "source": [
    "turbo = dspy.OpenAI(model=\"gpt-4o\", api_key=openai_api_key, max_tokens=1000)\n",
    "rm = QdrantRetriever(\"rag_contexts\", qdrant_client)\n",
    "\n",
    "# configure dspy with a RM Model and and LM Model\n",
    "dspy.settings.configure(lm=turbo, rm=rm)"
   ]
  },
  {
   "cell_type": "code",
   "execution_count": 15,
   "metadata": {},
   "outputs": [
    {
     "data": {
      "text/plain": [
       "['Valaciclovir (Valtrex), the L-valyl ester of acyclovir, is undergoing clinical development for the treatment and suppression of herpesviral diseases.',\n",
       " 'Improved pain, physical functioning and health status in patients with rheumatoid arthritis treated with CP-690,550, an orally active Janus kinase (JAK) inhibitor: results from a randomised, double-blind, placebo-controlled trial.',\n",
       " 'Mutations in the serine protease inhibitor Kazal type 5 (SPINK5) gene leading to lymphoepithelial Kazal-type-related inhibitor (LEKTI) deficiency cause NS.',\n",
       " 'The authors conclude that rosiglitazone can be safely administered with metformin and, due to the different mechanisms of action of these agents, may offer a therapeutic advantage in patients with type 2 diabetes mellitus.',\n",
       " 'The human OX2 receptor (OX2R) belongs to the β branch of the rhodopsin family of GPCRs, and can bind to diverse compounds including the native agonist peptides orexin-A and orexin-B and the potent therapeutic inhibitor suvorexant.',\n",
       " 'human, bovine and rodent selenoprotein P genes encode proteins containing 10-12 selenocysteines',\n",
       " 'Results from this study suggest that HLA-B*1502 may be a useful pharmacogenetic test for screening Thai individuals who may be at risk for CBZ-induced SJS and TEN.',\n",
       " 'Modafinil, a putative cognitive enhancing drug, has previously been shown to improve performance of healthy volunteers as well as patients with attention deficit disorder and schizophrenia, mainly in tests of executive functions',\n",
       " 'Stable expression of a novel fusion peptide of thioredoxin-1 and ABAD-inhibiting peptide protects PC12 cells from intracellular amyloid-beta.',\n",
       " 'Sequential chemoimmunotherapy of fludarabine, mitoxantrone, and cyclophosphamide induction followed by alemtuzumab consolidation is effective in T-cell prolymphocytic leukemia']"
      ]
     },
     "execution_count": 15,
     "metadata": {},
     "output_type": "execute_result"
    }
   ],
   "source": [
    "sample = test_data[\"question\"].iloc[0]\n",
    "dspy.Retrieve(k=10)(sample).passages"
   ]
  },
  {
   "cell_type": "markdown",
   "metadata": {},
   "source": [
    "### Signature Defination for Q/A System"
   ]
  },
  {
   "cell_type": "code",
   "execution_count": 16,
   "metadata": {},
   "outputs": [],
   "source": [
    "# Define Signatire for the QA system\n",
    "class GenerateAnswer(dspy.Signature):\n",
    "    \"\"\"Answer questions based on the context.\"\"\"\n",
    "\n",
    "    context = dspy.InputField(desc=\"may contain relevant facts\")\n",
    "    question = dspy.InputField()\n",
    "    answer = dspy.OutputField()"
   ]
  },
  {
   "cell_type": "markdown",
   "metadata": {},
   "source": [
    "### RM (Retrieval Model) Pipeline Creation"
   ]
  },
  {
   "cell_type": "code",
   "execution_count": 17,
   "metadata": {},
   "outputs": [],
   "source": [
    "# Define a Custom RAG Pipeline\n",
    "class RAG(dspy.Module):\n",
    "    def __init__(self, collection_name=\"rag_contexts\", num_passages=10):\n",
    "        super().__init__()\n",
    "        self.retrieve = dspy.Retrieve(k=num_passages)\n",
    "        self.generate_answer = dspy.ChainOfThought(GenerateAnswer)\n",
    "\n",
    "    def forward(self, question):\n",
    "        context = self.retrieve(question).passages\n",
    "        prediction = self.generate_answer(context=context, question=question)\n",
    "        return dspy.Prediction(context=context, answer=prediction.answer)"
   ]
  },
  {
   "cell_type": "code",
   "execution_count": 18,
   "metadata": {},
   "outputs": [],
   "source": [
    "uncompiled_rag = RAG()"
   ]
  },
  {
   "cell_type": "code",
   "execution_count": 19,
   "metadata": {},
   "outputs": [
    {
     "data": {
      "text/plain": [
       "Prediction(\n",
       "    context=['Valaciclovir (Valtrex), the L-valyl ester of acyclovir, is undergoing clinical development for the treatment and suppression of herpesviral diseases.', 'Improved pain, physical functioning and health status in patients with rheumatoid arthritis treated with CP-690,550, an orally active Janus kinase (JAK) inhibitor: results from a randomised, double-blind, placebo-controlled trial.', 'Mutations in the serine protease inhibitor Kazal type 5 (SPINK5) gene leading to lymphoepithelial Kazal-type-related inhibitor (LEKTI) deficiency cause NS.', 'The authors conclude that rosiglitazone can be safely administered with metformin and, due to the different mechanisms of action of these agents, may offer a therapeutic advantage in patients with type 2 diabetes mellitus.', 'The human OX2 receptor (OX2R) belongs to the β branch of the rhodopsin family of GPCRs, and can bind to diverse compounds including the native agonist peptides orexin-A and orexin-B and the potent therapeutic inhibitor suvorexant.', 'human, bovine and rodent selenoprotein P genes encode proteins containing 10-12 selenocysteines', 'Results from this study suggest that HLA-B*1502 may be a useful pharmacogenetic test for screening Thai individuals who may be at risk for CBZ-induced SJS and TEN.', 'Modafinil, a putative cognitive enhancing drug, has previously been shown to improve performance of healthy volunteers as well as patients with attention deficit disorder and schizophrenia, mainly in tests of executive functions', 'Stable expression of a novel fusion peptide of thioredoxin-1 and ABAD-inhibiting peptide protects PC12 cells from intracellular amyloid-beta.', 'Sequential chemoimmunotherapy of fludarabine, mitoxantrone, and cyclophosphamide induction followed by alemtuzumab consolidation is effective in T-cell prolymphocytic leukemia'],\n",
       "    answer='The context does not provide information about Selexipag or the disease it is used for.'\n",
       ")"
      ]
     },
     "execution_count": 19,
     "metadata": {},
     "output_type": "execute_result"
    }
   ],
   "source": [
    "uncompiled_rag(sample)"
   ]
  },
  {
   "cell_type": "code",
   "execution_count": 20,
   "metadata": {},
   "outputs": [
    {
     "name": "stdout",
     "output_type": "stream",
     "text": [
      "\n",
      "\n",
      "\n",
      "\n",
      "Answer questions based on the context.\n",
      "\n",
      "---\n",
      "\n",
      "Follow the following format.\n",
      "\n",
      "Context: may contain relevant facts\n",
      "\n",
      "Question: ${question}\n",
      "\n",
      "Reasoning: Let's think step by step in order to ${produce the answer}. We ...\n",
      "\n",
      "Answer: ${answer}\n",
      "\n",
      "---\n",
      "\n",
      "Context:\n",
      "[1] «Valaciclovir (Valtrex), the L-valyl ester of acyclovir, is undergoing clinical development for the treatment and suppression of herpesviral diseases.»\n",
      "[2] «Improved pain, physical functioning and health status in patients with rheumatoid arthritis treated with CP-690,550, an orally active Janus kinase (JAK) inhibitor: results from a randomised, double-blind, placebo-controlled trial.»\n",
      "[3] «Mutations in the serine protease inhibitor Kazal type 5 (SPINK5) gene leading to lymphoepithelial Kazal-type-related inhibitor (LEKTI) deficiency cause NS.»\n",
      "[4] «The authors conclude that rosiglitazone can be safely administered with metformin and, due to the different mechanisms of action of these agents, may offer a therapeutic advantage in patients with type 2 diabetes mellitus.»\n",
      "[5] «The human OX2 receptor (OX2R) belongs to the β branch of the rhodopsin family of GPCRs, and can bind to diverse compounds including the native agonist peptides orexin-A and orexin-B and the potent therapeutic inhibitor suvorexant.»\n",
      "[6] «human, bovine and rodent selenoprotein P genes encode proteins containing 10-12 selenocysteines»\n",
      "[7] «Results from this study suggest that HLA-B*1502 may be a useful pharmacogenetic test for screening Thai individuals who may be at risk for CBZ-induced SJS and TEN.»\n",
      "[8] «Modafinil, a putative cognitive enhancing drug, has previously been shown to improve performance of healthy volunteers as well as patients with attention deficit disorder and schizophrenia, mainly in tests of executive functions»\n",
      "[9] «Stable expression of a novel fusion peptide of thioredoxin-1 and ABAD-inhibiting peptide protects PC12 cells from intracellular amyloid-beta.»\n",
      "[10] «Sequential chemoimmunotherapy of fludarabine, mitoxantrone, and cyclophosphamide induction followed by alemtuzumab consolidation is effective in T-cell prolymphocytic leukemia»\n",
      "\n",
      "Question: Selexipag is used for which disease?\n",
      "\n",
      "Reasoning: Let's think step by step in order to\u001b[32m Question: Selexipag is used for which disease?\n",
      "\n",
      "Reasoning: Let's think step by step in order to produce the answer. We need to identify if the context provided mentions Selexipag and its associated disease. Reviewing the context, none of the provided excerpts mention Selexipag or its use.\n",
      "\n",
      "Answer: The context does not provide information about Selexipag or the disease it is used for.\u001b[0m\n",
      "\n",
      "\n",
      "\n"
     ]
    }
   ],
   "source": [
    "turbo.inspect_history(n=1)"
   ]
  },
  {
   "cell_type": "markdown",
   "metadata": {},
   "source": [
    "### Metrics and Assesment Signatures  "
   ]
  },
  {
   "cell_type": "code",
   "execution_count": 21,
   "metadata": {},
   "outputs": [],
   "source": [
    "metricLM = dspy.OpenAI(\n",
    "    model=\"gpt-4o\", api_key=openai_api_key, max_tokens=1000, model_type=\"chat\"\n",
    ")\n",
    "\n",
    "\n",
    "# Signature for LLM assessments.\n",
    "class Assess(dspy.Signature):\n",
    "    \"\"\"Assess the quality of an answer to a question.\"\"\"\n",
    "\n",
    "    context = dspy.InputField(desc=\"The context for answering the question.\")\n",
    "    assessed_question = dspy.InputField(desc=\"The evaluation criterion.\")\n",
    "    assessed_answer = dspy.InputField(desc=\"The answer to the question.\")\n",
    "    correct_answer = dspy.InputField(desc=\"The correct answer to the question.\")\n",
    "    assessment_answer = dspy.OutputField(\n",
    "        desc=\"A rating between 0 and 5. Only output the rating and nothing else.\"\n",
    "    )\n",
    "\n",
    "\n",
    "def llm_metric(gold, pred, trace=None):\n",
    "    predicted_answer = pred.answer\n",
    "    gold_question = gold.question\n",
    "    gold_answer = gold.answer\n",
    "\n",
    "    detail = \"Is the assessed answer detailed?\"\n",
    "    faithful = \"Is the assessed text grounded in the context? Say no if it includes significant facts not in the context.\"\n",
    "    correctness = f\"Compare the given {predicted_answer} and {gold_answer} and assess how correct the answer is\"\n",
    "\n",
    "    with dspy.context(lm=metricLM):\n",
    "        context = dspy.Retrieve(k=10)(gold_question).passages\n",
    "        detail = dspy.ChainOfThought(Assess)(\n",
    "            context=\"N/A\",\n",
    "            assessed_question=detail,\n",
    "            assessed_answer=predicted_answer,\n",
    "            correct_answer=gold_answer,\n",
    "        )\n",
    "        faithful = dspy.ChainOfThought(Assess)(\n",
    "            context=context,\n",
    "            assessed_question=faithful,\n",
    "            assessed_answer=predicted_answer,\n",
    "            correct_answer=gold_answer,\n",
    "        )\n",
    "        correctness = dspy.ChainOfThought(Assess)(\n",
    "            context=context,\n",
    "            assessed_question=correctness,\n",
    "            assessed_answer=predicted_answer,\n",
    "            correct_answer=gold_answer,\n",
    "        )\n",
    "\n",
    "    print(f\"Faithful: {faithful.assessment_answer}\")\n",
    "    print(f\"Detail: {detail.assessment_answer}\")\n",
    "    print(f\"Correctness: {correctness.assessment_answer}\")\n",
    "\n",
    "    total = (\n",
    "        float(detail.assessment_answer)\n",
    "        + float(faithful.assessment_answer)\n",
    "        + float(correctness.assessment_answer)\n",
    "    )\n",
    "    return total / 10.0"
   ]
  },
  {
   "cell_type": "markdown",
   "metadata": {},
   "source": [
    "Reference for the above is taken from below cited sources \n",
    "- [Reference_1](https://dspy-docs.vercel.app/docs/building-blocks/metrics#intermediate-using-ai-feedback-for-your-metric)\n",
    "- [Reference_2](https://github.com/weaviate/recipes/blob/main/integrations/dspy/1.Getting-Started-with-RAG-in-DSPy.ipynb)"
   ]
  },
  {
   "cell_type": "markdown",
   "metadata": {},
   "source": [
    "Let's format the data in a specific way how the DSPY modules are expecting and then use some of the data for training and evaluation. "
   ]
  },
  {
   "cell_type": "code",
   "execution_count": 22,
   "metadata": {},
   "outputs": [],
   "source": [
    "trainset_dspy = train_data.sample(frac=0.8)\n",
    "valset_dspy = train_data.drop(trainset_dspy.index)"
   ]
  },
  {
   "cell_type": "code",
   "execution_count": 23,
   "metadata": {},
   "outputs": [],
   "source": [
    "from ast import literal_eval\n",
    "import dspy\n",
    "\n",
    "\n",
    "def read_list_from_string(s):\n",
    "    try:\n",
    "        return literal_eval(s)\n",
    "    except (ValueError, SyntaxError):\n",
    "        return s.split() if isinstance(s, str) else []\n",
    "\n",
    "\n",
    "def stringify_list_elements(lst):\n",
    "    lst = read_list_from_string(lst)\n",
    "    return \" \".join(str(e) for e in lst)\n",
    "\n",
    "\n",
    "trainset = [\n",
    "    dspy.Example(\n",
    "        question=row[\"question\"],\n",
    "        #  contexts=stringify_list_elements(row['contexts']),\n",
    "        answer=stringify_list_elements(row[\"ground_truth\"]),\n",
    "    ).with_inputs(\"question\")\n",
    "    for i, row in trainset_dspy.iterrows()\n",
    "]\n",
    "\n",
    "valset = [\n",
    "    dspy.Example(\n",
    "        question=row[\"question\"],\n",
    "        # contexts=stringify_list_elements(row['contexts']),\n",
    "        answer=stringify_list_elements(row[\"ground_truth\"]),\n",
    "    ).with_inputs(\"question\")\n",
    "    for i, row in valset_dspy.iterrows()\n",
    "]"
   ]
  },
  {
   "cell_type": "code",
   "execution_count": 24,
   "metadata": {},
   "outputs": [],
   "source": [
    "# For the purpose of demonstration let's keep it to 20. Remeber to use it wisely as the evaluation / training is all tied to API calls\n",
    "devset = valset[:20]"
   ]
  },
  {
   "cell_type": "code",
   "execution_count": 25,
   "metadata": {},
   "outputs": [
    {
     "name": "stderr",
     "output_type": "stream",
     "text": [
      "Average Metric: 0.1 / 1  (10.0):   5%|▌         | 1/20 [00:05<01:37,  5.11s/it]"
     ]
    },
    {
     "name": "stdout",
     "output_type": "stream",
     "text": [
      "Faithful: 0\n",
      "Detail: 1\n",
      "Correctness: 0\n"
     ]
    },
    {
     "name": "stderr",
     "output_type": "stream",
     "text": [
      "Average Metric: 2.1 / 4  (52.5):  15%|█▌        | 3/20 [00:06<00:46,  2.71s/it]               "
     ]
    },
    {
     "name": "stdout",
     "output_type": "stream",
     "text": [
      "Faithful: 0Faithful: 3\n",
      "Detail: 3\n",
      "Correctness: 4\n",
      "\n",
      "Detail: 3\n",
      "Correctness: 0\n",
      "Faithful: 5\n",
      "Detail: 2\n",
      "Correctness: 0\n"
     ]
    },
    {
     "name": "stderr",
     "output_type": "stream",
     "text": [
      "Average Metric: 2.2 / 5  (44.0):  25%|██▌       | 5/20 [00:06<00:12,  1.19it/s]"
     ]
    },
    {
     "name": "stdout",
     "output_type": "stream",
     "text": [
      "Faithful: 0\n",
      "Detail: 1\n",
      "Correctness: 0\n"
     ]
    },
    {
     "name": "stderr",
     "output_type": "stream",
     "text": [
      "Average Metric: 2.4000000000000004 / 6  (40.0):  30%|███       | 6/20 [00:06<00:09,  1.47it/s]"
     ]
    },
    {
     "name": "stdout",
     "output_type": "stream",
     "text": [
      "Faithful: 0\n",
      "Detail: 2\n",
      "Correctness: 0\n"
     ]
    },
    {
     "name": "stderr",
     "output_type": "stream",
     "text": [
      "Average Metric: 3.0000000000000004 / 7  (42.9):  35%|███▌      | 7/20 [00:07<00:08,  1.55it/s]"
     ]
    },
    {
     "name": "stdout",
     "output_type": "stream",
     "text": [
      "Faithful: 5\n",
      "Detail: 1\n",
      "Correctness: 0\n"
     ]
    },
    {
     "name": "stderr",
     "output_type": "stream",
     "text": [
      "Average Metric: 3.7 / 8  (46.2):  40%|████      | 8/20 [00:07<00:08,  1.45it/s]               "
     ]
    },
    {
     "name": "stdout",
     "output_type": "stream",
     "text": [
      "Faithful: 0\n",
      "Detail: 2\n",
      "Correctness: 5\n"
     ]
    },
    {
     "name": "stderr",
     "output_type": "stream",
     "text": [
      "Average Metric: 4.5 / 9  (50.0):  45%|████▌     | 9/20 [00:10<00:12,  1.16s/it]"
     ]
    },
    {
     "name": "stdout",
     "output_type": "stream",
     "text": [
      "Faithful: 0\n",
      "Detail: 4\n",
      "Correctness: 4\n"
     ]
    },
    {
     "name": "stderr",
     "output_type": "stream",
     "text": [
      "Average Metric: 4.7 / 10  (47.0):  50%|█████     | 10/20 [00:11<00:10,  1.07s/it]"
     ]
    },
    {
     "name": "stdout",
     "output_type": "stream",
     "text": [
      "Faithful: 0\n",
      "Detail: 2\n",
      "Correctness: 0\n"
     ]
    },
    {
     "name": "stderr",
     "output_type": "stream",
     "text": [
      "Average Metric: 5.5 / 12  (45.8):  60%|██████    | 12/20 [00:11<00:05,  1.53it/s]"
     ]
    },
    {
     "name": "stdout",
     "output_type": "stream",
     "text": [
      "Faithful: 0\n",
      "Detail: 1\n",
      "Correctness: 4\n",
      "Faithful: 0\n",
      "Detail: 2\n",
      "Correctness: 1\n"
     ]
    },
    {
     "name": "stderr",
     "output_type": "stream",
     "text": [
      "Average Metric: 6.1 / 13  (46.9):  65%|██████▌   | 13/20 [00:11<00:03,  1.94it/s]"
     ]
    },
    {
     "name": "stdout",
     "output_type": "stream",
     "text": [
      "Faithful: 5\n",
      "Detail: 1\n",
      "Correctness: 0\n"
     ]
    },
    {
     "name": "stderr",
     "output_type": "stream",
     "text": [
      "Average Metric: 6.3 / 14  (45.0):  70%|███████   | 14/20 [00:13<00:04,  1.27it/s]"
     ]
    },
    {
     "name": "stdout",
     "output_type": "stream",
     "text": [
      "Faithful: 0\n",
      "Detail: 2\n",
      "Correctness: 0\n"
     ]
    },
    {
     "name": "stderr",
     "output_type": "stream",
     "text": [
      "Average Metric: 6.999999999999999 / 16  (43.7):  80%|████████  | 16/20 [00:14<00:02,  1.79it/s] "
     ]
    },
    {
     "name": "stdout",
     "output_type": "stream",
     "text": [
      "Faithful: 0\n",
      "Detail: 1\n",
      "Correctness: 0\n",
      "Faithful: 0\n",
      "Detail: 1\n",
      "Correctness: 5\n"
     ]
    },
    {
     "name": "stderr",
     "output_type": "stream",
     "text": [
      "Average Metric: 6.999999999999999 / 17  (41.2):  85%|████████▌ | 17/20 [00:14<00:01,  1.80it/s]"
     ]
    },
    {
     "name": "stdout",
     "output_type": "stream",
     "text": [
      "Faithful: 0\n",
      "Detail: 0\n",
      "Correctness: 0\n"
     ]
    },
    {
     "name": "stderr",
     "output_type": "stream",
     "text": [
      "Average Metric: 7.299999999999999 / 18  (40.6):  90%|█████████ | 18/20 [00:16<00:01,  1.21it/s]"
     ]
    },
    {
     "name": "stdout",
     "output_type": "stream",
     "text": [
      "Faithful: 0\n",
      "Detail: 3\n",
      "Correctness: 0\n"
     ]
    },
    {
     "name": "stderr",
     "output_type": "stream",
     "text": [
      "Average Metric: 8.2 / 19  (43.2):  95%|█████████▌| 19/20 [00:16<00:00,  1.35it/s]              "
     ]
    },
    {
     "name": "stdout",
     "output_type": "stream",
     "text": [
      "Faithful: 0\n",
      "Detail: 4\n",
      "Correctness: 5\n"
     ]
    },
    {
     "name": "stderr",
     "output_type": "stream",
     "text": [
      "Average Metric: 9.299999999999999 / 20  (46.5): 100%|██████████| 20/20 [00:19<00:00,  1.05it/s]"
     ]
    },
    {
     "name": "stdout",
     "output_type": "stream",
     "text": [
      "Faithful: 5\n",
      "Detail: 1\n",
      "Correctness: 5\n",
      "Average Metric: 9.299999999999999 / 20  (46.5%)\n"
     ]
    },
    {
     "name": "stderr",
     "output_type": "stream",
     "text": [
      "\n",
      "/opt/homebrew/Caskroom/miniconda/base/envs/ragchallenge/lib/python3.11/site-packages/dspy/evaluate/evaluate.py:266: FutureWarning: Setting an item of incompatible dtype is deprecated and will raise in a future error of pandas. Value '['1.0' '0.1' '0.6' '0.3' '0.2']' has dtype incompatible with float64, please explicitly cast to a compatible dtype first.\n",
      "  df.loc[:, metric_name] = df[metric_name].apply(\n"
     ]
    },
    {
     "data": {
      "text/html": [
       "<style type=\"text/css\">\n",
       "#T_93916 th {\n",
       "  text-align: left;\n",
       "}\n",
       "#T_93916 td {\n",
       "  text-align: left;\n",
       "}\n",
       "#T_93916_row0_col0, #T_93916_row0_col1, #T_93916_row0_col2, #T_93916_row0_col3, #T_93916_row0_col4, #T_93916_row1_col0, #T_93916_row1_col1, #T_93916_row1_col2, #T_93916_row1_col3, #T_93916_row1_col4, #T_93916_row2_col0, #T_93916_row2_col1, #T_93916_row2_col2, #T_93916_row2_col3, #T_93916_row2_col4, #T_93916_row3_col0, #T_93916_row3_col1, #T_93916_row3_col2, #T_93916_row3_col3, #T_93916_row3_col4, #T_93916_row4_col0, #T_93916_row4_col1, #T_93916_row4_col2, #T_93916_row4_col3, #T_93916_row4_col4 {\n",
       "  text-align: left;\n",
       "  white-space: pre-wrap;\n",
       "  word-wrap: break-word;\n",
       "  max-width: 400px;\n",
       "}\n",
       "</style>\n",
       "<table id=\"T_93916\">\n",
       "  <thead>\n",
       "    <tr>\n",
       "      <th class=\"blank level0\" >&nbsp;</th>\n",
       "      <th id=\"T_93916_level0_col0\" class=\"col_heading level0 col0\" >question</th>\n",
       "      <th id=\"T_93916_level0_col1\" class=\"col_heading level0 col1\" >example_answer</th>\n",
       "      <th id=\"T_93916_level0_col2\" class=\"col_heading level0 col2\" >context</th>\n",
       "      <th id=\"T_93916_level0_col3\" class=\"col_heading level0 col3\" >pred_answer</th>\n",
       "      <th id=\"T_93916_level0_col4\" class=\"col_heading level0 col4\" >llm_metric</th>\n",
       "    </tr>\n",
       "  </thead>\n",
       "  <tbody>\n",
       "    <tr>\n",
       "      <th id=\"T_93916_level0_row0\" class=\"row_heading level0 row0\" >0</th>\n",
       "      <td id=\"T_93916_row0_col0\" class=\"data row0 col0\" >Are there clinical trials using stem cells for the treatment of cardiac disease?</td>\n",
       "      <td id=\"T_93916_row0_col1\" class=\"data row0 col1\" >Yes, there exists clinical trials for cardiac stem cell based treatment. Yes, there are several clinical trials on the use of stem cells for the...</td>\n",
       "      <td id=\"T_93916_row0_col2\" class=\"data row0 col2\" >['Recent clinical trials have achieved favorable initial endpoints with improvements in cardiac function and clinical symptoms following cellular therapy.', 'These results suggest that long-term T4...</td>\n",
       "      <td id=\"T_93916_row0_col3\" class=\"data row0 col3\" >Yes, there are clinical trials using stem cells for the treatment of cardiac disease.</td>\n",
       "      <td id=\"T_93916_row0_col4\" class=\"data row0 col4\" >1.0</td>\n",
       "    </tr>\n",
       "    <tr>\n",
       "      <th id=\"T_93916_level0_row1\" class=\"row_heading level0 row1\" >1</th>\n",
       "      <td id=\"T_93916_row1_col0\" class=\"data row1 col0\" >Is exon skipping correlated with exon circularization?</td>\n",
       "      <td id=\"T_93916_row1_col1\" class=\"data row1 col1\" >Yes. Circularization of exons is widespread and correlates with exon skipping, a feature that adds considerably to the regulatory complexity of the human transcriptome.</td>\n",
       "      <td id=\"T_93916_row1_col2\" class=\"data row1 col2\" >['ChIP-sequencing data mapped onto skipped exon events reveal a correlation between histone H3K36 trimethylation peaks and skipped exons, suggesting epigenetic marks being part of alternative...</td>\n",
       "      <td id=\"T_93916_row1_col3\" class=\"data row1 col3\" >The context does not provide information on whether exon skipping is correlated with exon circularization.</td>\n",
       "      <td id=\"T_93916_row1_col4\" class=\"data row1 col4\" >0.1</td>\n",
       "    </tr>\n",
       "    <tr>\n",
       "      <th id=\"T_93916_level0_row2\" class=\"row_heading level0 row2\" >2</th>\n",
       "      <td id=\"T_93916_row2_col0\" class=\"data row2 col0\" >Which is the main difference between Alu and B1 repeats?</td>\n",
       "      <td id=\"T_93916_row2_col1\" class=\"data row2 col1\" >B1 is a murine homolog of the human SINE Alu. B1 (Alu-equivalent) is a murine short interspersed element whose amplification probably involved an RNA intermediate....</td>\n",
       "      <td id=\"T_93916_row2_col2\" class=\"data row2 col2\" >['the Tsix gene (antisense counterpart of Xist)', 'ChIP-sequencing data mapped onto skipped exon events reveal a correlation between histone H3K36 trimethylation peaks and skipped exons,...</td>\n",
       "      <td id=\"T_93916_row2_col3\" class=\"data row2 col3\" >The provided contexts do not contain information about Alu and B1 repeats, so the main difference between them cannot be determined from the given data.</td>\n",
       "      <td id=\"T_93916_row2_col4\" class=\"data row2 col4\" >0.6</td>\n",
       "    </tr>\n",
       "    <tr>\n",
       "      <th id=\"T_93916_level0_row3\" class=\"row_heading level0 row3\" >3</th>\n",
       "      <td id=\"T_93916_row3_col0\" class=\"data row3 col0\" >Is there a crystal structure of Greek Goat Encephalitis?</td>\n",
       "      <td id=\"T_93916_row3_col1\" class=\"data row3 col1\" >Based on results no crustal structure of Greek Goat Encephalitis found.</td>\n",
       "      <td id=\"T_93916_row3_col2\" class=\"data row3 col2\" >['experimental autoimmune encephalomyelitis (EAE), an animal model of multiple sclerosis (MS)', 'Swine dysentery (SD) is a mucohaemorrhagic colitis of pigs resulting from infection of the...</td>\n",
       "      <td id=\"T_93916_row3_col3\" class=\"data row3 col3\" >There is no information provided about the crystal structure of Greek Goat Encephalitis in the given context.</td>\n",
       "      <td id=\"T_93916_row3_col4\" class=\"data row3 col4\" >0.3</td>\n",
       "    </tr>\n",
       "    <tr>\n",
       "      <th id=\"T_93916_level0_row4\" class=\"row_heading level0 row4\" >4</th>\n",
       "      <td id=\"T_93916_row4_col0\" class=\"data row4 col0\" >Is apremilast effective for psoriasis?</td>\n",
       "      <td id=\"T_93916_row4_col1\" class=\"data row4 col1\" >Yes, apremilast is effective for treatment of psoriasis.</td>\n",
       "      <td id=\"T_93916_row4_col2\" class=\"data row4 col2\" >[\"NCLUSIONS: Vedolizumab-treated patients with active Crohn's disease were more likely than patients receiving placebo to have a remission, but not a CDAI-100 response, at week...</td>\n",
       "      <td id=\"T_93916_row4_col3\" class=\"data row4 col3\" >The context does not provide information on the effectiveness of apremilast for psoriasis.</td>\n",
       "      <td id=\"T_93916_row4_col4\" class=\"data row4 col4\" >0.2</td>\n",
       "    </tr>\n",
       "  </tbody>\n",
       "</table>\n"
      ],
      "text/plain": [
       "<pandas.io.formats.style.Styler at 0x32a36b410>"
      ]
     },
     "metadata": {},
     "output_type": "display_data"
    },
    {
     "data": {
      "text/html": [
       "\n",
       "                <div style='\n",
       "                    text-align: center;\n",
       "                    font-size: 16px;\n",
       "                    font-weight: bold;\n",
       "                    color: #555;\n",
       "                    margin: 10px 0;'>\n",
       "                    ... 15 more rows not displayed ...\n",
       "                </div>\n",
       "                "
      ],
      "text/plain": [
       "<IPython.core.display.HTML object>"
      ]
     },
     "metadata": {},
     "output_type": "display_data"
    }
   ],
   "source": [
    "from dspy.evaluate.evaluate import Evaluate\n",
    "\n",
    "evaluate = Evaluate(\n",
    "    devset=devset, num_threads=8, display_progress=True, display_table=5\n",
    ")\n",
    "uncompile_k_10 = RAG(num_passages=10)\n",
    "uncompiled_10_metrics = evaluate(\n",
    "    uncompile_k_10, metric=llm_metric, return_all_scores=True, return_outputs=True\n",
    ")"
   ]
  },
  {
   "cell_type": "code",
   "execution_count": 26,
   "metadata": {},
   "outputs": [],
   "source": [
    "def create_score_dataframe(eval_output):\n",
    "    # Extract questions and answers from the examples\n",
    "    questions = [ex[0].question for ex in eval_output]\n",
    "    answers = [ex[1].answer for ex in eval_output]\n",
    "    scores = [ex[2] for ex in eval_output]\n",
    "    # Create a DataFrame with questions, answers, and scores\n",
    "    score_dataframe = pd.DataFrame(\n",
    "        {\"question\": questions, \"predicted_answer\": answers, \"score\": scores}\n",
    "    )\n",
    "    return score_dataframe\n"
   ]
  },
  {
   "cell_type": "code",
   "execution_count": 27,
   "metadata": {},
   "outputs": [
    {
     "name": "stdout",
     "output_type": "stream",
     "text": [
      "Mean Score for the devset is 0.46499999999999997\n"
     ]
    },
    {
     "data": {
      "text/html": [
       "<div>\n",
       "<style scoped>\n",
       "    .dataframe tbody tr th:only-of-type {\n",
       "        vertical-align: middle;\n",
       "    }\n",
       "\n",
       "    .dataframe tbody tr th {\n",
       "        vertical-align: top;\n",
       "    }\n",
       "\n",
       "    .dataframe thead th {\n",
       "        text-align: right;\n",
       "    }\n",
       "</style>\n",
       "<table border=\"1\" class=\"dataframe\">\n",
       "  <thead>\n",
       "    <tr style=\"text-align: right;\">\n",
       "      <th></th>\n",
       "      <th>question</th>\n",
       "      <th>predicted_answer</th>\n",
       "      <th>score</th>\n",
       "    </tr>\n",
       "  </thead>\n",
       "  <tbody>\n",
       "    <tr>\n",
       "      <th>0</th>\n",
       "      <td>Is exon skipping correlated with exon circularization?</td>\n",
       "      <td>The context does not provide information on whether exon skipping is correlated with exon circularization.</td>\n",
       "      <td>0.1</td>\n",
       "    </tr>\n",
       "    <tr>\n",
       "      <th>1</th>\n",
       "      <td>Are there clinical trials using stem cells for the treatment of cardiac disease?</td>\n",
       "      <td>Yes, there are clinical trials using stem cells for the treatment of cardiac disease.</td>\n",
       "      <td>1.0</td>\n",
       "    </tr>\n",
       "    <tr>\n",
       "      <th>2</th>\n",
       "      <td>Is there a crystal structure of Greek Goat Encephalitis?</td>\n",
       "      <td>There is no information provided about the crystal structure of Greek Goat Encephalitis in the given context.</td>\n",
       "      <td>0.3</td>\n",
       "    </tr>\n",
       "    <tr>\n",
       "      <th>3</th>\n",
       "      <td>What role does CRD-BP play in protecting c-myc mRNA?</td>\n",
       "      <td>The provided context does not contain information about the role of CRD-BP in protecting c-myc mRNA.</td>\n",
       "      <td>0.7</td>\n",
       "    </tr>\n",
       "    <tr>\n",
       "      <th>4</th>\n",
       "      <td>List components of the CRSP/Med complex.</td>\n",
       "      <td>The context does not provide information about the components of the CRSP/Med complex.</td>\n",
       "      <td>0.1</td>\n",
       "    </tr>\n",
       "    <tr>\n",
       "      <th>5</th>\n",
       "      <td>Is apremilast effective for psoriasis?</td>\n",
       "      <td>The context does not provide information on the effectiveness of apremilast for psoriasis.</td>\n",
       "      <td>0.2</td>\n",
       "    </tr>\n",
       "    <tr>\n",
       "      <th>6</th>\n",
       "      <td>Which is the main difference between Alu and B1 repeats?</td>\n",
       "      <td>The provided contexts do not contain information about Alu and B1 repeats, so the main difference between them cannot be determined from the given data.</td>\n",
       "      <td>0.6</td>\n",
       "    </tr>\n",
       "    <tr>\n",
       "      <th>7</th>\n",
       "      <td>what is the role of MEF-2 in cardiomyocyte differentiation?</td>\n",
       "      <td>The provided context does not contain information about the role of MEF-2 in cardiomyocyte differentiation.</td>\n",
       "      <td>0.7</td>\n",
       "    </tr>\n",
       "    <tr>\n",
       "      <th>8</th>\n",
       "      <td>Could hypophosphatemic rickets cause craniosynostosis?</td>\n",
       "      <td>Yes, hypophosphatemic rickets could potentially cause craniosynostosis due to its impact on bone development and metabolism.</td>\n",
       "      <td>0.8</td>\n",
       "    </tr>\n",
       "    <tr>\n",
       "      <th>9</th>\n",
       "      <td>Which antibodies cause Riedel thyroiditis?</td>\n",
       "      <td>The context does not provide information about which antibodies cause Riedel thyroiditis.</td>\n",
       "      <td>0.2</td>\n",
       "    </tr>\n",
       "    <tr>\n",
       "      <th>10</th>\n",
       "      <td>Is Achondroplasia associated with hearing loss?</td>\n",
       "      <td>The context does not provide information about Achondroplasia or its association with hearing loss.</td>\n",
       "      <td>0.5</td>\n",
       "    </tr>\n",
       "    <tr>\n",
       "      <th>11</th>\n",
       "      <td>Can life style changes reduce oxidative stress</td>\n",
       "      <td>Yes, lifestyle changes can reduce oxidative stress. Although the provided context does not directly address this, it is well-documented in scientific literature that adopting a healthy lifestyle, including a balanced diet, regular exercise, and avoiding harmful habits, can help mitigate oxidative stress.</td>\n",
       "      <td>0.3</td>\n",
       "    </tr>\n",
       "    <tr>\n",
       "      <th>12</th>\n",
       "      <td>Can NADPH oxidase be inhibited by apocynin and diphenylene iodonium?</td>\n",
       "      <td>The context does not provide information on whether NADPH oxidase can be inhibited by apocynin and diphenylene iodonium.</td>\n",
       "      <td>0.6</td>\n",
       "    </tr>\n",
       "    <tr>\n",
       "      <th>13</th>\n",
       "      <td>What is MRSA?</td>\n",
       "      <td>The context does not provide information about MRSA. MRSA stands for Methicillin-Resistant Staphylococcus Aureus, a type of bacteria that is resistant to several antibiotics.</td>\n",
       "      <td>0.2</td>\n",
       "    </tr>\n",
       "    <tr>\n",
       "      <th>14</th>\n",
       "      <td>Which microRNAs are involved in exercise adaptation?</td>\n",
       "      <td>The context does not provide information about which microRNAs are involved in exercise adaptation.</td>\n",
       "      <td>0.1</td>\n",
       "    </tr>\n",
       "    <tr>\n",
       "      <th>15</th>\n",
       "      <td>Has proteomics been used in the study of the dry eye syndrome?</td>\n",
       "      <td>There is no mention of proteomics being used in the study of dry eye syndrome in the provided context.</td>\n",
       "      <td>0.6</td>\n",
       "    </tr>\n",
       "    <tr>\n",
       "      <th>16</th>\n",
       "      <td>Which genes does thyroid hormone receptor beta1 regulate in the liver?</td>\n",
       "      <td>The thyroid hormone receptor beta1 (TRbeta1) regulates the hepatic LDLr gene in the liver.</td>\n",
       "      <td>0.0</td>\n",
       "    </tr>\n",
       "    <tr>\n",
       "      <th>17</th>\n",
       "      <td>What are the applications of a Dermaroller ?</td>\n",
       "      <td>The provided context does not contain information about the applications of a Dermaroller.</td>\n",
       "      <td>0.3</td>\n",
       "    </tr>\n",
       "    <tr>\n",
       "      <th>18</th>\n",
       "      <td>What is the inheritance pattern of Emery-Dreifuss muscular dystrophy?</td>\n",
       "      <td>Emery-Dreifuss muscular dystrophy can be inherited in three different patterns: X-linked recessive, autosomal dominant, and autosomal recessive. The most common form is X-linked recessive, caused by mutations in the EMD or FHL1 genes.</td>\n",
       "      <td>0.9</td>\n",
       "    </tr>\n",
       "    <tr>\n",
       "      <th>19</th>\n",
       "      <td>What is the mechanism of DNA replication termination in vertebrates?</td>\n",
       "      <td>The provided context does not contain information about the mechanism of DNA replication termination in vertebrates.</td>\n",
       "      <td>1.1</td>\n",
       "    </tr>\n",
       "  </tbody>\n",
       "</table>\n",
       "</div>"
      ],
      "text/plain": [
       "                                                                            question                                                                                                                                                                                                                                                                                                   predicted_answer  score\n",
       "0                             Is exon skipping correlated with exon circularization?                                                                                                                                                                                                         The context does not provide information on whether exon skipping is correlated with exon circularization.    0.1\n",
       "1   Are there clinical trials using stem cells for the treatment of cardiac disease?                                                                                                                                                                                                                              Yes, there are clinical trials using stem cells for the treatment of cardiac disease.    1.0\n",
       "2                           Is there a crystal structure of Greek Goat Encephalitis?                                                                                                                                                                                                      There is no information provided about the crystal structure of Greek Goat Encephalitis in the given context.    0.3\n",
       "3                               What role does CRD-BP play in protecting c-myc mRNA?                                                                                                                                                                                                               The provided context does not contain information about the role of CRD-BP in protecting c-myc mRNA.    0.7\n",
       "4                                           List components of the CRSP/Med complex.                                                                                                                                                                                                                             The context does not provide information about the components of the CRSP/Med complex.    0.1\n",
       "5                                             Is apremilast effective for psoriasis?                                                                                                                                                                                                                         The context does not provide information on the effectiveness of apremilast for psoriasis.    0.2\n",
       "6                           Which is the main difference between Alu and B1 repeats?                                                                                                                                                           The provided contexts do not contain information about Alu and B1 repeats, so the main difference between them cannot be determined from the given data.    0.6\n",
       "7                        what is the role of MEF-2 in cardiomyocyte differentiation?                                                                                                                                                                                                        The provided context does not contain information about the role of MEF-2 in cardiomyocyte differentiation.    0.7\n",
       "8                             Could hypophosphatemic rickets cause craniosynostosis?                                                                                                                                                                                       Yes, hypophosphatemic rickets could potentially cause craniosynostosis due to its impact on bone development and metabolism.    0.8\n",
       "9                                         Which antibodies cause Riedel thyroiditis?                                                                                                                                                                                                                          The context does not provide information about which antibodies cause Riedel thyroiditis.    0.2\n",
       "10                                   Is Achondroplasia associated with hearing loss?                                                                                                                                                                                                                The context does not provide information about Achondroplasia or its association with hearing loss.    0.5\n",
       "11                                    Can life style changes reduce oxidative stress  Yes, lifestyle changes can reduce oxidative stress. Although the provided context does not directly address this, it is well-documented in scientific literature that adopting a healthy lifestyle, including a balanced diet, regular exercise, and avoiding harmful habits, can help mitigate oxidative stress.    0.3\n",
       "12              Can NADPH oxidase be inhibited by apocynin and diphenylene iodonium?                                                                                                                                                                                           The context does not provide information on whether NADPH oxidase can be inhibited by apocynin and diphenylene iodonium.    0.6\n",
       "13                                                                     What is MRSA?                                                                                                                                     The context does not provide information about MRSA. MRSA stands for Methicillin-Resistant Staphylococcus Aureus, a type of bacteria that is resistant to several antibiotics.    0.2\n",
       "14                              Which microRNAs are involved in exercise adaptation?                                                                                                                                                                                                                The context does not provide information about which microRNAs are involved in exercise adaptation.    0.1\n",
       "15                    Has proteomics been used in the study of the dry eye syndrome?                                                                                                                                                                                                             There is no mention of proteomics being used in the study of dry eye syndrome in the provided context.    0.6\n",
       "16            Which genes does thyroid hormone receptor beta1 regulate in the liver?                                                                                                                                                                                                                         The thyroid hormone receptor beta1 (TRbeta1) regulates the hepatic LDLr gene in the liver.    0.0\n",
       "17                                      What are the applications of a Dermaroller ?                                                                                                                                                                                                                         The provided context does not contain information about the applications of a Dermaroller.    0.3\n",
       "18            What is the inheritance pattern of Emery-Dreifuss muscular dystrophy?                                                                          Emery-Dreifuss muscular dystrophy can be inherited in three different patterns: X-linked recessive, autosomal dominant, and autosomal recessive. The most common form is X-linked recessive, caused by mutations in the EMD or FHL1 genes.    0.9\n",
       "19              What is the mechanism of DNA replication termination in vertebrates?                                                                                                                                                                                               The provided context does not contain information about the mechanism of DNA replication termination in vertebrates.    1.1"
      ]
     },
     "execution_count": 27,
     "metadata": {},
     "output_type": "execute_result"
    }
   ],
   "source": [
    "pd.set_option(\"display.max_colwidth\", 500)\n",
    "pd.set_option(\"display.max_rows\", 500)\n",
    "eval_outs = uncompiled_10_metrics[1]\n",
    "eval_outs_df = create_score_dataframe(eval_outs)\n",
    "print(f\"Mean Score for the devset is {eval_outs_df['score'].mean()}\")\n",
    "eval_outs_df"
   ]
  },
  {
   "cell_type": "markdown",
   "metadata": {},
   "source": [
    "### Prompt from the Uncompiled Model"
   ]
  },
  {
   "cell_type": "code",
   "execution_count": 28,
   "metadata": {},
   "outputs": [
    {
     "name": "stdout",
     "output_type": "stream",
     "text": [
      "\n",
      "\n",
      "\n",
      "\n",
      "Answer questions based on the context.\n",
      "\n",
      "---\n",
      "\n",
      "Follow the following format.\n",
      "\n",
      "Context: may contain relevant facts\n",
      "\n",
      "Question: ${question}\n",
      "\n",
      "Reasoning: Let's think step by step in order to ${produce the answer}. We ...\n",
      "\n",
      "Answer: ${answer}\n",
      "\n",
      "---\n",
      "\n",
      "Context:\n",
      "[1] «Congenital cataracts facial dysmorphism neuropathy (CCFDN) syndrome: a novel developmental disorder in Gypsies maps to 18qter.»\n",
      "[2] «FHX1B mutations in patients with Mowat-Wilson syndrome»\n",
      "[3] «A familial observation of hypophosphatemic rickets with unusual inheritance and evolution, different from that of X linked hypophosphatemia, is reported.»\n",
      "[4] «Giant axonal neuropathy (GAN, MIM: 256850) is a devastating autosomal recessive disorder characterized by an early onset severe peripheral neuropathy, varying central nervous system involvement and strikingly frizzly hair. Giant axonal neuropathy is usually caused by mutations in the gigaxonin gene (GAN) but genetic heterogeneity has been demonstrated for a milder variant of this disease.»\n",
      "[5] «genes mutated in these two disorders encode tumor suppressor proteins, termed neurofibromin (NF1)»\n",
      "[6] «Magnetic resonance imaging (MRI) of brain revealed atrophic of left cerebral hemisphere with mildly ventricular dilatation, prominent paranasal and mastoid air cells, suggestive of Dyke-Davidoff-Masson syndrome (DDMS)»\n",
      "[7] «Mutations in the serine protease inhibitor Kazal type 5 (SPINK5) gene leading to lymphoepithelial Kazal-type-related inhibitor (LEKTI) deficiency cause NS.»\n",
      "[8] «Cerebral lipids of patients with GM1-gangliosidoses, infantile, juvenile, and chronic type which are caused by deficiency of beta-galactosidase, were examined and compared to each other.»\n",
      "[9] «the Tsix gene (antisense counterpart of Xist)»\n",
      "[10] «point mutations in RYR2, the gene encoding for the cardiac isoform of the RyR (RyR2), are associated with catecholaminergic polymorphic ventricular tachycardia (CPVT), an arrhythmogenic syndrome characterized by the development of adrenergically-mediated ventricular tachycardia in individuals with an apparently normal heart.»\n",
      "\n",
      "Question: What is the inheritance pattern of Emery-Dreifuss muscular dystrophy?\n",
      "\n",
      "Reasoning: Let's think step by step in order to\u001b[32m Context: The provided context does not contain specific information about Emery-Dreifuss muscular dystrophy.\n",
      "\n",
      "Question: What is the inheritance pattern of Emery-Dreifuss muscular dystrophy?\n",
      "\n",
      "Reasoning: Let's think step by step in order to produce the answer. We need to identify the inheritance pattern of Emery-Dreifuss muscular dystrophy, but the context does not provide this information. Therefore, we must rely on external knowledge.\n",
      "\n",
      "Answer: Emery-Dreifuss muscular dystrophy can be inherited in three different patterns: X-linked recessive, autosomal dominant, and autosomal recessive. The most common form is X-linked recessive, caused by mutations in the EMD or FHL1 genes.\u001b[0m\n",
      "\n",
      "\n",
      "\n"
     ]
    }
   ],
   "source": [
    "turbo.inspect_history(n=1)"
   ]
  },
  {
   "cell_type": "code",
   "execution_count": 29,
   "metadata": {},
   "outputs": [
    {
     "name": "stdout",
     "output_type": "stream",
     "text": [
      "\n",
      "\n",
      "\n",
      "\n",
      "Assess the quality of an answer to a question.\n",
      "\n",
      "---\n",
      "\n",
      "Follow the following format.\n",
      "\n",
      "Context: The context for answering the question.\n",
      "\n",
      "Assessed Question: The evaluation criterion.\n",
      "\n",
      "Assessed Answer: The answer to the question.\n",
      "\n",
      "Correct Answer: The correct answer to the question.\n",
      "\n",
      "Reasoning: Let's think step by step in order to ${produce the assessment_answer}. We ...\n",
      "\n",
      "Assessment Answer: A rating between 0 and 5. Only output the rating and nothing else.\n",
      "\n",
      "---\n",
      "\n",
      "Context:\n",
      "[1] «Using computational analysis and exploiting the diversity of teleost genomes, we identified a cluster of highly conserved noncoding sequences surrounding the Six3 gene»\n",
      "[2] «Long Range Epigenetic Silencing (LRES) is a mechanism of gene inactivation that affects multiple contiguous CpG islands and has been described in different human cancer types.»\n",
      "[3] «the X chromosome of paternal origin (Xp) is silenced during early embryogenesis owing to imprinted expression of the regulatory RNA, Xist (X-inactive specific transcript)»\n",
      "[4] «human XIST gene, a candidate for a role in X chromosome inactivation,»\n",
      "[5] «the Tsix gene (antisense counterpart of Xist)»\n",
      "[6] «The target (methylatable) cytosine, if flipped out of the double helical DNA as seen for DNA methyltransferases that generate 5-methylcytosine, would fit into the concave active site next to the AdoMet.»\n",
      "[7] «The central histone H3/H4 chaperone Asf1 comprises a highly conserved globular core and a divergent C-terminal tail.»\n",
      "[8] «Inhibition studies with alpha-amanitin showed that the synthesis of ASBV-specific RNAs was not affected by concentrations of 1 and 200 micrograms/ml of the drug, which typically inhibit RNA polymerase II and III, respectively, from most animal and plant systems. These results suggest that either RNA polymerase I or an unidentified RNA polymerase activity resistant to alpha-amanitin, acting on an RNA template, plays a role in the replication of ASBV, whereas for the rest of the viroids studied so far it appears that RNA polymerase II is involved.»\n",
      "[9] «The histone methyltransferase EZH2 has been in the limelight of the field of cancer epigenetics for a decade now since it was first discovered to exhibit an elevated expression in metastatic prostate cancer»\n",
      "[10] «Our work describes, for the first time, distinct GATA-1 interactions with the essential hematopoietic factor Gfi-1b, the repressive MeCP1 complex, and the chromatin remodeling ACF/WCRF complex, in addition to the known GATA-1/FOG-1 and GATA-1/TAL-1 complexes. We also provide evidence that distinct GATA-1 complexes are associated with specific GATA-1 functions in erythroid differentiation, for example, GATA-1/Gfi-1b with the suppression of cell proliferation and GATA-1/FOG-1/MeCP1 with the repression of other hematopoietic transcription programs. We next applied the biotinylation tag to Ldb-1, a known partner of GATA-1, and characterized a number of novel interaction partners that are essential in erythroid development, in particular, Eto-2, Lmo4, and CdK9.»\n",
      "\n",
      "Assessed Question: Is the assessed text grounded in the context? Say no if it includes significant facts not in the context.\n",
      "\n",
      "Assessed Answer: The provided context does not contain information about the mechanism of DNA replication termination in vertebrates.\n",
      "\n",
      "Correct Answer: Eukaryotic DNA replication terminates when replisomes from adjacent replication origins converge. Termination involves local completion of DNA synthesis, decatenation of daughter molecules and replisome disassembly. DNA synthesis does not slow detectably as forks approach each other, and leading strands pass each other unhindered before undergoing ligation to downstream lagging strands. Dissociation of the replicative CMG helicase (comprising CDC45, MCM2-7 and GINS) occurs only after the final ligation step, and is not required for completion of DNA synthesis, strongly suggesting that converging CMGs pass one another and dissociate from double-stranded DNA. This termination mechanism allows rapid completion of DNA synthesis while avoiding premature replisome disassembly.\n",
      "\n",
      "Reasoning: Let's think step by step in order to\u001b[32m produce the assessment_answer. We need to determine if the assessed answer is grounded in the provided context. The context provided does not mention the mechanism of DNA replication termination in vertebrates. The assessed answer correctly states that the context does not contain this information. Therefore, the assessed answer is accurate.\n",
      "\n",
      "Assessment Answer: 5\u001b[0m\n",
      "\n",
      "\n",
      "\n",
      "\n",
      "\n",
      "\n",
      "\n",
      "Assess the quality of an answer to a question.\n",
      "\n",
      "---\n",
      "\n",
      "Follow the following format.\n",
      "\n",
      "Context: The context for answering the question.\n",
      "\n",
      "Assessed Question: The evaluation criterion.\n",
      "\n",
      "Assessed Answer: The answer to the question.\n",
      "\n",
      "Correct Answer: The correct answer to the question.\n",
      "\n",
      "Reasoning: Let's think step by step in order to ${produce the assessment_answer}. We ...\n",
      "\n",
      "Assessment Answer: A rating between 0 and 5. Only output the rating and nothing else.\n",
      "\n",
      "---\n",
      "\n",
      "Context:\n",
      "[1] «Congenital cataracts facial dysmorphism neuropathy (CCFDN) syndrome: a novel developmental disorder in Gypsies maps to 18qter.»\n",
      "[2] «FHX1B mutations in patients with Mowat-Wilson syndrome»\n",
      "[3] «A familial observation of hypophosphatemic rickets with unusual inheritance and evolution, different from that of X linked hypophosphatemia, is reported.»\n",
      "[4] «Giant axonal neuropathy (GAN, MIM: 256850) is a devastating autosomal recessive disorder characterized by an early onset severe peripheral neuropathy, varying central nervous system involvement and strikingly frizzly hair. Giant axonal neuropathy is usually caused by mutations in the gigaxonin gene (GAN) but genetic heterogeneity has been demonstrated for a milder variant of this disease.»\n",
      "[5] «genes mutated in these two disorders encode tumor suppressor proteins, termed neurofibromin (NF1)»\n",
      "[6] «Magnetic resonance imaging (MRI) of brain revealed atrophic of left cerebral hemisphere with mildly ventricular dilatation, prominent paranasal and mastoid air cells, suggestive of Dyke-Davidoff-Masson syndrome (DDMS)»\n",
      "[7] «Mutations in the serine protease inhibitor Kazal type 5 (SPINK5) gene leading to lymphoepithelial Kazal-type-related inhibitor (LEKTI) deficiency cause NS.»\n",
      "[8] «Cerebral lipids of patients with GM1-gangliosidoses, infantile, juvenile, and chronic type which are caused by deficiency of beta-galactosidase, were examined and compared to each other.»\n",
      "[9] «the Tsix gene (antisense counterpart of Xist)»\n",
      "[10] «point mutations in RYR2, the gene encoding for the cardiac isoform of the RyR (RyR2), are associated with catecholaminergic polymorphic ventricular tachycardia (CPVT), an arrhythmogenic syndrome characterized by the development of adrenergically-mediated ventricular tachycardia in individuals with an apparently normal heart.»\n",
      "\n",
      "Assessed Question: Compare the given Emery-Dreifuss muscular dystrophy can be inherited in three different patterns: X-linked recessive, autosomal dominant, and autosomal recessive. The most common form is X-linked recessive, caused by mutations in the EMD or FHL1 genes. and The inheritance pattern of Emery-Dreifuss muscular dystrophy (EDMD) can be X-linked, autosomal dominant or autosomal recessive. and assess how correct the answer is\n",
      "\n",
      "Assessed Answer: Emery-Dreifuss muscular dystrophy can be inherited in three different patterns: X-linked recessive, autosomal dominant, and autosomal recessive. The most common form is X-linked recessive, caused by mutations in the EMD or FHL1 genes.\n",
      "\n",
      "Correct Answer: The inheritance pattern of Emery-Dreifuss muscular dystrophy (EDMD) can be X-linked, autosomal dominant or autosomal recessive.\n",
      "\n",
      "Reasoning: Let's think step by step in order to\u001b[32m produce the assessment_answer. We need to compare the Assessed Answer with the Correct Answer. The Assessed Answer provides additional information about the most common form and the specific genes involved, which is accurate and relevant. The Correct Answer is more concise but does not contradict the Assessed Answer. Both answers correctly state the inheritance patterns of EDMD.\n",
      "\n",
      "Assessment Answer: 5\u001b[0m\n",
      "\n",
      "\n",
      "\n",
      "\n",
      "\n",
      "\n",
      "\n",
      "Assess the quality of an answer to a question.\n",
      "\n",
      "---\n",
      "\n",
      "Follow the following format.\n",
      "\n",
      "Context: The context for answering the question.\n",
      "\n",
      "Assessed Question: The evaluation criterion.\n",
      "\n",
      "Assessed Answer: The answer to the question.\n",
      "\n",
      "Correct Answer: The correct answer to the question.\n",
      "\n",
      "Reasoning: Let's think step by step in order to ${produce the assessment_answer}. We ...\n",
      "\n",
      "Assessment Answer: A rating between 0 and 5. Only output the rating and nothing else.\n",
      "\n",
      "---\n",
      "\n",
      "Context:\n",
      "[1] «Using computational analysis and exploiting the diversity of teleost genomes, we identified a cluster of highly conserved noncoding sequences surrounding the Six3 gene»\n",
      "[2] «Long Range Epigenetic Silencing (LRES) is a mechanism of gene inactivation that affects multiple contiguous CpG islands and has been described in different human cancer types.»\n",
      "[3] «the X chromosome of paternal origin (Xp) is silenced during early embryogenesis owing to imprinted expression of the regulatory RNA, Xist (X-inactive specific transcript)»\n",
      "[4] «human XIST gene, a candidate for a role in X chromosome inactivation,»\n",
      "[5] «the Tsix gene (antisense counterpart of Xist)»\n",
      "[6] «The target (methylatable) cytosine, if flipped out of the double helical DNA as seen for DNA methyltransferases that generate 5-methylcytosine, would fit into the concave active site next to the AdoMet.»\n",
      "[7] «The central histone H3/H4 chaperone Asf1 comprises a highly conserved globular core and a divergent C-terminal tail.»\n",
      "[8] «Inhibition studies with alpha-amanitin showed that the synthesis of ASBV-specific RNAs was not affected by concentrations of 1 and 200 micrograms/ml of the drug, which typically inhibit RNA polymerase II and III, respectively, from most animal and plant systems. These results suggest that either RNA polymerase I or an unidentified RNA polymerase activity resistant to alpha-amanitin, acting on an RNA template, plays a role in the replication of ASBV, whereas for the rest of the viroids studied so far it appears that RNA polymerase II is involved.»\n",
      "[9] «The histone methyltransferase EZH2 has been in the limelight of the field of cancer epigenetics for a decade now since it was first discovered to exhibit an elevated expression in metastatic prostate cancer»\n",
      "[10] «Our work describes, for the first time, distinct GATA-1 interactions with the essential hematopoietic factor Gfi-1b, the repressive MeCP1 complex, and the chromatin remodeling ACF/WCRF complex, in addition to the known GATA-1/FOG-1 and GATA-1/TAL-1 complexes. We also provide evidence that distinct GATA-1 complexes are associated with specific GATA-1 functions in erythroid differentiation, for example, GATA-1/Gfi-1b with the suppression of cell proliferation and GATA-1/FOG-1/MeCP1 with the repression of other hematopoietic transcription programs. We next applied the biotinylation tag to Ldb-1, a known partner of GATA-1, and characterized a number of novel interaction partners that are essential in erythroid development, in particular, Eto-2, Lmo4, and CdK9.»\n",
      "\n",
      "Assessed Question: Compare the given The provided context does not contain information about the mechanism of DNA replication termination in vertebrates. and Eukaryotic DNA replication terminates when replisomes from adjacent replication origins converge. Termination involves local completion of DNA synthesis, decatenation of daughter molecules and replisome disassembly. DNA synthesis does not slow detectably as forks approach each other, and leading strands pass each other unhindered before undergoing ligation to downstream lagging strands. Dissociation of the replicative CMG helicase (comprising CDC45, MCM2-7 and GINS) occurs only after the final ligation step, and is not required for completion of DNA synthesis, strongly suggesting that converging CMGs pass one another and dissociate from double-stranded DNA. This termination mechanism allows rapid completion of DNA synthesis while avoiding premature replisome disassembly. and assess how correct the answer is\n",
      "\n",
      "Assessed Answer: The provided context does not contain information about the mechanism of DNA replication termination in vertebrates.\n",
      "\n",
      "Correct Answer: Eukaryotic DNA replication terminates when replisomes from adjacent replication origins converge. Termination involves local completion of DNA synthesis, decatenation of daughter molecules and replisome disassembly. DNA synthesis does not slow detectably as forks approach each other, and leading strands pass each other unhindered before undergoing ligation to downstream lagging strands. Dissociation of the replicative CMG helicase (comprising CDC45, MCM2-7 and GINS) occurs only after the final ligation step, and is not required for completion of DNA synthesis, strongly suggesting that converging CMGs pass one another and dissociate from double-stranded DNA. This termination mechanism allows rapid completion of DNA synthesis while avoiding premature replisome disassembly.\n",
      "\n",
      "Reasoning: Let's think step by step in order to\u001b[32m Reasoning: Let's think step by step in order to assess the quality of the answer. We need to compare the provided context with the correct answer to determine if the context contains the necessary information about the mechanism of DNA replication termination in vertebrates.\n",
      "\n",
      "1. Review the provided context:\n",
      "   - The context includes various pieces of information about gene silencing, X chromosome inactivation, histone chaperones, RNA polymerase activity, and interactions in erythroid differentiation.\n",
      "   - None of the provided context explicitly mentions the mechanism of DNA replication termination in vertebrates.\n",
      "\n",
      "2. Compare the assessed answer with the correct answer:\n",
      "   - The assessed answer states that the provided context does not contain information about the mechanism of DNA replication termination in vertebrates.\n",
      "   - The correct answer provides a detailed explanation of the mechanism of DNA replication termination in vertebrates.\n",
      "\n",
      "3. Determine if the assessed answer correctly identifies the absence of relevant information in the context:\n",
      "   - The assessed answer correctly identifies that the provided context does not contain the necessary information about DNA replication termination.\n",
      "\n",
      "Assessment Answer: 5\u001b[0m\n",
      "\n",
      "\n",
      "\n"
     ]
    }
   ],
   "source": [
    "# Lets check the Metrics LLM Prompt as well\n",
    "metricLM.inspect_history(n=3)"
   ]
  },
  {
   "cell_type": "code",
   "execution_count": 30,
   "metadata": {},
   "outputs": [
    {
     "data": {
      "text/plain": [
       "1"
      ]
     },
     "execution_count": 30,
     "metadata": {},
     "output_type": "execute_result"
    }
   ],
   "source": [
    "# Since 'trainset' is a list and doesn't have a 'sample' method, we will define a function to sample from it\n",
    "def sample_from_list(lst, fraction):\n",
    "    sample_size = int(len(lst) * fraction)\n",
    "    return random.sample(lst, sample_size)\n",
    "\n",
    "\n",
    "# Now we use the function to sample 2% if the dataset\n",
    "trainset_truncated = sample_from_list(trainset, 0.02)\n",
    "len(trainset_truncated)"
   ]
  },
  {
   "cell_type": "markdown",
   "metadata": {},
   "source": [
    "### Optimizer : Bootstrap Random Search Optimization"
   ]
  },
  {
   "cell_type": "code",
   "execution_count": 31,
   "metadata": {},
   "outputs": [
    {
     "name": "stdout",
     "output_type": "stream",
     "text": [
      "Going to sample between 1 and 2 traces per predictor.\n",
      "Will attempt to train 2 candidate sets.\n"
     ]
    },
    {
     "name": "stderr",
     "output_type": "stream",
     "text": [
      "Average Metric: 0.7 / 1  (70.0): 100%|██████████| 1/1 [00:04<00:00,  4.59s/it]\n"
     ]
    },
    {
     "name": "stdout",
     "output_type": "stream",
     "text": [
      "Faithful: 5\n",
      "Detail: 1\n",
      "Correctness: 1\n",
      "Average Metric: 0.7 / 1  (70.0%)\n",
      "Score: 70.0 for set: [0]\n",
      "New best score: 70.0 for seed -3\n",
      "Scores so far: [70.0]\n",
      "Best score: 70.0\n"
     ]
    },
    {
     "name": "stderr",
     "output_type": "stream",
     "text": [
      "Average Metric: 0.5 / 1  (50.0): 100%|██████████| 1/1 [00:05<00:00,  5.06s/it]\n"
     ]
    },
    {
     "name": "stdout",
     "output_type": "stream",
     "text": [
      "Faithful: 0\n",
      "Detail: 2\n",
      "Correctness: 3\n",
      "Average Metric: 0.5 / 1  (50.0%)\n",
      "Score: 50.0 for set: [1]\n",
      "Scores so far: [70.0, 50.0]\n",
      "Best score: 70.0\n"
     ]
    },
    {
     "name": "stderr",
     "output_type": "stream",
     "text": [
      "100%|██████████| 1/1 [00:00<00:00,  6.40it/s]\n"
     ]
    },
    {
     "name": "stdout",
     "output_type": "stream",
     "text": [
      "Faithful: 5\n",
      "Detail: 1\n",
      "Correctness: 1\n",
      "Bootstrapped 1 full traces after 1 examples in round 0.\n"
     ]
    },
    {
     "name": "stderr",
     "output_type": "stream",
     "text": [
      "Average Metric: 0.7 / 1  (70.0): 100%|██████████| 1/1 [00:01<00:00,  1.49s/it]\n"
     ]
    },
    {
     "name": "stdout",
     "output_type": "stream",
     "text": [
      "Faithful: 5\n",
      "Detail: 1\n",
      "Correctness: 1\n",
      "Average Metric: 0.7 / 1  (70.0%)\n",
      "Score: 70.0 for set: [1]\n",
      "Scores so far: [70.0, 50.0, 70.0]\n",
      "Best score: 70.0\n",
      "Average of max per entry across top 1 scores: 0.7\n",
      "Average of max per entry across top 2 scores: 0.7\n",
      "Average of max per entry across top 3 scores: 0.7\n",
      "Average of max per entry across top 5 scores: 0.7\n",
      "Average of max per entry across top 8 scores: 0.7\n",
      "Average of max per entry across top 9999 scores: 0.7\n"
     ]
    },
    {
     "name": "stderr",
     "output_type": "stream",
     "text": [
      "100%|██████████| 1/1 [00:00<00:00,  4.66it/s]\n"
     ]
    },
    {
     "name": "stdout",
     "output_type": "stream",
     "text": [
      "Faithful: 5\n",
      "Detail: 1\n",
      "Correctness: 1\n",
      "Bootstrapped 1 full traces after 1 examples in round 0.\n"
     ]
    },
    {
     "name": "stderr",
     "output_type": "stream",
     "text": [
      "Average Metric: 0.7 / 1  (70.0): 100%|██████████| 1/1 [00:00<00:00,  3.43it/s]\n"
     ]
    },
    {
     "name": "stdout",
     "output_type": "stream",
     "text": [
      "Faithful: 5\n",
      "Detail: 1\n",
      "Correctness: 1\n",
      "Average Metric: 0.7 / 1  (70.0%)\n",
      "Score: 70.0 for set: [1]\n",
      "Scores so far: [70.0, 50.0, 70.0, 70.0]\n",
      "Best score: 70.0\n",
      "Average of max per entry across top 1 scores: 0.7\n",
      "Average of max per entry across top 2 scores: 0.7\n",
      "Average of max per entry across top 3 scores: 0.7\n",
      "Average of max per entry across top 5 scores: 0.7\n",
      "Average of max per entry across top 8 scores: 0.7\n",
      "Average of max per entry across top 9999 scores: 0.7\n"
     ]
    },
    {
     "name": "stderr",
     "output_type": "stream",
     "text": [
      "100%|██████████| 1/1 [00:00<00:00,  2.98it/s]\n"
     ]
    },
    {
     "name": "stdout",
     "output_type": "stream",
     "text": [
      "Faithful: 5\n",
      "Detail: 1\n",
      "Correctness: 1\n",
      "Bootstrapped 1 full traces after 1 examples in round 0.\n"
     ]
    },
    {
     "name": "stderr",
     "output_type": "stream",
     "text": [
      "Average Metric: 0.7 / 1  (70.0): 100%|██████████| 1/1 [00:00<00:00,  3.11it/s]"
     ]
    },
    {
     "name": "stdout",
     "output_type": "stream",
     "text": [
      "Faithful: 5\n",
      "Detail: 1\n",
      "Correctness: 1\n",
      "Average Metric: 0.7 / 1  (70.0%)\n",
      "Score: 70.0 for set: [1]\n",
      "Scores so far: [70.0, 50.0, 70.0, 70.0, 70.0]\n",
      "Best score: 70.0\n",
      "Average of max per entry across top 1 scores: 0.7\n",
      "Average of max per entry across top 2 scores: 0.7\n",
      "Average of max per entry across top 3 scores: 0.7\n",
      "Average of max per entry across top 5 scores: 0.7\n",
      "Average of max per entry across top 8 scores: 0.7\n",
      "Average of max per entry across top 9999 scores: 0.7\n",
      "5 candidate programs found.\n"
     ]
    },
    {
     "name": "stderr",
     "output_type": "stream",
     "text": [
      "\n"
     ]
    }
   ],
   "source": [
    "from dspy.teleprompt import BootstrapFewShotWithRandomSearch\n",
    "\n",
    "teleprompter = BootstrapFewShotWithRandomSearch(\n",
    "    metric=llm_metric,\n",
    "    max_bootstrapped_demos=2,\n",
    "    max_labeled_demos=4,\n",
    "    max_rounds=1,\n",
    "    num_candidate_programs=2,\n",
    "    num_threads=8,\n",
    ")\n",
    "\n",
    "few_shot_bootstrap_compiled_rag = teleprompter.compile(\n",
    "    uncompile_k_10, trainset=trainset_truncated\n",
    ")"
   ]
  },
  {
   "cell_type": "code",
   "execution_count": 32,
   "metadata": {},
   "outputs": [
    {
     "name": "stdout",
     "output_type": "stream",
     "text": [
      "\n",
      "\n",
      "\n",
      "\n",
      "Answer questions based on the context.\n",
      "\n",
      "---\n",
      "\n",
      "Follow the following format.\n",
      "\n",
      "Context: may contain relevant facts\n",
      "\n",
      "Question: ${question}\n",
      "\n",
      "Reasoning: Let's think step by step in order to ${produce the answer}. We ...\n",
      "\n",
      "Answer: ${answer}\n",
      "\n",
      "---\n",
      "\n",
      "Context:\n",
      "[1] «KN-93, a membrane-permeant calcium/calmodulin- dependent kinase-selective inhibitor, induces apoptosis in some lines of human tumor cells.»\n",
      "[2] «Two-dimensional tryptic peptide maps of phosphorylated phospholamban indicated that cAMP-dependent protein kinase phosphorylates at a single site, A, and Ca2+-calmodulin-dependent protein kinase phosphorylates at sites C1 and C2 in the low molecular weight form, where A is different from C1 but may be the same as C2.»\n",
      "[3] «The human OX2 receptor (OX2R) belongs to the β branch of the rhodopsin family of GPCRs, and can bind to diverse compounds including the native agonist peptides orexin-A and orexin-B and the potent therapeutic inhibitor suvorexant.»\n",
      "[4] «point mutations in RYR2, the gene encoding for the cardiac isoform of the RyR (RyR2), are associated with catecholaminergic polymorphic ventricular tachycardia (CPVT), an arrhythmogenic syndrome characterized by the development of adrenergically-mediated ventricular tachycardia in individuals with an apparently normal heart.»\n",
      "[5] «Activation of the non-phagocytic superoxide-producing NADPH oxidase Nox1, complexed with p22(phox) at the membrane, requires its regulatory soluble proteins Noxo1 and Noxa1»\n",
      "[6] «Our data suggest that OTULIN regulates Met1-polyUb signaling.»\n",
      "[7] «Stable expression of a novel fusion peptide of thioredoxin-1 and ABAD-inhibiting peptide protects PC12 cells from intracellular amyloid-beta.»\n",
      "[8] «Clathrin immunohistochemistry and immunoblotting showed increased immunoreactivity of clathrin protein in the placental tissues of mice treated with 20- and 50-nm gold nanoparticles; clathrin immunopositivity was observed in syncytiotrophoblasts and fetal endothelial cells.»\n",
      "[9] «Inhibition studies with alpha-amanitin showed that the synthesis of ASBV-specific RNAs was not affected by concentrations of 1 and 200 micrograms/ml of the drug, which typically inhibit RNA polymerase II and III, respectively, from most animal and plant systems. These results suggest that either RNA polymerase I or an unidentified RNA polymerase activity resistant to alpha-amanitin, acting on an RNA template, plays a role in the replication of ASBV, whereas for the rest of the viroids studied so far it appears that RNA polymerase II is involved.»\n",
      "[10] «NCLUSIONS: Vedolizumab-treated patients with active Crohn's disease were more likely than patients receiving placebo to have a remission, but not a CDAI-100 response, at week 6; patients with a response to induction therapy who continued to receive vedolizumab (rather than switching to placebo) were more likely to be in remission at week 52.»\n",
      "\n",
      "Question: Does ziconotide bind to N-type calcium channels?\n",
      "\n",
      "Reasoning: Let's think step by step in order to Reasoning: Let's think step by step in order to determine if the context provided mentions ziconotide and its binding properties. We need to look through the context for any mention of ziconotide and its interaction with N-type calcium channels.\n",
      "\n",
      "Answer: The context does not provide any information about ziconotide or its binding to N-type calcium channels.\n",
      "\n",
      "---\n",
      "\n",
      "Context:\n",
      "[1] «KN-93, a membrane-permeant calcium/calmodulin- dependent kinase-selective inhibitor, induces apoptosis in some lines of human tumor cells.»\n",
      "[2] «Two-dimensional tryptic peptide maps of phosphorylated phospholamban indicated that cAMP-dependent protein kinase phosphorylates at a single site, A, and Ca2+-calmodulin-dependent protein kinase phosphorylates at sites C1 and C2 in the low molecular weight form, where A is different from C1 but may be the same as C2.»\n",
      "[3] «The human OX2 receptor (OX2R) belongs to the β branch of the rhodopsin family of GPCRs, and can bind to diverse compounds including the native agonist peptides orexin-A and orexin-B and the potent therapeutic inhibitor suvorexant.»\n",
      "[4] «point mutations in RYR2, the gene encoding for the cardiac isoform of the RyR (RyR2), are associated with catecholaminergic polymorphic ventricular tachycardia (CPVT), an arrhythmogenic syndrome characterized by the development of adrenergically-mediated ventricular tachycardia in individuals with an apparently normal heart.»\n",
      "[5] «Activation of the non-phagocytic superoxide-producing NADPH oxidase Nox1, complexed with p22(phox) at the membrane, requires its regulatory soluble proteins Noxo1 and Noxa1»\n",
      "[6] «Our data suggest that OTULIN regulates Met1-polyUb signaling.»\n",
      "[7] «Stable expression of a novel fusion peptide of thioredoxin-1 and ABAD-inhibiting peptide protects PC12 cells from intracellular amyloid-beta.»\n",
      "[8] «Clathrin immunohistochemistry and immunoblotting showed increased immunoreactivity of clathrin protein in the placental tissues of mice treated with 20- and 50-nm gold nanoparticles; clathrin immunopositivity was observed in syncytiotrophoblasts and fetal endothelial cells.»\n",
      "[9] «Inhibition studies with alpha-amanitin showed that the synthesis of ASBV-specific RNAs was not affected by concentrations of 1 and 200 micrograms/ml of the drug, which typically inhibit RNA polymerase II and III, respectively, from most animal and plant systems. These results suggest that either RNA polymerase I or an unidentified RNA polymerase activity resistant to alpha-amanitin, acting on an RNA template, plays a role in the replication of ASBV, whereas for the rest of the viroids studied so far it appears that RNA polymerase II is involved.»\n",
      "[10] «NCLUSIONS: Vedolizumab-treated patients with active Crohn's disease were more likely than patients receiving placebo to have a remission, but not a CDAI-100 response, at week 6; patients with a response to induction therapy who continued to receive vedolizumab (rather than switching to placebo) were more likely to be in remission at week 52.»\n",
      "\n",
      "Question: Does ziconotide bind to N-type calcium channels?\n",
      "\n",
      "Reasoning: Let's think step by step in order to\u001b[32m determine if the context provided mentions ziconotide and its binding properties. We need to look through the context for any mention of ziconotide and its interaction with N-type calcium channels.\n",
      "\n",
      "Answer: The context does not provide any information about ziconotide or its binding to N-type calcium channels.\u001b[0m\n",
      "\n",
      "\n",
      "\n"
     ]
    }
   ],
   "source": [
    "# Let's check the prompt for this compiled model\n",
    "turbo.inspect_history(n=1)"
   ]
  },
  {
   "cell_type": "markdown",
   "metadata": {},
   "source": [
    "You can notice how the prompt has somewhat become more specific in handling the examples and have also added extra instructions. Let's now evaluate on the `devset` we created and see how the model performs. "
   ]
  },
  {
   "cell_type": "code",
   "execution_count": 33,
   "metadata": {},
   "outputs": [
    {
     "name": "stderr",
     "output_type": "stream",
     "text": [
      "Average Metric: 2.8 / 6  (46.7):  25%|██▌       | 5/20 [00:00<00:01,  7.51it/s] "
     ]
    },
    {
     "name": "stdout",
     "output_type": "stream",
     "text": [
      "Faithful: 3\n",
      "Detail: 3\n",
      "Correctness: 4\n",
      "Faithful: 0\n",
      "Detail: 2\n",
      "Correctness: 0\n",
      "Faithful: 5\n",
      "Detail: 2\n",
      "Correctness: 0\n",
      "Faithful: 0\n",
      "Detail: 1\n",
      "Correctness: 0\n",
      "Faithful: 0\n",
      "Detail: 1\n",
      "Correctness: 0\n",
      "Faithful: 0\n",
      "Detail: 2\n",
      "Correctness: 5\n"
     ]
    },
    {
     "name": "stderr",
     "output_type": "stream",
     "text": [
      "Average Metric: 3.6999999999999997 / 8  (46.2):  35%|███▌      | 7/20 [00:00<00:00, 16.36it/s]"
     ]
    },
    {
     "name": "stdout",
     "output_type": "stream",
     "text": [
      "Faithful: 5\n",
      "Detail: 1\n",
      "Correctness: 0\n",
      "Faithful: 0\n",
      "Detail: 3\n",
      "Correctness: 0\n",
      "Faithful: 0\n",
      "Detail: 2\n",
      "Correctness: 1\n"
     ]
    },
    {
     "name": "stderr",
     "output_type": "stream",
     "text": [
      "Average Metric: 6.3999999999999995 / 15  (42.7):  70%|███████   | 14/20 [00:00<00:00, 16.20it/s]"
     ]
    },
    {
     "name": "stdout",
     "output_type": "stream",
     "text": [
      "Faithful: 0Faithful: 0\n",
      "Detail: 1\n",
      "Correctness: 0\n",
      "\n",
      "Detail: 4\n",
      "Correctness: 4\n",
      "Faithful: 0\n",
      "Detail: 2\n",
      "Correctness: 0\n",
      "Faithful: 5\n",
      "Detail: 1\n",
      "Correctness: 0\n",
      "Faithful: 0\n",
      "Detail: 1\n",
      "Correctness: 4\n",
      "Faithful: 0\n",
      "Detail: 2\n",
      "Correctness: 0\n"
     ]
    },
    {
     "name": "stderr",
     "output_type": "stream",
     "text": [
      "Average Metric: 9.3 / 20  (46.5): 100%|██████████| 20/20 [00:01<00:00, 16.83it/s]               \n"
     ]
    },
    {
     "name": "stdout",
     "output_type": "stream",
     "text": [
      "Faithful: 0\n",
      "Detail: 1\n",
      "Correctness: 5\n",
      "Faithful: 0\n",
      "Detail: 0\n",
      "Correctness: 0\n",
      "Faithful: 5\n",
      "Detail: 1\n",
      "Correctness: 5\n",
      "Faithful: 0\n",
      "Detail: 3\n",
      "Correctness: 0\n",
      "Faithful: 0\n",
      "Detail: 4\n",
      "Correctness: 5\n",
      "Average Metric: 9.3 / 20  (46.5%)\n"
     ]
    },
    {
     "name": "stderr",
     "output_type": "stream",
     "text": [
      "/opt/homebrew/Caskroom/miniconda/base/envs/ragchallenge/lib/python3.11/site-packages/dspy/evaluate/evaluate.py:266: FutureWarning: Setting an item of incompatible dtype is deprecated and will raise in a future error of pandas. Value '['1.0' '0.1' '0.6' '0.3' '0.2']' has dtype incompatible with float64, please explicitly cast to a compatible dtype first.\n",
      "  df.loc[:, metric_name] = df[metric_name].apply(\n"
     ]
    },
    {
     "data": {
      "text/html": [
       "<style type=\"text/css\">\n",
       "#T_a8c3f th {\n",
       "  text-align: left;\n",
       "}\n",
       "#T_a8c3f td {\n",
       "  text-align: left;\n",
       "}\n",
       "#T_a8c3f_row0_col0, #T_a8c3f_row0_col1, #T_a8c3f_row0_col2, #T_a8c3f_row0_col3, #T_a8c3f_row0_col4, #T_a8c3f_row1_col0, #T_a8c3f_row1_col1, #T_a8c3f_row1_col2, #T_a8c3f_row1_col3, #T_a8c3f_row1_col4, #T_a8c3f_row2_col0, #T_a8c3f_row2_col1, #T_a8c3f_row2_col2, #T_a8c3f_row2_col3, #T_a8c3f_row2_col4, #T_a8c3f_row3_col0, #T_a8c3f_row3_col1, #T_a8c3f_row3_col2, #T_a8c3f_row3_col3, #T_a8c3f_row3_col4, #T_a8c3f_row4_col0, #T_a8c3f_row4_col1, #T_a8c3f_row4_col2, #T_a8c3f_row4_col3, #T_a8c3f_row4_col4 {\n",
       "  text-align: left;\n",
       "  white-space: pre-wrap;\n",
       "  word-wrap: break-word;\n",
       "  max-width: 400px;\n",
       "}\n",
       "</style>\n",
       "<table id=\"T_a8c3f\">\n",
       "  <thead>\n",
       "    <tr>\n",
       "      <th class=\"blank level0\" >&nbsp;</th>\n",
       "      <th id=\"T_a8c3f_level0_col0\" class=\"col_heading level0 col0\" >question</th>\n",
       "      <th id=\"T_a8c3f_level0_col1\" class=\"col_heading level0 col1\" >example_answer</th>\n",
       "      <th id=\"T_a8c3f_level0_col2\" class=\"col_heading level0 col2\" >context</th>\n",
       "      <th id=\"T_a8c3f_level0_col3\" class=\"col_heading level0 col3\" >pred_answer</th>\n",
       "      <th id=\"T_a8c3f_level0_col4\" class=\"col_heading level0 col4\" >llm_metric</th>\n",
       "    </tr>\n",
       "  </thead>\n",
       "  <tbody>\n",
       "    <tr>\n",
       "      <th id=\"T_a8c3f_level0_row0\" class=\"row_heading level0 row0\" >0</th>\n",
       "      <td id=\"T_a8c3f_row0_col0\" class=\"data row0 col0\" >Are there clinical trials using stem cells for the treatment of cardiac disease?</td>\n",
       "      <td id=\"T_a8c3f_row0_col1\" class=\"data row0 col1\" >Yes, there exists clinical trials for cardiac stem cell based treatment. Yes, there are several clinical trials on the use of stem cells for the...</td>\n",
       "      <td id=\"T_a8c3f_row0_col2\" class=\"data row0 col2\" >['Recent clinical trials have achieved favorable initial endpoints with improvements in cardiac function and clinical symptoms following cellular therapy.', 'These results suggest that long-term T4...</td>\n",
       "      <td id=\"T_a8c3f_row0_col3\" class=\"data row0 col3\" >Yes, there are clinical trials using stem cells for the treatment of cardiac disease.</td>\n",
       "      <td id=\"T_a8c3f_row0_col4\" class=\"data row0 col4\" >1.0</td>\n",
       "    </tr>\n",
       "    <tr>\n",
       "      <th id=\"T_a8c3f_level0_row1\" class=\"row_heading level0 row1\" >1</th>\n",
       "      <td id=\"T_a8c3f_row1_col0\" class=\"data row1 col0\" >Is exon skipping correlated with exon circularization?</td>\n",
       "      <td id=\"T_a8c3f_row1_col1\" class=\"data row1 col1\" >Yes. Circularization of exons is widespread and correlates with exon skipping, a feature that adds considerably to the regulatory complexity of the human transcriptome.</td>\n",
       "      <td id=\"T_a8c3f_row1_col2\" class=\"data row1 col2\" >['ChIP-sequencing data mapped onto skipped exon events reveal a correlation between histone H3K36 trimethylation peaks and skipped exons, suggesting epigenetic marks being part of alternative...</td>\n",
       "      <td id=\"T_a8c3f_row1_col3\" class=\"data row1 col3\" >The context does not provide information on whether exon skipping is correlated with exon circularization.</td>\n",
       "      <td id=\"T_a8c3f_row1_col4\" class=\"data row1 col4\" >0.1</td>\n",
       "    </tr>\n",
       "    <tr>\n",
       "      <th id=\"T_a8c3f_level0_row2\" class=\"row_heading level0 row2\" >2</th>\n",
       "      <td id=\"T_a8c3f_row2_col0\" class=\"data row2 col0\" >Which is the main difference between Alu and B1 repeats?</td>\n",
       "      <td id=\"T_a8c3f_row2_col1\" class=\"data row2 col1\" >B1 is a murine homolog of the human SINE Alu. B1 (Alu-equivalent) is a murine short interspersed element whose amplification probably involved an RNA intermediate....</td>\n",
       "      <td id=\"T_a8c3f_row2_col2\" class=\"data row2 col2\" >['the Tsix gene (antisense counterpart of Xist)', 'ChIP-sequencing data mapped onto skipped exon events reveal a correlation between histone H3K36 trimethylation peaks and skipped exons,...</td>\n",
       "      <td id=\"T_a8c3f_row2_col3\" class=\"data row2 col3\" >The provided contexts do not contain information about Alu and B1 repeats, so the main difference between them cannot be determined from the given data.</td>\n",
       "      <td id=\"T_a8c3f_row2_col4\" class=\"data row2 col4\" >0.6</td>\n",
       "    </tr>\n",
       "    <tr>\n",
       "      <th id=\"T_a8c3f_level0_row3\" class=\"row_heading level0 row3\" >3</th>\n",
       "      <td id=\"T_a8c3f_row3_col0\" class=\"data row3 col0\" >Is there a crystal structure of Greek Goat Encephalitis?</td>\n",
       "      <td id=\"T_a8c3f_row3_col1\" class=\"data row3 col1\" >Based on results no crustal structure of Greek Goat Encephalitis found.</td>\n",
       "      <td id=\"T_a8c3f_row3_col2\" class=\"data row3 col2\" >['experimental autoimmune encephalomyelitis (EAE), an animal model of multiple sclerosis (MS)', 'Swine dysentery (SD) is a mucohaemorrhagic colitis of pigs resulting from infection of the...</td>\n",
       "      <td id=\"T_a8c3f_row3_col3\" class=\"data row3 col3\" >There is no information provided about the crystal structure of Greek Goat Encephalitis in the given context.</td>\n",
       "      <td id=\"T_a8c3f_row3_col4\" class=\"data row3 col4\" >0.3</td>\n",
       "    </tr>\n",
       "    <tr>\n",
       "      <th id=\"T_a8c3f_level0_row4\" class=\"row_heading level0 row4\" >4</th>\n",
       "      <td id=\"T_a8c3f_row4_col0\" class=\"data row4 col0\" >Is apremilast effective for psoriasis?</td>\n",
       "      <td id=\"T_a8c3f_row4_col1\" class=\"data row4 col1\" >Yes, apremilast is effective for treatment of psoriasis.</td>\n",
       "      <td id=\"T_a8c3f_row4_col2\" class=\"data row4 col2\" >[\"NCLUSIONS: Vedolizumab-treated patients with active Crohn's disease were more likely than patients receiving placebo to have a remission, but not a CDAI-100 response, at week...</td>\n",
       "      <td id=\"T_a8c3f_row4_col3\" class=\"data row4 col3\" >The context does not provide information on the effectiveness of apremilast for psoriasis.</td>\n",
       "      <td id=\"T_a8c3f_row4_col4\" class=\"data row4 col4\" >0.2</td>\n",
       "    </tr>\n",
       "  </tbody>\n",
       "</table>\n"
      ],
      "text/plain": [
       "<pandas.io.formats.style.Styler at 0x37374b910>"
      ]
     },
     "metadata": {},
     "output_type": "display_data"
    },
    {
     "data": {
      "text/html": [
       "\n",
       "                <div style='\n",
       "                    text-align: center;\n",
       "                    font-size: 16px;\n",
       "                    font-weight: bold;\n",
       "                    color: #555;\n",
       "                    margin: 10px 0;'>\n",
       "                    ... 15 more rows not displayed ...\n",
       "                </div>\n",
       "                "
      ],
      "text/plain": [
       "<IPython.core.display.HTML object>"
      ]
     },
     "metadata": {},
     "output_type": "display_data"
    }
   ],
   "source": [
    "few_shot_bootstrap_compiled_rag_evals = evaluate(\n",
    "    few_shot_bootstrap_compiled_rag,\n",
    "    metric=llm_metric,\n",
    "    return_all_scores=True,\n",
    "    return_outputs=True,\n",
    ")"
   ]
  },
  {
   "cell_type": "code",
   "execution_count": 34,
   "metadata": {},
   "outputs": [
    {
     "name": "stdout",
     "output_type": "stream",
     "text": [
      "0.465\n"
     ]
    },
    {
     "data": {
      "text/html": [
       "<div>\n",
       "<style scoped>\n",
       "    .dataframe tbody tr th:only-of-type {\n",
       "        vertical-align: middle;\n",
       "    }\n",
       "\n",
       "    .dataframe tbody tr th {\n",
       "        vertical-align: top;\n",
       "    }\n",
       "\n",
       "    .dataframe thead th {\n",
       "        text-align: right;\n",
       "    }\n",
       "</style>\n",
       "<table border=\"1\" class=\"dataframe\">\n",
       "  <thead>\n",
       "    <tr style=\"text-align: right;\">\n",
       "      <th></th>\n",
       "      <th>question</th>\n",
       "      <th>predicted_answer</th>\n",
       "      <th>score</th>\n",
       "    </tr>\n",
       "  </thead>\n",
       "  <tbody>\n",
       "    <tr>\n",
       "      <th>0</th>\n",
       "      <td>Are there clinical trials using stem cells for the treatment of cardiac disease?</td>\n",
       "      <td>Yes, there are clinical trials using stem cells for the treatment of cardiac disease.</td>\n",
       "      <td>1.0</td>\n",
       "    </tr>\n",
       "    <tr>\n",
       "      <th>1</th>\n",
       "      <td>Is apremilast effective for psoriasis?</td>\n",
       "      <td>The context does not provide information on the effectiveness of apremilast for psoriasis.</td>\n",
       "      <td>0.2</td>\n",
       "    </tr>\n",
       "    <tr>\n",
       "      <th>2</th>\n",
       "      <td>What role does CRD-BP play in protecting c-myc mRNA?</td>\n",
       "      <td>The provided context does not contain information about the role of CRD-BP in protecting c-myc mRNA.</td>\n",
       "      <td>0.7</td>\n",
       "    </tr>\n",
       "    <tr>\n",
       "      <th>3</th>\n",
       "      <td>List components of the CRSP/Med complex.</td>\n",
       "      <td>The context does not provide information about the components of the CRSP/Med complex.</td>\n",
       "      <td>0.1</td>\n",
       "    </tr>\n",
       "    <tr>\n",
       "      <th>4</th>\n",
       "      <td>Is exon skipping correlated with exon circularization?</td>\n",
       "      <td>The context does not provide information on whether exon skipping is correlated with exon circularization.</td>\n",
       "      <td>0.1</td>\n",
       "    </tr>\n",
       "    <tr>\n",
       "      <th>5</th>\n",
       "      <td>what is the role of MEF-2 in cardiomyocyte differentiation?</td>\n",
       "      <td>The provided context does not contain information about the role of MEF-2 in cardiomyocyte differentiation.</td>\n",
       "      <td>0.7</td>\n",
       "    </tr>\n",
       "    <tr>\n",
       "      <th>6</th>\n",
       "      <td>Which is the main difference between Alu and B1 repeats?</td>\n",
       "      <td>The provided contexts do not contain information about Alu and B1 repeats, so the main difference between them cannot be determined from the given data.</td>\n",
       "      <td>0.6</td>\n",
       "    </tr>\n",
       "    <tr>\n",
       "      <th>7</th>\n",
       "      <td>Is there a crystal structure of Greek Goat Encephalitis?</td>\n",
       "      <td>There is no information provided about the crystal structure of Greek Goat Encephalitis in the given context.</td>\n",
       "      <td>0.3</td>\n",
       "    </tr>\n",
       "    <tr>\n",
       "      <th>8</th>\n",
       "      <td>Can life style changes reduce oxidative stress</td>\n",
       "      <td>Yes, lifestyle changes can reduce oxidative stress. Although the provided context does not directly address this, it is well-documented in scientific literature that adopting a healthy lifestyle, including a balanced diet, regular exercise, and avoiding harmful habits, can help mitigate oxidative stress.</td>\n",
       "      <td>0.3</td>\n",
       "    </tr>\n",
       "    <tr>\n",
       "      <th>9</th>\n",
       "      <td>Which microRNAs are involved in exercise adaptation?</td>\n",
       "      <td>The context does not provide information about which microRNAs are involved in exercise adaptation.</td>\n",
       "      <td>0.1</td>\n",
       "    </tr>\n",
       "    <tr>\n",
       "      <th>10</th>\n",
       "      <td>Could hypophosphatemic rickets cause craniosynostosis?</td>\n",
       "      <td>Yes, hypophosphatemic rickets could potentially cause craniosynostosis due to its impact on bone development and metabolism.</td>\n",
       "      <td>0.8</td>\n",
       "    </tr>\n",
       "    <tr>\n",
       "      <th>11</th>\n",
       "      <td>Which antibodies cause Riedel thyroiditis?</td>\n",
       "      <td>The context does not provide information about which antibodies cause Riedel thyroiditis.</td>\n",
       "      <td>0.2</td>\n",
       "    </tr>\n",
       "    <tr>\n",
       "      <th>12</th>\n",
       "      <td>Can NADPH oxidase be inhibited by apocynin and diphenylene iodonium?</td>\n",
       "      <td>The context does not provide information on whether NADPH oxidase can be inhibited by apocynin and diphenylene iodonium.</td>\n",
       "      <td>0.6</td>\n",
       "    </tr>\n",
       "    <tr>\n",
       "      <th>13</th>\n",
       "      <td>Is Achondroplasia associated with hearing loss?</td>\n",
       "      <td>The context does not provide information about Achondroplasia or its association with hearing loss.</td>\n",
       "      <td>0.5</td>\n",
       "    </tr>\n",
       "    <tr>\n",
       "      <th>14</th>\n",
       "      <td>What is MRSA?</td>\n",
       "      <td>The context does not provide information about MRSA. MRSA stands for Methicillin-Resistant Staphylococcus Aureus, a type of bacteria that is resistant to several antibiotics.</td>\n",
       "      <td>0.2</td>\n",
       "    </tr>\n",
       "    <tr>\n",
       "      <th>15</th>\n",
       "      <td>Has proteomics been used in the study of the dry eye syndrome?</td>\n",
       "      <td>There is no mention of proteomics being used in the study of dry eye syndrome in the provided context.</td>\n",
       "      <td>0.6</td>\n",
       "    </tr>\n",
       "    <tr>\n",
       "      <th>16</th>\n",
       "      <td>Which genes does thyroid hormone receptor beta1 regulate in the liver?</td>\n",
       "      <td>The thyroid hormone receptor beta1 (TRbeta1) regulates the hepatic LDLr gene in the liver.</td>\n",
       "      <td>0.0</td>\n",
       "    </tr>\n",
       "    <tr>\n",
       "      <th>17</th>\n",
       "      <td>What is the mechanism of DNA replication termination in vertebrates?</td>\n",
       "      <td>The provided context does not contain information about the mechanism of DNA replication termination in vertebrates.</td>\n",
       "      <td>1.1</td>\n",
       "    </tr>\n",
       "    <tr>\n",
       "      <th>18</th>\n",
       "      <td>What are the applications of a Dermaroller ?</td>\n",
       "      <td>The provided context does not contain information about the applications of a Dermaroller.</td>\n",
       "      <td>0.3</td>\n",
       "    </tr>\n",
       "    <tr>\n",
       "      <th>19</th>\n",
       "      <td>What is the inheritance pattern of Emery-Dreifuss muscular dystrophy?</td>\n",
       "      <td>Emery-Dreifuss muscular dystrophy can be inherited in three different patterns: X-linked recessive, autosomal dominant, and autosomal recessive. The most common form is X-linked recessive, caused by mutations in the EMD or FHL1 genes.</td>\n",
       "      <td>0.9</td>\n",
       "    </tr>\n",
       "  </tbody>\n",
       "</table>\n",
       "</div>"
      ],
      "text/plain": [
       "                                                                            question                                                                                                                                                                                                                                                                                                   predicted_answer  score\n",
       "0   Are there clinical trials using stem cells for the treatment of cardiac disease?                                                                                                                                                                                                                              Yes, there are clinical trials using stem cells for the treatment of cardiac disease.    1.0\n",
       "1                                             Is apremilast effective for psoriasis?                                                                                                                                                                                                                         The context does not provide information on the effectiveness of apremilast for psoriasis.    0.2\n",
       "2                               What role does CRD-BP play in protecting c-myc mRNA?                                                                                                                                                                                                               The provided context does not contain information about the role of CRD-BP in protecting c-myc mRNA.    0.7\n",
       "3                                           List components of the CRSP/Med complex.                                                                                                                                                                                                                             The context does not provide information about the components of the CRSP/Med complex.    0.1\n",
       "4                             Is exon skipping correlated with exon circularization?                                                                                                                                                                                                         The context does not provide information on whether exon skipping is correlated with exon circularization.    0.1\n",
       "5                        what is the role of MEF-2 in cardiomyocyte differentiation?                                                                                                                                                                                                        The provided context does not contain information about the role of MEF-2 in cardiomyocyte differentiation.    0.7\n",
       "6                           Which is the main difference between Alu and B1 repeats?                                                                                                                                                           The provided contexts do not contain information about Alu and B1 repeats, so the main difference between them cannot be determined from the given data.    0.6\n",
       "7                           Is there a crystal structure of Greek Goat Encephalitis?                                                                                                                                                                                                      There is no information provided about the crystal structure of Greek Goat Encephalitis in the given context.    0.3\n",
       "8                                     Can life style changes reduce oxidative stress  Yes, lifestyle changes can reduce oxidative stress. Although the provided context does not directly address this, it is well-documented in scientific literature that adopting a healthy lifestyle, including a balanced diet, regular exercise, and avoiding harmful habits, can help mitigate oxidative stress.    0.3\n",
       "9                               Which microRNAs are involved in exercise adaptation?                                                                                                                                                                                                                The context does not provide information about which microRNAs are involved in exercise adaptation.    0.1\n",
       "10                            Could hypophosphatemic rickets cause craniosynostosis?                                                                                                                                                                                       Yes, hypophosphatemic rickets could potentially cause craniosynostosis due to its impact on bone development and metabolism.    0.8\n",
       "11                                        Which antibodies cause Riedel thyroiditis?                                                                                                                                                                                                                          The context does not provide information about which antibodies cause Riedel thyroiditis.    0.2\n",
       "12              Can NADPH oxidase be inhibited by apocynin and diphenylene iodonium?                                                                                                                                                                                           The context does not provide information on whether NADPH oxidase can be inhibited by apocynin and diphenylene iodonium.    0.6\n",
       "13                                   Is Achondroplasia associated with hearing loss?                                                                                                                                                                                                                The context does not provide information about Achondroplasia or its association with hearing loss.    0.5\n",
       "14                                                                     What is MRSA?                                                                                                                                     The context does not provide information about MRSA. MRSA stands for Methicillin-Resistant Staphylococcus Aureus, a type of bacteria that is resistant to several antibiotics.    0.2\n",
       "15                    Has proteomics been used in the study of the dry eye syndrome?                                                                                                                                                                                                             There is no mention of proteomics being used in the study of dry eye syndrome in the provided context.    0.6\n",
       "16            Which genes does thyroid hormone receptor beta1 regulate in the liver?                                                                                                                                                                                                                         The thyroid hormone receptor beta1 (TRbeta1) regulates the hepatic LDLr gene in the liver.    0.0\n",
       "17              What is the mechanism of DNA replication termination in vertebrates?                                                                                                                                                                                               The provided context does not contain information about the mechanism of DNA replication termination in vertebrates.    1.1\n",
       "18                                      What are the applications of a Dermaroller ?                                                                                                                                                                                                                         The provided context does not contain information about the applications of a Dermaroller.    0.3\n",
       "19            What is the inheritance pattern of Emery-Dreifuss muscular dystrophy?                                                                          Emery-Dreifuss muscular dystrophy can be inherited in three different patterns: X-linked recessive, autosomal dominant, and autosomal recessive. The most common form is X-linked recessive, caused by mutations in the EMD or FHL1 genes.    0.9"
      ]
     },
     "execution_count": 34,
     "metadata": {},
     "output_type": "execute_result"
    }
   ],
   "source": [
    "pd.set_option(\"display.max_colwidth\", 500)\n",
    "pd.set_option(\"display.max_rows\", 500)\n",
    "evals_outs_df = create_score_dataframe(few_shot_bootstrap_compiled_rag_evals[1])\n",
    "print(evals_outs_df[\"score\"].mean())\n",
    "evals_outs_df"
   ]
  },
  {
   "cell_type": "code",
   "execution_count": 35,
   "metadata": {},
   "outputs": [
    {
     "data": {
      "text/plain": [
       "Prediction(\n",
       "    context=['Valaciclovir (Valtrex), the L-valyl ester of acyclovir, is undergoing clinical development for the treatment and suppression of herpesviral diseases.', 'Improved pain, physical functioning and health status in patients with rheumatoid arthritis treated with CP-690,550, an orally active Janus kinase (JAK) inhibitor: results from a randomised, double-blind, placebo-controlled trial.', 'Mutations in the serine protease inhibitor Kazal type 5 (SPINK5) gene leading to lymphoepithelial Kazal-type-related inhibitor (LEKTI) deficiency cause NS.', 'The authors conclude that rosiglitazone can be safely administered with metformin and, due to the different mechanisms of action of these agents, may offer a therapeutic advantage in patients with type 2 diabetes mellitus.', 'The human OX2 receptor (OX2R) belongs to the β branch of the rhodopsin family of GPCRs, and can bind to diverse compounds including the native agonist peptides orexin-A and orexin-B and the potent therapeutic inhibitor suvorexant.', 'human, bovine and rodent selenoprotein P genes encode proteins containing 10-12 selenocysteines', 'Results from this study suggest that HLA-B*1502 may be a useful pharmacogenetic test for screening Thai individuals who may be at risk for CBZ-induced SJS and TEN.', 'Modafinil, a putative cognitive enhancing drug, has previously been shown to improve performance of healthy volunteers as well as patients with attention deficit disorder and schizophrenia, mainly in tests of executive functions', 'Stable expression of a novel fusion peptide of thioredoxin-1 and ABAD-inhibiting peptide protects PC12 cells from intracellular amyloid-beta.', 'Sequential chemoimmunotherapy of fludarabine, mitoxantrone, and cyclophosphamide induction followed by alemtuzumab consolidation is effective in T-cell prolymphocytic leukemia'],\n",
       "    answer='The context does not provide information about Selexipag or the disease it is used for.'\n",
       ")"
      ]
     },
     "execution_count": 35,
     "metadata": {},
     "output_type": "execute_result"
    }
   ],
   "source": [
    "few_shot_bootstrap_compiled_rag(sample)"
   ]
  },
  {
   "cell_type": "markdown",
   "metadata": {},
   "source": [
    "### Signature Optmiizer"
   ]
  },
  {
   "cell_type": "markdown",
   "metadata": {},
   "source": [
    "Optimizing Signature is also a way you can try to improve the performance of your model. You can either plug the above bootstrapped compiled model to this or you can even use the uncompiled model."
   ]
  },
  {
   "cell_type": "code",
   "execution_count": 36,
   "metadata": {},
   "outputs": [
    {
     "name": "stdout",
     "output_type": "stream",
     "text": [
      "\u001b[93m\u001b[1mWARNING: Projected Language Model (LM) Calls\u001b[0m\n",
      "\n",
      "Please be advised that based on the parameters you have set, the maximum number of LM calls is projected as follows:\n",
      "\n",
      "\u001b[93m- Task Model: \u001b[94m\u001b[1m1\u001b[0m\u001b[93m examples in dev set * \u001b[94m\u001b[1m20\u001b[0m\u001b[93m trials * \u001b[94m\u001b[1m# of LM calls in your program\u001b[0m\u001b[93m = (\u001b[94m\u001b[1m20 * # of LM calls in your program\u001b[0m\u001b[93m) task model calls\u001b[0m\n",
      "\u001b[93m- Prompt Model: # data summarizer calls (max \u001b[94m\u001b[1m10\u001b[0m\u001b[93m) + \u001b[94m\u001b[1m10\u001b[0m\u001b[93m * \u001b[94m\u001b[1m1\u001b[0m\u001b[93m lm calls in program = \u001b[94m\u001b[1m20\u001b[0m\u001b[93m prompt model calls\u001b[0m\n",
      "\n",
      "\u001b[93m\u001b[1mEstimated Cost Calculation:\u001b[0m\n",
      "\n",
      "\u001b[93mTotal Cost = (Number of calls to task model * (Avg Input Token Length per Call * Task Model Price per Input Token + Avg Output Token Length per Call * Task Model Price per Output Token) \n",
      "            + (Number of calls to prompt model * (Avg Input Token Length per Call * Task Prompt Price per Input Token + Avg Output Token Length per Call * Prompt Model Price per Output Token).\u001b[0m\n",
      "\n",
      "For a preliminary estimate of potential costs, we recommend you perform your own calculations based on the task\n",
      "and prompt models you intend to use. If the projected costs exceed your budget or expectations, you may consider:\n",
      "\n",
      "\u001b[93m- Reducing the number of trials (`num_trials`), the size of the trainset, or the number of LM calls in your program.\u001b[0m\n",
      "\u001b[93m- Using a cheaper task model to optimize the prompt.\u001b[0m\n"
     ]
    },
    {
     "name": "stderr",
     "output_type": "stream",
     "text": [
      "100%|██████████| 1/1 [00:00<00:00,  8.77it/s]\n"
     ]
    },
    {
     "name": "stdout",
     "output_type": "stream",
     "text": [
      "Faithful: 5\n",
      "Detail: 1\n",
      "Correctness: 1\n",
      "Bootstrapped 1 full traces after 1 examples in round 0.\n"
     ]
    },
    {
     "name": "stderr",
     "output_type": "stream",
     "text": [
      "100%|██████████| 1/1 [00:00<00:00, 12.32it/s]\n"
     ]
    },
    {
     "name": "stdout",
     "output_type": "stream",
     "text": [
      "Faithful: 5\n",
      "Detail: 1\n",
      "Correctness: 1\n",
      "Bootstrapped 1 full traces after 1 examples in round 0.\n"
     ]
    },
    {
     "name": "stderr",
     "output_type": "stream",
     "text": [
      "100%|██████████| 1/1 [00:00<00:00,  4.23it/s]\n"
     ]
    },
    {
     "name": "stdout",
     "output_type": "stream",
     "text": [
      "Faithful: 5\n",
      "Detail: 1\n",
      "Correctness: 1\n",
      "Bootstrapped 1 full traces after 1 examples in round 0.\n"
     ]
    },
    {
     "name": "stderr",
     "output_type": "stream",
     "text": [
      "100%|██████████| 1/1 [00:00<00:00,  3.27it/s]\n"
     ]
    },
    {
     "name": "stdout",
     "output_type": "stream",
     "text": [
      "Faithful: 5\n",
      "Detail: 1\n",
      "Correctness: 1\n",
      "Bootstrapped 1 full traces after 1 examples in round 0.\n"
     ]
    },
    {
     "name": "stderr",
     "output_type": "stream",
     "text": [
      "100%|██████████| 1/1 [00:00<00:00,  1.96it/s]\n"
     ]
    },
    {
     "name": "stdout",
     "output_type": "stream",
     "text": [
      "Faithful: 5\n",
      "Detail: 1\n",
      "Correctness: 1\n",
      "Bootstrapped 1 full traces after 1 examples in round 0.\n"
     ]
    },
    {
     "name": "stderr",
     "output_type": "stream",
     "text": [
      "100%|██████████| 1/1 [00:00<00:00,  2.37it/s]\n"
     ]
    },
    {
     "name": "stdout",
     "output_type": "stream",
     "text": [
      "Faithful: 5\n",
      "Detail: 1\n",
      "Correctness: 1\n",
      "Bootstrapped 1 full traces after 1 examples in round 0.\n"
     ]
    },
    {
     "name": "stderr",
     "output_type": "stream",
     "text": [
      "100%|██████████| 1/1 [00:00<00:00,  2.40it/s]\n"
     ]
    },
    {
     "name": "stdout",
     "output_type": "stream",
     "text": [
      "Faithful: 5\n",
      "Detail: 1\n",
      "Correctness: 1\n",
      "Bootstrapped 1 full traces after 1 examples in round 0.\n"
     ]
    },
    {
     "name": "stderr",
     "output_type": "stream",
     "text": [
      "100%|██████████| 1/1 [00:00<00:00,  2.51it/s]\n"
     ]
    },
    {
     "name": "stdout",
     "output_type": "stream",
     "text": [
      "Faithful: 5\n",
      "Detail: 1\n",
      "Correctness: 1\n",
      "Bootstrapped 1 full traces after 1 examples in round 0.\n"
     ]
    },
    {
     "name": "stderr",
     "output_type": "stream",
     "text": [
      "100%|██████████| 1/1 [00:00<00:00,  2.21it/s]"
     ]
    },
    {
     "name": "stdout",
     "output_type": "stream",
     "text": [
      "Faithful: 5\n",
      "Detail: 1\n",
      "Correctness: 1\n",
      "Bootstrapped 1 full traces after 1 examples in round 0.\n"
     ]
    },
    {
     "name": "stderr",
     "output_type": "stream",
     "text": [
      "\n",
      "[I 2024-09-21 21:19:44,527] A new study created in memory with name: no-name-b1d13019-cda2-4704-a8b6-574db6ba1329\n"
     ]
    },
    {
     "name": "stdout",
     "output_type": "stream",
     "text": [
      "Starting trial #0\n"
     ]
    },
    {
     "name": "stderr",
     "output_type": "stream",
     "text": [
      "Average Metric: 0.7 / 1  (70.0): 100%|██████████| 1/1 [00:01<00:00,  1.59s/it]\n",
      "[I 2024-09-21 21:19:46,129] Trial 0 finished with value: 70.0 and parameters: {'14855968592_predictor_instruction': 1, '14855968592_predictor_demos': 1}. Best is trial 0 with value: 70.0.\n"
     ]
    },
    {
     "name": "stdout",
     "output_type": "stream",
     "text": [
      "Faithful: 5\n",
      "Detail: 1\n",
      "Correctness: 1\n",
      "Average Metric: 0.7 / 1  (70.0%)\n",
      "Starting trial #1\n"
     ]
    },
    {
     "name": "stderr",
     "output_type": "stream",
     "text": [
      "Average Metric: 0.7 / 1  (70.0): 100%|██████████| 1/1 [00:00<00:00,  3.58it/s]\n",
      "[I 2024-09-21 21:19:46,472] Trial 1 finished with value: 70.0 and parameters: {'14855968592_predictor_instruction': 5, '14855968592_predictor_demos': 4}. Best is trial 0 with value: 70.0.\n"
     ]
    },
    {
     "name": "stdout",
     "output_type": "stream",
     "text": [
      "Faithful: 5\n",
      "Detail: 1\n",
      "Correctness: 1\n",
      "Average Metric: 0.7 / 1  (70.0%)\n",
      "Starting trial #2\n"
     ]
    },
    {
     "name": "stderr",
     "output_type": "stream",
     "text": [
      "Average Metric: 0.0 / 1  (0.0): 100%|██████████| 1/1 [00:05<00:00,  5.36s/it]\n",
      "[I 2024-09-21 21:19:51,838] Trial 2 finished with value: 0.0 and parameters: {'14855968592_predictor_instruction': 3, '14855968592_predictor_demos': 0}. Best is trial 0 with value: 70.0.\n"
     ]
    },
    {
     "name": "stdout",
     "output_type": "stream",
     "text": [
      "Faithful: 0\n",
      "Detail: 0\n",
      "Correctness: 0\n",
      "Average Metric: 0.0 / 1  (0.0%)\n",
      "Starting trial #3\n"
     ]
    },
    {
     "name": "stderr",
     "output_type": "stream",
     "text": [
      "Average Metric: 0.7 / 1  (70.0): 100%|██████████| 1/1 [00:00<00:00,  5.67it/s]\n",
      "[I 2024-09-21 21:19:52,023] Trial 3 finished with value: 70.0 and parameters: {'14855968592_predictor_instruction': 9, '14855968592_predictor_demos': 3}. Best is trial 0 with value: 70.0.\n"
     ]
    },
    {
     "name": "stdout",
     "output_type": "stream",
     "text": [
      "Faithful: 5\n",
      "Detail: 1\n",
      "Correctness: 1\n",
      "Average Metric: 0.7 / 1  (70.0%)\n",
      "Starting trial #4\n"
     ]
    },
    {
     "name": "stderr",
     "output_type": "stream",
     "text": [
      "Average Metric: 0.7 / 1  (70.0): 100%|██████████| 1/1 [00:00<00:00,  2.54it/s]\n",
      "[I 2024-09-21 21:19:52,463] Trial 4 finished with value: 70.0 and parameters: {'14855968592_predictor_instruction': 8, '14855968592_predictor_demos': 4}. Best is trial 0 with value: 70.0.\n"
     ]
    },
    {
     "name": "stdout",
     "output_type": "stream",
     "text": [
      "Faithful: 5\n",
      "Detail: 1\n",
      "Correctness: 1\n",
      "Average Metric: 0.7 / 1  (70.0%)\n",
      "Starting trial #5\n"
     ]
    },
    {
     "name": "stderr",
     "output_type": "stream",
     "text": [
      "Average Metric: 0.7 / 1  (70.0): 100%|██████████| 1/1 [00:00<00:00,  2.92it/s]\n",
      "[I 2024-09-21 21:19:52,830] Trial 5 finished with value: 70.0 and parameters: {'14855968592_predictor_instruction': 4, '14855968592_predictor_demos': 2}. Best is trial 0 with value: 70.0.\n"
     ]
    },
    {
     "name": "stdout",
     "output_type": "stream",
     "text": [
      "Faithful: 5\n",
      "Detail: 1\n",
      "Correctness: 1\n",
      "Average Metric: 0.7 / 1  (70.0%)\n",
      "Starting trial #6\n"
     ]
    },
    {
     "name": "stderr",
     "output_type": "stream",
     "text": [
      "Average Metric: 0.7 / 1  (70.0): 100%|██████████| 1/1 [00:00<00:00,  4.13it/s]\n",
      "[I 2024-09-21 21:19:53,082] Trial 6 finished with value: 70.0 and parameters: {'14855968592_predictor_instruction': 1, '14855968592_predictor_demos': 9}. Best is trial 0 with value: 70.0.\n"
     ]
    },
    {
     "name": "stdout",
     "output_type": "stream",
     "text": [
      "Faithful: 5\n",
      "Detail: 1\n",
      "Correctness: 1\n",
      "Average Metric: 0.7 / 1  (70.0%)\n",
      "Starting trial #7\n"
     ]
    },
    {
     "name": "stderr",
     "output_type": "stream",
     "text": [
      "Average Metric: 0.7 / 1  (70.0): 100%|██████████| 1/1 [00:00<00:00,  4.99it/s]\n",
      "[I 2024-09-21 21:19:53,299] Trial 7 finished with value: 70.0 and parameters: {'14855968592_predictor_instruction': 0, '14855968592_predictor_demos': 4}. Best is trial 0 with value: 70.0.\n"
     ]
    },
    {
     "name": "stdout",
     "output_type": "stream",
     "text": [
      "Faithful: 5\n",
      "Detail: 1\n",
      "Correctness: 1\n",
      "Average Metric: 0.7 / 1  (70.0%)\n",
      "Starting trial #8\n"
     ]
    },
    {
     "name": "stderr",
     "output_type": "stream",
     "text": [
      "Average Metric: 0.7 / 1  (70.0): 100%|██████████| 1/1 [00:00<00:00,  2.86it/s]\n",
      "[I 2024-09-21 21:19:53,663] Trial 8 finished with value: 70.0 and parameters: {'14855968592_predictor_instruction': 5, '14855968592_predictor_demos': 8}. Best is trial 0 with value: 70.0.\n"
     ]
    },
    {
     "name": "stdout",
     "output_type": "stream",
     "text": [
      "Faithful: 5\n",
      "Detail: 1\n",
      "Correctness: 1\n",
      "Average Metric: 0.7 / 1  (70.0%)\n",
      "Starting trial #9\n"
     ]
    },
    {
     "name": "stderr",
     "output_type": "stream",
     "text": [
      "Average Metric: 0.7 / 1  (70.0): 100%|██████████| 1/1 [00:00<00:00,  2.45it/s]\n",
      "[I 2024-09-21 21:19:54,084] Trial 9 finished with value: 70.0 and parameters: {'14855968592_predictor_instruction': 2, '14855968592_predictor_demos': 2}. Best is trial 0 with value: 70.0.\n"
     ]
    },
    {
     "name": "stdout",
     "output_type": "stream",
     "text": [
      "Faithful: 5\n",
      "Detail: 1\n",
      "Correctness: 1\n",
      "Average Metric: 0.7 / 1  (70.0%)\n",
      "Starting trial #10\n"
     ]
    },
    {
     "name": "stderr",
     "output_type": "stream",
     "text": [
      "Average Metric: 0.7 / 1  (70.0): 100%|██████████| 1/1 [00:00<00:00,  2.45it/s]\n",
      "[I 2024-09-21 21:19:54,514] Trial 10 finished with value: 70.0 and parameters: {'14855968592_predictor_instruction': 7, '14855968592_predictor_demos': 1}. Best is trial 0 with value: 70.0.\n"
     ]
    },
    {
     "name": "stdout",
     "output_type": "stream",
     "text": [
      "Faithful: 5\n",
      "Detail: 1\n",
      "Correctness: 1\n",
      "Average Metric: 0.7 / 1  (70.0%)\n",
      "Starting trial #11\n"
     ]
    },
    {
     "name": "stderr",
     "output_type": "stream",
     "text": [
      "Average Metric: 0.7 / 1  (70.0): 100%|██████████| 1/1 [00:00<00:00,  2.95it/s]\n",
      "[I 2024-09-21 21:19:54,863] Trial 11 finished with value: 70.0 and parameters: {'14855968592_predictor_instruction': 1, '14855968592_predictor_demos': 5}. Best is trial 0 with value: 70.0.\n"
     ]
    },
    {
     "name": "stdout",
     "output_type": "stream",
     "text": [
      "Faithful: 5\n",
      "Detail: 1\n",
      "Correctness: 1\n",
      "Average Metric: 0.7 / 1  (70.0%)\n",
      "Starting trial #12\n"
     ]
    },
    {
     "name": "stderr",
     "output_type": "stream",
     "text": [
      "Average Metric: 0.7 / 1  (70.0): 100%|██████████| 1/1 [00:00<00:00,  2.39it/s]\n",
      "[I 2024-09-21 21:19:55,294] Trial 12 finished with value: 70.0 and parameters: {'14855968592_predictor_instruction': 6, '14855968592_predictor_demos': 7}. Best is trial 0 with value: 70.0.\n"
     ]
    },
    {
     "name": "stdout",
     "output_type": "stream",
     "text": [
      "Faithful: 5\n",
      "Detail: 1\n",
      "Correctness: 1\n",
      "Average Metric: 0.7 / 1  (70.0%)\n",
      "Starting trial #13\n"
     ]
    },
    {
     "name": "stderr",
     "output_type": "stream",
     "text": [
      "Average Metric: 0.7 / 1  (70.0): 100%|██████████| 1/1 [00:00<00:00,  2.49it/s]\n",
      "[I 2024-09-21 21:19:55,720] Trial 13 finished with value: 70.0 and parameters: {'14855968592_predictor_instruction': 5, '14855968592_predictor_demos': 1}. Best is trial 0 with value: 70.0.\n"
     ]
    },
    {
     "name": "stdout",
     "output_type": "stream",
     "text": [
      "Faithful: 5\n",
      "Detail: 1\n",
      "Correctness: 1\n",
      "Average Metric: 0.7 / 1  (70.0%)\n",
      "Starting trial #14\n"
     ]
    },
    {
     "name": "stderr",
     "output_type": "stream",
     "text": [
      "Average Metric: 0.7 / 1  (70.0): 100%|██████████| 1/1 [00:00<00:00,  1.78it/s]\n",
      "[I 2024-09-21 21:19:56,295] Trial 14 finished with value: 70.0 and parameters: {'14855968592_predictor_instruction': 1, '14855968592_predictor_demos': 6}. Best is trial 0 with value: 70.0.\n"
     ]
    },
    {
     "name": "stdout",
     "output_type": "stream",
     "text": [
      "Faithful: 5\n",
      "Detail: 1\n",
      "Correctness: 1\n",
      "Average Metric: 0.7 / 1  (70.0%)\n",
      "Starting trial #15\n"
     ]
    },
    {
     "name": "stderr",
     "output_type": "stream",
     "text": [
      "Average Metric: 0.7 / 1  (70.0): 100%|██████████| 1/1 [00:00<00:00,  2.30it/s]\n",
      "[I 2024-09-21 21:19:56,804] Trial 15 finished with value: 70.0 and parameters: {'14855968592_predictor_instruction': 5, '14855968592_predictor_demos': 4}. Best is trial 0 with value: 70.0.\n"
     ]
    },
    {
     "name": "stdout",
     "output_type": "stream",
     "text": [
      "Faithful: 5\n",
      "Detail: 1\n",
      "Correctness: 1\n",
      "Average Metric: 0.7 / 1  (70.0%)\n",
      "Starting trial #16\n"
     ]
    },
    {
     "name": "stderr",
     "output_type": "stream",
     "text": [
      "Average Metric: 0.7 / 1  (70.0): 100%|██████████| 1/1 [00:00<00:00,  3.74it/s]\n",
      "[I 2024-09-21 21:19:57,086] Trial 16 finished with value: 70.0 and parameters: {'14855968592_predictor_instruction': 2, '14855968592_predictor_demos': 1}. Best is trial 0 with value: 70.0.\n"
     ]
    },
    {
     "name": "stdout",
     "output_type": "stream",
     "text": [
      "Faithful: 5\n",
      "Detail: 1\n",
      "Correctness: 1\n",
      "Average Metric: 0.7 / 1  (70.0%)\n",
      "Starting trial #17\n"
     ]
    },
    {
     "name": "stderr",
     "output_type": "stream",
     "text": [
      "Average Metric: 0.7 / 1  (70.0): 100%|██████████| 1/1 [00:00<00:00,  2.32it/s]\n",
      "[I 2024-09-21 21:19:57,529] Trial 17 finished with value: 70.0 and parameters: {'14855968592_predictor_instruction': 4, '14855968592_predictor_demos': 8}. Best is trial 0 with value: 70.0.\n"
     ]
    },
    {
     "name": "stdout",
     "output_type": "stream",
     "text": [
      "Faithful: 5\n",
      "Detail: 1\n",
      "Correctness: 1\n",
      "Average Metric: 0.7 / 1  (70.0%)\n",
      "Starting trial #18\n"
     ]
    },
    {
     "name": "stderr",
     "output_type": "stream",
     "text": [
      "Average Metric: 0.0 / 1  (0.0): 100%|██████████| 1/1 [00:00<00:00,  2.51it/s]\n",
      "[I 2024-09-21 21:19:57,952] Trial 18 pruned. \n"
     ]
    },
    {
     "name": "stdout",
     "output_type": "stream",
     "text": [
      "Faithful: 0\n",
      "Detail: 0\n",
      "Correctness: 0\n",
      "Average Metric: 0.0 / 1  (0.0%)\n",
      "Trial pruned.\n",
      "Starting trial #19\n"
     ]
    },
    {
     "name": "stderr",
     "output_type": "stream",
     "text": [
      "Average Metric: 0.7 / 1  (70.0): 100%|██████████| 1/1 [00:00<00:00,  2.88it/s]\n",
      "[I 2024-09-21 21:19:58,321] Trial 19 finished with value: 70.0 and parameters: {'14855968592_predictor_instruction': 0, '14855968592_predictor_demos': 5}. Best is trial 0 with value: 70.0.\n"
     ]
    },
    {
     "name": "stdout",
     "output_type": "stream",
     "text": [
      "Faithful: 5\n",
      "Detail: 1\n",
      "Correctness: 1\n",
      "Average Metric: 0.7 / 1  (70.0%)\n",
      "Returning generate_answer = ChainOfThought(GenerateAnswer(context, question -> answer\n",
      "    instructions='Answer questions based on the context.'\n",
      "    context = Field(annotation=str required=True json_schema_extra={'desc': 'may contain relevant facts', '__dspy_field_type': 'input', 'prefix': 'Context:'})\n",
      "    question = Field(annotation=str required=True json_schema_extra={'__dspy_field_type': 'input', 'prefix': 'Question:', 'desc': '${question}'})\n",
      "    answer = Field(annotation=str required=True json_schema_extra={'__dspy_field_type': 'output', 'prefix': 'Answer:', 'desc': '${answer}'})\n",
      ")) from continue_program\n"
     ]
    }
   ],
   "source": [
    "from dspy.teleprompt import MIPRO\n",
    "\n",
    "llm_prompter = dspy.OpenAI(model=\"gpt-4o\", max_tokens=2000, model_type=\"chat\")\n",
    "\n",
    "teleprompter = MIPRO(\n",
    "    task_model=dspy.settings.lm,\n",
    "    metric=llm_metric,\n",
    "    prompt_model=llm_prompter,\n",
    "    verbose=False,\n",
    ")\n",
    "kwargs = dict(num_threads=8, display_progress=True, display_table=0)\n",
    "mipro_compiled_rag = teleprompter.compile(\n",
    "    uncompile_k_10,\n",
    "    eval_kwargs=kwargs,\n",
    "    trainset=trainset_truncated,\n",
    "    num_trials=20,\n",
    "    max_bootstrapped_demos=2,\n",
    "    max_labeled_demos=8,\n",
    "    requires_permission_to_run=False,\n",
    ")"
   ]
  },
  {
   "cell_type": "code",
   "execution_count": 37,
   "metadata": {},
   "outputs": [
    {
     "name": "stderr",
     "output_type": "stream",
     "text": [
      "Average Metric: 0.4 / 3  (13.3):  10%|█         | 2/20 [00:04<00:34,  1.90s/it]                "
     ]
    },
    {
     "name": "stdout",
     "output_type": "stream",
     "text": [
      "Faithful: 0\n",
      "Detail: 2\n",
      "Correctness: 0\n",
      "Faithful: 0\n",
      "Detail: 1\n",
      "Correctness: 0\n",
      "Faithful: 0\n",
      "Detail: 1\n",
      "Correctness: 0\n"
     ]
    },
    {
     "name": "stderr",
     "output_type": "stream",
     "text": [
      "Average Metric: 0.5 / 4  (12.5):  15%|█▌        | 3/20 [00:04<00:32,  1.90s/it]"
     ]
    },
    {
     "name": "stdout",
     "output_type": "stream",
     "text": [
      "Faithful: 0\n",
      "Detail: 1\n",
      "Correctness: 0\n"
     ]
    },
    {
     "name": "stderr",
     "output_type": "stream",
     "text": [
      "Average Metric: 1.8 / 5  (36.0):  25%|██▌       | 5/20 [00:05<00:09,  1.51it/s]"
     ]
    },
    {
     "name": "stdout",
     "output_type": "stream",
     "text": [
      "Faithful: 5\n",
      "Detail: 3\n",
      "Correctness: 5\n"
     ]
    },
    {
     "name": "stderr",
     "output_type": "stream",
     "text": [
      "Average Metric: 2.9000000000000004 / 6  (48.3):  30%|███       | 6/20 [00:06<00:10,  1.35it/s]"
     ]
    },
    {
     "name": "stdout",
     "output_type": "stream",
     "text": [
      "Faithful: 5\n",
      "Detail: 1\n",
      "Correctness: 5\n"
     ]
    },
    {
     "name": "stderr",
     "output_type": "stream",
     "text": [
      "Average Metric: 3.5000000000000004 / 7  (50.0):  35%|███▌      | 7/20 [00:06<00:09,  1.38it/s]"
     ]
    },
    {
     "name": "stdout",
     "output_type": "stream",
     "text": [
      "Faithful: 5\n",
      "Detail: 1\n",
      "Correctness: 0\n"
     ]
    },
    {
     "name": "stderr",
     "output_type": "stream",
     "text": [
      "Average Metric: 3.6000000000000005 / 8  (45.0):  40%|████      | 8/20 [00:09<00:14,  1.23s/it]"
     ]
    },
    {
     "name": "stdout",
     "output_type": "stream",
     "text": [
      "Faithful: 0\n",
      "Detail: 1\n",
      "Correctness: 0\n"
     ]
    },
    {
     "name": "stderr",
     "output_type": "stream",
     "text": [
      "Average Metric: 4.9 / 10  (49.0):  50%|█████     | 10/20 [00:09<00:07,  1.38it/s]             "
     ]
    },
    {
     "name": "stdout",
     "output_type": "stream",
     "text": [
      "Faithful: 5\n",
      "Detail: 2\n",
      "Correctness: 0\n",
      "Faithful: 5\n",
      "Detail: 1\n",
      "Correctness: 0\n"
     ]
    },
    {
     "name": "stderr",
     "output_type": "stream",
     "text": [
      "Average Metric: 5.0 / 11  (45.5):  55%|█████▌    | 11/20 [00:10<00:05,  1.52it/s]"
     ]
    },
    {
     "name": "stdout",
     "output_type": "stream",
     "text": [
      "Faithful: 0\n",
      "Detail: 1\n",
      "Correctness: 0\n"
     ]
    },
    {
     "name": "stderr",
     "output_type": "stream",
     "text": [
      "Average Metric: 6.2 / 12  (51.7):  60%|██████    | 12/20 [00:10<00:04,  1.60it/s]"
     ]
    },
    {
     "name": "stdout",
     "output_type": "stream",
     "text": [
      "Faithful: 5\n",
      "Detail: 2\n",
      "Correctness: 5\n"
     ]
    },
    {
     "name": "stderr",
     "output_type": "stream",
     "text": [
      "Average Metric: 6.8 / 13  (52.3):  65%|██████▌   | 13/20 [00:11<00:05,  1.34it/s]"
     ]
    },
    {
     "name": "stdout",
     "output_type": "stream",
     "text": [
      "Faithful: 5\n",
      "Detail: 1\n",
      "Correctness: 0\n"
     ]
    },
    {
     "name": "stderr",
     "output_type": "stream",
     "text": [
      "Average Metric: 6.8999999999999995 / 14  (49.3):  70%|███████   | 14/20 [00:13<00:05,  1.04it/s]"
     ]
    },
    {
     "name": "stdout",
     "output_type": "stream",
     "text": [
      "Faithful: 0\n",
      "Detail: 1\n",
      "Correctness: 0\n"
     ]
    },
    {
     "name": "stderr",
     "output_type": "stream",
     "text": [
      "Average Metric: 7.499999999999999 / 15  (50.0):  75%|███████▌  | 15/20 [00:14<00:04,  1.11it/s] "
     ]
    },
    {
     "name": "stdout",
     "output_type": "stream",
     "text": [
      "Faithful: 5\n",
      "Detail: 1\n",
      "Correctness: 0\n"
     ]
    },
    {
     "name": "stderr",
     "output_type": "stream",
     "text": [
      "Average Metric: 7.599999999999999 / 16  (47.5):  80%|████████  | 16/20 [00:14<00:02,  1.39it/s]"
     ]
    },
    {
     "name": "stdout",
     "output_type": "stream",
     "text": [
      "Faithful: 0\n",
      "Detail: 1\n",
      "Correctness: 0\n"
     ]
    },
    {
     "name": "stderr",
     "output_type": "stream",
     "text": [
      "Average Metric: 8.799999999999997 / 18  (48.9):  85%|████████▌ | 17/20 [00:14<00:01,  1.51it/s]"
     ]
    },
    {
     "name": "stdout",
     "output_type": "stream",
     "text": [
      "Faithful: 3\n",
      "Detail: 3\n",
      "Correctness: 4\n",
      "Faithful: 0\n",
      "Detail: 2\n",
      "Correctness: 0\n"
     ]
    },
    {
     "name": "stderr",
     "output_type": "stream",
     "text": [
      "Average Metric: 10.599999999999996 / 20  (53.0): 100%|██████████| 20/20 [00:15<00:00,  1.30it/s]"
     ]
    },
    {
     "name": "stdout",
     "output_type": "stream",
     "text": [
      "Faithful: 5Faithful: 0\n",
      "Detail: 2\n",
      "Correctness: 5\n",
      "\n",
      "Detail: 1\n",
      "Correctness: 5\n",
      "Average Metric: 10.599999999999996 / 20  (53.0%)\n"
     ]
    },
    {
     "name": "stderr",
     "output_type": "stream",
     "text": [
      "\n",
      "/opt/homebrew/Caskroom/miniconda/base/envs/ragchallenge/lib/python3.11/site-packages/dspy/evaluate/evaluate.py:266: FutureWarning: Setting an item of incompatible dtype is deprecated and will raise in a future error of pandas. Value '['1.0' '0.1' '0.6' '0.2' '0.1']' has dtype incompatible with float64, please explicitly cast to a compatible dtype first.\n",
      "  df.loc[:, metric_name] = df[metric_name].apply(\n"
     ]
    },
    {
     "data": {
      "text/html": [
       "<style type=\"text/css\">\n",
       "#T_40ae5 th {\n",
       "  text-align: left;\n",
       "}\n",
       "#T_40ae5 td {\n",
       "  text-align: left;\n",
       "}\n",
       "#T_40ae5_row0_col0, #T_40ae5_row0_col1, #T_40ae5_row0_col2, #T_40ae5_row0_col3, #T_40ae5_row0_col4, #T_40ae5_row1_col0, #T_40ae5_row1_col1, #T_40ae5_row1_col2, #T_40ae5_row1_col3, #T_40ae5_row1_col4, #T_40ae5_row2_col0, #T_40ae5_row2_col1, #T_40ae5_row2_col2, #T_40ae5_row2_col3, #T_40ae5_row2_col4, #T_40ae5_row3_col0, #T_40ae5_row3_col1, #T_40ae5_row3_col2, #T_40ae5_row3_col3, #T_40ae5_row3_col4, #T_40ae5_row4_col0, #T_40ae5_row4_col1, #T_40ae5_row4_col2, #T_40ae5_row4_col3, #T_40ae5_row4_col4 {\n",
       "  text-align: left;\n",
       "  white-space: pre-wrap;\n",
       "  word-wrap: break-word;\n",
       "  max-width: 400px;\n",
       "}\n",
       "</style>\n",
       "<table id=\"T_40ae5\">\n",
       "  <thead>\n",
       "    <tr>\n",
       "      <th class=\"blank level0\" >&nbsp;</th>\n",
       "      <th id=\"T_40ae5_level0_col0\" class=\"col_heading level0 col0\" >question</th>\n",
       "      <th id=\"T_40ae5_level0_col1\" class=\"col_heading level0 col1\" >example_answer</th>\n",
       "      <th id=\"T_40ae5_level0_col2\" class=\"col_heading level0 col2\" >context</th>\n",
       "      <th id=\"T_40ae5_level0_col3\" class=\"col_heading level0 col3\" >pred_answer</th>\n",
       "      <th id=\"T_40ae5_level0_col4\" class=\"col_heading level0 col4\" >llm_metric</th>\n",
       "    </tr>\n",
       "  </thead>\n",
       "  <tbody>\n",
       "    <tr>\n",
       "      <th id=\"T_40ae5_level0_row0\" class=\"row_heading level0 row0\" >0</th>\n",
       "      <td id=\"T_40ae5_row0_col0\" class=\"data row0 col0\" >Are there clinical trials using stem cells for the treatment of cardiac disease?</td>\n",
       "      <td id=\"T_40ae5_row0_col1\" class=\"data row0 col1\" >Yes, there exists clinical trials for cardiac stem cell based treatment. Yes, there are several clinical trials on the use of stem cells for the...</td>\n",
       "      <td id=\"T_40ae5_row0_col2\" class=\"data row0 col2\" >['Recent clinical trials have achieved favorable initial endpoints with improvements in cardiac function and clinical symptoms following cellular therapy.', 'These results suggest that long-term T4...</td>\n",
       "      <td id=\"T_40ae5_row0_col3\" class=\"data row0 col3\" >The context does mention clinical trials related to cardiac disease. Specifically, it states, \"Recent clinical trials have achieved favorable initial endpoints with improvements in cardiac...</td>\n",
       "      <td id=\"T_40ae5_row0_col4\" class=\"data row0 col4\" >1.0</td>\n",
       "    </tr>\n",
       "    <tr>\n",
       "      <th id=\"T_40ae5_level0_row1\" class=\"row_heading level0 row1\" >1</th>\n",
       "      <td id=\"T_40ae5_row1_col0\" class=\"data row1 col0\" >Is exon skipping correlated with exon circularization?</td>\n",
       "      <td id=\"T_40ae5_row1_col1\" class=\"data row1 col1\" >Yes. Circularization of exons is widespread and correlates with exon skipping, a feature that adds considerably to the regulatory complexity of the human transcriptome.</td>\n",
       "      <td id=\"T_40ae5_row1_col2\" class=\"data row1 col2\" >['ChIP-sequencing data mapped onto skipped exon events reveal a correlation between histone H3K36 trimethylation peaks and skipped exons, suggesting epigenetic marks being part of alternative...</td>\n",
       "      <td id=\"T_40ae5_row1_col3\" class=\"data row1 col3\" >The context does not provide any information about exon circularization or its correlation with exon skipping.</td>\n",
       "      <td id=\"T_40ae5_row1_col4\" class=\"data row1 col4\" >0.1</td>\n",
       "    </tr>\n",
       "    <tr>\n",
       "      <th id=\"T_40ae5_level0_row2\" class=\"row_heading level0 row2\" >2</th>\n",
       "      <td id=\"T_40ae5_row2_col0\" class=\"data row2 col0\" >Which is the main difference between Alu and B1 repeats?</td>\n",
       "      <td id=\"T_40ae5_row2_col1\" class=\"data row2 col1\" >B1 is a murine homolog of the human SINE Alu. B1 (Alu-equivalent) is a murine short interspersed element whose amplification probably involved an RNA intermediate....</td>\n",
       "      <td id=\"T_40ae5_row2_col2\" class=\"data row2 col2\" >['the Tsix gene (antisense counterpart of Xist)', 'ChIP-sequencing data mapped onto skipped exon events reveal a correlation between histone H3K36 trimethylation peaks and skipped exons,...</td>\n",
       "      <td id=\"T_40ae5_row2_col3\" class=\"data row2 col3\" >The context does not provide any information about Alu and B1 repeats or their differences.</td>\n",
       "      <td id=\"T_40ae5_row2_col4\" class=\"data row2 col4\" >0.6</td>\n",
       "    </tr>\n",
       "    <tr>\n",
       "      <th id=\"T_40ae5_level0_row3\" class=\"row_heading level0 row3\" >3</th>\n",
       "      <td id=\"T_40ae5_row3_col0\" class=\"data row3 col0\" >Is there a crystal structure of Greek Goat Encephalitis?</td>\n",
       "      <td id=\"T_40ae5_row3_col1\" class=\"data row3 col1\" >Based on results no crustal structure of Greek Goat Encephalitis found.</td>\n",
       "      <td id=\"T_40ae5_row3_col2\" class=\"data row3 col2\" >['experimental autoimmune encephalomyelitis (EAE), an animal model of multiple sclerosis (MS)', 'Swine dysentery (SD) is a mucohaemorrhagic colitis of pigs resulting from infection of the...</td>\n",
       "      <td id=\"T_40ae5_row3_col3\" class=\"data row3 col3\" >The context does not provide any information about Greek Goat Encephalitis or its crystal structure.</td>\n",
       "      <td id=\"T_40ae5_row3_col4\" class=\"data row3 col4\" >0.2</td>\n",
       "    </tr>\n",
       "    <tr>\n",
       "      <th id=\"T_40ae5_level0_row4\" class=\"row_heading level0 row4\" >4</th>\n",
       "      <td id=\"T_40ae5_row4_col0\" class=\"data row4 col0\" >Is apremilast effective for psoriasis?</td>\n",
       "      <td id=\"T_40ae5_row4_col1\" class=\"data row4 col1\" >Yes, apremilast is effective for treatment of psoriasis.</td>\n",
       "      <td id=\"T_40ae5_row4_col2\" class=\"data row4 col2\" >[\"NCLUSIONS: Vedolizumab-treated patients with active Crohn's disease were more likely than patients receiving placebo to have a remission, but not a CDAI-100 response, at week...</td>\n",
       "      <td id=\"T_40ae5_row4_col3\" class=\"data row4 col3\" >The context does not provide any information about apremilast or its effectiveness for psoriasis.</td>\n",
       "      <td id=\"T_40ae5_row4_col4\" class=\"data row4 col4\" >0.1</td>\n",
       "    </tr>\n",
       "  </tbody>\n",
       "</table>\n"
      ],
      "text/plain": [
       "<pandas.io.formats.style.Styler at 0x37591bb10>"
      ]
     },
     "metadata": {},
     "output_type": "display_data"
    },
    {
     "data": {
      "text/html": [
       "\n",
       "                <div style='\n",
       "                    text-align: center;\n",
       "                    font-size: 16px;\n",
       "                    font-weight: bold;\n",
       "                    color: #555;\n",
       "                    margin: 10px 0;'>\n",
       "                    ... 15 more rows not displayed ...\n",
       "                </div>\n",
       "                "
      ],
      "text/plain": [
       "<IPython.core.display.HTML object>"
      ]
     },
     "metadata": {},
     "output_type": "display_data"
    }
   ],
   "source": [
    "mipro_compiled_rag_eval = evaluate(\n",
    "    mipro_compiled_rag,\n",
    "    metric=llm_metric,\n",
    "    return_all_scores=True,\n",
    "    return_outputs=True,\n",
    ")"
   ]
  },
  {
   "cell_type": "code",
   "execution_count": 38,
   "metadata": {},
   "outputs": [
    {
     "name": "stdout",
     "output_type": "stream",
     "text": [
      "0.5299999999999999\n"
     ]
    },
    {
     "data": {
      "text/html": [
       "<div>\n",
       "<style scoped>\n",
       "    .dataframe tbody tr th:only-of-type {\n",
       "        vertical-align: middle;\n",
       "    }\n",
       "\n",
       "    .dataframe tbody tr th {\n",
       "        vertical-align: top;\n",
       "    }\n",
       "\n",
       "    .dataframe thead th {\n",
       "        text-align: right;\n",
       "    }\n",
       "</style>\n",
       "<table border=\"1\" class=\"dataframe\">\n",
       "  <thead>\n",
       "    <tr style=\"text-align: right;\">\n",
       "      <th></th>\n",
       "      <th>question</th>\n",
       "      <th>predicted_answer</th>\n",
       "      <th>score</th>\n",
       "    </tr>\n",
       "  </thead>\n",
       "  <tbody>\n",
       "    <tr>\n",
       "      <th>0</th>\n",
       "      <td>Is there a crystal structure of Greek Goat Encephalitis?</td>\n",
       "      <td>The context does not provide any information about Greek Goat Encephalitis or its crystal structure.</td>\n",
       "      <td>0.2</td>\n",
       "    </tr>\n",
       "    <tr>\n",
       "      <th>1</th>\n",
       "      <td>Is apremilast effective for psoriasis?</td>\n",
       "      <td>The context does not provide any information about apremilast or its effectiveness for psoriasis.</td>\n",
       "      <td>0.1</td>\n",
       "    </tr>\n",
       "    <tr>\n",
       "      <th>2</th>\n",
       "      <td>Is exon skipping correlated with exon circularization?</td>\n",
       "      <td>The context does not provide any information about exon circularization or its correlation with exon skipping.</td>\n",
       "      <td>0.1</td>\n",
       "    </tr>\n",
       "    <tr>\n",
       "      <th>3</th>\n",
       "      <td>List components of the CRSP/Med complex.</td>\n",
       "      <td>The context does not provide any information about the components of the CRSP/Med complex.</td>\n",
       "      <td>0.1</td>\n",
       "    </tr>\n",
       "    <tr>\n",
       "      <th>4</th>\n",
       "      <td>What role does CRD-BP play in protecting c-myc mRNA?</td>\n",
       "      <td>The context does not provide any information about CRD-BP or its role in protecting c-myc mRNA.</td>\n",
       "      <td>1.3</td>\n",
       "    </tr>\n",
       "    <tr>\n",
       "      <th>5</th>\n",
       "      <td>what is the role of MEF-2 in cardiomyocyte differentiation?</td>\n",
       "      <td>The context does not provide any information about MEF-2 or its role in cardiomyocyte differentiation.</td>\n",
       "      <td>1.1</td>\n",
       "    </tr>\n",
       "    <tr>\n",
       "      <th>6</th>\n",
       "      <td>Which is the main difference between Alu and B1 repeats?</td>\n",
       "      <td>The context does not provide any information about Alu and B1 repeats or their differences.</td>\n",
       "      <td>0.6</td>\n",
       "    </tr>\n",
       "    <tr>\n",
       "      <th>7</th>\n",
       "      <td>Could hypophosphatemic rickets cause craniosynostosis?</td>\n",
       "      <td>The context does not provide any information about hypophosphatemic rickets causing craniosynostosis.</td>\n",
       "      <td>0.1</td>\n",
       "    </tr>\n",
       "    <tr>\n",
       "      <th>8</th>\n",
       "      <td>Can NADPH oxidase be inhibited by apocynin and diphenylene iodonium?</td>\n",
       "      <td>The context does not provide any information about the inhibition of NADPH oxidase by apocynin and diphenylene iodonium.</td>\n",
       "      <td>0.7</td>\n",
       "    </tr>\n",
       "    <tr>\n",
       "      <th>9</th>\n",
       "      <td>Can life style changes reduce oxidative stress</td>\n",
       "      <td>The context does not provide any information about lifestyle changes or their impact on reducing oxidative stress.</td>\n",
       "      <td>0.6</td>\n",
       "    </tr>\n",
       "    <tr>\n",
       "      <th>10</th>\n",
       "      <td>Is Achondroplasia associated with hearing loss?</td>\n",
       "      <td>The context does not provide any information about Achondroplasia or its association with hearing loss.</td>\n",
       "      <td>0.1</td>\n",
       "    </tr>\n",
       "    <tr>\n",
       "      <th>11</th>\n",
       "      <td>Which antibodies cause Riedel thyroiditis?</td>\n",
       "      <td>The context does not provide any information about antibodies associated with Riedel thyroiditis.</td>\n",
       "      <td>1.2</td>\n",
       "    </tr>\n",
       "    <tr>\n",
       "      <th>12</th>\n",
       "      <td>Which microRNAs are involved in exercise adaptation?</td>\n",
       "      <td>The context does not provide any information about microRNAs or their involvement in exercise adaptation.</td>\n",
       "      <td>0.6</td>\n",
       "    </tr>\n",
       "    <tr>\n",
       "      <th>13</th>\n",
       "      <td>Has proteomics been used in the study of the dry eye syndrome?</td>\n",
       "      <td>The context does not provide any information about the use of proteomics in the study of dry eye syndrome.</td>\n",
       "      <td>0.1</td>\n",
       "    </tr>\n",
       "    <tr>\n",
       "      <th>14</th>\n",
       "      <td>What is MRSA?</td>\n",
       "      <td>The context does not provide any information about MRSA.</td>\n",
       "      <td>0.6</td>\n",
       "    </tr>\n",
       "    <tr>\n",
       "      <th>15</th>\n",
       "      <td>Which genes does thyroid hormone receptor beta1 regulate in the liver?</td>\n",
       "      <td>The context indicates that TRbeta1-mediated down regulation of the hepatic LDLr gene may play a critical role in iodine excess-induced hypercholesterolemic effects. Therefore, TRbeta1 regulates the LDLr gene in the liver.</td>\n",
       "      <td>0.1</td>\n",
       "    </tr>\n",
       "    <tr>\n",
       "      <th>16</th>\n",
       "      <td>Are there clinical trials using stem cells for the treatment of cardiac disease?</td>\n",
       "      <td>The context does mention clinical trials related to cardiac disease. Specifically, it states, \"Recent clinical trials have achieved favorable initial endpoints with improvements in cardiac function and clinical symptoms following cellular therapy.\" This suggests that cellular therapy, which can include stem cells, has been used in clinical trials for treating cardiac disease.\\n\\n---\\n\\nContext:\\n[1] «Recent clinical trials have achieved favorable initial endpoints with improvements in cardia...</td>\n",
       "      <td>1.0</td>\n",
       "    </tr>\n",
       "    <tr>\n",
       "      <th>17</th>\n",
       "      <td>What is the inheritance pattern of Emery-Dreifuss muscular dystrophy?</td>\n",
       "      <td>The context does not provide any information about the inheritance pattern of Emery-Dreifuss muscular dystrophy.</td>\n",
       "      <td>0.2</td>\n",
       "    </tr>\n",
       "    <tr>\n",
       "      <th>18</th>\n",
       "      <td>What are the applications of a Dermaroller ?</td>\n",
       "      <td>The context does not provide any information about Dermaroller or its applications.</td>\n",
       "      <td>0.7</td>\n",
       "    </tr>\n",
       "    <tr>\n",
       "      <th>19</th>\n",
       "      <td>What is the mechanism of DNA replication termination in vertebrates?</td>\n",
       "      <td>The context does not provide any information about the mechanism of DNA replication termination in vertebrates.</td>\n",
       "      <td>1.1</td>\n",
       "    </tr>\n",
       "  </tbody>\n",
       "</table>\n",
       "</div>"
      ],
      "text/plain": [
       "                                                                            question  \\\n",
       "0                           Is there a crystal structure of Greek Goat Encephalitis?   \n",
       "1                                             Is apremilast effective for psoriasis?   \n",
       "2                             Is exon skipping correlated with exon circularization?   \n",
       "3                                           List components of the CRSP/Med complex.   \n",
       "4                               What role does CRD-BP play in protecting c-myc mRNA?   \n",
       "5                        what is the role of MEF-2 in cardiomyocyte differentiation?   \n",
       "6                           Which is the main difference between Alu and B1 repeats?   \n",
       "7                             Could hypophosphatemic rickets cause craniosynostosis?   \n",
       "8               Can NADPH oxidase be inhibited by apocynin and diphenylene iodonium?   \n",
       "9                                     Can life style changes reduce oxidative stress   \n",
       "10                                   Is Achondroplasia associated with hearing loss?   \n",
       "11                                        Which antibodies cause Riedel thyroiditis?   \n",
       "12                              Which microRNAs are involved in exercise adaptation?   \n",
       "13                    Has proteomics been used in the study of the dry eye syndrome?   \n",
       "14                                                                     What is MRSA?   \n",
       "15            Which genes does thyroid hormone receptor beta1 regulate in the liver?   \n",
       "16  Are there clinical trials using stem cells for the treatment of cardiac disease?   \n",
       "17            What is the inheritance pattern of Emery-Dreifuss muscular dystrophy?    \n",
       "18                                      What are the applications of a Dermaroller ?   \n",
       "19              What is the mechanism of DNA replication termination in vertebrates?   \n",
       "\n",
       "                                                                                                                                                                                                                                                                                                                                                                                                                                                                                                       predicted_answer  \\\n",
       "0                                                                                                                                                                                                                                                                                                                                                                                                                  The context does not provide any information about Greek Goat Encephalitis or its crystal structure.   \n",
       "1                                                                                                                                                                                                                                                                                                                                                                                                                     The context does not provide any information about apremilast or its effectiveness for psoriasis.   \n",
       "2                                                                                                                                                                                                                                                                                                                                                                                                        The context does not provide any information about exon circularization or its correlation with exon skipping.   \n",
       "3                                                                                                                                                                                                                                                                                                                                                                                                                            The context does not provide any information about the components of the CRSP/Med complex.   \n",
       "4                                                                                                                                                                                                                                                                                                                                                                                                                       The context does not provide any information about CRD-BP or its role in protecting c-myc mRNA.   \n",
       "5                                                                                                                                                                                                                                                                                                                                                                                                                The context does not provide any information about MEF-2 or its role in cardiomyocyte differentiation.   \n",
       "6                                                                                                                                                                                                                                                                                                                                                                                                                           The context does not provide any information about Alu and B1 repeats or their differences.   \n",
       "7                                                                                                                                                                                                                                                                                                                                                                                                                 The context does not provide any information about hypophosphatemic rickets causing craniosynostosis.   \n",
       "8                                                                                                                                                                                                                                                                                                                                                                                              The context does not provide any information about the inhibition of NADPH oxidase by apocynin and diphenylene iodonium.   \n",
       "9                                                                                                                                                                                                                                                                                                                                                                                                    The context does not provide any information about lifestyle changes or their impact on reducing oxidative stress.   \n",
       "10                                                                                                                                                                                                                                                                                                                                                                                                              The context does not provide any information about Achondroplasia or its association with hearing loss.   \n",
       "11                                                                                                                                                                                                                                                                                                                                                                                                                    The context does not provide any information about antibodies associated with Riedel thyroiditis.   \n",
       "12                                                                                                                                                                                                                                                                                                                                                                                                            The context does not provide any information about microRNAs or their involvement in exercise adaptation.   \n",
       "13                                                                                                                                                                                                                                                                                                                                                                                                           The context does not provide any information about the use of proteomics in the study of dry eye syndrome.   \n",
       "14                                                                                                                                                                                                                                                                                                                                                                                                                                                             The context does not provide any information about MRSA.   \n",
       "15                                                                                                                                                                                                                                                                                        The context indicates that TRbeta1-mediated down regulation of the hepatic LDLr gene may play a critical role in iodine excess-induced hypercholesterolemic effects. Therefore, TRbeta1 regulates the LDLr gene in the liver.   \n",
       "16  The context does mention clinical trials related to cardiac disease. Specifically, it states, \"Recent clinical trials have achieved favorable initial endpoints with improvements in cardiac function and clinical symptoms following cellular therapy.\" This suggests that cellular therapy, which can include stem cells, has been used in clinical trials for treating cardiac disease.\\n\\n---\\n\\nContext:\\n[1] «Recent clinical trials have achieved favorable initial endpoints with improvements in cardia...   \n",
       "17                                                                                                                                                                                                                                                                                                                                                                                                     The context does not provide any information about the inheritance pattern of Emery-Dreifuss muscular dystrophy.   \n",
       "18                                                                                                                                                                                                                                                                                                                                                                                                                                  The context does not provide any information about Dermaroller or its applications.   \n",
       "19                                                                                                                                                                                                                                                                                                                                                                                                      The context does not provide any information about the mechanism of DNA replication termination in vertebrates.   \n",
       "\n",
       "    score  \n",
       "0     0.2  \n",
       "1     0.1  \n",
       "2     0.1  \n",
       "3     0.1  \n",
       "4     1.3  \n",
       "5     1.1  \n",
       "6     0.6  \n",
       "7     0.1  \n",
       "8     0.7  \n",
       "9     0.6  \n",
       "10    0.1  \n",
       "11    1.2  \n",
       "12    0.6  \n",
       "13    0.1  \n",
       "14    0.6  \n",
       "15    0.1  \n",
       "16    1.0  \n",
       "17    0.2  \n",
       "18    0.7  \n",
       "19    1.1  "
      ]
     },
     "execution_count": 38,
     "metadata": {},
     "output_type": "execute_result"
    }
   ],
   "source": [
    "pd.set_option(\"display.max_colwidth\", 500)\n",
    "pd.set_option(\"display.max_rows\", 500)\n",
    "\n",
    "mipro_compiled_rag_eval_evals_df = create_score_dataframe(\n",
    "    mipro_compiled_rag_eval[1]\n",
    ")\n",
    "print(mipro_compiled_rag_eval_evals_df[\"score\"].mean())\n",
    "mipro_compiled_rag_eval_evals_df\n"
   ]
  },
  {
   "cell_type": "code",
   "execution_count": 39,
   "metadata": {},
   "outputs": [
    {
     "name": "stdout",
     "output_type": "stream",
     "text": [
      "\n",
      "\n",
      "\n",
      "\n",
      "Proposed Instruction: Given a set of contexts, answer the questions by providing clear, concise, and grammatically correct responses. Ensure that your answers are self-contained by incorporating relevant information from the provided contexts. If the context does not contain the necessary information to answer the question, indicate that explicitly.\n",
      "\n",
      "---\n",
      "\n",
      "Follow the following format.\n",
      "\n",
      "Context: may contain relevant facts\n",
      "\n",
      "Question: ${question}\n",
      "\n",
      "Reasoning: Let's think step by step in order to ${produce the answer}. We ...\n",
      "\n",
      "Answer: ${answer}\n",
      "\n",
      "---\n",
      "\n",
      "Context:\n",
      "[1] «KN-93, a membrane-permeant calcium/calmodulin- dependent kinase-selective inhibitor, induces apoptosis in some lines of human tumor cells.»\n",
      "[2] «Two-dimensional tryptic peptide maps of phosphorylated phospholamban indicated that cAMP-dependent protein kinase phosphorylates at a single site, A, and Ca2+-calmodulin-dependent protein kinase phosphorylates at sites C1 and C2 in the low molecular weight form, where A is different from C1 but may be the same as C2.»\n",
      "[3] «The human OX2 receptor (OX2R) belongs to the β branch of the rhodopsin family of GPCRs, and can bind to diverse compounds including the native agonist peptides orexin-A and orexin-B and the potent therapeutic inhibitor suvorexant.»\n",
      "[4] «point mutations in RYR2, the gene encoding for the cardiac isoform of the RyR (RyR2), are associated with catecholaminergic polymorphic ventricular tachycardia (CPVT), an arrhythmogenic syndrome characterized by the development of adrenergically-mediated ventricular tachycardia in individuals with an apparently normal heart.»\n",
      "[5] «Activation of the non-phagocytic superoxide-producing NADPH oxidase Nox1, complexed with p22(phox) at the membrane, requires its regulatory soluble proteins Noxo1 and Noxa1»\n",
      "[6] «Our data suggest that OTULIN regulates Met1-polyUb signaling.»\n",
      "[7] «Stable expression of a novel fusion peptide of thioredoxin-1 and ABAD-inhibiting peptide protects PC12 cells from intracellular amyloid-beta.»\n",
      "[8] «Clathrin immunohistochemistry and immunoblotting showed increased immunoreactivity of clathrin protein in the placental tissues of mice treated with 20- and 50-nm gold nanoparticles; clathrin immunopositivity was observed in syncytiotrophoblasts and fetal endothelial cells.»\n",
      "[9] «Inhibition studies with alpha-amanitin showed that the synthesis of ASBV-specific RNAs was not affected by concentrations of 1 and 200 micrograms/ml of the drug, which typically inhibit RNA polymerase II and III, respectively, from most animal and plant systems. These results suggest that either RNA polymerase I or an unidentified RNA polymerase activity resistant to alpha-amanitin, acting on an RNA template, plays a role in the replication of ASBV, whereas for the rest of the viroids studied so far it appears that RNA polymerase II is involved.»\n",
      "[10] «NCLUSIONS: Vedolizumab-treated patients with active Crohn's disease were more likely than patients receiving placebo to have a remission, but not a CDAI-100 response, at week 6; patients with a response to induction therapy who continued to receive vedolizumab (rather than switching to placebo) were more likely to be in remission at week 52.»\n",
      "\n",
      "Question: Does ziconotide bind to N-type calcium channels?\n",
      "\n",
      "Reasoning: Let's think step by step in order to Reasoning: Let's think step by step in order to determine if the context provided mentions ziconotide and its binding properties. We need to look through the context for any mention of ziconotide and its interaction with N-type calcium channels.\n",
      "\n",
      "Answer: The context does not provide any information about ziconotide or its binding to N-type calcium channels.\n",
      "\n",
      "---\n",
      "\n",
      "Context:\n",
      "[1] «Valaciclovir (Valtrex), the L-valyl ester of acyclovir, is undergoing clinical development for the treatment and suppression of herpesviral diseases.»\n",
      "[2] «Modern imaging techniques at the molecular scale rely on utilizing novel coherent light sources like X-ray free electron lasers for the ultimate goal of visualizing such objects as individual biomolecules rather than crystals.»\n",
      "[3] «Telemedicine assisted diet and diagnosis management in food hypersensitivity»\n",
      "[4] «the concept of a genomic signature was introduced with the observation of species-type specific Dinucleotide Relative Abundance Profiles (DRAPs)»\n",
      "[5] «TiO2 -coated magnetic beads»\n",
      "[6] «How Mycobacterium tuberculosis goes to sleep: the dormancy survival regulator DosR a decade later.»\n",
      "[7] «These results suggest that long-term T4 treatment after MI has beneficial effects on myocyte, arteriolar, and collagen matrix remodeling in the non-infarcted area. Most importantly, results suggest improved survival of myocytes in the peri-infarct area.»\n",
      "[8] «an increased number of confident protein identifications are attained with a filter-aided digestion approach as compared to an in-solution digestion.»\n",
      "[9] «After a decade of intensive research, technology development and initial clinical evaluation, aptamers have now demonstrated broad potential as direct protein ligands and inhibitors, and thus represent an exciting class of compounds for the development of new therapeutic and diagnostic agents.»\n",
      "[10] «V3 stain-free workflow for a practical, convenient, and reliable total protein loading control in western blotting.»\n",
      "\n",
      "Question: What are the applications of a Dermaroller ?\n",
      "\n",
      "Reasoning: Let's think step by step in order to\u001b[32m Reasoning: Let's think step by step in order to determine if the context provided mentions Dermaroller and its applications. We need to look through the context for any mention of Dermaroller and its uses.\n",
      "\n",
      "Answer: The context does not provide any information about Dermaroller or its applications.\u001b[0m\n",
      "\n",
      "\n",
      "\n"
     ]
    }
   ],
   "source": [
    "turbo.inspect_history(n=1)"
   ]
  }
 ],
 "metadata": {
  "kernelspec": {
   "display_name": "qdrant_client",
   "language": "python",
   "name": "python3"
  },
  "language_info": {
   "codemirror_mode": {
    "name": "ipython",
    "version": 3
   },
   "file_extension": ".py",
   "mimetype": "text/x-python",
   "name": "python",
   "nbconvert_exporter": "python",
   "pygments_lexer": "ipython3",
   "version": "3.11.9"
  }
 },
 "nbformat": 4,
 "nbformat_minor": 2
}
