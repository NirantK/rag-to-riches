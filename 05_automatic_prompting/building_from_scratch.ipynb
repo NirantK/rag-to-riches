{
 "cells": [
  {
   "cell_type": "code",
   "execution_count": 5,
   "metadata": {},
   "outputs": [
    {
     "data": {
      "text/html": [
       "\n",
       "        <div class=\"mermaid-c823cc38-4051-438c-8ca9-987cf8e9154d\"></div>\n",
       "        <script type=\"module\">\n",
       "            import mermaid from 'https://cdn.jsdelivr.net/npm/mermaid@10.1.0/+esm'\n",
       "            const graphDefinition = 'flowchart LR\\nA[LLM Invocations Synthetic/Human Inputs] --> B[Unit Tests]\\nA --> C[Logging Traces]\\nB & C --> D[Eval & Curation 1. Human review 2. Model-based 3. A/B tests]\\nD -->|Automate this more over time| E[Fine Tune/ Curated Data]\\nD --> F[Prompt Eng]\\nE & F -->|Versioned Together| G[Improve Model]\\nG --> A';\n",
       "            const element = document.querySelector('.mermaid-c823cc38-4051-438c-8ca9-987cf8e9154d');\n",
       "            const { svg } = await mermaid.render('graphDiv-c823cc38-4051-438c-8ca9-987cf8e9154d', graphDefinition);\n",
       "            element.innerHTML = svg;\n",
       "        </script>\n",
       "        "
      ],
      "text/plain": [
       "<mermaid.mermaid.Mermaid at 0x109350c90>"
      ]
     },
     "execution_count": 5,
     "metadata": {},
     "output_type": "execute_result"
    }
   ],
   "source": [
    "from mermaid import Mermaid\n",
    "Mermaid(\"flowchart LR\\nA[LLM Invocations Synthetic/Human Inputs] --> B[Unit Tests]\\nA --> C[Logging Traces]\\nB & C --> D[Eval & Curation 1. Human review 2. Model-based 3. A/B tests]\\nD -->|Automate this more over time| E[Fine Tune/ Curated Data]\\nD --> F[Prompt Eng]\\nE & F -->|Versioned Together| G[Improve Model]\\nG --> A\")"
   ]
  },
  {
   "cell_type": "code",
   "execution_count": 4,
   "metadata": {},
   "outputs": [
    {
     "ename": "ModuleNotFoundError",
     "evalue": "No module named 'nkpy'",
     "output_type": "error",
     "traceback": [
      "\u001b[0;31m---------------------------------------------------------------------------\u001b[0m",
      "\u001b[0;31mModuleNotFoundError\u001b[0m                       Traceback (most recent call last)",
      "Cell \u001b[0;32mIn[4], line 6\u001b[0m\n\u001b[1;32m      1\u001b[0m \u001b[38;5;66;03m# Let's create a new python library inspired by DSPy. The ideals of DSPy are:\u001b[39;00m\n\u001b[1;32m      2\u001b[0m \u001b[38;5;66;03m# 1. Modular LLM Programs\u001b[39;00m\n\u001b[1;32m      3\u001b[0m \u001b[38;5;66;03m# 2. Scoring/eval\u001b[39;00m\n\u001b[1;32m      4\u001b[0m \u001b[38;5;66;03m# 3. Optimization -> Prompt Instruction, Example Selection, Synthetic Data\u001b[39;00m\n\u001b[0;32m----> 6\u001b[0m \u001b[38;5;28;01mfrom\u001b[39;00m \u001b[38;5;21;01mnkpy\u001b[39;00m\u001b[38;5;21;01m.\u001b[39;00m\u001b[38;5;21;01mcompilers\u001b[39;00m \u001b[38;5;28;01mimport\u001b[39;00m MIPRO\n\u001b[1;32m      7\u001b[0m \u001b[38;5;28;01mfrom\u001b[39;00m \u001b[38;5;21;01mnkpy\u001b[39;00m\u001b[38;5;21;01m.\u001b[39;00m\u001b[38;5;21;01mevaluate\u001b[39;00m\u001b[38;5;21;01m.\u001b[39;00m\u001b[38;5;21;01mevaluate\u001b[39;00m \u001b[38;5;28;01mimport\u001b[39;00m Evaluate\n\u001b[1;32m      8\u001b[0m \u001b[38;5;28;01mfrom\u001b[39;00m \u001b[38;5;21;01mmetrics\u001b[39;00m\u001b[38;5;21;01m.\u001b[39;00m\u001b[38;5;21;01mgold_passages_retrieved\u001b[39;00m \u001b[38;5;28;01mimport\u001b[39;00m gold_passages_retrieved\n",
      "\u001b[0;31mModuleNotFoundError\u001b[0m: No module named 'nkpy'"
     ]
    }
   ],
   "source": [
    "# Let's assume there exists python library inspired by DSPy. The ideals of DSPy are:\n",
    "# 1. Modular LLM Programs\n",
    "# 2. Scoring/eval\n",
    "# 3. Optimization -> Prompt Instruction, Example Selection, Synthetic Data\n",
    "\n",
    "# This new library is called nkpy\n",
    "\n",
    "from nkpy.compilers import MIPRO\n",
    "from nkpy.evaluate.evaluate import Evaluate\n",
    "from metrics.gold_passages_retrieved import gold_passages_retrieved\n",
    "from models.simplified_baleen import SimplifiedBaleen\n",
    "from metrics.validate_context_and_answer_and_hops import validate_context_and_answer_and_hops\n",
    "\n",
    "# Assume devset, trainset, uncompiled_baleen, and compiled_baleen are defined\n",
    "\n",
    "# Initialize the evaluate function\n",
    "evaluate_on_hotpotqa = Evaluate(\n",
    "    devset=devset,\n",
    "    num_threads=1,\n",
    "    display_progress=True,\n",
    "    display_table=5\n",
    ")\n",
    "\n",
    "# Evaluate the uncompiled Baleen model\n",
    "uncompiled_baleen_retrieval_score = evaluate_on_hotpotqa(\n",
    "    uncompiled_baleen,\n",
    "    metric=gold_passages_retrieved,\n",
    "    display=False\n",
    ")\n",
    "\n",
    "# Evaluate the compiled Baleen model\n",
    "compiled_baleen_retrieval_score = evaluate_on_hotpotqa(\n",
    "    compiled_baleen,\n",
    "    metric=gold_passages_retrieved\n",
    ")\n",
    "\n",
    "print(f\"## Retrieval Score for uncompiled Baleen: {uncompiled_baleen_retrieval_score}\")\n",
    "print(f\"## Retrieval Score for compiled Baleen: {compiled_baleen_retrieval_score}\")\n",
    "\n",
    "# Compile the model using MIPRO\n",
    "compiler = MIPRO(metric=validate_context_and_answer_and_hops)\n",
    "compiled_baleen = compiler.compile(\n",
    "    SimplifiedBaleen(),\n",
    "    teacher=SimplifiedBaleen(passages_per_hop=2),\n",
    "    trainset=trainset\n",
    ")"
   ]
  }
 ],
 "metadata": {
  "kernelspec": {
   "display_name": "ragchallenge",
   "language": "python",
   "name": "python3"
  },
  "language_info": {
   "codemirror_mode": {
    "name": "ipython",
    "version": 3
   },
   "file_extension": ".py",
   "mimetype": "text/x-python",
   "name": "python",
   "nbconvert_exporter": "python",
   "pygments_lexer": "ipython3",
   "version": "3.11.9"
  }
 },
 "nbformat": 4,
 "nbformat_minor": 2
}
