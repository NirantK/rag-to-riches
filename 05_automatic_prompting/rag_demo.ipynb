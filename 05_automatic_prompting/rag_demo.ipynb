{
 "cells": [
  {
   "cell_type": "markdown",
   "metadata": {},
   "source": [
    "# DSPy\n",
    "DSPy is a framework for algorithmically optimizing LM prompts and weights. DSPy can help you define your your tasks more accurately and can help you optimize your prompt for your sutaible use case.\n",
    "Read More about it [here](https://dspy-docs.vercel.app/docs/intro)"
   ]
  },
  {
   "cell_type": "code",
   "execution_count": 1,
   "metadata": {},
   "outputs": [],
   "source": [
    "import pandas as pd\n",
    "from fastembed import TextEmbedding\n",
    "from qdrant_client import QdrantClient\n",
    "from qdrant_client.http import models\n",
    "from tqdm import tqdm\n",
    "from datasets import load_dataset\n",
    "\n",
    "from typing import Optional\n",
    "import os\n",
    "import random"
   ]
  },
  {
   "cell_type": "code",
   "execution_count": 2,
   "metadata": {},
   "outputs": [],
   "source": [
    "import dspy\n",
    "from dspy.utils import dotdict"
   ]
  },
  {
   "cell_type": "markdown",
   "metadata": {},
   "source": [
    "### Load the Training and Testing Data"
   ]
  },
  {
   "cell_type": "code",
   "execution_count": 3,
   "metadata": {},
   "outputs": [],
   "source": [
    "corpora = load_dataset(\"nirantk/geneticsQA-corpus\", split=\"train\").to_pandas()"
   ]
  },
  {
   "cell_type": "code",
   "execution_count": 4,
   "metadata": {},
   "outputs": [],
   "source": [
    "train = load_dataset(\"nirantk/geneticsQA-train\", split=\"train\").to_pandas()"
   ]
  },
  {
   "cell_type": "markdown",
   "metadata": {},
   "source": [
    "Each Question in the training data is assosiated with ground_truth label , we will use this to train our model and optimize the prompts. "
   ]
  },
  {
   "cell_type": "code",
   "execution_count": 5,
   "metadata": {},
   "outputs": [
    {
     "data": {
      "text/html": [
       "<div>\n",
       "<style scoped>\n",
       "    .dataframe tbody tr th:only-of-type {\n",
       "        vertical-align: middle;\n",
       "    }\n",
       "\n",
       "    .dataframe tbody tr th {\n",
       "        vertical-align: top;\n",
       "    }\n",
       "\n",
       "    .dataframe thead th {\n",
       "        text-align: right;\n",
       "    }\n",
       "</style>\n",
       "<table border=\"1\" class=\"dataframe\">\n",
       "  <thead>\n",
       "    <tr style=\"text-align: right;\">\n",
       "      <th></th>\n",
       "      <th>question</th>\n",
       "      <th>contexts</th>\n",
       "      <th>ground_truth</th>\n",
       "    </tr>\n",
       "  </thead>\n",
       "  <tbody>\n",
       "    <tr>\n",
       "      <th>0</th>\n",
       "      <td>What is Snord116?</td>\n",
       "      <td>['Further analysis with array-CGH identified a mosaic 847\\u2009kb deletion in 15q11-q13, including SNURF-SNRPN, the snoRNA gene clusters SNORD116 (HBII-85), SNORD115, (HBII-52), SNORD109 A and B (HBII-438A and B), SNORD64 (HBII-13), and NPAP1 (C15ORF2).', 'All three deletions included SNORD116, but only two encompassed parts of SNURF-SNRPN, implicating SNORD116 as the major contributor to the Prader-Willi phenotype. Our case adds further information about genotype-phenotype correlation and s...</td>\n",
       "      <td>['SNORD116 is a small nucleolar (sno) RNA gene cluster (HBII-85) implicated as a major contributor the Prader-Willi phenotype. \\nSNORD116 genes appears to be responsible for the major features of PWS. \\nSNORD116 is a paternally expressed box C/D snoRNA gene cluster.\\nThe mouse C/D box snoRNA MBII-85 (SNORD116) is processed into at least five shorter RNAs using processing sites near known functional elements of C/D box snoRNAs.\\nSnord116 expression in the medial hypothalamus, particularly wit...</td>\n",
       "    </tr>\n",
       "    <tr>\n",
       "      <th>1</th>\n",
       "      <td>Are ultraconserved elements often transcribed?</td>\n",
       "      <td>['Starting from a genome-wide expression profiling, we demonstrate for the first time a functional link between oxygen deprivation and the modulation of long noncoding transcripts from ultraconserved regions, termed transcribed-ultraconserved regions (T-UCRs)', 'Our data gives a first glimpse of a novel functional hypoxic network comprising protein-coding transcripts and noncoding RNAs (ncRNAs) from the T-UCRs category', 'Highly conserved elements discovered in vertebrates are present in non...</td>\n",
       "      <td>['Yes.  Especially, a large fraction of non-exonic UCEs is transcribed across all developmental stages examined from only one DNA strand.']</td>\n",
       "    </tr>\n",
       "    <tr>\n",
       "      <th>2</th>\n",
       "      <td>List metalloenzyme inhibitors.</td>\n",
       "      <td>[' Clinically approved inhibitors were selected as well as several other reported metalloprotein inhibitors in order to represent a broad range of metal binding groups (MBGs), including hydroxamic acid, carboxylate, hydroxypyridinonate, thiol, and N-hydroxyurea functional groups.', 'A total of 21 different raltegravir-chelator derivative (RCD) compounds were prepared that differed only in the nature of the MBG. ', 'At least two compounds (RCD-4, RCD-5) containing a hydroxypyrone MBG were fou...</td>\n",
       "      <td>['Foscarnet\\nVT-1129\\nVT-1161 \\nBB-3497\\nhydroxamate molecules\\nsiderophores']</td>\n",
       "    </tr>\n",
       "    <tr>\n",
       "      <th>3</th>\n",
       "      <td>Which protein phosphatase has been found to interact with the heat shock protein, HSP20?</td>\n",
       "      <td>[' Moreover, protein phosphatase-1 activity is regulated by two binding partners, inhibitor-1 and the small heat shock protein 20, Hsp20. Indeed, human genetic variants of inhibitor-1 (G147D) or Hsp20 (P20L) result in reduced binding and inhibition of protein phosphatase-1, suggesting aberrant enzymatic regulation in human carriers. ', 'Small heat shock protein 20 interacts with protein phosphatase-1 and enhances sarcoplasmic reticulum calcium cycling.', ' Hsp20 overexpression in intact anim...</td>\n",
       "      <td>['Protein phosphatase-1 activity is regulated by two binding partners, inhibitor-1 and the small heat shock protein 20, Hsp20. Cell fractionation, coimmunoprecipitation, and coimmunolocalization studies, revealed an association between Hsp20 and PP1. Small heat shock protein 20 interacts with protein phosphatase-1 and enhances sarcoplasmic reticulum calcium cycling.', 'Moreover, protein phosphatase-1 activity is regulated by two binding partners, inhibitor-1 and the small heat shock protein ...</td>\n",
       "    </tr>\n",
       "    <tr>\n",
       "      <th>4</th>\n",
       "      <td>Do DNA double-strand breaks play a causal role in carcinogenesis?</td>\n",
       "      <td>['The DNA non-homologous end-joining repair gene XRCC6/Ku70 plays an important role in the repair of DNA double-strand breaks (DSBs) induced by both exogenous and endogenous DNA-damaging agents. Defects in overall DSB repair capacity can lead to genomic instability and carcinogenesis.', 'The tumor suppressor breast cancer susceptibility protein 1 (BRCA1) protects our cells from genomic instability in part by facilitating the efficient repair of DNA double-strand breaks (DSBs). BRCA1 promotes...</td>\n",
       "      <td>['Yes. It has been demonstrated that induction of DNA double-strand breaks (DSBs) and defects in overall DSBs repair capacity can lead to an accumulation of mutations, resulting in genomic instability of cells. Given that genomic instability is the hallmark of cancer, DSBs play a causal role in carcinogenesis.']</td>\n",
       "    </tr>\n",
       "    <tr>\n",
       "      <th>...</th>\n",
       "      <td>...</td>\n",
       "      <td>...</td>\n",
       "      <td>...</td>\n",
       "    </tr>\n",
       "    <tr>\n",
       "      <th>1654</th>\n",
       "      <td>Is thyroid hormone therapy indicated in patients with heart failure?</td>\n",
       "      <td>['Patients with chronic heart failure and subclinical hypothyroidism significantly improved their physical performance when normal TSH levels were reached.', 'Early and sustained physiological restoration of circulating L-T3 levels after MI halves infarct scar size and prevents the progression towards heart failure. This beneficial effect is likely due to enhanced capillary formation and mitochondrial protection.', 'These data indicate that T(3) replacement to euthyroid levels improves systo...</td>\n",
       "      <td>['There are several experimental and clinical evidences of the potential benefits of Thyroid hormone replacement therapy in heart failure. Initial clinical data showed also a good safety profile and tolerance of TH replacement therapy in patients withheart failure. \\nHowever currently there is no indication to treat patients with heart failure withTHreplacementtherapy.']</td>\n",
       "    </tr>\n",
       "    <tr>\n",
       "      <th>1655</th>\n",
       "      <td>Is protein Fbw7 a SCF type of E3 ubiquitin ligase?</td>\n",
       "      <td>['FBW7 (F-box and WD repeat domain-containing 7) is the substrate recognition component of an evolutionary conserved SCF (complex of SKP1, CUL1 and F-box protein)-type ubiquitin ligase.', 'However, very few E3 ubiquitin ligases are known to target G-CSFR for ubiquitin-proteasome pathway. Here we identified F-box and WD repeat domain-containing 7 (Fbw7), a substrate recognizing component of Skp-Cullin-F box (SCF) E3 ubiquitin Ligase physically associates with G-CSFR and promotes its ubiquitin...</td>\n",
       "      <td>['Fbxw7 (also known as Fbw7, SEL-10, hCdc4, or hAgo) is the F-box protein subunit of an Skp1-Cul1-F-box protein (SCF)-type ubiquitin ligase complex that plays a central role in the degradation of Notch family members.The F-box protein Fbw7 (also known as Fbxw7, hCdc4 and Sel-10) functions as a substrate recognition component of a SCF-type E3 ubiquitin ligase. SCF(Fbw7) facilitates polyubiquitination and subsequent degradation of various proteins such as Notch, cyclin E, c-Myc and c-Jun.', 'T...</td>\n",
       "    </tr>\n",
       "    <tr>\n",
       "      <th>1656</th>\n",
       "      <td>Is Annexin V an apoptotic marker?</td>\n",
       "      <td>['The apoptosis of the MSCs was induced by subjecting the cells to OGD conditions for 4 h and was detected by Annexin V/PI and Hoechst 33258 staining. ', 'In addition to the antimicrobial activity, we found that treatment of the cancer cell lines, Jurkat T-cells, Granta cells, and melanoma cells, with the Pseudomonas sp. In5 crude extract increased staining with the apoptotic marker Annexin V while no staining of healthy normal cells, i.e., naïve or activated CD4 T-cells, was observed.', 'At...</td>\n",
       "      <td>['Yes, annexin V is an early apoptotic marker.', 'Yes, Annexin V is an apoptotic marker.']</td>\n",
       "    </tr>\n",
       "    <tr>\n",
       "      <th>1657</th>\n",
       "      <td>Which are the clinical characteristics of Tuberous Sclerosis?</td>\n",
       "      <td>['Prevalence and long-term outcome of epilepsy in tuberous sclerosis complex (TSC) is reported to be variable', 'Subependymal giant cell astrocytomas (SEGAs) are benign tumors, most commonly associated with tuberous sclerosis complex (TSC).', 'Lymphangioleiomyomatosis (LAM) is a rare, progressive, frequently lethal cystic lung disease that almost exclusively affects women.', 'Rhabdomyoma is the most common type of cardiac tumor in fetuses and is often associated with tuberous sclerosis compl...</td>\n",
       "      <td>['The clinical characteristics of Tuberous Sclerosis include epilepsy, subependymal giant cell astrocytomas, lymphangioleiomyomatosis, rhabdomyoma, renal angiomyolipomas, cortical tubers, neurofibromas, angiofibromas, mental retardation, and behavioral disorders.']</td>\n",
       "    </tr>\n",
       "    <tr>\n",
       "      <th>1658</th>\n",
       "      <td>Is irritable bowel syndrome more common in women with endometriosis?</td>\n",
       "      <td>['CONCLUSIONS: Comorbid pain syndromes, mood conditions and asthma are common in adolescents and young women with endometriosis.', 'There are many etiologies of pelvic pain that present with symptoms resembling those of endometriosis-associated pelvic pain that are not diagnosable with laparoscopy, such as interstitial cystitis and irritable bowel syndrome.', 'Often, such patients are labelled with irritable bowel syndrome. ', 'Irritable bowel syndrome (IBS) is also common in this setting, a...</td>\n",
       "      <td>['Yes, irritable bowel syndrome (IBS) is more common in women with endometriosis. It has been shown that 15% of the patients with endometriosis also had IBS. Women with endometriosis are more likely to have received a diagnosis of IBS. Endometriosis may coexist with or be misdiagnosed as IBS.']</td>\n",
       "    </tr>\n",
       "  </tbody>\n",
       "</table>\n",
       "<p>1659 rows × 3 columns</p>\n",
       "</div>"
      ],
      "text/plain": [
       "                                                                                      question  \\\n",
       "0                                                                            What is Snord116?   \n",
       "1                                               Are ultraconserved elements often transcribed?   \n",
       "2                                                               List metalloenzyme inhibitors.   \n",
       "3     Which protein phosphatase has been found to interact with the heat shock protein, HSP20?   \n",
       "4                            Do DNA double-strand breaks play a causal role in carcinogenesis?   \n",
       "...                                                                                        ...   \n",
       "1654                      Is thyroid hormone therapy indicated in patients with heart failure?   \n",
       "1655                                        Is protein Fbw7 a SCF type of E3 ubiquitin ligase?   \n",
       "1656                                                         Is Annexin V an apoptotic marker?   \n",
       "1657                             Which are the clinical characteristics of Tuberous Sclerosis?   \n",
       "1658                      Is irritable bowel syndrome more common in women with endometriosis?   \n",
       "\n",
       "                                                                                                                                                                                                                                                                                                                                                                                                                                                                                                                 contexts  \\\n",
       "0     ['Further analysis with array-CGH identified a mosaic 847\\u2009kb deletion in 15q11-q13, including SNURF-SNRPN, the snoRNA gene clusters SNORD116 (HBII-85), SNORD115, (HBII-52), SNORD109 A and B (HBII-438A and B), SNORD64 (HBII-13), and NPAP1 (C15ORF2).', 'All three deletions included SNORD116, but only two encompassed parts of SNURF-SNRPN, implicating SNORD116 as the major contributor to the Prader-Willi phenotype. Our case adds further information about genotype-phenotype correlation and s...   \n",
       "1     ['Starting from a genome-wide expression profiling, we demonstrate for the first time a functional link between oxygen deprivation and the modulation of long noncoding transcripts from ultraconserved regions, termed transcribed-ultraconserved regions (T-UCRs)', 'Our data gives a first glimpse of a novel functional hypoxic network comprising protein-coding transcripts and noncoding RNAs (ncRNAs) from the T-UCRs category', 'Highly conserved elements discovered in vertebrates are present in non...   \n",
       "2     [' Clinically approved inhibitors were selected as well as several other reported metalloprotein inhibitors in order to represent a broad range of metal binding groups (MBGs), including hydroxamic acid, carboxylate, hydroxypyridinonate, thiol, and N-hydroxyurea functional groups.', 'A total of 21 different raltegravir-chelator derivative (RCD) compounds were prepared that differed only in the nature of the MBG. ', 'At least two compounds (RCD-4, RCD-5) containing a hydroxypyrone MBG were fou...   \n",
       "3     [' Moreover, protein phosphatase-1 activity is regulated by two binding partners, inhibitor-1 and the small heat shock protein 20, Hsp20. Indeed, human genetic variants of inhibitor-1 (G147D) or Hsp20 (P20L) result in reduced binding and inhibition of protein phosphatase-1, suggesting aberrant enzymatic regulation in human carriers. ', 'Small heat shock protein 20 interacts with protein phosphatase-1 and enhances sarcoplasmic reticulum calcium cycling.', ' Hsp20 overexpression in intact anim...   \n",
       "4     ['The DNA non-homologous end-joining repair gene XRCC6/Ku70 plays an important role in the repair of DNA double-strand breaks (DSBs) induced by both exogenous and endogenous DNA-damaging agents. Defects in overall DSB repair capacity can lead to genomic instability and carcinogenesis.', 'The tumor suppressor breast cancer susceptibility protein 1 (BRCA1) protects our cells from genomic instability in part by facilitating the efficient repair of DNA double-strand breaks (DSBs). BRCA1 promotes...   \n",
       "...                                                                                                                                                                                                                                                                                                                                                                                                                                                                                                                   ...   \n",
       "1654  ['Patients with chronic heart failure and subclinical hypothyroidism significantly improved their physical performance when normal TSH levels were reached.', 'Early and sustained physiological restoration of circulating L-T3 levels after MI halves infarct scar size and prevents the progression towards heart failure. This beneficial effect is likely due to enhanced capillary formation and mitochondrial protection.', 'These data indicate that T(3) replacement to euthyroid levels improves systo...   \n",
       "1655  ['FBW7 (F-box and WD repeat domain-containing 7) is the substrate recognition component of an evolutionary conserved SCF (complex of SKP1, CUL1 and F-box protein)-type ubiquitin ligase.', 'However, very few E3 ubiquitin ligases are known to target G-CSFR for ubiquitin-proteasome pathway. Here we identified F-box and WD repeat domain-containing 7 (Fbw7), a substrate recognizing component of Skp-Cullin-F box (SCF) E3 ubiquitin Ligase physically associates with G-CSFR and promotes its ubiquitin...   \n",
       "1656  ['The apoptosis of the MSCs was induced by subjecting the cells to OGD conditions for 4 h and was detected by Annexin V/PI and Hoechst 33258 staining. ', 'In addition to the antimicrobial activity, we found that treatment of the cancer cell lines, Jurkat T-cells, Granta cells, and melanoma cells, with the Pseudomonas sp. In5 crude extract increased staining with the apoptotic marker Annexin V while no staining of healthy normal cells, i.e., naïve or activated CD4 T-cells, was observed.', 'At...   \n",
       "1657  ['Prevalence and long-term outcome of epilepsy in tuberous sclerosis complex (TSC) is reported to be variable', 'Subependymal giant cell astrocytomas (SEGAs) are benign tumors, most commonly associated with tuberous sclerosis complex (TSC).', 'Lymphangioleiomyomatosis (LAM) is a rare, progressive, frequently lethal cystic lung disease that almost exclusively affects women.', 'Rhabdomyoma is the most common type of cardiac tumor in fetuses and is often associated with tuberous sclerosis compl...   \n",
       "1658  ['CONCLUSIONS: Comorbid pain syndromes, mood conditions and asthma are common in adolescents and young women with endometriosis.', 'There are many etiologies of pelvic pain that present with symptoms resembling those of endometriosis-associated pelvic pain that are not diagnosable with laparoscopy, such as interstitial cystitis and irritable bowel syndrome.', 'Often, such patients are labelled with irritable bowel syndrome. ', 'Irritable bowel syndrome (IBS) is also common in this setting, a...   \n",
       "\n",
       "                                                                                                                                                                                                                                                                                                                                                                                                                                                                                                             ground_truth  \n",
       "0     ['SNORD116 is a small nucleolar (sno) RNA gene cluster (HBII-85) implicated as a major contributor the Prader-Willi phenotype. \\nSNORD116 genes appears to be responsible for the major features of PWS. \\nSNORD116 is a paternally expressed box C/D snoRNA gene cluster.\\nThe mouse C/D box snoRNA MBII-85 (SNORD116) is processed into at least five shorter RNAs using processing sites near known functional elements of C/D box snoRNAs.\\nSnord116 expression in the medial hypothalamus, particularly wit...  \n",
       "1                                                                                                                                                                                                                                                                                                                                                                             ['Yes.  Especially, a large fraction of non-exonic UCEs is transcribed across all developmental stages examined from only one DNA strand.']  \n",
       "2                                                                                                                                                                                                                                                                                                                                                                                                                                          ['Foscarnet\\nVT-1129\\nVT-1161 \\nBB-3497\\nhydroxamate molecules\\nsiderophores']  \n",
       "3     ['Protein phosphatase-1 activity is regulated by two binding partners, inhibitor-1 and the small heat shock protein 20, Hsp20. Cell fractionation, coimmunoprecipitation, and coimmunolocalization studies, revealed an association between Hsp20 and PP1. Small heat shock protein 20 interacts with protein phosphatase-1 and enhances sarcoplasmic reticulum calcium cycling.', 'Moreover, protein phosphatase-1 activity is regulated by two binding partners, inhibitor-1 and the small heat shock protein ...  \n",
       "4                                                                                                                                                                                               ['Yes. It has been demonstrated that induction of DNA double-strand breaks (DSBs) and defects in overall DSBs repair capacity can lead to an accumulation of mutations, resulting in genomic instability of cells. Given that genomic instability is the hallmark of cancer, DSBs play a causal role in carcinogenesis.']  \n",
       "...                                                                                                                                                                                                                                                                                                                                                                                                                                                                                                                   ...  \n",
       "1654                                                                                                                                ['There are several experimental and clinical evidences of the potential benefits of Thyroid hormone replacement therapy in heart failure. Initial clinical data showed also a good safety profile and tolerance of TH replacement therapy in patients withheart failure. \\nHowever currently there is no indication to treat patients with heart failure withTHreplacementtherapy.']  \n",
       "1655  ['Fbxw7 (also known as Fbw7, SEL-10, hCdc4, or hAgo) is the F-box protein subunit of an Skp1-Cul1-F-box protein (SCF)-type ubiquitin ligase complex that plays a central role in the degradation of Notch family members.The F-box protein Fbw7 (also known as Fbxw7, hCdc4 and Sel-10) functions as a substrate recognition component of a SCF-type E3 ubiquitin ligase. SCF(Fbw7) facilitates polyubiquitination and subsequent degradation of various proteins such as Notch, cyclin E, c-Myc and c-Jun.', 'T...  \n",
       "1656                                                                                                                                                                                                                                                                                                                                                                                                                           ['Yes, annexin V is an early apoptotic marker.', 'Yes, Annexin V is an apoptotic marker.']  \n",
       "1657                                                                                                                                                                                                                                            ['The clinical characteristics of Tuberous Sclerosis include epilepsy, subependymal giant cell astrocytomas, lymphangioleiomyomatosis, rhabdomyoma, renal angiomyolipomas, cortical tubers, neurofibromas, angiofibromas, mental retardation, and behavioral disorders.']  \n",
       "1658                                                                                                                                                                                                              ['Yes, irritable bowel syndrome (IBS) is more common in women with endometriosis. It has been shown that 15% of the patients with endometriosis also had IBS. Women with endometriosis are more likely to have received a diagnosis of IBS. Endometriosis may coexist with or be misdiagnosed as IBS.']  \n",
       "\n",
       "[1659 rows x 3 columns]"
      ]
     },
     "execution_count": 5,
     "metadata": {},
     "output_type": "execute_result"
    }
   ],
   "source": [
    "pd.set_option(\"display.max_colwidth\", 500)\n",
    "train_data = train[[\"question\", \"contexts\", \"ground_truth\"]]\n",
    "train_data"
   ]
  },
  {
   "cell_type": "code",
   "execution_count": 6,
   "metadata": {},
   "outputs": [],
   "source": [
    "from sklearn.model_selection import train_test_split\n",
    "\n",
    "train_data, test_data = train_test_split(train_data, test_size=0.2, random_state=42)"
   ]
  },
  {
   "cell_type": "markdown",
   "metadata": {},
   "source": [
    "### Upload Contexts to Qdrant Vector Store"
   ]
  },
  {
   "cell_type": "code",
   "execution_count": 9,
   "metadata": {},
   "outputs": [
    {
     "data": {
      "text/html": [
       "<div>\n",
       "<style scoped>\n",
       "    .dataframe tbody tr th:only-of-type {\n",
       "        vertical-align: middle;\n",
       "    }\n",
       "\n",
       "    .dataframe tbody tr th {\n",
       "        vertical-align: top;\n",
       "    }\n",
       "\n",
       "    .dataframe thead th {\n",
       "        text-align: right;\n",
       "    }\n",
       "</style>\n",
       "<table border=\"1\" class=\"dataframe\">\n",
       "  <thead>\n",
       "    <tr style=\"text-align: right;\">\n",
       "      <th></th>\n",
       "      <th>text</th>\n",
       "    </tr>\n",
       "  </thead>\n",
       "  <tbody>\n",
       "    <tr>\n",
       "      <th>0</th>\n",
       "      <td>Both 7SL genes and Alu elements are transcribed by RNA polymerase III, and we show here that the internal 7SL promoter lies within the Alu-like part of the 7SL gene</td>\n",
       "    </tr>\n",
       "    <tr>\n",
       "      <th>1</th>\n",
       "      <td>We performed a comparative analysis in vitro and in vivo of the antitumor effects of three different antibodies targeting different epitopes of ErbB2: Herceptin (trastuzumab), 2C4 (pertuzumab) and Erb-hcAb (human anti-ErbB2-compact antibody), a novel fully human compact antibody produced in our laboratory. Herein, we demonstrate that the growth of both androgen-dependent and independent prostate cancer cells was efficiently inhibited by Erb-hcAb. The antitumor effects induced by Erb-hcAb on ...</td>\n",
       "    </tr>\n",
       "    <tr>\n",
       "      <th>2</th>\n",
       "      <td>The weight-reducing property of molindone, a recently introduced antipsychotic drug, was tested in 9 hospitalized chronic schizophrenic patients. There was an average weight loss of 7.6 kg after 3 months on molindone; most of the loss occurred during the first month.</td>\n",
       "    </tr>\n",
       "    <tr>\n",
       "      <th>3</th>\n",
       "      <td>Our study identifies a unique heterochromatin state marked by the presence of both H3.3 and H3K9me3, and establishes an important role for H3.3 in control of ERV retrotransposition in embryonic stem cells.</td>\n",
       "    </tr>\n",
       "    <tr>\n",
       "      <th>4</th>\n",
       "      <td>Polyneuropathy, organomegaly, endocrinopathy, monoclonal gammopathy, and skin changes (POEMS) syndrome is an uncommon condition related to a paraneoplastic syndrome secondary to an underlying plasma cell disorder.</td>\n",
       "    </tr>\n",
       "  </tbody>\n",
       "</table>\n",
       "</div>"
      ],
      "text/plain": [
       "                                                                                                                                                                                                                                                                                                                                                                                                                                                                                                                  text\n",
       "0                                                                                                                                                                                                                                                                                                                                                 Both 7SL genes and Alu elements are transcribed by RNA polymerase III, and we show here that the internal 7SL promoter lies within the Alu-like part of the 7SL gene\n",
       "1  We performed a comparative analysis in vitro and in vivo of the antitumor effects of three different antibodies targeting different epitopes of ErbB2: Herceptin (trastuzumab), 2C4 (pertuzumab) and Erb-hcAb (human anti-ErbB2-compact antibody), a novel fully human compact antibody produced in our laboratory. Herein, we demonstrate that the growth of both androgen-dependent and independent prostate cancer cells was efficiently inhibited by Erb-hcAb. The antitumor effects induced by Erb-hcAb on ...\n",
       "2                                                                                                                                                                                                                                          The weight-reducing property of molindone, a recently introduced antipsychotic drug, was tested in 9 hospitalized chronic schizophrenic patients. There was an average weight loss of 7.6 kg after 3 months on molindone; most of the loss occurred during the first month.\n",
       "3                                                                                                                                                                                                                                                                                                        Our study identifies a unique heterochromatin state marked by the presence of both H3.3 and H3K9me3, and establishes an important role for H3.3 in control of ERV retrotransposition in embryonic stem cells.\n",
       "4                                                                                                                                                                                                                                                                                                Polyneuropathy, organomegaly, endocrinopathy, monoclonal gammopathy, and skin changes (POEMS) syndrome is an uncommon condition related to a paraneoplastic syndrome secondary to an underlying plasma cell disorder."
      ]
     },
     "execution_count": 9,
     "metadata": {},
     "output_type": "execute_result"
    }
   ],
   "source": [
    "corpora.head()"
   ]
  },
  {
   "cell_type": "markdown",
   "metadata": {},
   "source": [
    "# FOR DEMONSTRATION PURPOSE WE ARE USING A VERY SMALL SUBSET OF THE DATASET"
   ]
  },
  {
   "cell_type": "code",
   "execution_count": 11,
   "metadata": {},
   "outputs": [],
   "source": [
    "corpora = corpora.sample(100)\n",
    "train_data = train_data.sample(100)\n",
    "test_data = test_data.sample(20)"
   ]
  },
  {
   "cell_type": "code",
   "execution_count": 13,
   "metadata": {},
   "outputs": [
    {
     "data": {
      "application/vnd.jupyter.widget-view+json": {
       "model_id": "dadf5e159d79464aa152f7096d41762e",
       "version_major": 2,
       "version_minor": 0
      },
      "text/plain": [
       "Fetching 5 files:   0%|          | 0/5 [00:00<?, ?it/s]"
      ]
     },
     "metadata": {},
     "output_type": "display_data"
    },
    {
     "data": {
      "text/plain": [
       "True"
      ]
     },
     "execution_count": 13,
     "metadata": {},
     "output_type": "execute_result"
    }
   ],
   "source": [
    "embedding_model = TextEmbedding(\"BAAI/bge-base-en-v1.5\")\n",
    "qdrant_client = QdrantClient(\n",
    "    \":memory:\"\n",
    ")  # spin up a local instance if you require more advanced features\n",
    "# qdrant_client = QdrantClient(\"http://localhost:6333\") # uncomment if you want to use your local instance\n",
    "\n",
    "if qdrant_client.collection_exists(\"rag_contexts\"):\n",
    "    qdrant_client.delete_collection(\"rag_contexts\")\n",
    "\n",
    "qdrant_client.create_collection(\n",
    "    \"rag_contexts\",\n",
    "    vectors_config=models.VectorParams(size=768, distance=models.Distance.COSINE),\n",
    ")"
   ]
  },
  {
   "cell_type": "code",
   "execution_count": 14,
   "metadata": {},
   "outputs": [
    {
     "name": "stderr",
     "output_type": "stream",
     "text": [
      "100%|██████████| 100/100 [00:03<00:00, 26.74it/s]\n"
     ]
    }
   ],
   "source": [
    "# Create and upload points to Qdrant\n",
    "points = []\n",
    "for idx, row in tqdm(corpora.iterrows(), total=corpora.shape[0]):\n",
    "    point = models.PointStruct(\n",
    "        id=idx,  # Use the dataframe index as the point ID\n",
    "        vector=list(embedding_model.embed(row[\"text\"]))[\n",
    "            0\n",
    "        ],  # Convert the embedding to a list\n",
    "        payload={\"id\": idx, \"text\": row[\"text\"]},  # Use the label_text as the payload\n",
    "    )\n",
    "    points.append(point)\n",
    "qdrant_client.upload_points(collection_name=\"rag_contexts\", points=points)"
   ]
  },
  {
   "cell_type": "markdown",
   "metadata": {},
   "source": [
    "### Custom Retriever that searchs the contexts from Qdrant Vector Store. "
   ]
  },
  {
   "cell_type": "code",
   "execution_count": 15,
   "metadata": {},
   "outputs": [],
   "source": [
    "# use any embedding model\n",
    "def generate_embeddings(text):\n",
    "    return list(embedding_model.embed(text))[0]\n",
    "\n",
    "\n",
    "class QdrantRetriever(dspy.Retrieve):\n",
    "    def __init__(self, qdrant_collection_name, qdrant_client, k=10):\n",
    "        super().__init__(k=k)\n",
    "        self.client = qdrant_client\n",
    "        self.collection_name = qdrant_collection_name\n",
    "\n",
    "    def forward(self, query, k: Optional[int] = 10):\n",
    "        # Generate embedding for the query\n",
    "        query_embedding = generate_embeddings(query)\n",
    "        search_results = self.client.search(\n",
    "            collection_name=self.collection_name,\n",
    "            query_vector=query_embedding,\n",
    "            limit=k if k else self.k,\n",
    "        )\n",
    "        passages = [result.payload[\"text\"] for result in search_results]\n",
    "        passages = [dotdict({\"long_text\": passage}) for passage in passages]\n",
    "        return passages"
   ]
  },
  {
   "cell_type": "code",
   "execution_count": 16,
   "metadata": {},
   "outputs": [],
   "source": [
    "openai_api_key = os.environ[\"OPENAI_API_KEY\"]"
   ]
  },
  {
   "cell_type": "code",
   "execution_count": 17,
   "metadata": {},
   "outputs": [],
   "source": [
    "turbo = dspy.OpenAI(model=\"gpt-4o\", api_key=openai_api_key, max_tokens=1000)\n",
    "rm = QdrantRetriever(\"rag_contexts\", qdrant_client)\n",
    "\n",
    "# configure dspy with a RM Model and and LM Model\n",
    "dspy.settings.configure(lm=turbo, rm=rm)"
   ]
  },
  {
   "cell_type": "code",
   "execution_count": 18,
   "metadata": {},
   "outputs": [
    {
     "data": {
      "text/plain": [
       "['endostatin peptide, a potent inhibitor of angiogenesis derived from type XVIII collagen,',\n",
       " 'Finally, in contrast to most other ERM-binding proteins, ELMO1 binding occurred independently of the state of radixin C-terminal phosphorylation, suggesting an ELMO1 interaction with both the active and inactive forms of ERM proteins and implying a possible role of ELMO in localizing or retaining ERM proteins in certain cellular sites. Together these data suggest that ELMO1-mediated cytoskeletal changes may be coordinated with ERM protein crosslinking activity during dynamic cellular functions.',\n",
       " 'Muscle LIM protein (MLP) has been proposed to be a central player in the pathogenesis of heart muscle disease.',\n",
       " 'During T3-dependent amphibian metamorphosis, the digestive tract is extensively remodeled from the larval to the adult form for the adaptation of the amphibian from its aquatic herbivorous lifestyle to that of a terrestrial carnivorous frog. This involves de novo formation of ASCs that requires T3 signaling in both the larval epithelium and nonepithelial tissues.',\n",
       " 'Here we show that the gasdermin-N domains of the gasdermin proteins GSDMD, GSDMA3 and GSDMA can bind membrane lipids, phosphoinositides and cardiolipin, and exhibit membrane-disrupting cytotoxicity in mammalian cells and artificially transformed bacteria.',\n",
       " 'The enzyme was capable of transferring methyl groups to selected lysine residues in a substrate protein using S-adenosyl-l-methionine (SAM) as the methyl donor.',\n",
       " 'Monoclonal antibodies (mAbs) directed against E2, a 32-kDa transmembrane protein encoded by the MIC2 gene located in the pseudoautosomal region, induce a transbilayer movement of phosphatidylserine and, to a lesser extent, phosphatidylethanolamine in human thymocytes and a Jurkat T lymphocytes.',\n",
       " 'oxytocin, a hormone involved in parent-offspring bonding',\n",
       " 'Results from a phase 1 study of nusinersen (ISIS-SMN(Rx)) in children with spinal muscular atrophy.',\n",
       " 'A GC-rich region containing Sp1 and Sp1-like binding sites']"
      ]
     },
     "execution_count": 18,
     "metadata": {},
     "output_type": "execute_result"
    }
   ],
   "source": [
    "sample = test_data[\"question\"].iloc[0]\n",
    "dspy.Retrieve(k=10)(sample).passages"
   ]
  },
  {
   "cell_type": "markdown",
   "metadata": {},
   "source": [
    "### Signature Defination for Q/A System"
   ]
  },
  {
   "cell_type": "code",
   "execution_count": 19,
   "metadata": {},
   "outputs": [],
   "source": [
    "# Define Signatire for the QA system\n",
    "class GenerateAnswer(dspy.Signature):\n",
    "    \"\"\"Answer questions based on the context.\"\"\"\n",
    "\n",
    "    context = dspy.InputField(desc=\"may contain relevant facts\")\n",
    "    question = dspy.InputField()\n",
    "    answer = dspy.OutputField()"
   ]
  },
  {
   "cell_type": "markdown",
   "metadata": {},
   "source": [
    "### RM (Retrieval Model) Pipeline Creation"
   ]
  },
  {
   "cell_type": "code",
   "execution_count": 21,
   "metadata": {},
   "outputs": [],
   "source": [
    "# Define a Custom RAG Pipeline\n",
    "class RAG(dspy.Module):\n",
    "    def __init__(self, collection_name=\"rag_contexts\", num_passages=10):\n",
    "        super().__init__()\n",
    "        self.retrieve = dspy.Retrieve(k=num_passages)\n",
    "        self.generate_answer = dspy.ChainOfThought(GenerateAnswer)\n",
    "\n",
    "    def forward(self, question):\n",
    "        context = self.retrieve(question).passages\n",
    "        prediction = self.generate_answer(context=context, question=question)\n",
    "        return dspy.Prediction(context=context, answer=prediction.answer)"
   ]
  },
  {
   "cell_type": "code",
   "execution_count": 22,
   "metadata": {},
   "outputs": [],
   "source": [
    "uncompiled_rag = RAG()"
   ]
  },
  {
   "cell_type": "code",
   "execution_count": 23,
   "metadata": {},
   "outputs": [
    {
     "data": {
      "text/plain": [
       "Prediction(\n",
       "    context=['endostatin peptide, a potent inhibitor of angiogenesis derived from type XVIII collagen,', 'Finally, in contrast to most other ERM-binding proteins, ELMO1 binding occurred independently of the state of radixin C-terminal phosphorylation, suggesting an ELMO1 interaction with both the active and inactive forms of ERM proteins and implying a possible role of ELMO in localizing or retaining ERM proteins in certain cellular sites. Together these data suggest that ELMO1-mediated cytoskeletal changes may be coordinated with ERM protein crosslinking activity during dynamic cellular functions.', 'Muscle LIM protein (MLP) has been proposed to be a central player in the pathogenesis of heart muscle disease.', 'During T3-dependent amphibian metamorphosis, the digestive tract is extensively remodeled from the larval to the adult form for the adaptation of the amphibian from its aquatic herbivorous lifestyle to that of a terrestrial carnivorous frog. This involves de novo formation of ASCs that requires T3 signaling in both the larval epithelium and nonepithelial tissues.', 'Here we show that the gasdermin-N domains of the gasdermin proteins GSDMD, GSDMA3 and GSDMA can bind membrane lipids, phosphoinositides and cardiolipin, and exhibit membrane-disrupting cytotoxicity in mammalian cells and artificially transformed bacteria.', 'The enzyme was capable of transferring methyl groups to selected lysine residues in a substrate protein using S-adenosyl-l-methionine (SAM) as the methyl donor.', 'Monoclonal antibodies (mAbs) directed against E2, a 32-kDa transmembrane protein encoded by the MIC2 gene located in the pseudoautosomal region, induce a transbilayer movement of phosphatidylserine and, to a lesser extent, phosphatidylethanolamine in human thymocytes and a Jurkat T lymphocytes.', 'oxytocin, a hormone involved in parent-offspring bonding', 'Results from a phase 1 study of nusinersen (ISIS-SMN(Rx)) in children with spinal muscular atrophy.', 'A GC-rich region containing Sp1 and Sp1-like binding sites'],\n",
       "    answer='The context does not provide information about Musclin being a secretory peptide.'\n",
       ")"
      ]
     },
     "execution_count": 23,
     "metadata": {},
     "output_type": "execute_result"
    }
   ],
   "source": [
    "uncompiled_rag(sample)"
   ]
  },
  {
   "cell_type": "code",
   "execution_count": 24,
   "metadata": {},
   "outputs": [
    {
     "name": "stdout",
     "output_type": "stream",
     "text": [
      "\n",
      "\n",
      "\n",
      "\n",
      "Answer questions based on the context.\n",
      "\n",
      "---\n",
      "\n",
      "Follow the following format.\n",
      "\n",
      "Context: may contain relevant facts\n",
      "\n",
      "Question: ${question}\n",
      "\n",
      "Reasoning: Let's think step by step in order to ${produce the answer}. We ...\n",
      "\n",
      "Answer: ${answer}\n",
      "\n",
      "---\n",
      "\n",
      "Context:\n",
      "[1] «endostatin peptide, a potent inhibitor of angiogenesis derived from type XVIII collagen,»\n",
      "[2] «Finally, in contrast to most other ERM-binding proteins, ELMO1 binding occurred independently of the state of radixin C-terminal phosphorylation, suggesting an ELMO1 interaction with both the active and inactive forms of ERM proteins and implying a possible role of ELMO in localizing or retaining ERM proteins in certain cellular sites. Together these data suggest that ELMO1-mediated cytoskeletal changes may be coordinated with ERM protein crosslinking activity during dynamic cellular functions.»\n",
      "[3] «Muscle LIM protein (MLP) has been proposed to be a central player in the pathogenesis of heart muscle disease.»\n",
      "[4] «During T3-dependent amphibian metamorphosis, the digestive tract is extensively remodeled from the larval to the adult form for the adaptation of the amphibian from its aquatic herbivorous lifestyle to that of a terrestrial carnivorous frog. This involves de novo formation of ASCs that requires T3 signaling in both the larval epithelium and nonepithelial tissues.»\n",
      "[5] «Here we show that the gasdermin-N domains of the gasdermin proteins GSDMD, GSDMA3 and GSDMA can bind membrane lipids, phosphoinositides and cardiolipin, and exhibit membrane-disrupting cytotoxicity in mammalian cells and artificially transformed bacteria.»\n",
      "[6] «The enzyme was capable of transferring methyl groups to selected lysine residues in a substrate protein using S-adenosyl-l-methionine (SAM) as the methyl donor.»\n",
      "[7] «Monoclonal antibodies (mAbs) directed against E2, a 32-kDa transmembrane protein encoded by the MIC2 gene located in the pseudoautosomal region, induce a transbilayer movement of phosphatidylserine and, to a lesser extent, phosphatidylethanolamine in human thymocytes and a Jurkat T lymphocytes.»\n",
      "[8] «oxytocin, a hormone involved in parent-offspring bonding»\n",
      "[9] «Results from a phase 1 study of nusinersen (ISIS-SMN(Rx)) in children with spinal muscular atrophy.»\n",
      "[10] «A GC-rich region containing Sp1 and Sp1-like binding sites»\n",
      "\n",
      "Question: Is Musclin a secretory peptide?\n",
      "\n",
      "Reasoning: Let's think step by step in order to\u001b[32m produce the answer. We need to examine the provided context to see if there is any mention of Musclin and its properties, specifically whether it is described as a secretory peptide.\n",
      "\n",
      "1. Review each context snippet for any mention of Musclin.\n",
      "2. Determine if any context snippet describes Musclin as a secretory peptide.\n",
      "\n",
      "After reviewing the context snippets, none of them mention Musclin or provide information about it being a secretory peptide.\n",
      "\n",
      "Answer: The context does not provide information about Musclin being a secretory peptide.\u001b[0m\n",
      "\n",
      "\n",
      "\n"
     ]
    }
   ],
   "source": [
    "turbo.inspect_history(n=1)"
   ]
  },
  {
   "cell_type": "markdown",
   "metadata": {},
   "source": [
    "### Metrics Defination and Assesment Signatures  "
   ]
  },
  {
   "cell_type": "code",
   "execution_count": 30,
   "metadata": {},
   "outputs": [],
   "source": [
    "metricLM = dspy.OpenAI(\n",
    "    model=\"gpt-4o\", api_key=openai_api_key, max_tokens=1000, model_type=\"chat\"\n",
    ")\n",
    "\n",
    "\n",
    "# Signature for LLM assessments.\n",
    "class Assess(dspy.Signature):\n",
    "    \"\"\"Assess the quality of an answer to a question.\"\"\"\n",
    "\n",
    "    context = dspy.InputField(desc=\"The context for answering the question.\")\n",
    "    assessed_question = dspy.InputField(desc=\"The evaluation criterion.\")\n",
    "    assessed_answer = dspy.InputField(desc=\"The answer to the question.\")\n",
    "    correct_answer = dspy.InputField(desc=\"The correct answer to the question.\")\n",
    "    assessment_answer = dspy.OutputField(\n",
    "        desc=\"A rating between 0 and 5. Only output the rating and nothing else.\"\n",
    "    )\n",
    "\n",
    "\n",
    "def llm_metric(gold, pred, trace=None):\n",
    "    predicted_answer = pred.answer\n",
    "    gold_question = gold.question\n",
    "    gold_answer = gold.answer\n",
    "\n",
    "    detail = \"Is the assessed answer detailed?\"\n",
    "    faithful = \"Is the assessed text grounded in the context? Say no if it includes significant facts not in the context.\"\n",
    "    correctness = f\"Compare the given {predicted_answer} and {gold_answer} and assess how correct the answer is\"\n",
    "\n",
    "    with dspy.context(lm=metricLM):\n",
    "        context = dspy.Retrieve(k=10)(gold_question).passages\n",
    "        detail = dspy.ChainOfThought(Assess)(\n",
    "            context=\"N/A\",\n",
    "            assessed_question=detail,\n",
    "            assessed_answer=predicted_answer,\n",
    "            correct_answer=gold_answer,\n",
    "        )\n",
    "        faithful = dspy.ChainOfThought(Assess)(\n",
    "            context=context,\n",
    "            assessed_question=faithful,\n",
    "            assessed_answer=predicted_answer,\n",
    "            correct_answer=gold_answer,\n",
    "        )\n",
    "        correctness = dspy.ChainOfThought(Assess)(\n",
    "            context=context,\n",
    "            assessed_question=correctness,\n",
    "            assessed_answer=predicted_answer,\n",
    "            correct_answer=gold_answer,\n",
    "        )\n",
    "\n",
    "    print(f\"Faithful: {faithful.assessment_answer}\")\n",
    "    print(f\"Detail: {detail.assessment_answer}\")\n",
    "    print(f\"Correctness: {correctness.assessment_answer}\")\n",
    "\n",
    "    total = (\n",
    "        float(detail.assessment_answer)\n",
    "        + float(faithful.assessment_answer)\n",
    "        + float(correctness.assessment_answer)\n",
    "    )\n",
    "    return total / 10.0"
   ]
  },
  {
   "cell_type": "markdown",
   "metadata": {},
   "source": [
    "Reference for the above is taken from below cited sources \n",
    "- [Reference_1](https://dspy-docs.vercel.app/docs/building-blocks/metrics#intermediate-using-ai-feedback-for-your-metric)\n",
    "- [Reference_2](https://github.com/weaviate/recipes/blob/main/integrations/dspy/1.Getting-Started-with-RAG-in-DSPy.ipynb)"
   ]
  },
  {
   "cell_type": "markdown",
   "metadata": {},
   "source": [
    "Let's format the data in a specific way how the DSPY modules are expecting and then use some of the data for training and evaluation. "
   ]
  },
  {
   "cell_type": "code",
   "execution_count": 31,
   "metadata": {},
   "outputs": [],
   "source": [
    "trainset_dspy = train_data.sample(frac=0.8)\n",
    "valset_dspy = train_data.drop(trainset_dspy.index)"
   ]
  },
  {
   "cell_type": "code",
   "execution_count": 32,
   "metadata": {},
   "outputs": [],
   "source": [
    "from ast import literal_eval\n",
    "import dspy\n",
    "\n",
    "\n",
    "def read_list_from_string(s):\n",
    "    try:\n",
    "        return literal_eval(s)\n",
    "    except (ValueError, SyntaxError):\n",
    "        return s.split() if isinstance(s, str) else []\n",
    "\n",
    "\n",
    "def stringify_list_elements(lst):\n",
    "    lst = read_list_from_string(lst)\n",
    "    return \" \".join(str(e) for e in lst)\n",
    "\n",
    "\n",
    "trainset = [\n",
    "    dspy.Example(\n",
    "        question=row[\"question\"],\n",
    "        #  contexts=stringify_list_elements(row['contexts']),\n",
    "        answer=stringify_list_elements(row[\"ground_truth\"]),\n",
    "    ).with_inputs(\"question\")\n",
    "    for i, row in trainset_dspy.iterrows()\n",
    "]\n",
    "\n",
    "valset = [\n",
    "    dspy.Example(\n",
    "        question=row[\"question\"],\n",
    "        # contexts=stringify_list_elements(row['contexts']),\n",
    "        answer=stringify_list_elements(row[\"ground_truth\"]),\n",
    "    ).with_inputs(\"question\")\n",
    "    for i, row in valset_dspy.iterrows()\n",
    "]"
   ]
  },
  {
   "cell_type": "code",
   "execution_count": 33,
   "metadata": {},
   "outputs": [],
   "source": [
    "# For the purpose of demonstration let's keep it to 20. Remeber to use it wisely as the evaluation / training is all tied to API calls\n",
    "devset = valset[:20]"
   ]
  },
  {
   "cell_type": "code",
   "execution_count": 34,
   "metadata": {},
   "outputs": [
    {
     "name": "stderr",
     "output_type": "stream",
     "text": [
      "  0%|          | 0/20 [00:00<?, ?it/s]"
     ]
    },
    {
     "name": "stderr",
     "output_type": "stream",
     "text": [
      "Average Metric: 1.6 / 2  (80.0):  10%|█         | 2/20 [00:00<00:03,  4.68it/s]"
     ]
    },
    {
     "name": "stdout",
     "output_type": "stream",
     "text": [
      "Faithful: 5\n",
      "Detail: 2\n",
      "Correctness: 1\n",
      "Faithful: 5\n",
      "Detail: 2\n",
      "Correctness: 1\n"
     ]
    },
    {
     "name": "stderr",
     "output_type": "stream",
     "text": [
      "Average Metric: 2.0 / 3  (66.7):  15%|█▌        | 3/20 [00:05<00:42,  2.49s/it]"
     ]
    },
    {
     "name": "stdout",
     "output_type": "stream",
     "text": [
      "Faithful: 1\n",
      "Detail: 2\n",
      "Correctness: 1\n"
     ]
    },
    {
     "name": "stderr",
     "output_type": "stream",
     "text": [
      "Average Metric: 3.5999999999999996 / 7  (51.4):  35%|███▌      | 7/20 [00:06<00:09,  1.44it/s]"
     ]
    },
    {
     "name": "stdout",
     "output_type": "stream",
     "text": [
      "Faithful: 1Faithful: 1\n",
      "Detail: 1\n",
      "Correctness: 1\n",
      "\n",
      "Detail: 1\n",
      "Correctness: 1\n",
      "Faithful: 5\n",
      "Detail: 1\n",
      "Correctness: 1\n",
      "Faithful: 1\n",
      "Detail: 1\n",
      "Correctness: 1\n"
     ]
    },
    {
     "name": "stderr",
     "output_type": "stream",
     "text": [
      "Average Metric: 5.799999999999999 / 9  (64.4):  45%|████▌     | 9/20 [00:07<00:05,  1.89it/s] "
     ]
    },
    {
     "name": "stdout",
     "output_type": "stream",
     "text": [
      "Faithful: 5\n",
      "Detail: 1\n",
      "Correctness: 5\n",
      "Faithful: 5\n",
      "Detail: 1\n",
      "Correctness: 5\n"
     ]
    },
    {
     "name": "stderr",
     "output_type": "stream",
     "text": [
      "Average Metric: 6.499999999999999 / 10  (65.0):  50%|█████     | 10/20 [00:08<00:07,  1.38it/s]"
     ]
    },
    {
     "name": "stdout",
     "output_type": "stream",
     "text": [
      "Faithful: 5\n",
      "Detail: 1\n",
      "Correctness: 1\n"
     ]
    },
    {
     "name": "stderr",
     "output_type": "stream",
     "text": [
      "Average Metric: 6.799999999999999 / 11  (61.8):  55%|█████▌    | 11/20 [00:12<00:13,  1.50s/it]"
     ]
    },
    {
     "name": "stdout",
     "output_type": "stream",
     "text": [
      "Faithful: 1\n",
      "Detail: 1\n",
      "Correctness: 1\n"
     ]
    },
    {
     "name": "stderr",
     "output_type": "stream",
     "text": [
      "Average Metric: 9.1 / 15  (60.7):  75%|███████▌  | 15/20 [00:13<00:03,  1.57it/s]              "
     ]
    },
    {
     "name": "stdout",
     "output_type": "stream",
     "text": [
      "Faithful: 1\n",
      "Detail: 1\n",
      "Correctness: 1\n",
      "Faithful: 1\n",
      "Detail: 5\n",
      "Correctness: 3\n",
      "Faithful: 1\n",
      "Detail: 1\n",
      "Correctness: 1\n",
      "Faithful: 1\n",
      "Detail: 3\n",
      "Correctness: 4\n"
     ]
    },
    {
     "name": "stderr",
     "output_type": "stream",
     "text": [
      "Average Metric: 10.100000000000001 / 18  (56.1):  85%|████████▌ | 17/20 [00:13<00:01,  1.56it/s]"
     ]
    },
    {
     "name": "stdout",
     "output_type": "stream",
     "text": [
      "Faithful: 1Faithful: 1\n",
      "Detail: 1\n",
      "Correctness: 1\n",
      "\n",
      "Detail: 1\n",
      "Correctness: 1\n",
      "Faithful: 1\n",
      "Detail: 2\n",
      "Correctness: 1\n"
     ]
    },
    {
     "name": "stderr",
     "output_type": "stream",
     "text": [
      "Average Metric: 10.900000000000002 / 19  (57.4):  95%|█████████▌| 19/20 [00:19<00:01,  1.21s/it]"
     ]
    },
    {
     "name": "stdout",
     "output_type": "stream",
     "text": [
      "Faithful: 5\n",
      "Detail: 2\n",
      "Correctness: 1\n"
     ]
    },
    {
     "name": "stderr",
     "output_type": "stream",
     "text": [
      "Average Metric: 11.500000000000002 / 20  (57.5): 100%|██████████| 20/20 [00:20<00:00,  1.01s/it]"
     ]
    },
    {
     "name": "stdout",
     "output_type": "stream",
     "text": [
      "Faithful: 1\n",
      "Detail: 3\n",
      "Correctness: 2\n",
      "Average Metric: 11.500000000000002 / 20  (57.5%)\n"
     ]
    },
    {
     "name": "stderr",
     "output_type": "stream",
     "text": [
      "\n",
      "/opt/homebrew/Caskroom/miniconda/base/envs/ragchallenge/lib/python3.11/site-packages/dspy/evaluate/evaluate.py:266: FutureWarning: Setting an item of incompatible dtype is deprecated and will raise in a future error of pandas. Value '['0.8' '0.4' '0.3' '0.8' '1.1']' has dtype incompatible with float64, please explicitly cast to a compatible dtype first.\n",
      "  df.loc[:, metric_name] = df[metric_name].apply(\n"
     ]
    },
    {
     "data": {
      "text/html": [
       "<style type=\"text/css\">\n",
       "#T_d1ffc th {\n",
       "  text-align: left;\n",
       "}\n",
       "#T_d1ffc td {\n",
       "  text-align: left;\n",
       "}\n",
       "#T_d1ffc_row0_col0, #T_d1ffc_row0_col1, #T_d1ffc_row0_col2, #T_d1ffc_row0_col3, #T_d1ffc_row0_col4, #T_d1ffc_row1_col0, #T_d1ffc_row1_col1, #T_d1ffc_row1_col2, #T_d1ffc_row1_col3, #T_d1ffc_row1_col4, #T_d1ffc_row2_col0, #T_d1ffc_row2_col1, #T_d1ffc_row2_col2, #T_d1ffc_row2_col3, #T_d1ffc_row2_col4, #T_d1ffc_row3_col0, #T_d1ffc_row3_col1, #T_d1ffc_row3_col2, #T_d1ffc_row3_col3, #T_d1ffc_row3_col4, #T_d1ffc_row4_col0, #T_d1ffc_row4_col1, #T_d1ffc_row4_col2, #T_d1ffc_row4_col3, #T_d1ffc_row4_col4 {\n",
       "  text-align: left;\n",
       "  white-space: pre-wrap;\n",
       "  word-wrap: break-word;\n",
       "  max-width: 400px;\n",
       "}\n",
       "</style>\n",
       "<table id=\"T_d1ffc\">\n",
       "  <thead>\n",
       "    <tr>\n",
       "      <th class=\"blank level0\" >&nbsp;</th>\n",
       "      <th id=\"T_d1ffc_level0_col0\" class=\"col_heading level0 col0\" >question</th>\n",
       "      <th id=\"T_d1ffc_level0_col1\" class=\"col_heading level0 col1\" >example_answer</th>\n",
       "      <th id=\"T_d1ffc_level0_col2\" class=\"col_heading level0 col2\" >context</th>\n",
       "      <th id=\"T_d1ffc_level0_col3\" class=\"col_heading level0 col3\" >pred_answer</th>\n",
       "      <th id=\"T_d1ffc_level0_col4\" class=\"col_heading level0 col4\" >llm_metric</th>\n",
       "    </tr>\n",
       "  </thead>\n",
       "  <tbody>\n",
       "    <tr>\n",
       "      <th id=\"T_d1ffc_level0_row0\" class=\"row_heading level0 row0\" >0</th>\n",
       "      <td id=\"T_d1ffc_row0_col0\" class=\"data row0 col0\" >Is Rheumatoid Arthritis related to myopathy?</td>\n",
       "      <td id=\"T_d1ffc_row0_col1\" class=\"data row0 col1\" >Vacuolar myopathy and statin-induced myopathy have been reported in rheumatoid arthritis patients, but this association may be due to the anti-malarial treatment received. An increased...</td>\n",
       "      <td id=\"T_d1ffc_row0_col2\" class=\"data row0 col2\" >['Muscle LIM protein (MLP) has been proposed to be a central player in the pathogenesis of heart muscle disease.', 'The Ehlers-Danlos syndromes (EDS) comprise a...</td>\n",
       "      <td id=\"T_d1ffc_row0_col3\" class=\"data row0 col3\" >No, the provided context does not mention a relationship between Rheumatoid Arthritis and myopathy.</td>\n",
       "      <td id=\"T_d1ffc_row0_col4\" class=\"data row0 col4\" >0.8</td>\n",
       "    </tr>\n",
       "    <tr>\n",
       "      <th id=\"T_d1ffc_level0_row1\" class=\"row_heading level0 row1\" >1</th>\n",
       "      <td id=\"T_d1ffc_row1_col0\" class=\"data row1 col0\" >Has the protein SETMAR (Metnase) a transposase domain?</td>\n",
       "      <td id=\"T_d1ffc_row1_col1\" class=\"data row1 col1\" >Yes, the protein SETMAR (Metnase) has a transposase domain.</td>\n",
       "      <td id=\"T_d1ffc_row1_col2\" class=\"data row1 col2\" >['The enzyme was capable of transferring methyl groups to selected lysine residues in a substrate protein using S-adenosyl-l-methionine (SAM) as the methyl donor.', 'FBW7 is...</td>\n",
       "      <td id=\"T_d1ffc_row1_col3\" class=\"data row1 col3\" >The provided context does not contain information about the protein SETMAR (Metnase) or its domains. Therefore, we cannot determine from this context whether SETMAR (Metnase)...</td>\n",
       "      <td id=\"T_d1ffc_row1_col4\" class=\"data row1 col4\" >0.4</td>\n",
       "    </tr>\n",
       "    <tr>\n",
       "      <th id=\"T_d1ffc_level0_row2\" class=\"row_heading level0 row2\" >2</th>\n",
       "      <td id=\"T_d1ffc_row2_col0\" class=\"data row2 col0\" >What is the number of long non coding RNAs in the human genome</td>\n",
       "      <td id=\"T_d1ffc_row2_col1\" class=\"data row2 col1\" >Different estimates put currently the number of human long non coding RNAs between 10,000 and 20,000</td>\n",
       "      <td id=\"T_d1ffc_row2_col2\" class=\"data row2 col2\" >['In this paper we have explored the benefits of combining predictions from already existing gene prediction programs. We have introduced three novel methods for combining...</td>\n",
       "      <td id=\"T_d1ffc_row2_col3\" class=\"data row2 col3\" >The context does not provide information about the number of long non-coding RNAs in the human genome.</td>\n",
       "      <td id=\"T_d1ffc_row2_col4\" class=\"data row2 col4\" >0.3</td>\n",
       "    </tr>\n",
       "    <tr>\n",
       "      <th id=\"T_d1ffc_level0_row3\" class=\"row_heading level0 row3\" >3</th>\n",
       "      <td id=\"T_d1ffc_row3_col0\" class=\"data row3 col0\" >How does miR-1 overexpression worsen arrhythmias in coronary artery disease patients and what are the implications for antiarrhythmic treatments?</td>\n",
       "      <td id=\"T_d1ffc_row3_col1\" class=\"data row3 col1\" >miR-1 overexpression worsens arrhythmias in coronary artery disease patients by regulating pacemaker channel genes and contributing to arrhythmogenesis. This up-regulation of miR-1 in patients with...</td>\n",
       "      <td id=\"T_d1ffc_row3_col2\" class=\"data row3 col2\" >['Moreover, miR-27a was demonstrated to modulate β-MHC gene regulation via thyroid hormone signaling and to be upregulated during the differentiation of mouse embryonic stem (ES)...</td>\n",
       "      <td id=\"T_d1ffc_row3_col3\" class=\"data row3 col3\" >The provided context does not contain information about miR-1 overexpression, its effects on arrhythmias in coronary artery disease patients, or the implications for antiarrhythmic treatments.</td>\n",
       "      <td id=\"T_d1ffc_row3_col4\" class=\"data row3 col4\" >0.8</td>\n",
       "    </tr>\n",
       "    <tr>\n",
       "      <th id=\"T_d1ffc_level0_row4\" class=\"row_heading level0 row4\" >4</th>\n",
       "      <td id=\"T_d1ffc_row4_col0\" class=\"data row4 col0\" >Which post-translational histone modifications are characteristic of constitutive heterochromatin?</td>\n",
       "      <td id=\"T_d1ffc_row4_col1\" class=\"data row4 col1\" >H3K9me3 is the major marker of constitutive heterochromatin. Other histone methylation marks usually found in constitutive heterochromatin, are H4K20me3 and H3K79me3. Classical histone modifications associated...</td>\n",
       "      <td id=\"T_d1ffc_row4_col2\" class=\"data row4 col2\" >['Covalent histone modifications (e.g. ubiquitination, phosphorylation, methylation, acetylation) and H2A variants (H2A.Z, H2A.X and H2A.W) are also discussed in view of their crucial importance in...</td>\n",
       "      <td id=\"T_d1ffc_row4_col3\" class=\"data row4 col3\" >The context does not provide specific information about which post-translational histone modifications are characteristic of constitutive heterochromatin.</td>\n",
       "      <td id=\"T_d1ffc_row4_col4\" class=\"data row4 col4\" >1.1</td>\n",
       "    </tr>\n",
       "  </tbody>\n",
       "</table>\n"
      ],
      "text/plain": [
       "<pandas.io.formats.style.Styler at 0x384879210>"
      ]
     },
     "metadata": {},
     "output_type": "display_data"
    },
    {
     "data": {
      "text/html": [
       "\n",
       "                <div style='\n",
       "                    text-align: center;\n",
       "                    font-size: 16px;\n",
       "                    font-weight: bold;\n",
       "                    color: #555;\n",
       "                    margin: 10px 0;'>\n",
       "                    ... 15 more rows not displayed ...\n",
       "                </div>\n",
       "                "
      ],
      "text/plain": [
       "<IPython.core.display.HTML object>"
      ]
     },
     "metadata": {},
     "output_type": "display_data"
    }
   ],
   "source": [
    "from dspy.evaluate.evaluate import Evaluate\n",
    "\n",
    "evaluate = Evaluate(\n",
    "    devset=devset, num_threads=8, display_progress=True, display_table=5\n",
    ")\n",
    "uncompile_k_10 = RAG(num_passages=10)\n",
    "uncompiled_10_metrics = evaluate(\n",
    "    uncompile_k_10, metric=llm_metric, return_all_scores=True, return_outputs=True\n",
    ")"
   ]
  },
  {
   "cell_type": "code",
   "execution_count": 35,
   "metadata": {},
   "outputs": [],
   "source": [
    "def create_score_dataframe(eval_output):\n",
    "    # Extract questions and answers from the examples\n",
    "    questions = [ex[0].question for ex in eval_output]\n",
    "    answers = [ex[1].answer for ex in eval_output]\n",
    "    scores = [ex[2] for ex in eval_output]\n",
    "    # Create a DataFrame with questions, answers, and scores\n",
    "    score_dataframe = pd.DataFrame(\n",
    "        {\"question\": questions, \"predicted_answer\": answers, \"score\": scores}\n",
    "    )\n",
    "    return score_dataframe\n"
   ]
  },
  {
   "cell_type": "code",
   "execution_count": 36,
   "metadata": {},
   "outputs": [
    {
     "name": "stdout",
     "output_type": "stream",
     "text": [
      "Mean Score for the devset is 0.5750000000000001\n"
     ]
    },
    {
     "data": {
      "text/html": [
       "<div>\n",
       "<style scoped>\n",
       "    .dataframe tbody tr th:only-of-type {\n",
       "        vertical-align: middle;\n",
       "    }\n",
       "\n",
       "    .dataframe tbody tr th {\n",
       "        vertical-align: top;\n",
       "    }\n",
       "\n",
       "    .dataframe thead th {\n",
       "        text-align: right;\n",
       "    }\n",
       "</style>\n",
       "<table border=\"1\" class=\"dataframe\">\n",
       "  <thead>\n",
       "    <tr style=\"text-align: right;\">\n",
       "      <th></th>\n",
       "      <th>question</th>\n",
       "      <th>predicted_answer</th>\n",
       "      <th>score</th>\n",
       "    </tr>\n",
       "  </thead>\n",
       "  <tbody>\n",
       "    <tr>\n",
       "      <th>0</th>\n",
       "      <td>Is Rheumatoid Arthritis related to myopathy?</td>\n",
       "      <td>No, the provided context does not mention a relationship between Rheumatoid Arthritis and myopathy.</td>\n",
       "      <td>0.8</td>\n",
       "    </tr>\n",
       "    <tr>\n",
       "      <th>1</th>\n",
       "      <td>How does miR-1 overexpression worsen arrhythmias in coronary artery disease patients and what are the implications for antiarrhythmic treatments?</td>\n",
       "      <td>The provided context does not contain information about miR-1 overexpression, its effects on arrhythmias in coronary artery disease patients, or the implications for antiarrhythmic treatments.</td>\n",
       "      <td>0.8</td>\n",
       "    </tr>\n",
       "    <tr>\n",
       "      <th>2</th>\n",
       "      <td>Has the protein SETMAR (Metnase) a transposase domain?</td>\n",
       "      <td>The provided context does not contain information about the protein SETMAR (Metnase) or its domains. Therefore, we cannot determine from this context whether SETMAR (Metnase) has a transposase domain.</td>\n",
       "      <td>0.4</td>\n",
       "    </tr>\n",
       "    <tr>\n",
       "      <th>3</th>\n",
       "      <td>What is the role of RhoA in bladder cancer?</td>\n",
       "      <td>The provided context does not contain information about the role of RhoA in bladder cancer.</td>\n",
       "      <td>0.3</td>\n",
       "    </tr>\n",
       "    <tr>\n",
       "      <th>4</th>\n",
       "      <td>Is cystatin C or cystatin 3 used as a biomarker of kidney function?</td>\n",
       "      <td>The context does not provide information on cystatin C or cystatin 3 as biomarkers of kidney function.</td>\n",
       "      <td>0.3</td>\n",
       "    </tr>\n",
       "    <tr>\n",
       "      <th>5</th>\n",
       "      <td>Are thyroid hormone receptor alpha1 mutations  implicated in thyroid hormone resistance syndrome?</td>\n",
       "      <td>The context does not provide any information about thyroid hormone receptor alpha1 mutations or their implication in thyroid hormone resistance syndrome.</td>\n",
       "      <td>0.7</td>\n",
       "    </tr>\n",
       "    <tr>\n",
       "      <th>6</th>\n",
       "      <td>What is the number of long non coding RNAs in the human genome</td>\n",
       "      <td>The context does not provide information about the number of long non-coding RNAs in the human genome.</td>\n",
       "      <td>0.3</td>\n",
       "    </tr>\n",
       "    <tr>\n",
       "      <th>7</th>\n",
       "      <td>Which post-translational histone modifications are characteristic of constitutive heterochromatin?</td>\n",
       "      <td>The context does not provide specific information about which post-translational histone modifications are characteristic of constitutive heterochromatin.</td>\n",
       "      <td>1.1</td>\n",
       "    </tr>\n",
       "    <tr>\n",
       "      <th>8</th>\n",
       "      <td>Which are the known human transmembrane nucleoporins?</td>\n",
       "      <td>The context does not provide information about known human transmembrane nucleoporins.</td>\n",
       "      <td>1.1</td>\n",
       "    </tr>\n",
       "    <tr>\n",
       "      <th>9</th>\n",
       "      <td>Which gene is associated with Muenke syndrome?</td>\n",
       "      <td>The context does not provide information about the gene associated with Muenke syndrome.</td>\n",
       "      <td>0.7</td>\n",
       "    </tr>\n",
       "    <tr>\n",
       "      <th>10</th>\n",
       "      <td>Describe Hot water reflex epilepsy.</td>\n",
       "      <td>The context does not provide information about Hot water reflex epilepsy.</td>\n",
       "      <td>0.3</td>\n",
       "    </tr>\n",
       "    <tr>\n",
       "      <th>11</th>\n",
       "      <td>What is the biological role of expansins in fungi?</td>\n",
       "      <td>The provided context does not contain information about the biological role of expansins in fungi.</td>\n",
       "      <td>0.3</td>\n",
       "    </tr>\n",
       "    <tr>\n",
       "      <th>12</th>\n",
       "      <td>Which are the common symptoms of Cushing's syndrome?</td>\n",
       "      <td>Common symptoms of Cushing's syndrome include weight gain, particularly around the abdomen and face (leading to a \"moon face\" appearance), thinning of the skin, easy bruising, high blood pressure, muscle weakness, and osteoporosis. Other symptoms can include fatigue, high blood sugar, and increased thirst and urination.</td>\n",
       "      <td>0.9</td>\n",
       "    </tr>\n",
       "    <tr>\n",
       "      <th>13</th>\n",
       "      <td>Is the length of the poly(A) tail involved in human disease?</td>\n",
       "      <td>The context does not provide any information about the involvement of the poly(A) tail length in human disease.</td>\n",
       "      <td>0.3</td>\n",
       "    </tr>\n",
       "    <tr>\n",
       "      <th>14</th>\n",
       "      <td>Has small pox been eradicated from the world?</td>\n",
       "      <td>The context does not provide information about the eradication of smallpox. However, it is a well-known fact that smallpox was declared eradicated by the World Health Organization (WHO) in 1980.</td>\n",
       "      <td>0.8</td>\n",
       "    </tr>\n",
       "    <tr>\n",
       "      <th>15</th>\n",
       "      <td>Is armodafinil used for treatment of insomnia?</td>\n",
       "      <td>The context does not mention armodafinil or its use for the treatment of insomnia.</td>\n",
       "      <td>0.3</td>\n",
       "    </tr>\n",
       "    <tr>\n",
       "      <th>16</th>\n",
       "      <td>What is the function of TALENs?</td>\n",
       "      <td>The context does not provide information about the function of TALENs.</td>\n",
       "      <td>0.3</td>\n",
       "    </tr>\n",
       "    <tr>\n",
       "      <th>17</th>\n",
       "      <td>Can the Micro-C XL method achieve mononucleosome resolution?</td>\n",
       "      <td>The context does not provide any information about the Micro-C XL method or its ability to achieve mononucleosome resolution.</td>\n",
       "      <td>0.4</td>\n",
       "    </tr>\n",
       "    <tr>\n",
       "      <th>18</th>\n",
       "      <td>What is the role of Inn1 in cytokinesis?</td>\n",
       "      <td>The provided context does not contain information about the role of Inn1 in cytokinesis.</td>\n",
       "      <td>0.8</td>\n",
       "    </tr>\n",
       "    <tr>\n",
       "      <th>19</th>\n",
       "      <td>What is the \"wearing-off\" phenomenon in levodopa-treated patients with Parkinson's Disease?</td>\n",
       "      <td>The \"wearing-off\" phenomenon in levodopa-treated patients with Parkinson's Disease is not directly mentioned in the provided contexts. However, it generally refers to the gradual return of Parkinson's symptoms before the next dose of medication is due, indicating that the effects of the medication are wearing off.</td>\n",
       "      <td>0.6</td>\n",
       "    </tr>\n",
       "  </tbody>\n",
       "</table>\n",
       "</div>"
      ],
      "text/plain": [
       "                                                                                                                                             question  \\\n",
       "0                                                                                                        Is Rheumatoid Arthritis related to myopathy?   \n",
       "1   How does miR-1 overexpression worsen arrhythmias in coronary artery disease patients and what are the implications for antiarrhythmic treatments?   \n",
       "2                                                                                              Has the protein SETMAR (Metnase) a transposase domain?   \n",
       "3                                                                                                         What is the role of RhoA in bladder cancer?   \n",
       "4                                                                                 Is cystatin C or cystatin 3 used as a biomarker of kidney function?   \n",
       "5                                                   Are thyroid hormone receptor alpha1 mutations  implicated in thyroid hormone resistance syndrome?   \n",
       "6                                                                                      What is the number of long non coding RNAs in the human genome   \n",
       "7                                                  Which post-translational histone modifications are characteristic of constitutive heterochromatin?   \n",
       "8                                                                                               Which are the known human transmembrane nucleoporins?   \n",
       "9                                                                                                      Which gene is associated with Muenke syndrome?   \n",
       "10                                                                                                                Describe Hot water reflex epilepsy.   \n",
       "11                                                                                                 What is the biological role of expansins in fungi?   \n",
       "12                                                                                               Which are the common symptoms of Cushing's syndrome?   \n",
       "13                                                                                       Is the length of the poly(A) tail involved in human disease?   \n",
       "14                                                                                                      Has small pox been eradicated from the world?   \n",
       "15                                                                                                     Is armodafinil used for treatment of insomnia?   \n",
       "16                                                                                                                    What is the function of TALENs?   \n",
       "17                                                                                       Can the Micro-C XL method achieve mononucleosome resolution?   \n",
       "18                                                                                                           What is the role of Inn1 in cytokinesis?   \n",
       "19                                                        What is the \"wearing-off\" phenomenon in levodopa-treated patients with Parkinson's Disease?   \n",
       "\n",
       "                                                                                                                                                                                                                                                                                                                     predicted_answer  score  \n",
       "0                                                                                                                                                                                                                                 No, the provided context does not mention a relationship between Rheumatoid Arthritis and myopathy.    0.8  \n",
       "1                                                                                                                                    The provided context does not contain information about miR-1 overexpression, its effects on arrhythmias in coronary artery disease patients, or the implications for antiarrhythmic treatments.    0.8  \n",
       "2                                                                                                                            The provided context does not contain information about the protein SETMAR (Metnase) or its domains. Therefore, we cannot determine from this context whether SETMAR (Metnase) has a transposase domain.    0.4  \n",
       "3                                                                                                                                                                                                                                         The provided context does not contain information about the role of RhoA in bladder cancer.    0.3  \n",
       "4                                                                                                                                                                                                                              The context does not provide information on cystatin C or cystatin 3 as biomarkers of kidney function.    0.3  \n",
       "5                                                                                                                                                                           The context does not provide any information about thyroid hormone receptor alpha1 mutations or their implication in thyroid hormone resistance syndrome.    0.7  \n",
       "6                                                                                                                                                                                                                              The context does not provide information about the number of long non-coding RNAs in the human genome.    0.3  \n",
       "7                                                                                                                                                                          The context does not provide specific information about which post-translational histone modifications are characteristic of constitutive heterochromatin.    1.1  \n",
       "8                                                                                                                                                                                                                                              The context does not provide information about known human transmembrane nucleoporins.    1.1  \n",
       "9                                                                                                                                                                                                                                            The context does not provide information about the gene associated with Muenke syndrome.    0.7  \n",
       "10                                                                                                                                                                                                                                                          The context does not provide information about Hot water reflex epilepsy.    0.3  \n",
       "11                                                                                                                                                                                                                                 The provided context does not contain information about the biological role of expansins in fungi.    0.3  \n",
       "12  Common symptoms of Cushing's syndrome include weight gain, particularly around the abdomen and face (leading to a \"moon face\" appearance), thinning of the skin, easy bruising, high blood pressure, muscle weakness, and osteoporosis. Other symptoms can include fatigue, high blood sugar, and increased thirst and urination.    0.9  \n",
       "13                                                                                                                                                                                                                    The context does not provide any information about the involvement of the poly(A) tail length in human disease.    0.3  \n",
       "14                                                                                                                                 The context does not provide information about the eradication of smallpox. However, it is a well-known fact that smallpox was declared eradicated by the World Health Organization (WHO) in 1980.    0.8  \n",
       "15                                                                                                                                                                                                                                                 The context does not mention armodafinil or its use for the treatment of insomnia.    0.3  \n",
       "16                                                                                                                                                                                                                                                             The context does not provide information about the function of TALENs.    0.3  \n",
       "17                                                                                                                                                                                                      The context does not provide any information about the Micro-C XL method or its ability to achieve mononucleosome resolution.    0.4  \n",
       "18                                                                                                                                                                                                                                           The provided context does not contain information about the role of Inn1 in cytokinesis.    0.8  \n",
       "19        The \"wearing-off\" phenomenon in levodopa-treated patients with Parkinson's Disease is not directly mentioned in the provided contexts. However, it generally refers to the gradual return of Parkinson's symptoms before the next dose of medication is due, indicating that the effects of the medication are wearing off.    0.6  "
      ]
     },
     "execution_count": 36,
     "metadata": {},
     "output_type": "execute_result"
    }
   ],
   "source": [
    "pd.set_option(\"display.max_colwidth\", 500)\n",
    "pd.set_option(\"display.max_rows\", 500)\n",
    "eval_outs = uncompiled_10_metrics[1]\n",
    "eval_outs_df = create_score_dataframe(eval_outs)\n",
    "print(f\"Mean Score for the devset is {eval_outs_df['score'].mean()}\")\n",
    "eval_outs_df"
   ]
  },
  {
   "cell_type": "markdown",
   "metadata": {},
   "source": [
    "### Prompt from the Uncompiled Model"
   ]
  },
  {
   "cell_type": "code",
   "execution_count": 37,
   "metadata": {},
   "outputs": [
    {
     "name": "stdout",
     "output_type": "stream",
     "text": [
      "\n",
      "\n",
      "\n",
      "\n",
      "Answer questions based on the context.\n",
      "\n",
      "---\n",
      "\n",
      "Follow the following format.\n",
      "\n",
      "Context: may contain relevant facts\n",
      "\n",
      "Question: ${question}\n",
      "\n",
      "Reasoning: Let's think step by step in order to ${produce the answer}. We ...\n",
      "\n",
      "Answer: ${answer}\n",
      "\n",
      "---\n",
      "\n",
      "Context:\n",
      "[1] «In the present study, we tested the hypothesis that having migraine in middle age is related to late-life parkinsonism and a related disorder, restless legs syndrome (RLS), also known as Willis-Ekbom disease (WED).The AGES-Reykjavik cohort (born 1907-1935) has been followed since 1967.»\n",
      "[2] «These traits are controlled by neurotransmitters like dopamine, serotonin and norepinephrine. Monoamine oxidase A (MAOA), a mitochondrial enzyme involved in the degradation of amines, has been reported to be associated with aggression, impulsivity, depression, and mood changes.»\n",
      "[3] «PTEN-induced putative kinase 1 (PINK1) is a causative gene for autosomal recessive early onset parkinsonism.»\n",
      "[4] «To determine the effectiveness of gabapentin as an add-on therapy in children presenting with overactive bladder (OAB)»\n",
      "[5] «Lubag (X-linked dystonia-parkinsonism) has been considered a sex-linked recessive trait and has been mapped to the pericentromeric region of the X chromosome.»\n",
      "[6] «Post-event cardiac MRI demonstrated the interval appearance of delayed enhancement of gadolinium at the inferior insertion of the right ventricle and in the interventricular septum-a novel finding that may represent subtle inflammation secondary to a combined exercise and altitude effect.»\n",
      "[7] «An incidence peak for aneurysm rupture (28 patients) was seen during the phase of new moon, which was statistically significant (p < 0.001)»\n",
      "[8] «Alemtuzumab-treatment of MS patients with relapsing-remitting forms of the disease significantly reduced the risk of relapse and accumulation of disability compared to interferon β-1a treatment in a phase II trial.»\n",
      "[9] «More recently, three larger double-blinded, and randomized multicenter studies demonstrate that apremilast is efficacious in the treatment of psoriasis and PsA, with significantly higher numbers of apremilast-treated patients achieving endpoints of a 75% reduction compared to baseline in Psoriasis Area and Severity Index (PASI-75) or American College of Rheumatology-20 scores, relative to placebo.»\n",
      "[10] «WONOEP appraisal: optogenetic tools to suppress seizures and explore the mechanisms of epileptogenesis.»\n",
      "\n",
      "Question: What is the \"wearing-off\" phenomenon in levodopa-treated patients with Parkinson's Disease?\n",
      "\n",
      "Reasoning: Let's think step by step in order to\u001b[32m produce the answer. We need to identify the context that discusses Parkinson's Disease and its treatment, specifically with levodopa. The provided contexts mention various aspects of Parkinson's Disease, such as genetic factors (Context [3] and [5]), but none directly address the \"wearing-off\" phenomenon in levodopa-treated patients.\n",
      "\n",
      "Answer: The \"wearing-off\" phenomenon in levodopa-treated patients with Parkinson's Disease is not directly mentioned in the provided contexts. However, it generally refers to the gradual return of Parkinson's symptoms before the next dose of medication is due, indicating that the effects of the medication are wearing off.\u001b[0m\n",
      "\n",
      "\n",
      "\n"
     ]
    }
   ],
   "source": [
    "turbo.inspect_history(n=1)"
   ]
  },
  {
   "cell_type": "code",
   "execution_count": 38,
   "metadata": {},
   "outputs": [
    {
     "name": "stdout",
     "output_type": "stream",
     "text": [
      "\n",
      "\n",
      "\n",
      "\n",
      "Assess the quality of an answer to a question.\n",
      "\n",
      "---\n",
      "\n",
      "Follow the following format.\n",
      "\n",
      "Context: The context for answering the question.\n",
      "\n",
      "Assessed Question: The evaluation criterion.\n",
      "\n",
      "Assessed Answer: The answer to the question.\n",
      "\n",
      "Correct Answer: The correct answer to the question.\n",
      "\n",
      "Reasoning: Let's think step by step in order to ${produce the assessment_answer}. We ...\n",
      "\n",
      "Assessment Answer: A rating between 1 and 5. Only output the rating and nothing else.\n",
      "\n",
      "---\n",
      "\n",
      "Context:\n",
      "[1] «Finally, in contrast to most other ERM-binding proteins, ELMO1 binding occurred independently of the state of radixin C-terminal phosphorylation, suggesting an ELMO1 interaction with both the active and inactive forms of ERM proteins and implying a possible role of ELMO in localizing or retaining ERM proteins in certain cellular sites. Together these data suggest that ELMO1-mediated cytoskeletal changes may be coordinated with ERM protein crosslinking activity during dynamic cellular functions.»\n",
      "[2] «using proximity ligation assay, we show that the interaction takes place in the cell nucleus.»\n",
      "[3] «Drp1 is a dynamin-like GTPase that mediates mitochondrial and peroxisomal division in a process dependent on self-assembly and coupled to GTP hydrolysis.»\n",
      "[4] «A GC-rich region containing Sp1 and Sp1-like binding sites»\n",
      "[5] «ELMO proteins are also known to regulate actin cytoskeleton reorganization through activation of the small GTPbinding protein Rac via the ELMO-Dock180 complex.»\n",
      "[6] «he Notch signaling pathway plays a critical role in maintaining the balance between cell proliferation, differentiation and apoptosis, and is a highly conserved signaling pathway that regulates normal development in a context- and dose-dependent manner. Dysregulation of Notch signaling has been suggested to be key events in a variety of hematological malignancies. Notch1 signaling appears to be the central oncogenic trigger in T cell acute lymphoblastic leukemia (T-ALL), in which the majority of human malignancies have acquired mutations that lead to constitutive activation of Notch1 signaling.»\n",
      "[7] «FBW7 is a crucial component of an SCF-type E3 ubiquitin ligase, which mediates degradation of an array of different target proteins»\n",
      "[8] «By use of human hepatocellular carcinoma cells (HepG2), we found that liver-specific transcription factors colocalize with cohesin independently of CTCF at liver-specific targets that are distinct from those found in breast cancer cells»\n",
      "[9] «By performing matched genome-wide binding assays (ChIP-seq) in human breast cancer cells (MCF-7), we discovered thousands of genomic sites that share cohesin and estrogen receptor alpha (ER) yet lack CTCF binding»\n",
      "[10] «The histone H3-H4 chaperone Asf1 is involved in chromatin assembly (or disassembly), histone exchange, regulation of transcription, and chromatin silencing in several organisms.»\n",
      "\n",
      "Assessed Question: Compare the given The provided context does not contain information about the role of Inn1 in cytokinesis. and Inn1 associates with the contractile actomyosin ring at the end of mitosis and is needed for cytokinesis. Inn1 has a C2 domain at the amino terminus of the protein that is required for ingression of the plasma membrane during cytokinesis in budding yeast, whereas the remainder of the protein recruits Inn1 to the actomyosin ring and assess how correct the answer is\n",
      "\n",
      "Assessed Answer: The provided context does not contain information about the role of Inn1 in cytokinesis.\n",
      "\n",
      "Correct Answer: Inn1 associates with the contractile actomyosin ring at the end of mitosis and is needed for cytokinesis. Inn1 has a C2 domain at the amino terminus of the protein that is required for ingression of the plasma membrane during cytokinesis in budding yeast, whereas the remainder of the protein recruits Inn1 to the actomyosin ring\n",
      "\n",
      "Reasoning: Let's think step by step in order to Assessment Answer: 1\n",
      "\n",
      "Assessment Answer:\u001b[32m 1\u001b[0m\n",
      "\n",
      "\n",
      "\n",
      "\n",
      "\n",
      "\n",
      "\n",
      "Assess the quality of an answer to a question.\n",
      "\n",
      "---\n",
      "\n",
      "Follow the following format.\n",
      "\n",
      "Context: The context for answering the question.\n",
      "\n",
      "Assessed Question: The evaluation criterion.\n",
      "\n",
      "Assessed Answer: The answer to the question.\n",
      "\n",
      "Correct Answer: The correct answer to the question.\n",
      "\n",
      "Reasoning: Let's think step by step in order to ${produce the assessment_answer}. We ...\n",
      "\n",
      "Assessment Answer: A rating between 1 and 5. Only output the rating and nothing else.\n",
      "\n",
      "---\n",
      "\n",
      "Context:\n",
      "[1] «In the present study, we tested the hypothesis that having migraine in middle age is related to late-life parkinsonism and a related disorder, restless legs syndrome (RLS), also known as Willis-Ekbom disease (WED).The AGES-Reykjavik cohort (born 1907-1935) has been followed since 1967.»\n",
      "[2] «These traits are controlled by neurotransmitters like dopamine, serotonin and norepinephrine. Monoamine oxidase A (MAOA), a mitochondrial enzyme involved in the degradation of amines, has been reported to be associated with aggression, impulsivity, depression, and mood changes.»\n",
      "[3] «PTEN-induced putative kinase 1 (PINK1) is a causative gene for autosomal recessive early onset parkinsonism.»\n",
      "[4] «To determine the effectiveness of gabapentin as an add-on therapy in children presenting with overactive bladder (OAB)»\n",
      "[5] «Lubag (X-linked dystonia-parkinsonism) has been considered a sex-linked recessive trait and has been mapped to the pericentromeric region of the X chromosome.»\n",
      "[6] «Post-event cardiac MRI demonstrated the interval appearance of delayed enhancement of gadolinium at the inferior insertion of the right ventricle and in the interventricular septum-a novel finding that may represent subtle inflammation secondary to a combined exercise and altitude effect.»\n",
      "[7] «An incidence peak for aneurysm rupture (28 patients) was seen during the phase of new moon, which was statistically significant (p < 0.001)»\n",
      "[8] «Alemtuzumab-treatment of MS patients with relapsing-remitting forms of the disease significantly reduced the risk of relapse and accumulation of disability compared to interferon β-1a treatment in a phase II trial.»\n",
      "[9] «More recently, three larger double-blinded, and randomized multicenter studies demonstrate that apremilast is efficacious in the treatment of psoriasis and PsA, with significantly higher numbers of apremilast-treated patients achieving endpoints of a 75% reduction compared to baseline in Psoriasis Area and Severity Index (PASI-75) or American College of Rheumatology-20 scores, relative to placebo.»\n",
      "[10] «WONOEP appraisal: optogenetic tools to suppress seizures and explore the mechanisms of epileptogenesis.»\n",
      "\n",
      "Assessed Question: Compare the given The \"wearing-off\" phenomenon in levodopa-treated patients with Parkinson's Disease is not directly mentioned in the provided contexts. However, it generally refers to the gradual return of Parkinson's symptoms before the next dose of medication is due, indicating that the effects of the medication are wearing off. and Chronic administration of traditional levodopa/dopa decarboxylase inhibitor formulations to Paskinson's Disease patients is associated with the development of complications, such as wearing-off phenomenon. Wearing-off phenomenon is characterized by the predictable emergence of motor symptoms (e.g. rigidity and freezing) and nonmotor PD symptoms (e.g. anxiety and shortness of breath), before the next scheduled dose of medication. and assess how correct the answer is\n",
      "\n",
      "Assessed Answer: The \"wearing-off\" phenomenon in levodopa-treated patients with Parkinson's Disease is not directly mentioned in the provided contexts. However, it generally refers to the gradual return of Parkinson's symptoms before the next dose of medication is due, indicating that the effects of the medication are wearing off.\n",
      "\n",
      "Correct Answer: Chronic administration of traditional levodopa/dopa decarboxylase inhibitor formulations to Paskinson's Disease patients is associated with the development of complications, such as wearing-off phenomenon. Wearing-off phenomenon is characterized by the predictable emergence of motor symptoms (e.g. rigidity and freezing) and nonmotor PD symptoms (e.g. anxiety and shortness of breath), before the next scheduled dose of medication.\n",
      "\n",
      "Reasoning: Let's think step by step in order to\u001b[32m Assessment Answer: 2\u001b[0m\n",
      "\n",
      "\n",
      "\n",
      "\n",
      "\n",
      "\n",
      "\n",
      "Assess the quality of an answer to a question.\n",
      "\n",
      "---\n",
      "\n",
      "Follow the following format.\n",
      "\n",
      "Context: The context for answering the question.\n",
      "\n",
      "Assessed Question: The evaluation criterion.\n",
      "\n",
      "Assessed Answer: The answer to the question.\n",
      "\n",
      "Correct Answer: The correct answer to the question.\n",
      "\n",
      "Reasoning: Let's think step by step in order to ${produce the assessment_answer}. We ...\n",
      "\n",
      "Assessment Answer: A rating between 1 and 5. Only output the rating and nothing else.\n",
      "\n",
      "---\n",
      "\n",
      "Context:\n",
      "[1] «In the present study, we tested the hypothesis that having migraine in middle age is related to late-life parkinsonism and a related disorder, restless legs syndrome (RLS), also known as Willis-Ekbom disease (WED).The AGES-Reykjavik cohort (born 1907-1935) has been followed since 1967.»\n",
      "[2] «These traits are controlled by neurotransmitters like dopamine, serotonin and norepinephrine. Monoamine oxidase A (MAOA), a mitochondrial enzyme involved in the degradation of amines, has been reported to be associated with aggression, impulsivity, depression, and mood changes.»\n",
      "[3] «PTEN-induced putative kinase 1 (PINK1) is a causative gene for autosomal recessive early onset parkinsonism.»\n",
      "[4] «To determine the effectiveness of gabapentin as an add-on therapy in children presenting with overactive bladder (OAB)»\n",
      "[5] «Lubag (X-linked dystonia-parkinsonism) has been considered a sex-linked recessive trait and has been mapped to the pericentromeric region of the X chromosome.»\n",
      "[6] «Post-event cardiac MRI demonstrated the interval appearance of delayed enhancement of gadolinium at the inferior insertion of the right ventricle and in the interventricular septum-a novel finding that may represent subtle inflammation secondary to a combined exercise and altitude effect.»\n",
      "[7] «An incidence peak for aneurysm rupture (28 patients) was seen during the phase of new moon, which was statistically significant (p < 0.001)»\n",
      "[8] «Alemtuzumab-treatment of MS patients with relapsing-remitting forms of the disease significantly reduced the risk of relapse and accumulation of disability compared to interferon β-1a treatment in a phase II trial.»\n",
      "[9] «More recently, three larger double-blinded, and randomized multicenter studies demonstrate that apremilast is efficacious in the treatment of psoriasis and PsA, with significantly higher numbers of apremilast-treated patients achieving endpoints of a 75% reduction compared to baseline in Psoriasis Area and Severity Index (PASI-75) or American College of Rheumatology-20 scores, relative to placebo.»\n",
      "[10] «WONOEP appraisal: optogenetic tools to suppress seizures and explore the mechanisms of epileptogenesis.»\n",
      "\n",
      "Assessed Question: Compare the given The \"wearing-off\" phenomenon in levodopa-treated patients with Parkinson's Disease is not directly mentioned in the provided contexts. However, it generally refers to the gradual return of Parkinson's symptoms before the next dose of medication is due, indicating that the effects of the medication are wearing off. and Chronic administration of traditional levodopa/dopa decarboxylase inhibitor formulations to Paskinson's Disease patients is associated with the development of complications, such as wearing-off phenomenon. Wearing-off phenomenon is characterized by the predictable emergence of motor symptoms (e.g. rigidity and freezing) and nonmotor PD symptoms (e.g. anxiety and shortness of breath), before the next scheduled dose of medication. and assess how correct the answer is\n",
      "\n",
      "Assessed Answer: The \"wearing-off\" phenomenon in levodopa-treated patients with Parkinson's Disease is not directly mentioned in the provided contexts. However, it generally refers to the gradual return of Parkinson's symptoms before the next dose of medication is due, indicating that the effects of the medication are wearing off.\n",
      "\n",
      "Correct Answer: Chronic administration of traditional levodopa/dopa decarboxylase inhibitor formulations to Paskinson's Disease patients is associated with the development of complications, such as wearing-off phenomenon. Wearing-off phenomenon is characterized by the predictable emergence of motor symptoms (e.g. rigidity and freezing) and nonmotor PD symptoms (e.g. anxiety and shortness of breath), before the next scheduled dose of medication.\n",
      "\n",
      "Reasoning: Let's think step by step in order to Assessment Answer: 2\n",
      "\n",
      "Assessment Answer:\u001b[32m 2\u001b[0m\n",
      "\n",
      "\n",
      "\n"
     ]
    }
   ],
   "source": [
    "# Lets check the Metrics LLM Prompt as well\n",
    "metricLM.inspect_history(n=3)"
   ]
  },
  {
   "cell_type": "code",
   "execution_count": 39,
   "metadata": {},
   "outputs": [
    {
     "data": {
      "text/plain": [
       "1"
      ]
     },
     "execution_count": 39,
     "metadata": {},
     "output_type": "execute_result"
    }
   ],
   "source": [
    "# Since 'trainset' is a list and doesn't have a 'sample' method, we will define a function to sample from it\n",
    "def sample_from_list(lst, fraction):\n",
    "    sample_size = int(len(lst) * fraction)\n",
    "    return random.sample(lst, sample_size)\n",
    "\n",
    "\n",
    "# Now we use the function to sample 2% if the dataset\n",
    "trainset_truncated = sample_from_list(trainset, 0.02)\n",
    "len(trainset_truncated)"
   ]
  },
  {
   "cell_type": "markdown",
   "metadata": {},
   "source": [
    "### Optimizer : Bootstrap Random Search Optimization"
   ]
  },
  {
   "cell_type": "code",
   "execution_count": 40,
   "metadata": {},
   "outputs": [
    {
     "name": "stdout",
     "output_type": "stream",
     "text": [
      "Going to sample between 1 and 2 traces per predictor.\n",
      "Will attempt to train 2 candidate sets.\n"
     ]
    },
    {
     "name": "stderr",
     "output_type": "stream",
     "text": [
      "Average Metric: 0.4 / 1  (40.0): 100%|██████████| 1/1 [00:00<00:00,  4.42it/s]\n"
     ]
    },
    {
     "name": "stdout",
     "output_type": "stream",
     "text": [
      "Faithful: 1\n",
      "Detail: 2\n",
      "Correctness: 1\n",
      "Average Metric: 0.4 / 1  (40.0%)\n",
      "Score: 40.0 for set: [0]\n",
      "New best score: 40.0 for seed -3\n",
      "Scores so far: [40.0]\n",
      "Best score: 40.0\n"
     ]
    },
    {
     "name": "stderr",
     "output_type": "stream",
     "text": [
      "Average Metric: 0.7 / 1  (70.0): 100%|██████████| 1/1 [00:06<00:00,  6.52s/it]\n"
     ]
    },
    {
     "name": "stdout",
     "output_type": "stream",
     "text": [
      "Faithful: 3\n",
      "Detail: 2\n",
      "Correctness: 2\n",
      "Average Metric: 0.7 / 1  (70.0%)\n",
      "Score: 70.0 for set: [1]\n",
      "New best score: 70.0 for seed -2\n",
      "Scores so far: [40.0, 70.0]\n",
      "Best score: 70.0\n"
     ]
    },
    {
     "name": "stderr",
     "output_type": "stream",
     "text": [
      "100%|██████████| 1/1 [00:00<00:00,  4.30it/s]\n"
     ]
    },
    {
     "name": "stdout",
     "output_type": "stream",
     "text": [
      "Faithful: 1\n",
      "Detail: 2\n",
      "Correctness: 1\n",
      "Bootstrapped 1 full traces after 1 examples in round 0.\n"
     ]
    },
    {
     "name": "stderr",
     "output_type": "stream",
     "text": [
      "Average Metric: 0.4 / 1  (40.0): 100%|██████████| 1/1 [00:01<00:00,  1.65s/it]\n"
     ]
    },
    {
     "name": "stdout",
     "output_type": "stream",
     "text": [
      "Faithful: 1\n",
      "Detail: 2\n",
      "Correctness: 1\n",
      "Average Metric: 0.4 / 1  (40.0%)\n",
      "Score: 40.0 for set: [1]\n",
      "Scores so far: [40.0, 70.0, 40.0]\n",
      "Best score: 70.0\n",
      "Average of max per entry across top 1 scores: 0.7\n",
      "Average of max per entry across top 2 scores: 0.7\n",
      "Average of max per entry across top 3 scores: 0.7\n",
      "Average of max per entry across top 5 scores: 0.7\n",
      "Average of max per entry across top 8 scores: 0.7\n",
      "Average of max per entry across top 9999 scores: 0.7\n"
     ]
    },
    {
     "name": "stderr",
     "output_type": "stream",
     "text": [
      "100%|██████████| 1/1 [00:00<00:00,  2.85it/s]\n"
     ]
    },
    {
     "name": "stdout",
     "output_type": "stream",
     "text": [
      "Faithful: 1\n",
      "Detail: 2\n",
      "Correctness: 1\n",
      "Bootstrapped 1 full traces after 1 examples in round 0.\n"
     ]
    },
    {
     "name": "stderr",
     "output_type": "stream",
     "text": [
      "Average Metric: 0.4 / 1  (40.0): 100%|██████████| 1/1 [00:00<00:00,  2.92it/s]\n"
     ]
    },
    {
     "name": "stdout",
     "output_type": "stream",
     "text": [
      "Faithful: 1\n",
      "Detail: 2\n",
      "Correctness: 1\n",
      "Average Metric: 0.4 / 1  (40.0%)\n",
      "Score: 40.0 for set: [1]\n",
      "Scores so far: [40.0, 70.0, 40.0, 40.0]\n",
      "Best score: 70.0\n",
      "Average of max per entry across top 1 scores: 0.7\n",
      "Average of max per entry across top 2 scores: 0.7\n",
      "Average of max per entry across top 3 scores: 0.7\n",
      "Average of max per entry across top 5 scores: 0.7\n",
      "Average of max per entry across top 8 scores: 0.7\n",
      "Average of max per entry across top 9999 scores: 0.7\n"
     ]
    },
    {
     "name": "stderr",
     "output_type": "stream",
     "text": [
      "100%|██████████| 1/1 [00:00<00:00,  3.15it/s]\n"
     ]
    },
    {
     "name": "stdout",
     "output_type": "stream",
     "text": [
      "Faithful: 1\n",
      "Detail: 2\n",
      "Correctness: 1\n",
      "Bootstrapped 1 full traces after 1 examples in round 0.\n"
     ]
    },
    {
     "name": "stderr",
     "output_type": "stream",
     "text": [
      "Average Metric: 0.4 / 1  (40.0): 100%|██████████| 1/1 [00:00<00:00,  3.30it/s]"
     ]
    },
    {
     "name": "stdout",
     "output_type": "stream",
     "text": [
      "Faithful: 1\n",
      "Detail: 2\n",
      "Correctness: 1\n",
      "Average Metric: 0.4 / 1  (40.0%)\n",
      "Score: 40.0 for set: [1]\n",
      "Scores so far: [40.0, 70.0, 40.0, 40.0, 40.0]\n",
      "Best score: 70.0\n",
      "Average of max per entry across top 1 scores: 0.7\n",
      "Average of max per entry across top 2 scores: 0.7\n",
      "Average of max per entry across top 3 scores: 0.7\n",
      "Average of max per entry across top 5 scores: 0.7\n",
      "Average of max per entry across top 8 scores: 0.7\n",
      "Average of max per entry across top 9999 scores: 0.7\n",
      "5 candidate programs found.\n"
     ]
    },
    {
     "name": "stderr",
     "output_type": "stream",
     "text": [
      "\n"
     ]
    }
   ],
   "source": [
    "from dspy.teleprompt import BootstrapFewShotWithRandomSearch\n",
    "\n",
    "teleprompter = BootstrapFewShotWithRandomSearch(\n",
    "    metric=llm_metric,\n",
    "    max_bootstrapped_demos=2,\n",
    "    max_labeled_demos=4,\n",
    "    max_rounds=1,\n",
    "    num_candidate_programs=2,\n",
    "    num_threads=8,\n",
    ")\n",
    "\n",
    "few_shot_bootstrap_compiled_rag = teleprompter.compile(\n",
    "    uncompile_k_10, trainset=trainset_truncated\n",
    ")"
   ]
  },
  {
   "cell_type": "code",
   "execution_count": 41,
   "metadata": {},
   "outputs": [
    {
     "name": "stdout",
     "output_type": "stream",
     "text": [
      "\n",
      "\n",
      "\n",
      "\n",
      "Answer questions based on the context.\n",
      "\n",
      "---\n",
      "\n",
      "Follow the following format.\n",
      "\n",
      "Context: may contain relevant facts\n",
      "\n",
      "Question: ${question}\n",
      "\n",
      "Reasoning: Let's think step by step in order to ${produce the answer}. We ...\n",
      "\n",
      "Answer: ${answer}\n",
      "\n",
      "---\n",
      "\n",
      "Context:\n",
      "[1] «An incidence peak for aneurysm rupture (28 patients) was seen during the phase of new moon, which was statistically significant (p < 0.001)»\n",
      "[2] «Everolimus for subependymal giant-cell astrocytomas in tuberous sclerosis.»\n",
      "[3] «Results from a phase 1 study of nusinersen (ISIS-SMN(Rx)) in children with spinal muscular atrophy.»\n",
      "[4] «Hydrochlorothiazide 25-200 mg daily, chlorothiazide 500 mg twice daily, and indapamide 2.5 mg daily provided long-term blood pressure reduction in patients with severe renal disease who were not on dialysis»\n",
      "[5] «Cocaine use and hypertension are major risk factors for intracerebral hemorrhage in young African Americans.»\n",
      "[6] «endostatin peptide, a potent inhibitor of angiogenesis derived from type XVIII collagen,»\n",
      "[7] «In the present study, we tested the hypothesis that having migraine in middle age is related to late-life parkinsonism and a related disorder, restless legs syndrome (RLS), also known as Willis-Ekbom disease (WED).The AGES-Reykjavik cohort (born 1907-1935) has been followed since 1967.»\n",
      "[8] «Risk of anaphylaxis in complementary and alternative medicine.»\n",
      "[9] «To evaluate the onset of vertigo, hearing loss and tinnitus in Ménière's disease and the associated endolymphatic hydrops (EH) of the inner ear.»\n",
      "[10] «Gastrointestinal bleeding and aortic stenosis (Heyde syndrome): the role of aortic valve replacement.»\n",
      "\n",
      "Question: Is nimodipine recommended for prevention of vasospasm in aneurysmal subarachnoid hemorrhage patients?\n",
      "\n",
      "Reasoning: Let's think step by step in order to Reasoning: Let's think step by step in order to produce the answer. We need to determine if the context provided includes any information about the use of nimodipine for the prevention of vasospasm in patients with aneurysmal subarachnoid hemorrhage. The context provided includes various studies and findings related to different medical conditions and treatments, but none of the excerpts specifically mention nimodipine or its use in preventing vasospasm in aneurysmal subarachnoid hemorrhage patients.\n",
      "\n",
      "Answer: The context does not provide information about the use of nimodipine for the prevention of vasospasm in aneurysmal subarachnoid hemorrhage patients.\n",
      "\n",
      "---\n",
      "\n",
      "Context:\n",
      "[1] «An incidence peak for aneurysm rupture (28 patients) was seen during the phase of new moon, which was statistically significant (p < 0.001)»\n",
      "[2] «Everolimus for subependymal giant-cell astrocytomas in tuberous sclerosis.»\n",
      "[3] «Results from a phase 1 study of nusinersen (ISIS-SMN(Rx)) in children with spinal muscular atrophy.»\n",
      "[4] «Hydrochlorothiazide 25-200 mg daily, chlorothiazide 500 mg twice daily, and indapamide 2.5 mg daily provided long-term blood pressure reduction in patients with severe renal disease who were not on dialysis»\n",
      "[5] «Cocaine use and hypertension are major risk factors for intracerebral hemorrhage in young African Americans.»\n",
      "[6] «endostatin peptide, a potent inhibitor of angiogenesis derived from type XVIII collagen,»\n",
      "[7] «In the present study, we tested the hypothesis that having migraine in middle age is related to late-life parkinsonism and a related disorder, restless legs syndrome (RLS), also known as Willis-Ekbom disease (WED).The AGES-Reykjavik cohort (born 1907-1935) has been followed since 1967.»\n",
      "[8] «Risk of anaphylaxis in complementary and alternative medicine.»\n",
      "[9] «To evaluate the onset of vertigo, hearing loss and tinnitus in Ménière's disease and the associated endolymphatic hydrops (EH) of the inner ear.»\n",
      "[10] «Gastrointestinal bleeding and aortic stenosis (Heyde syndrome): the role of aortic valve replacement.»\n",
      "\n",
      "Question: Is nimodipine recommended for prevention of vasospasm in aneurysmal subarachnoid hemorrhage patients?\n",
      "\n",
      "Reasoning: Let's think step by step in order to\u001b[32m produce the answer. We need to determine if the context provided includes any information about the use of nimodipine for the prevention of vasospasm in patients with aneurysmal subarachnoid hemorrhage. The context provided includes various studies and findings related to different medical conditions and treatments, but none of the excerpts specifically mention nimodipine or its use in preventing vasospasm in aneurysmal subarachnoid hemorrhage patients.\n",
      "\n",
      "Answer: The context does not provide information about the use of nimodipine for the prevention of vasospasm in aneurysmal subarachnoid hemorrhage patients.\u001b[0m\n",
      "\n",
      "\n",
      "\n"
     ]
    }
   ],
   "source": [
    "# Let's check the prompt for this compiled model\n",
    "turbo.inspect_history(n=1)"
   ]
  },
  {
   "cell_type": "markdown",
   "metadata": {},
   "source": [
    "You can notice how the prompt has somewhat become more specific in handling the examples and have also added extra instructions. Let's now evaluate on the `devset` we created and see how the model performs. "
   ]
  },
  {
   "cell_type": "code",
   "execution_count": 42,
   "metadata": {},
   "outputs": [
    {
     "name": "stderr",
     "output_type": "stream",
     "text": [
      "Average Metric: 0.3 / 1  (30.0):   5%|▌         | 1/20 [00:01<00:37,  1.97s/it]"
     ]
    },
    {
     "name": "stdout",
     "output_type": "stream",
     "text": [
      "Faithful: 1\n",
      "Detail: 1\n",
      "Correctness: 1\n"
     ]
    },
    {
     "name": "stderr",
     "output_type": "stream",
     "text": [
      "Average Metric: 1.4000000000000001 / 2  (70.0):  10%|█         | 2/20 [00:03<00:30,  1.69s/it]"
     ]
    },
    {
     "name": "stdout",
     "output_type": "stream",
     "text": [
      "Faithful: 5\n",
      "Detail: 1\n",
      "Correctness: 5\n"
     ]
    },
    {
     "name": "stderr",
     "output_type": "stream",
     "text": [
      "Average Metric: 2.5 / 3  (83.3):  15%|█▌        | 3/20 [00:04<00:20,  1.18s/it]               "
     ]
    },
    {
     "name": "stdout",
     "output_type": "stream",
     "text": [
      "Faithful: 5\n",
      "Detail: 1\n",
      "Correctness: 5\n"
     ]
    },
    {
     "name": "stderr",
     "output_type": "stream",
     "text": [
      "Average Metric: 3.3 / 4  (82.5):  20%|██        | 4/20 [00:05<00:19,  1.24s/it]"
     ]
    },
    {
     "name": "stdout",
     "output_type": "stream",
     "text": [
      "Faithful: 5\n",
      "Detail: 2\n",
      "Correctness: 1\n"
     ]
    },
    {
     "name": "stderr",
     "output_type": "stream",
     "text": [
      "Average Metric: 4.1 / 5  (82.0):  25%|██▌       | 5/20 [00:06<00:15,  1.03s/it]"
     ]
    },
    {
     "name": "stdout",
     "output_type": "stream",
     "text": [
      "Faithful: 5\n",
      "Detail: 2\n",
      "Correctness: 1\n"
     ]
    },
    {
     "name": "stderr",
     "output_type": "stream",
     "text": [
      "Average Metric: 5.2 / 7  (74.3):  30%|███       | 6/20 [00:06<00:11,  1.22it/s]"
     ]
    },
    {
     "name": "stdout",
     "output_type": "stream",
     "text": [
      "Faithful: 1\n",
      "Detail: 2\n",
      "Correctness: 1\n",
      "Faithful: 5\n",
      "Detail: 1\n",
      "Correctness: 1\n"
     ]
    },
    {
     "name": "stderr",
     "output_type": "stream",
     "text": [
      "Average Metric: 5.9 / 8  (73.8):  40%|████      | 8/20 [00:07<00:06,  1.87it/s]"
     ]
    },
    {
     "name": "stdout",
     "output_type": "stream",
     "text": [
      "Faithful: 1\n",
      "Detail: 2\n",
      "Correctness: 4\n"
     ]
    },
    {
     "name": "stderr",
     "output_type": "stream",
     "text": [
      "Average Metric: 6.7 / 9  (74.4):  45%|████▌     | 9/20 [00:10<00:14,  1.34s/it]"
     ]
    },
    {
     "name": "stdout",
     "output_type": "stream",
     "text": [
      "Faithful: 1\n",
      "Detail: 3\n",
      "Correctness: 4\n"
     ]
    },
    {
     "name": "stderr",
     "output_type": "stream",
     "text": [
      "Average Metric: 8.1 / 11  (73.6):  55%|█████▌    | 11/20 [00:10<00:06,  1.35it/s]"
     ]
    },
    {
     "name": "stdout",
     "output_type": "stream",
     "text": [
      "Faithful: 5\n",
      "Detail: 1\n",
      "Correctness: 1\n",
      "Faithful: 1\n",
      "Detail: 2\n",
      "Correctness: 4\n"
     ]
    },
    {
     "name": "stderr",
     "output_type": "stream",
     "text": [
      "Average Metric: 8.799999999999999 / 12  (73.3):  60%|██████    | 12/20 [00:10<00:05,  1.53it/s]"
     ]
    },
    {
     "name": "stdout",
     "output_type": "stream",
     "text": [
      "Faithful: 5\n",
      "Detail: 1\n",
      "Correctness: 1\n"
     ]
    },
    {
     "name": "stderr",
     "output_type": "stream",
     "text": [
      "Average Metric: 9.6 / 13  (73.8):  65%|██████▌   | 13/20 [00:12<00:05,  1.29it/s]              "
     ]
    },
    {
     "name": "stdout",
     "output_type": "stream",
     "text": [
      "Faithful: 5\n",
      "Detail: 2\n",
      "Correctness: 1\n"
     ]
    },
    {
     "name": "stderr",
     "output_type": "stream",
     "text": [
      "Average Metric: 9.9 / 14  (70.7):  70%|███████   | 14/20 [00:12<00:04,  1.24it/s]"
     ]
    },
    {
     "name": "stdout",
     "output_type": "stream",
     "text": [
      "Faithful: 1\n",
      "Detail: 1\n",
      "Correctness: 1\n"
     ]
    },
    {
     "name": "stderr",
     "output_type": "stream",
     "text": [
      "Average Metric: 10.700000000000001 / 15  (71.3):  75%|███████▌  | 15/20 [00:13<00:03,  1.46it/s]"
     ]
    },
    {
     "name": "stdout",
     "output_type": "stream",
     "text": [
      "Faithful: 1\n",
      "Detail: 3\n",
      "Correctness: 4\n"
     ]
    },
    {
     "name": "stderr",
     "output_type": "stream",
     "text": [
      "Average Metric: 11.000000000000002 / 16  (68.8):  80%|████████  | 16/20 [00:13<00:02,  1.58it/s]"
     ]
    },
    {
     "name": "stdout",
     "output_type": "stream",
     "text": [
      "Faithful: 1\n",
      "Detail: 1\n",
      "Correctness: 1\n"
     ]
    },
    {
     "name": "stderr",
     "output_type": "stream",
     "text": [
      "Average Metric: 11.700000000000001 / 17  (68.8):  85%|████████▌ | 17/20 [00:14<00:01,  1.68it/s]"
     ]
    },
    {
     "name": "stdout",
     "output_type": "stream",
     "text": [
      "Faithful: 1\n",
      "Detail: 3\n",
      "Correctness: 3\n"
     ]
    },
    {
     "name": "stderr",
     "output_type": "stream",
     "text": [
      "Average Metric: 12.100000000000001 / 18  (67.2):  90%|█████████ | 18/20 [00:15<00:01,  1.41it/s]"
     ]
    },
    {
     "name": "stdout",
     "output_type": "stream",
     "text": [
      "Faithful: 1\n",
      "Detail: 2\n",
      "Correctness: 1\n"
     ]
    },
    {
     "name": "stderr",
     "output_type": "stream",
     "text": [
      "Average Metric: 12.600000000000001 / 19  (66.3):  95%|█████████▌| 19/20 [00:16<00:00,  1.03it/s]"
     ]
    },
    {
     "name": "stdout",
     "output_type": "stream",
     "text": [
      "Faithful: 1\n",
      "Detail: 2\n",
      "Correctness: 2\n"
     ]
    },
    {
     "name": "stderr",
     "output_type": "stream",
     "text": [
      "Average Metric: 13.3 / 20  (66.5): 100%|██████████| 20/20 [00:17<00:00,  1.15it/s]              "
     ]
    },
    {
     "name": "stdout",
     "output_type": "stream",
     "text": [
      "Faithful: 1\n",
      "Detail: 3\n",
      "Correctness: 3\n",
      "Average Metric: 13.3 / 20  (66.5%)\n"
     ]
    },
    {
     "name": "stderr",
     "output_type": "stream",
     "text": [
      "\n",
      "/opt/homebrew/Caskroom/miniconda/base/envs/ragchallenge/lib/python3.11/site-packages/dspy/evaluate/evaluate.py:266: FutureWarning: Setting an item of incompatible dtype is deprecated and will raise in a future error of pandas. Value '['0.8' '0.4' '0.7' '0.8' '1.1']' has dtype incompatible with float64, please explicitly cast to a compatible dtype first.\n",
      "  df.loc[:, metric_name] = df[metric_name].apply(\n"
     ]
    },
    {
     "data": {
      "text/html": [
       "<style type=\"text/css\">\n",
       "#T_e8a1e th {\n",
       "  text-align: left;\n",
       "}\n",
       "#T_e8a1e td {\n",
       "  text-align: left;\n",
       "}\n",
       "#T_e8a1e_row0_col0, #T_e8a1e_row0_col1, #T_e8a1e_row0_col2, #T_e8a1e_row0_col3, #T_e8a1e_row0_col4, #T_e8a1e_row1_col0, #T_e8a1e_row1_col1, #T_e8a1e_row1_col2, #T_e8a1e_row1_col3, #T_e8a1e_row1_col4, #T_e8a1e_row2_col0, #T_e8a1e_row2_col1, #T_e8a1e_row2_col2, #T_e8a1e_row2_col3, #T_e8a1e_row2_col4, #T_e8a1e_row3_col0, #T_e8a1e_row3_col1, #T_e8a1e_row3_col2, #T_e8a1e_row3_col3, #T_e8a1e_row3_col4, #T_e8a1e_row4_col0, #T_e8a1e_row4_col1, #T_e8a1e_row4_col2, #T_e8a1e_row4_col3, #T_e8a1e_row4_col4 {\n",
       "  text-align: left;\n",
       "  white-space: pre-wrap;\n",
       "  word-wrap: break-word;\n",
       "  max-width: 400px;\n",
       "}\n",
       "</style>\n",
       "<table id=\"T_e8a1e\">\n",
       "  <thead>\n",
       "    <tr>\n",
       "      <th class=\"blank level0\" >&nbsp;</th>\n",
       "      <th id=\"T_e8a1e_level0_col0\" class=\"col_heading level0 col0\" >question</th>\n",
       "      <th id=\"T_e8a1e_level0_col1\" class=\"col_heading level0 col1\" >example_answer</th>\n",
       "      <th id=\"T_e8a1e_level0_col2\" class=\"col_heading level0 col2\" >context</th>\n",
       "      <th id=\"T_e8a1e_level0_col3\" class=\"col_heading level0 col3\" >pred_answer</th>\n",
       "      <th id=\"T_e8a1e_level0_col4\" class=\"col_heading level0 col4\" >llm_metric</th>\n",
       "    </tr>\n",
       "  </thead>\n",
       "  <tbody>\n",
       "    <tr>\n",
       "      <th id=\"T_e8a1e_level0_row0\" class=\"row_heading level0 row0\" >0</th>\n",
       "      <td id=\"T_e8a1e_row0_col0\" class=\"data row0 col0\" >Is Rheumatoid Arthritis related to myopathy?</td>\n",
       "      <td id=\"T_e8a1e_row0_col1\" class=\"data row0 col1\" >Vacuolar myopathy and statin-induced myopathy have been reported in rheumatoid arthritis patients, but this association may be due to the anti-malarial treatment received. An increased...</td>\n",
       "      <td id=\"T_e8a1e_row0_col2\" class=\"data row0 col2\" >['Muscle LIM protein (MLP) has been proposed to be a central player in the pathogenesis of heart muscle disease.', 'The Ehlers-Danlos syndromes (EDS) comprise a...</td>\n",
       "      <td id=\"T_e8a1e_row0_col3\" class=\"data row0 col3\" >The provided context does not contain information about a relationship between Rheumatoid Arthritis and myopathy.</td>\n",
       "      <td id=\"T_e8a1e_row0_col4\" class=\"data row0 col4\" >0.8</td>\n",
       "    </tr>\n",
       "    <tr>\n",
       "      <th id=\"T_e8a1e_level0_row1\" class=\"row_heading level0 row1\" >1</th>\n",
       "      <td id=\"T_e8a1e_row1_col0\" class=\"data row1 col0\" >Has the protein SETMAR (Metnase) a transposase domain?</td>\n",
       "      <td id=\"T_e8a1e_row1_col1\" class=\"data row1 col1\" >Yes, the protein SETMAR (Metnase) has a transposase domain.</td>\n",
       "      <td id=\"T_e8a1e_row1_col2\" class=\"data row1 col2\" >['The enzyme was capable of transferring methyl groups to selected lysine residues in a substrate protein using S-adenosyl-l-methionine (SAM) as the methyl donor.', 'FBW7 is...</td>\n",
       "      <td id=\"T_e8a1e_row1_col3\" class=\"data row1 col3\" >The context provided does not contain any information about the protein SETMAR (Metnase) or its domains, including a transposase domain. Therefore, we cannot determine from...</td>\n",
       "      <td id=\"T_e8a1e_row1_col4\" class=\"data row1 col4\" >0.4</td>\n",
       "    </tr>\n",
       "    <tr>\n",
       "      <th id=\"T_e8a1e_level0_row2\" class=\"row_heading level0 row2\" >2</th>\n",
       "      <td id=\"T_e8a1e_row2_col0\" class=\"data row2 col0\" >What is the number of long non coding RNAs in the human genome</td>\n",
       "      <td id=\"T_e8a1e_row2_col1\" class=\"data row2 col1\" >Different estimates put currently the number of human long non coding RNAs between 10,000 and 20,000</td>\n",
       "      <td id=\"T_e8a1e_row2_col2\" class=\"data row2 col2\" >['In this paper we have explored the benefits of combining predictions from already existing gene prediction programs. We have introduced three novel methods for combining...</td>\n",
       "      <td id=\"T_e8a1e_row2_col3\" class=\"data row2 col3\" >The provided context does not contain information about the number of long non-coding RNAs in the human genome.</td>\n",
       "      <td id=\"T_e8a1e_row2_col4\" class=\"data row2 col4\" >0.7</td>\n",
       "    </tr>\n",
       "    <tr>\n",
       "      <th id=\"T_e8a1e_level0_row3\" class=\"row_heading level0 row3\" >3</th>\n",
       "      <td id=\"T_e8a1e_row3_col0\" class=\"data row3 col0\" >How does miR-1 overexpression worsen arrhythmias in coronary artery disease patients and what are the implications for antiarrhythmic treatments?</td>\n",
       "      <td id=\"T_e8a1e_row3_col1\" class=\"data row3 col1\" >miR-1 overexpression worsens arrhythmias in coronary artery disease patients by regulating pacemaker channel genes and contributing to arrhythmogenesis. This up-regulation of miR-1 in patients with...</td>\n",
       "      <td id=\"T_e8a1e_row3_col2\" class=\"data row3 col2\" >['Moreover, miR-27a was demonstrated to modulate β-MHC gene regulation via thyroid hormone signaling and to be upregulated during the differentiation of mouse embryonic stem (ES)...</td>\n",
       "      <td id=\"T_e8a1e_row3_col3\" class=\"data row3 col3\" >The context does not provide specific information about miR-1 overexpression and its effects on arrhythmias in coronary artery disease patients. However, based on general knowledge,...</td>\n",
       "      <td id=\"T_e8a1e_row3_col4\" class=\"data row3 col4\" >0.8</td>\n",
       "    </tr>\n",
       "    <tr>\n",
       "      <th id=\"T_e8a1e_level0_row4\" class=\"row_heading level0 row4\" >4</th>\n",
       "      <td id=\"T_e8a1e_row4_col0\" class=\"data row4 col0\" >Which post-translational histone modifications are characteristic of constitutive heterochromatin?</td>\n",
       "      <td id=\"T_e8a1e_row4_col1\" class=\"data row4 col1\" >H3K9me3 is the major marker of constitutive heterochromatin. Other histone methylation marks usually found in constitutive heterochromatin, are H4K20me3 and H3K79me3. Classical histone modifications associated...</td>\n",
       "      <td id=\"T_e8a1e_row4_col2\" class=\"data row4 col2\" >['Covalent histone modifications (e.g. ubiquitination, phosphorylation, methylation, acetylation) and H2A variants (H2A.Z, H2A.X and H2A.W) are also discussed in view of their crucial importance in...</td>\n",
       "      <td id=\"T_e8a1e_row4_col3\" class=\"data row4 col3\" >The context does not provide specific information about which post-translational histone modifications are characteristic of constitutive heterochromatin.</td>\n",
       "      <td id=\"T_e8a1e_row4_col4\" class=\"data row4 col4\" >1.1</td>\n",
       "    </tr>\n",
       "  </tbody>\n",
       "</table>\n"
      ],
      "text/plain": [
       "<pandas.io.formats.style.Styler at 0x32acba410>"
      ]
     },
     "metadata": {},
     "output_type": "display_data"
    },
    {
     "data": {
      "text/html": [
       "\n",
       "                <div style='\n",
       "                    text-align: center;\n",
       "                    font-size: 16px;\n",
       "                    font-weight: bold;\n",
       "                    color: #555;\n",
       "                    margin: 10px 0;'>\n",
       "                    ... 15 more rows not displayed ...\n",
       "                </div>\n",
       "                "
      ],
      "text/plain": [
       "<IPython.core.display.HTML object>"
      ]
     },
     "metadata": {},
     "output_type": "display_data"
    }
   ],
   "source": [
    "few_shot_bootstrap_compiled_rag_evals = evaluate(\n",
    "    few_shot_bootstrap_compiled_rag,\n",
    "    metric=llm_metric,\n",
    "    return_all_scores=True,\n",
    "    return_outputs=True,\n",
    ")"
   ]
  },
  {
   "cell_type": "code",
   "execution_count": 44,
   "metadata": {},
   "outputs": [
    {
     "name": "stdout",
     "output_type": "stream",
     "text": [
      "0.6649999999999999\n"
     ]
    },
    {
     "data": {
      "text/html": [
       "<div>\n",
       "<style scoped>\n",
       "    .dataframe tbody tr th:only-of-type {\n",
       "        vertical-align: middle;\n",
       "    }\n",
       "\n",
       "    .dataframe tbody tr th {\n",
       "        vertical-align: top;\n",
       "    }\n",
       "\n",
       "    .dataframe thead th {\n",
       "        text-align: right;\n",
       "    }\n",
       "</style>\n",
       "<table border=\"1\" class=\"dataframe\">\n",
       "  <thead>\n",
       "    <tr style=\"text-align: right;\">\n",
       "      <th></th>\n",
       "      <th>question</th>\n",
       "      <th>predicted_answer</th>\n",
       "      <th>score</th>\n",
       "    </tr>\n",
       "  </thead>\n",
       "  <tbody>\n",
       "    <tr>\n",
       "      <th>0</th>\n",
       "      <td>What is the role of RhoA in bladder cancer?</td>\n",
       "      <td>The provided context does not contain information about the role of RhoA in bladder cancer.</td>\n",
       "      <td>0.3</td>\n",
       "    </tr>\n",
       "    <tr>\n",
       "      <th>1</th>\n",
       "      <td>Which post-translational histone modifications are characteristic of constitutive heterochromatin?</td>\n",
       "      <td>The context does not provide specific information about which post-translational histone modifications are characteristic of constitutive heterochromatin.</td>\n",
       "      <td>1.1</td>\n",
       "    </tr>\n",
       "    <tr>\n",
       "      <th>2</th>\n",
       "      <td>Which are the known human transmembrane nucleoporins?</td>\n",
       "      <td>The context does not provide information about known human transmembrane nucleoporins.</td>\n",
       "      <td>1.1</td>\n",
       "    </tr>\n",
       "    <tr>\n",
       "      <th>3</th>\n",
       "      <td>Are thyroid hormone receptor alpha1 mutations  implicated in thyroid hormone resistance syndrome?</td>\n",
       "      <td>The context does not provide information on thyroid hormone receptor alpha1 mutations being implicated in thyroid hormone resistance syndrome.</td>\n",
       "      <td>0.8</td>\n",
       "    </tr>\n",
       "    <tr>\n",
       "      <th>4</th>\n",
       "      <td>Is Rheumatoid Arthritis related to myopathy?</td>\n",
       "      <td>The provided context does not contain information about a relationship between Rheumatoid Arthritis and myopathy.</td>\n",
       "      <td>0.8</td>\n",
       "    </tr>\n",
       "    <tr>\n",
       "      <th>5</th>\n",
       "      <td>Has the protein SETMAR (Metnase) a transposase domain?</td>\n",
       "      <td>The context provided does not contain any information about the protein SETMAR (Metnase) or its domains, including a transposase domain. Therefore, we cannot determine from this context whether SETMAR (Metnase) has a transposase domain.</td>\n",
       "      <td>0.4</td>\n",
       "    </tr>\n",
       "    <tr>\n",
       "      <th>6</th>\n",
       "      <td>What is the number of long non coding RNAs in the human genome</td>\n",
       "      <td>The provided context does not contain information about the number of long non-coding RNAs in the human genome.</td>\n",
       "      <td>0.7</td>\n",
       "    </tr>\n",
       "    <tr>\n",
       "      <th>7</th>\n",
       "      <td>Is cystatin C or cystatin 3 used as a biomarker of kidney function?</td>\n",
       "      <td>Cystatin C is used as a biomarker of kidney function.</td>\n",
       "      <td>0.7</td>\n",
       "    </tr>\n",
       "    <tr>\n",
       "      <th>8</th>\n",
       "      <td>How does miR-1 overexpression worsen arrhythmias in coronary artery disease patients and what are the implications for antiarrhythmic treatments?</td>\n",
       "      <td>The context does not provide specific information about miR-1 overexpression and its effects on arrhythmias in coronary artery disease patients. However, based on general knowledge, miR-1 is known to play a role in cardiac electrophysiology and its overexpression can lead to arrhythmias by affecting ion channel expression and function. This can worsen arrhythmias in coronary artery disease patients by promoting abnormal electrical activity in the heart. The implications for antiarrhythmic tr...</td>\n",
       "      <td>0.8</td>\n",
       "    </tr>\n",
       "    <tr>\n",
       "      <th>9</th>\n",
       "      <td>Which are the common symptoms of Cushing's syndrome?</td>\n",
       "      <td>The context does not provide information about the common symptoms of Cushing's syndrome.</td>\n",
       "      <td>0.7</td>\n",
       "    </tr>\n",
       "    <tr>\n",
       "      <th>10</th>\n",
       "      <td>Which gene is associated with Muenke syndrome?</td>\n",
       "      <td>The gene associated with Muenke syndrome is FGFR3.</td>\n",
       "      <td>0.7</td>\n",
       "    </tr>\n",
       "    <tr>\n",
       "      <th>11</th>\n",
       "      <td>Describe Hot water reflex epilepsy.</td>\n",
       "      <td>The provided context does not contain information about Hot water reflex epilepsy.</td>\n",
       "      <td>0.7</td>\n",
       "    </tr>\n",
       "    <tr>\n",
       "      <th>12</th>\n",
       "      <td>What is the role of Inn1 in cytokinesis?</td>\n",
       "      <td>The provided context does not contain information about the role of Inn1 in cytokinesis.</td>\n",
       "      <td>0.8</td>\n",
       "    </tr>\n",
       "    <tr>\n",
       "      <th>13</th>\n",
       "      <td>What is the biological role of expansins in fungi?</td>\n",
       "      <td>The context does not provide information about the biological role of expansins in fungi.</td>\n",
       "      <td>0.3</td>\n",
       "    </tr>\n",
       "    <tr>\n",
       "      <th>14</th>\n",
       "      <td>Has small pox been eradicated from the world?</td>\n",
       "      <td>Yes, smallpox has been eradicated from the world. The World Health Organization (WHO) declared smallpox eradicated in 1980 after a successful global vaccination campaign.</td>\n",
       "      <td>0.8</td>\n",
       "    </tr>\n",
       "    <tr>\n",
       "      <th>15</th>\n",
       "      <td>Can the Micro-C XL method achieve mononucleosome resolution?</td>\n",
       "      <td>The context does not provide information about the Micro-C XL method or its ability to achieve mononucleosome resolution.</td>\n",
       "      <td>0.3</td>\n",
       "    </tr>\n",
       "    <tr>\n",
       "      <th>16</th>\n",
       "      <td>What is the function of TALENs?</td>\n",
       "      <td>TALENs (Transcription Activator-Like Effector Nucleases) are a type of engineered nuclease used for gene editing. They function by binding to specific DNA sequences and introducing double-strand breaks, which can then be repaired by the cell's natural repair mechanisms, leading to targeted modifications in the genome.</td>\n",
       "      <td>0.7</td>\n",
       "    </tr>\n",
       "    <tr>\n",
       "      <th>17</th>\n",
       "      <td>Is the length of the poly(A) tail involved in human disease?</td>\n",
       "      <td>The context does not provide information about the involvement of the poly(A) tail length in human disease.</td>\n",
       "      <td>0.4</td>\n",
       "    </tr>\n",
       "    <tr>\n",
       "      <th>18</th>\n",
       "      <td>Is armodafinil used for treatment of insomnia?</td>\n",
       "      <td>The context does not provide information about armodafinil or its use for the treatment of insomnia.</td>\n",
       "      <td>0.5</td>\n",
       "    </tr>\n",
       "    <tr>\n",
       "      <th>19</th>\n",
       "      <td>What is the \"wearing-off\" phenomenon in levodopa-treated patients with Parkinson's Disease?</td>\n",
       "      <td>The \"wearing-off\" phenomenon in levodopa-treated patients with Parkinson's Disease refers to the gradual return of Parkinson's symptoms before the next dose of medication is due. This occurs because the effects of levodopa wear off as the medication is metabolized and its levels in the bloodstream decrease. Patients may experience increased tremors, stiffness, and difficulty moving as the medication's effectiveness diminishes.</td>\n",
       "      <td>0.7</td>\n",
       "    </tr>\n",
       "  </tbody>\n",
       "</table>\n",
       "</div>"
      ],
      "text/plain": [
       "                                                                                                                                             question  \\\n",
       "0                                                                                                         What is the role of RhoA in bladder cancer?   \n",
       "1                                                  Which post-translational histone modifications are characteristic of constitutive heterochromatin?   \n",
       "2                                                                                               Which are the known human transmembrane nucleoporins?   \n",
       "3                                                   Are thyroid hormone receptor alpha1 mutations  implicated in thyroid hormone resistance syndrome?   \n",
       "4                                                                                                        Is Rheumatoid Arthritis related to myopathy?   \n",
       "5                                                                                              Has the protein SETMAR (Metnase) a transposase domain?   \n",
       "6                                                                                      What is the number of long non coding RNAs in the human genome   \n",
       "7                                                                                 Is cystatin C or cystatin 3 used as a biomarker of kidney function?   \n",
       "8   How does miR-1 overexpression worsen arrhythmias in coronary artery disease patients and what are the implications for antiarrhythmic treatments?   \n",
       "9                                                                                                Which are the common symptoms of Cushing's syndrome?   \n",
       "10                                                                                                     Which gene is associated with Muenke syndrome?   \n",
       "11                                                                                                                Describe Hot water reflex epilepsy.   \n",
       "12                                                                                                           What is the role of Inn1 in cytokinesis?   \n",
       "13                                                                                                 What is the biological role of expansins in fungi?   \n",
       "14                                                                                                      Has small pox been eradicated from the world?   \n",
       "15                                                                                       Can the Micro-C XL method achieve mononucleosome resolution?   \n",
       "16                                                                                                                    What is the function of TALENs?   \n",
       "17                                                                                       Is the length of the poly(A) tail involved in human disease?   \n",
       "18                                                                                                     Is armodafinil used for treatment of insomnia?   \n",
       "19                                                        What is the \"wearing-off\" phenomenon in levodopa-treated patients with Parkinson's Disease?   \n",
       "\n",
       "                                                                                                                                                                                                                                                                                                                                                                                                                                                                                                       predicted_answer  \\\n",
       "0                                                                                                                                                                                                                                                                                                                                                                                                                           The provided context does not contain information about the role of RhoA in bladder cancer.   \n",
       "1                                                                                                                                                                                                                                                                                                                                                            The context does not provide specific information about which post-translational histone modifications are characteristic of constitutive heterochromatin.   \n",
       "2                                                                                                                                                                                                                                                                                                                                                                                                                                The context does not provide information about known human transmembrane nucleoporins.   \n",
       "3                                                                                                                                                                                                                                                                                                                                                                        The context does not provide information on thyroid hormone receptor alpha1 mutations being implicated in thyroid hormone resistance syndrome.   \n",
       "4                                                                                                                                                                                                                                                                                                                                                                                                     The provided context does not contain information about a relationship between Rheumatoid Arthritis and myopathy.   \n",
       "5                                                                                                                                                                                                                                                                          The context provided does not contain any information about the protein SETMAR (Metnase) or its domains, including a transposase domain. Therefore, we cannot determine from this context whether SETMAR (Metnase) has a transposase domain.   \n",
       "6                                                                                                                                                                                                                                                                                                                                                                                                       The provided context does not contain information about the number of long non-coding RNAs in the human genome.   \n",
       "7                                                                                                                                                                                                                                                                                                                                                                                                                                                                 Cystatin C is used as a biomarker of kidney function.   \n",
       "8   The context does not provide specific information about miR-1 overexpression and its effects on arrhythmias in coronary artery disease patients. However, based on general knowledge, miR-1 is known to play a role in cardiac electrophysiology and its overexpression can lead to arrhythmias by affecting ion channel expression and function. This can worsen arrhythmias in coronary artery disease patients by promoting abnormal electrical activity in the heart. The implications for antiarrhythmic tr...   \n",
       "9                                                                                                                                                                                                                                                                                                                                                                                                                             The context does not provide information about the common symptoms of Cushing's syndrome.   \n",
       "10                                                                                                                                                                                                                                                                                                                                                                                                                                                                   The gene associated with Muenke syndrome is FGFR3.   \n",
       "11                                                                                                                                                                                                                                                                                                                                                                                                                                   The provided context does not contain information about Hot water reflex epilepsy.   \n",
       "12                                                                                                                                                                                                                                                                                                                                                                                                                             The provided context does not contain information about the role of Inn1 in cytokinesis.   \n",
       "13                                                                                                                                                                                                                                                                                                                                                                                                                            The context does not provide information about the biological role of expansins in fungi.   \n",
       "14                                                                                                                                                                                                                                                                                                                                           Yes, smallpox has been eradicated from the world. The World Health Organization (WHO) declared smallpox eradicated in 1980 after a successful global vaccination campaign.   \n",
       "15                                                                                                                                                                                                                                                                                                                                                                                            The context does not provide information about the Micro-C XL method or its ability to achieve mononucleosome resolution.   \n",
       "16                                                                                                                                                                                      TALENs (Transcription Activator-Like Effector Nucleases) are a type of engineered nuclease used for gene editing. They function by binding to specific DNA sequences and introducing double-strand breaks, which can then be repaired by the cell's natural repair mechanisms, leading to targeted modifications in the genome.   \n",
       "17                                                                                                                                                                                                                                                                                                                                                                                                          The context does not provide information about the involvement of the poly(A) tail length in human disease.   \n",
       "18                                                                                                                                                                                                                                                                                                                                                                                                                 The context does not provide information about armodafinil or its use for the treatment of insomnia.   \n",
       "19                                                                       The \"wearing-off\" phenomenon in levodopa-treated patients with Parkinson's Disease refers to the gradual return of Parkinson's symptoms before the next dose of medication is due. This occurs because the effects of levodopa wear off as the medication is metabolized and its levels in the bloodstream decrease. Patients may experience increased tremors, stiffness, and difficulty moving as the medication's effectiveness diminishes.   \n",
       "\n",
       "    score  \n",
       "0     0.3  \n",
       "1     1.1  \n",
       "2     1.1  \n",
       "3     0.8  \n",
       "4     0.8  \n",
       "5     0.4  \n",
       "6     0.7  \n",
       "7     0.7  \n",
       "8     0.8  \n",
       "9     0.7  \n",
       "10    0.7  \n",
       "11    0.7  \n",
       "12    0.8  \n",
       "13    0.3  \n",
       "14    0.8  \n",
       "15    0.3  \n",
       "16    0.7  \n",
       "17    0.4  \n",
       "18    0.5  \n",
       "19    0.7  "
      ]
     },
     "execution_count": 44,
     "metadata": {},
     "output_type": "execute_result"
    }
   ],
   "source": [
    "pd.set_option(\"display.max_colwidth\", 500)\n",
    "pd.set_option(\"display.max_rows\", 500)\n",
    "evals_outs_df = create_score_dataframe(few_shot_bootstrap_compiled_rag_evals[1])\n",
    "print(evals_outs_df[\"score\"].mean())\n",
    "evals_outs_df"
   ]
  },
  {
   "cell_type": "code",
   "execution_count": 45,
   "metadata": {},
   "outputs": [
    {
     "data": {
      "text/plain": [
       "Prediction(\n",
       "    context=['endostatin peptide, a potent inhibitor of angiogenesis derived from type XVIII collagen,', 'Finally, in contrast to most other ERM-binding proteins, ELMO1 binding occurred independently of the state of radixin C-terminal phosphorylation, suggesting an ELMO1 interaction with both the active and inactive forms of ERM proteins and implying a possible role of ELMO in localizing or retaining ERM proteins in certain cellular sites. Together these data suggest that ELMO1-mediated cytoskeletal changes may be coordinated with ERM protein crosslinking activity during dynamic cellular functions.', 'Muscle LIM protein (MLP) has been proposed to be a central player in the pathogenesis of heart muscle disease.', 'During T3-dependent amphibian metamorphosis, the digestive tract is extensively remodeled from the larval to the adult form for the adaptation of the amphibian from its aquatic herbivorous lifestyle to that of a terrestrial carnivorous frog. This involves de novo formation of ASCs that requires T3 signaling in both the larval epithelium and nonepithelial tissues.', 'Here we show that the gasdermin-N domains of the gasdermin proteins GSDMD, GSDMA3 and GSDMA can bind membrane lipids, phosphoinositides and cardiolipin, and exhibit membrane-disrupting cytotoxicity in mammalian cells and artificially transformed bacteria.', 'The enzyme was capable of transferring methyl groups to selected lysine residues in a substrate protein using S-adenosyl-l-methionine (SAM) as the methyl donor.', 'Monoclonal antibodies (mAbs) directed against E2, a 32-kDa transmembrane protein encoded by the MIC2 gene located in the pseudoautosomal region, induce a transbilayer movement of phosphatidylserine and, to a lesser extent, phosphatidylethanolamine in human thymocytes and a Jurkat T lymphocytes.', 'oxytocin, a hormone involved in parent-offspring bonding', 'Results from a phase 1 study of nusinersen (ISIS-SMN(Rx)) in children with spinal muscular atrophy.', 'A GC-rich region containing Sp1 and Sp1-like binding sites'],\n",
       "    answer='The provided context does not contain any information about Musclin or its characteristics. Therefore, based on the given context, we cannot determine if Musclin is a secretory peptide.'\n",
       ")"
      ]
     },
     "execution_count": 45,
     "metadata": {},
     "output_type": "execute_result"
    }
   ],
   "source": [
    "few_shot_bootstrap_compiled_rag(sample)"
   ]
  },
  {
   "cell_type": "markdown",
   "metadata": {},
   "source": [
    "### Signature Optmiizer"
   ]
  },
  {
   "cell_type": "markdown",
   "metadata": {},
   "source": [
    "Optimizing Signature is also a way you can try to improve the performance of your model. You can either plug the above bootstrapped compiled model to this or you can even use the uncompiled model."
   ]
  },
  {
   "cell_type": "code",
   "execution_count": 56,
   "metadata": {},
   "outputs": [
    {
     "name": "stdout",
     "output_type": "stream",
     "text": [
      "\u001b[93m\u001b[1mWARNING: Projected Language Model (LM) Calls\u001b[0m\n",
      "\n",
      "Please be advised that based on the parameters you have set, the maximum number of LM calls is projected as follows:\n",
      "\n",
      "\u001b[93m- Task Model: \u001b[94m\u001b[1m1\u001b[0m\u001b[93m examples in dev set * \u001b[94m\u001b[1m20\u001b[0m\u001b[93m trials * \u001b[94m\u001b[1m# of LM calls in your program\u001b[0m\u001b[93m = (\u001b[94m\u001b[1m20 * # of LM calls in your program\u001b[0m\u001b[93m) task model calls\u001b[0m\n",
      "\u001b[93m- Prompt Model: # data summarizer calls (max \u001b[94m\u001b[1m10\u001b[0m\u001b[93m) + \u001b[94m\u001b[1m10\u001b[0m\u001b[93m * \u001b[94m\u001b[1m1\u001b[0m\u001b[93m lm calls in program = \u001b[94m\u001b[1m20\u001b[0m\u001b[93m prompt model calls\u001b[0m\n",
      "\n",
      "\u001b[93m\u001b[1mEstimated Cost Calculation:\u001b[0m\n",
      "\n",
      "\u001b[93mTotal Cost = (Number of calls to task model * (Avg Input Token Length per Call * Task Model Price per Input Token + Avg Output Token Length per Call * Task Model Price per Output Token) \n",
      "            + (Number of calls to prompt model * (Avg Input Token Length per Call * Task Prompt Price per Input Token + Avg Output Token Length per Call * Prompt Model Price per Output Token).\u001b[0m\n",
      "\n",
      "For a preliminary estimate of potential costs, we recommend you perform your own calculations based on the task\n",
      "and prompt models you intend to use. If the projected costs exceed your budget or expectations, you may consider:\n",
      "\n",
      "\u001b[93m- Reducing the number of trials (`num_trials`), the size of the trainset, or the number of LM calls in your program.\u001b[0m\n",
      "\u001b[93m- Using a cheaper task model to optimize the prompt.\u001b[0m\n"
     ]
    },
    {
     "name": "stderr",
     "output_type": "stream",
     "text": [
      "100%|██████████| 1/1 [00:00<00:00,  4.07it/s]\n"
     ]
    },
    {
     "name": "stdout",
     "output_type": "stream",
     "text": [
      "Faithful: 1\n",
      "Detail: 2\n",
      "Correctness: 1\n",
      "Bootstrapped 1 full traces after 1 examples in round 0.\n"
     ]
    },
    {
     "name": "stderr",
     "output_type": "stream",
     "text": [
      "100%|██████████| 1/1 [00:00<00:00,  2.72it/s]\n"
     ]
    },
    {
     "name": "stdout",
     "output_type": "stream",
     "text": [
      "Faithful: 1\n",
      "Detail: 2\n",
      "Correctness: 1\n",
      "Bootstrapped 1 full traces after 1 examples in round 0.\n"
     ]
    },
    {
     "name": "stderr",
     "output_type": "stream",
     "text": [
      "100%|██████████| 1/1 [00:00<00:00,  2.96it/s]\n"
     ]
    },
    {
     "name": "stdout",
     "output_type": "stream",
     "text": [
      "Faithful: 1\n",
      "Detail: 2\n",
      "Correctness: 1\n",
      "Bootstrapped 1 full traces after 1 examples in round 0.\n"
     ]
    },
    {
     "name": "stderr",
     "output_type": "stream",
     "text": [
      "100%|██████████| 1/1 [00:00<00:00,  2.43it/s]\n"
     ]
    },
    {
     "name": "stdout",
     "output_type": "stream",
     "text": [
      "Faithful: 1\n",
      "Detail: 2\n",
      "Correctness: 1\n",
      "Bootstrapped 1 full traces after 1 examples in round 0.\n"
     ]
    },
    {
     "name": "stderr",
     "output_type": "stream",
     "text": [
      "100%|██████████| 1/1 [00:00<00:00,  2.82it/s]\n"
     ]
    },
    {
     "name": "stdout",
     "output_type": "stream",
     "text": [
      "Faithful: 1\n",
      "Detail: 2\n",
      "Correctness: 1\n",
      "Bootstrapped 1 full traces after 1 examples in round 0.\n"
     ]
    },
    {
     "name": "stderr",
     "output_type": "stream",
     "text": [
      "100%|██████████| 1/1 [00:00<00:00,  2.64it/s]\n"
     ]
    },
    {
     "name": "stdout",
     "output_type": "stream",
     "text": [
      "Faithful: 1\n",
      "Detail: 2\n",
      "Correctness: 1\n",
      "Bootstrapped 1 full traces after 1 examples in round 0.\n"
     ]
    },
    {
     "name": "stderr",
     "output_type": "stream",
     "text": [
      "100%|██████████| 1/1 [00:00<00:00,  2.55it/s]\n"
     ]
    },
    {
     "name": "stdout",
     "output_type": "stream",
     "text": [
      "Faithful: 1\n",
      "Detail: 2\n",
      "Correctness: 1\n",
      "Bootstrapped 1 full traces after 1 examples in round 0.\n"
     ]
    },
    {
     "name": "stderr",
     "output_type": "stream",
     "text": [
      "100%|██████████| 1/1 [00:00<00:00,  2.73it/s]\n"
     ]
    },
    {
     "name": "stdout",
     "output_type": "stream",
     "text": [
      "Faithful: 1\n",
      "Detail: 2\n",
      "Correctness: 1\n",
      "Bootstrapped 1 full traces after 1 examples in round 0.\n"
     ]
    },
    {
     "name": "stderr",
     "output_type": "stream",
     "text": [
      "100%|██████████| 1/1 [00:00<00:00,  2.71it/s]\n",
      "[I 2024-09-21 16:24:56,123] A new study created in memory with name: no-name-b725fb45-fe96-4e41-b527-66bfae47c947\n"
     ]
    },
    {
     "name": "stdout",
     "output_type": "stream",
     "text": [
      "Faithful: 1\n",
      "Detail: 2\n",
      "Correctness: 1\n",
      "Bootstrapped 1 full traces after 1 examples in round 0.\n",
      "Starting trial #0\n"
     ]
    },
    {
     "name": "stderr",
     "output_type": "stream",
     "text": [
      "Average Metric: 0.4 / 1  (40.0): 100%|██████████| 1/1 [00:00<00:00,  3.23it/s]\n",
      "[I 2024-09-21 16:24:56,441] Trial 0 finished with value: 40.0 and parameters: {'15104646032_predictor_instruction': 1, '15104646032_predictor_demos': 1}. Best is trial 0 with value: 40.0.\n"
     ]
    },
    {
     "name": "stdout",
     "output_type": "stream",
     "text": [
      "Faithful: 1\n",
      "Detail: 2\n",
      "Correctness: 1\n",
      "Average Metric: 0.4 / 1  (40.0%)\n",
      "Starting trial #1\n"
     ]
    },
    {
     "name": "stderr",
     "output_type": "stream",
     "text": [
      "Average Metric: 0.4 / 1  (40.0): 100%|██████████| 1/1 [00:00<00:00,  3.48it/s]\n",
      "[I 2024-09-21 16:24:56,735] Trial 1 finished with value: 40.0 and parameters: {'15104646032_predictor_instruction': 5, '15104646032_predictor_demos': 4}. Best is trial 0 with value: 40.0.\n"
     ]
    },
    {
     "name": "stdout",
     "output_type": "stream",
     "text": [
      "Faithful: 1\n",
      "Detail: 2\n",
      "Correctness: 1\n",
      "Average Metric: 0.4 / 1  (40.0%)\n",
      "Starting trial #2\n"
     ]
    },
    {
     "name": "stderr",
     "output_type": "stream",
     "text": [
      "Average Metric: 0.9 / 1  (90.0): 100%|██████████| 1/1 [00:12<00:00, 12.72s/it]\n",
      "[I 2024-09-21 16:25:09,468] Trial 2 finished with value: 90.0 and parameters: {'15104646032_predictor_instruction': 3, '15104646032_predictor_demos': 0}. Best is trial 2 with value: 90.0.\n"
     ]
    },
    {
     "name": "stdout",
     "output_type": "stream",
     "text": [
      "Faithful: 1\n",
      "Detail: 4\n",
      "Correctness: 4\n",
      "Average Metric: 0.9 / 1  (90.0%)\n",
      "Starting trial #3\n"
     ]
    },
    {
     "name": "stderr",
     "output_type": "stream",
     "text": [
      "Average Metric: 0.4 / 1  (40.0): 100%|██████████| 1/1 [00:00<00:00,  4.40it/s]\n",
      "[I 2024-09-21 16:25:09,701] Trial 3 finished with value: 40.0 and parameters: {'15104646032_predictor_instruction': 9, '15104646032_predictor_demos': 3}. Best is trial 2 with value: 90.0.\n"
     ]
    },
    {
     "name": "stdout",
     "output_type": "stream",
     "text": [
      "Faithful: 1\n",
      "Detail: 2\n",
      "Correctness: 1\n",
      "Average Metric: 0.4 / 1  (40.0%)\n",
      "Starting trial #4\n"
     ]
    },
    {
     "name": "stderr",
     "output_type": "stream",
     "text": [
      "Average Metric: 0.4 / 1  (40.0): 100%|██████████| 1/1 [00:00<00:00,  2.83it/s]\n",
      "[I 2024-09-21 16:25:10,065] Trial 4 finished with value: 40.0 and parameters: {'15104646032_predictor_instruction': 8, '15104646032_predictor_demos': 4}. Best is trial 2 with value: 90.0.\n"
     ]
    },
    {
     "name": "stdout",
     "output_type": "stream",
     "text": [
      "Faithful: 1\n",
      "Detail: 2\n",
      "Correctness: 1\n",
      "Average Metric: 0.4 / 1  (40.0%)\n",
      "Starting trial #5\n"
     ]
    },
    {
     "name": "stderr",
     "output_type": "stream",
     "text": [
      "Average Metric: 0.4 / 1  (40.0): 100%|██████████| 1/1 [00:00<00:00,  3.01it/s]\n",
      "[I 2024-09-21 16:25:10,407] Trial 5 finished with value: 40.0 and parameters: {'15104646032_predictor_instruction': 4, '15104646032_predictor_demos': 2}. Best is trial 2 with value: 90.0.\n"
     ]
    },
    {
     "name": "stdout",
     "output_type": "stream",
     "text": [
      "Faithful: 1\n",
      "Detail: 2\n",
      "Correctness: 1\n",
      "Average Metric: 0.4 / 1  (40.0%)\n",
      "Starting trial #6\n"
     ]
    },
    {
     "name": "stderr",
     "output_type": "stream",
     "text": [
      "Average Metric: 0.4 / 1  (40.0): 100%|██████████| 1/1 [00:00<00:00,  3.15it/s]\n",
      "[I 2024-09-21 16:25:10,732] Trial 6 finished with value: 40.0 and parameters: {'15104646032_predictor_instruction': 1, '15104646032_predictor_demos': 9}. Best is trial 2 with value: 90.0.\n"
     ]
    },
    {
     "name": "stdout",
     "output_type": "stream",
     "text": [
      "Faithful: 1\n",
      "Detail: 2\n",
      "Correctness: 1\n",
      "Average Metric: 0.4 / 1  (40.0%)\n",
      "Starting trial #7\n"
     ]
    },
    {
     "name": "stderr",
     "output_type": "stream",
     "text": [
      "Average Metric: 0.4 / 1  (40.0): 100%|██████████| 1/1 [00:00<00:00,  3.90it/s]\n",
      "[I 2024-09-21 16:25:10,996] Trial 7 finished with value: 40.0 and parameters: {'15104646032_predictor_instruction': 0, '15104646032_predictor_demos': 4}. Best is trial 2 with value: 90.0.\n"
     ]
    },
    {
     "name": "stdout",
     "output_type": "stream",
     "text": [
      "Faithful: 1\n",
      "Detail: 2\n",
      "Correctness: 1\n",
      "Average Metric: 0.4 / 1  (40.0%)\n",
      "Starting trial #8\n"
     ]
    },
    {
     "name": "stderr",
     "output_type": "stream",
     "text": [
      "Average Metric: 0.4 / 1  (40.0): 100%|██████████| 1/1 [00:00<00:00,  2.67it/s]\n",
      "[I 2024-09-21 16:25:11,377] Trial 8 finished with value: 40.0 and parameters: {'15104646032_predictor_instruction': 5, '15104646032_predictor_demos': 8}. Best is trial 2 with value: 90.0.\n"
     ]
    },
    {
     "name": "stdout",
     "output_type": "stream",
     "text": [
      "Faithful: 1\n",
      "Detail: 2\n",
      "Correctness: 1\n",
      "Average Metric: 0.4 / 1  (40.0%)\n",
      "Starting trial #9\n"
     ]
    },
    {
     "name": "stderr",
     "output_type": "stream",
     "text": [
      "Average Metric: 0.4 / 1  (40.0): 100%|██████████| 1/1 [00:00<00:00,  3.61it/s]\n",
      "[I 2024-09-21 16:25:11,662] Trial 9 finished with value: 40.0 and parameters: {'15104646032_predictor_instruction': 2, '15104646032_predictor_demos': 2}. Best is trial 2 with value: 90.0.\n"
     ]
    },
    {
     "name": "stdout",
     "output_type": "stream",
     "text": [
      "Faithful: 1\n",
      "Detail: 2\n",
      "Correctness: 1\n",
      "Average Metric: 0.4 / 1  (40.0%)\n",
      "Starting trial #10\n"
     ]
    },
    {
     "name": "stderr",
     "output_type": "stream",
     "text": [
      "Average Metric: 0.9 / 1  (90.0): 100%|██████████| 1/1 [00:00<00:00,  3.76it/s]\n",
      "[I 2024-09-21 16:25:11,941] Trial 10 finished with value: 90.0 and parameters: {'15104646032_predictor_instruction': 3, '15104646032_predictor_demos': 0}. Best is trial 2 with value: 90.0.\n"
     ]
    },
    {
     "name": "stdout",
     "output_type": "stream",
     "text": [
      "Faithful: 1\n",
      "Detail: 4\n",
      "Correctness: 4\n",
      "Average Metric: 0.9 / 1  (90.0%)\n",
      "Starting trial #11\n"
     ]
    },
    {
     "name": "stderr",
     "output_type": "stream",
     "text": [
      "Average Metric: 0.9 / 1  (90.0): 100%|██████████| 1/1 [00:00<00:00,  3.55it/s]\n",
      "[I 2024-09-21 16:25:12,231] Trial 11 finished with value: 90.0 and parameters: {'15104646032_predictor_instruction': 3, '15104646032_predictor_demos': 0}. Best is trial 2 with value: 90.0.\n"
     ]
    },
    {
     "name": "stdout",
     "output_type": "stream",
     "text": [
      "Faithful: 1\n",
      "Detail: 4\n",
      "Correctness: 4\n",
      "Average Metric: 0.9 / 1  (90.0%)\n",
      "Starting trial #12\n"
     ]
    },
    {
     "name": "stderr",
     "output_type": "stream",
     "text": [
      "Average Metric: 0.9 / 1  (90.0): 100%|██████████| 1/1 [00:00<00:00,  3.32it/s]\n",
      "[I 2024-09-21 16:25:12,542] Trial 12 finished with value: 90.0 and parameters: {'15104646032_predictor_instruction': 3, '15104646032_predictor_demos': 0}. Best is trial 2 with value: 90.0.\n"
     ]
    },
    {
     "name": "stdout",
     "output_type": "stream",
     "text": [
      "Faithful: 1\n",
      "Detail: 4\n",
      "Correctness: 4\n",
      "Average Metric: 0.9 / 1  (90.0%)\n",
      "Starting trial #13\n"
     ]
    },
    {
     "name": "stderr",
     "output_type": "stream",
     "text": [
      "Average Metric: 0.9 / 1  (90.0): 100%|██████████| 1/1 [00:00<00:00,  3.23it/s]\n",
      "[I 2024-09-21 16:25:12,861] Trial 13 finished with value: 90.0 and parameters: {'15104646032_predictor_instruction': 3, '15104646032_predictor_demos': 0}. Best is trial 2 with value: 90.0.\n"
     ]
    },
    {
     "name": "stdout",
     "output_type": "stream",
     "text": [
      "Faithful: 1\n",
      "Detail: 4\n",
      "Correctness: 4\n",
      "Average Metric: 0.9 / 1  (90.0%)\n",
      "Starting trial #14\n"
     ]
    },
    {
     "name": "stderr",
     "output_type": "stream",
     "text": [
      "Average Metric: 0.4 / 1  (40.0): 100%|██████████| 1/1 [00:00<00:00,  3.44it/s]\n",
      "[I 2024-09-21 16:25:13,159] Trial 14 finished with value: 40.0 and parameters: {'15104646032_predictor_instruction': 6, '15104646032_predictor_demos': 6}. Best is trial 2 with value: 90.0.\n"
     ]
    },
    {
     "name": "stdout",
     "output_type": "stream",
     "text": [
      "Faithful: 1\n",
      "Detail: 2\n",
      "Correctness: 1\n",
      "Average Metric: 0.4 / 1  (40.0%)\n",
      "Starting trial #15\n"
     ]
    },
    {
     "name": "stderr",
     "output_type": "stream",
     "text": [
      "Average Metric: 0.4 / 1  (40.0): 100%|██████████| 1/1 [00:00<00:00,  3.05it/s]\n",
      "[I 2024-09-21 16:25:13,496] Trial 15 finished with value: 40.0 and parameters: {'15104646032_predictor_instruction': 7, '15104646032_predictor_demos': 5}. Best is trial 2 with value: 90.0.\n"
     ]
    },
    {
     "name": "stdout",
     "output_type": "stream",
     "text": [
      "Faithful: 1\n",
      "Detail: 2\n",
      "Correctness: 1\n",
      "Average Metric: 0.4 / 1  (40.0%)\n",
      "Starting trial #16\n"
     ]
    },
    {
     "name": "stderr",
     "output_type": "stream",
     "text": [
      "Average Metric: 0.4 / 1  (40.0): 100%|██████████| 1/1 [00:00<00:00,  3.82it/s]\n",
      "[I 2024-09-21 16:25:13,771] Trial 16 finished with value: 40.0 and parameters: {'15104646032_predictor_instruction': 3, '15104646032_predictor_demos': 7}. Best is trial 2 with value: 90.0.\n"
     ]
    },
    {
     "name": "stdout",
     "output_type": "stream",
     "text": [
      "Faithful: 1\n",
      "Detail: 2\n",
      "Correctness: 1\n",
      "Average Metric: 0.4 / 1  (40.0%)\n",
      "Starting trial #17\n"
     ]
    },
    {
     "name": "stderr",
     "output_type": "stream",
     "text": [
      "Average Metric: 0.9 / 1  (90.0): 100%|██████████| 1/1 [00:00<00:00,  3.60it/s]\n",
      "[I 2024-09-21 16:25:14,061] Trial 17 finished with value: 90.0 and parameters: {'15104646032_predictor_instruction': 3, '15104646032_predictor_demos': 0}. Best is trial 2 with value: 90.0.\n"
     ]
    },
    {
     "name": "stdout",
     "output_type": "stream",
     "text": [
      "Faithful: 1\n",
      "Detail: 4\n",
      "Correctness: 4\n",
      "Average Metric: 0.9 / 1  (90.0%)\n",
      "Starting trial #18\n"
     ]
    },
    {
     "name": "stderr",
     "output_type": "stream",
     "text": [
      "Average Metric: 0.9 / 1  (90.0): 100%|██████████| 1/1 [00:00<00:00,  4.35it/s]\n",
      "[I 2024-09-21 16:25:14,300] Trial 18 finished with value: 90.0 and parameters: {'15104646032_predictor_instruction': 6, '15104646032_predictor_demos': 0}. Best is trial 2 with value: 90.0.\n"
     ]
    },
    {
     "name": "stdout",
     "output_type": "stream",
     "text": [
      "Faithful: 1\n",
      "Detail: 4\n",
      "Correctness: 4\n",
      "Average Metric: 0.9 / 1  (90.0%)\n",
      "Starting trial #19\n"
     ]
    },
    {
     "name": "stderr",
     "output_type": "stream",
     "text": [
      "Average Metric: 0.4 / 1  (40.0): 100%|██████████| 1/1 [00:00<00:00,  4.12it/s]\n",
      "[I 2024-09-21 16:25:14,551] Trial 19 finished with value: 40.0 and parameters: {'15104646032_predictor_instruction': 8, '15104646032_predictor_demos': 1}. Best is trial 2 with value: 90.0.\n"
     ]
    },
    {
     "name": "stdout",
     "output_type": "stream",
     "text": [
      "Faithful: 1\n",
      "Detail: 2\n",
      "Correctness: 1\n",
      "Average Metric: 0.4 / 1  (40.0%)\n",
      "Returning generate_answer = ChainOfThought(GenerateAnswer(context, question -> answer\n",
      "    instructions='Answer questions based on the context.'\n",
      "    context = Field(annotation=str required=True json_schema_extra={'desc': 'may contain relevant facts', '__dspy_field_type': 'input', 'prefix': 'Context:'})\n",
      "    question = Field(annotation=str required=True json_schema_extra={'__dspy_field_type': 'input', 'prefix': 'Question:', 'desc': '${question}'})\n",
      "    answer = Field(annotation=str required=True json_schema_extra={'__dspy_field_type': 'output', 'prefix': 'Answer:', 'desc': '${answer}'})\n",
      ")) from continue_program\n"
     ]
    }
   ],
   "source": [
    "from dspy.teleprompt import MIPRO\n",
    "\n",
    "llm_prompter = dspy.OpenAI(model=\"gpt-4o\", max_tokens=2000, model_type=\"chat\")\n",
    "\n",
    "teleprompter = MIPRO(\n",
    "    task_model=dspy.settings.lm,\n",
    "    metric=llm_metric,\n",
    "    prompt_model=llm_prompter,\n",
    "    verbose=False,\n",
    ")\n",
    "kwargs = dict(num_threads=8, display_progress=True, display_table=0)\n",
    "mipro_compiled_rag = teleprompter.compile(\n",
    "    uncompile_k_10,\n",
    "    eval_kwargs=kwargs,\n",
    "    trainset=trainset_truncated,\n",
    "    num_trials=20,\n",
    "    max_bootstrapped_demos=2,\n",
    "    max_labeled_demos=8,\n",
    "    requires_permission_to_run=False,\n",
    ")"
   ]
  },
  {
   "cell_type": "code",
   "execution_count": 57,
   "metadata": {},
   "outputs": [
    {
     "name": "stderr",
     "output_type": "stream",
     "text": [
      "Average Metric: 0.5 / 1  (50.0):   5%|▌         | 1/20 [00:13<04:07, 13.05s/it]"
     ]
    },
    {
     "name": "stdout",
     "output_type": "stream",
     "text": [
      "Faithful: 1\n",
      "Detail: 3\n",
      "Correctness: 1\n"
     ]
    },
    {
     "name": "stderr",
     "output_type": "stream",
     "text": [
      "Average Metric: 2.5 / 3  (83.3):  15%|█▌        | 3/20 [00:13<00:53,  3.14s/it]"
     ]
    },
    {
     "name": "stdout",
     "output_type": "stream",
     "text": [
      "Faithful: 1\n",
      "Detail: 5\n",
      "Correctness: 4\n",
      "Faithful: 3\n",
      "Detail: 4\n",
      "Correctness: 3\n"
     ]
    },
    {
     "name": "stderr",
     "output_type": "stream",
     "text": [
      "Average Metric: 4.2 / 5  (84.0):  20%|██        | 4/20 [00:14<00:36,  2.25s/it]"
     ]
    },
    {
     "name": "stdout",
     "output_type": "stream",
     "text": [
      "Faithful: 3\n",
      "Detail: 4\n",
      "Correctness: 4\n",
      "Faithful: 1\n",
      "Detail: 2\n",
      "Correctness: 3\n"
     ]
    },
    {
     "name": "stderr",
     "output_type": "stream",
     "text": [
      "Average Metric: 5.300000000000001 / 6  (88.3):  30%|███       | 6/20 [00:15<00:17,  1.24s/it]"
     ]
    },
    {
     "name": "stdout",
     "output_type": "stream",
     "text": [
      "Faithful: 1\n",
      "Detail: 5\n",
      "Correctness: 5\n"
     ]
    },
    {
     "name": "stderr",
     "output_type": "stream",
     "text": [
      "Average Metric: 6.200000000000001 / 7  (88.6):  35%|███▌      | 7/20 [00:16<00:15,  1.16s/it]"
     ]
    },
    {
     "name": "stdout",
     "output_type": "stream",
     "text": [
      "Faithful: 2\n",
      "Detail: 3\n",
      "Correctness: 4\n"
     ]
    },
    {
     "name": "stderr",
     "output_type": "stream",
     "text": [
      "Average Metric: 6.800000000000001 / 8  (85.0):  40%|████      | 8/20 [00:16<00:11,  1.07it/s]"
     ]
    },
    {
     "name": "stdout",
     "output_type": "stream",
     "text": [
      "Faithful: 1\n",
      "Detail: 2\n",
      "Correctness: 3\n"
     ]
    },
    {
     "name": "stderr",
     "output_type": "stream",
     "text": [
      "Average Metric: 8.700000000000001 / 10  (87.0):  45%|████▌     | 9/20 [00:27<00:40,  3.66s/it]"
     ]
    },
    {
     "name": "stdout",
     "output_type": "stream",
     "text": [
      "Faithful: 1\n",
      "Detail: 5\n",
      "Correctness: 4\n",
      "Faithful: 3\n",
      "Detail: 3\n",
      "Correctness: 3\n"
     ]
    },
    {
     "name": "stderr",
     "output_type": "stream",
     "text": [
      "Average Metric: 9.000000000000002 / 11  (81.8):  55%|█████▌    | 11/20 [00:27<00:19,  2.15s/it]"
     ]
    },
    {
     "name": "stdout",
     "output_type": "stream",
     "text": [
      "Faithful: 1\n",
      "Detail: 1\n",
      "Correctness: 1\n"
     ]
    },
    {
     "name": "stderr",
     "output_type": "stream",
     "text": [
      "Average Metric: 9.300000000000002 / 12  (77.5):  60%|██████    | 12/20 [00:28<00:14,  1.78s/it]"
     ]
    },
    {
     "name": "stdout",
     "output_type": "stream",
     "text": [
      "Faithful: 1\n",
      "Detail: 1\n",
      "Correctness: 1\n"
     ]
    },
    {
     "name": "stderr",
     "output_type": "stream",
     "text": [
      "Average Metric: 11.300000000000002 / 14  (80.7):  70%|███████   | 14/20 [00:29<00:07,  1.22s/it]"
     ]
    },
    {
     "name": "stdout",
     "output_type": "stream",
     "text": [
      "Faithful: 4\n",
      "Detail: 3\n",
      "Correctness: 5\n",
      "Faithful: 2\n",
      "Detail: 3\n",
      "Correctness: 3\n"
     ]
    },
    {
     "name": "stderr",
     "output_type": "stream",
     "text": [
      "Average Metric: 12.100000000000003 / 15  (80.7):  75%|███████▌  | 15/20 [00:31<00:06,  1.38s/it]"
     ]
    },
    {
     "name": "stdout",
     "output_type": "stream",
     "text": [
      "Faithful: 1\n",
      "Detail: 3\n",
      "Correctness: 4\n"
     ]
    },
    {
     "name": "stderr",
     "output_type": "stream",
     "text": [
      "Average Metric: 12.800000000000002 / 16  (80.0):  80%|████████  | 16/20 [00:32<00:05,  1.32s/it]"
     ]
    },
    {
     "name": "stdout",
     "output_type": "stream",
     "text": [
      "Faithful: 1\n",
      "Detail: 1\n",
      "Correctness: 5\n"
     ]
    },
    {
     "name": "stderr",
     "output_type": "stream",
     "text": [
      "Average Metric: 13.500000000000002 / 17  (79.4):  85%|████████▌ | 17/20 [00:40<00:09,  3.15s/it]"
     ]
    },
    {
     "name": "stdout",
     "output_type": "stream",
     "text": [
      "Faithful: 1\n",
      "Detail: 3\n",
      "Correctness: 3\n"
     ]
    },
    {
     "name": "stderr",
     "output_type": "stream",
     "text": [
      "Average Metric: 13.800000000000002 / 18  (76.7):  90%|█████████ | 18/20 [00:41<00:05,  2.53s/it]"
     ]
    },
    {
     "name": "stdout",
     "output_type": "stream",
     "text": [
      "Faithful: 1\n",
      "Detail: 1\n",
      "Correctness: 1\n"
     ]
    },
    {
     "name": "stderr",
     "output_type": "stream",
     "text": [
      "Average Metric: 14.300000000000002 / 19  (75.3):  95%|█████████▌| 19/20 [00:42<00:02,  2.16s/it]"
     ]
    },
    {
     "name": "stdout",
     "output_type": "stream",
     "text": [
      "Faithful: 1\n",
      "Detail: 3\n",
      "Correctness: 1\n"
     ]
    },
    {
     "name": "stderr",
     "output_type": "stream",
     "text": [
      "Average Metric: 14.800000000000002 / 20  (74.0): 100%|██████████| 20/20 [00:43<00:00,  2.20s/it]"
     ]
    },
    {
     "name": "stdout",
     "output_type": "stream",
     "text": [
      "Faithful: 1\n",
      "Detail: 1\n",
      "Correctness: 3\n",
      "Average Metric: 14.800000000000002 / 20  (74.0%)\n"
     ]
    },
    {
     "name": "stderr",
     "output_type": "stream",
     "text": [
      "\n",
      "/opt/homebrew/Caskroom/miniconda/base/envs/ragchallenge/lib/python3.11/site-packages/dspy/evaluate/evaluate.py:266: FutureWarning: Setting an item of incompatible dtype is deprecated and will raise in a future error of pandas. Value '['1.0' '1.0' '1.1' '0.6' '0.9']' has dtype incompatible with float64, please explicitly cast to a compatible dtype first.\n",
      "  df.loc[:, metric_name] = df[metric_name].apply(\n"
     ]
    },
    {
     "data": {
      "text/html": [
       "<style type=\"text/css\">\n",
       "#T_72ad8 th {\n",
       "  text-align: left;\n",
       "}\n",
       "#T_72ad8 td {\n",
       "  text-align: left;\n",
       "}\n",
       "#T_72ad8_row0_col0, #T_72ad8_row0_col1, #T_72ad8_row0_col2, #T_72ad8_row0_col3, #T_72ad8_row0_col4, #T_72ad8_row1_col0, #T_72ad8_row1_col1, #T_72ad8_row1_col2, #T_72ad8_row1_col3, #T_72ad8_row1_col4, #T_72ad8_row2_col0, #T_72ad8_row2_col1, #T_72ad8_row2_col2, #T_72ad8_row2_col3, #T_72ad8_row2_col4, #T_72ad8_row3_col0, #T_72ad8_row3_col1, #T_72ad8_row3_col2, #T_72ad8_row3_col3, #T_72ad8_row3_col4, #T_72ad8_row4_col0, #T_72ad8_row4_col1, #T_72ad8_row4_col2, #T_72ad8_row4_col3, #T_72ad8_row4_col4 {\n",
       "  text-align: left;\n",
       "  white-space: pre-wrap;\n",
       "  word-wrap: break-word;\n",
       "  max-width: 400px;\n",
       "}\n",
       "</style>\n",
       "<table id=\"T_72ad8\">\n",
       "  <thead>\n",
       "    <tr>\n",
       "      <th class=\"blank level0\" >&nbsp;</th>\n",
       "      <th id=\"T_72ad8_level0_col0\" class=\"col_heading level0 col0\" >question</th>\n",
       "      <th id=\"T_72ad8_level0_col1\" class=\"col_heading level0 col1\" >example_answer</th>\n",
       "      <th id=\"T_72ad8_level0_col2\" class=\"col_heading level0 col2\" >context</th>\n",
       "      <th id=\"T_72ad8_level0_col3\" class=\"col_heading level0 col3\" >pred_answer</th>\n",
       "      <th id=\"T_72ad8_level0_col4\" class=\"col_heading level0 col4\" >llm_metric</th>\n",
       "    </tr>\n",
       "  </thead>\n",
       "  <tbody>\n",
       "    <tr>\n",
       "      <th id=\"T_72ad8_level0_row0\" class=\"row_heading level0 row0\" >0</th>\n",
       "      <td id=\"T_72ad8_row0_col0\" class=\"data row0 col0\" >Is Rheumatoid Arthritis related to myopathy?</td>\n",
       "      <td id=\"T_72ad8_row0_col1\" class=\"data row0 col1\" >Vacuolar myopathy and statin-induced myopathy have been reported in rheumatoid arthritis patients, but this association may be due to the anti-malarial treatment received. An increased...</td>\n",
       "      <td id=\"T_72ad8_row0_col2\" class=\"data row0 col2\" >['Muscle LIM protein (MLP) has been proposed to be a central player in the pathogenesis of heart muscle disease.', 'The Ehlers-Danlos syndromes (EDS) comprise a...</td>\n",
       "      <td id=\"T_72ad8_row0_col3\" class=\"data row0 col3\" >${answer} --- Context: [1] «Muscle LIM protein (MLP) has been proposed to be a central player in the pathogenesis of heart muscle disease.» [2] «The...</td>\n",
       "      <td id=\"T_72ad8_row0_col4\" class=\"data row0 col4\" >1.0</td>\n",
       "    </tr>\n",
       "    <tr>\n",
       "      <th id=\"T_72ad8_level0_row1\" class=\"row_heading level0 row1\" >1</th>\n",
       "      <td id=\"T_72ad8_row1_col0\" class=\"data row1 col0\" >Has the protein SETMAR (Metnase) a transposase domain?</td>\n",
       "      <td id=\"T_72ad8_row1_col1\" class=\"data row1 col1\" >Yes, the protein SETMAR (Metnase) has a transposase domain.</td>\n",
       "      <td id=\"T_72ad8_row1_col2\" class=\"data row1 col2\" >['The enzyme was capable of transferring methyl groups to selected lysine residues in a substrate protein using S-adenosyl-l-methionine (SAM) as the methyl donor.', 'FBW7 is...</td>\n",
       "      <td id=\"T_72ad8_row1_col3\" class=\"data row1 col3\" >Answer based on the provided context: The provided context does not directly mention SETMAR (Metnase) or its domains. However, SETMAR, also known as Metnase, is...</td>\n",
       "      <td id=\"T_72ad8_row1_col4\" class=\"data row1 col4\" >1.0</td>\n",
       "    </tr>\n",
       "    <tr>\n",
       "      <th id=\"T_72ad8_level0_row2\" class=\"row_heading level0 row2\" >2</th>\n",
       "      <td id=\"T_72ad8_row2_col0\" class=\"data row2 col0\" >What is the number of long non coding RNAs in the human genome</td>\n",
       "      <td id=\"T_72ad8_row2_col1\" class=\"data row2 col1\" >Different estimates put currently the number of human long non coding RNAs between 10,000 and 20,000</td>\n",
       "      <td id=\"T_72ad8_row2_col2\" class=\"data row2 col2\" >['In this paper we have explored the benefits of combining predictions from already existing gene prediction programs. We have introduced three novel methods for combining...</td>\n",
       "      <td id=\"T_72ad8_row2_col3\" class=\"data row2 col3\" >Answer based on the provided context: The provided context does not contain specific information about the number of long non-coding RNAs (lncRNAs) in the human...</td>\n",
       "      <td id=\"T_72ad8_row2_col4\" class=\"data row2 col4\" >1.1</td>\n",
       "    </tr>\n",
       "    <tr>\n",
       "      <th id=\"T_72ad8_level0_row3\" class=\"row_heading level0 row3\" >3</th>\n",
       "      <td id=\"T_72ad8_row3_col0\" class=\"data row3 col0\" >How does miR-1 overexpression worsen arrhythmias in coronary artery disease patients and what are the implications for antiarrhythmic treatments?</td>\n",
       "      <td id=\"T_72ad8_row3_col1\" class=\"data row3 col1\" >miR-1 overexpression worsens arrhythmias in coronary artery disease patients by regulating pacemaker channel genes and contributing to arrhythmogenesis. This up-regulation of miR-1 in patients with...</td>\n",
       "      <td id=\"T_72ad8_row3_col2\" class=\"data row3 col2\" >['Moreover, miR-27a was demonstrated to modulate β-MHC gene regulation via thyroid hormone signaling and to be upregulated during the differentiation of mouse embryonic stem (ES)...</td>\n",
       "      <td id=\"T_72ad8_row3_col3\" class=\"data row3 col3\" >**Proposed Instruction:** Your task is to generate thorough, accurate, and evidence-based answers to medical and pharmaceutical questions using the provided context. Each answer should be...</td>\n",
       "      <td id=\"T_72ad8_row3_col4\" class=\"data row3 col4\" >0.6</td>\n",
       "    </tr>\n",
       "    <tr>\n",
       "      <th id=\"T_72ad8_level0_row4\" class=\"row_heading level0 row4\" >4</th>\n",
       "      <td id=\"T_72ad8_row4_col0\" class=\"data row4 col0\" >Which post-translational histone modifications are characteristic of constitutive heterochromatin?</td>\n",
       "      <td id=\"T_72ad8_row4_col1\" class=\"data row4 col1\" >H3K9me3 is the major marker of constitutive heterochromatin. Other histone methylation marks usually found in constitutive heterochromatin, are H4K20me3 and H3K79me3. Classical histone modifications associated...</td>\n",
       "      <td id=\"T_72ad8_row4_col2\" class=\"data row4 col2\" >['Covalent histone modifications (e.g. ubiquitination, phosphorylation, methylation, acetylation) and H2A variants (H2A.Z, H2A.X and H2A.W) are also discussed in view of their crucial importance in...</td>\n",
       "      <td id=\"T_72ad8_row4_col3\" class=\"data row4 col3\" >Answer based on the provided context: Constitutive heterochromatin is typically characterized by specific post-translational histone modifications, including histone H3 lysine 9 trimethylation (H3K9me3) and histone...</td>\n",
       "      <td id=\"T_72ad8_row4_col4\" class=\"data row4 col4\" >0.9</td>\n",
       "    </tr>\n",
       "  </tbody>\n",
       "</table>\n"
      ],
      "text/plain": [
       "<pandas.io.formats.style.Styler at 0x382b11210>"
      ]
     },
     "metadata": {},
     "output_type": "display_data"
    },
    {
     "data": {
      "text/html": [
       "\n",
       "                <div style='\n",
       "                    text-align: center;\n",
       "                    font-size: 16px;\n",
       "                    font-weight: bold;\n",
       "                    color: #555;\n",
       "                    margin: 10px 0;'>\n",
       "                    ... 15 more rows not displayed ...\n",
       "                </div>\n",
       "                "
      ],
      "text/plain": [
       "<IPython.core.display.HTML object>"
      ]
     },
     "metadata": {},
     "output_type": "display_data"
    }
   ],
   "source": [
    "mipro_compiled_rag_eval = evaluate(\n",
    "    mipro_compiled_rag,\n",
    "    metric=llm_metric,\n",
    "    return_all_scores=True,\n",
    "    return_outputs=True,\n",
    ")"
   ]
  },
  {
   "cell_type": "code",
   "execution_count": 58,
   "metadata": {},
   "outputs": [
    {
     "name": "stdout",
     "output_type": "stream",
     "text": [
      "0.74\n"
     ]
    },
    {
     "data": {
      "text/html": [
       "<div>\n",
       "<style scoped>\n",
       "    .dataframe tbody tr th:only-of-type {\n",
       "        vertical-align: middle;\n",
       "    }\n",
       "\n",
       "    .dataframe tbody tr th {\n",
       "        vertical-align: top;\n",
       "    }\n",
       "\n",
       "    .dataframe thead th {\n",
       "        text-align: right;\n",
       "    }\n",
       "</style>\n",
       "<table border=\"1\" class=\"dataframe\">\n",
       "  <thead>\n",
       "    <tr style=\"text-align: right;\">\n",
       "      <th></th>\n",
       "      <th>question</th>\n",
       "      <th>predicted_answer</th>\n",
       "      <th>score</th>\n",
       "    </tr>\n",
       "  </thead>\n",
       "  <tbody>\n",
       "    <tr>\n",
       "      <th>0</th>\n",
       "      <td>Are thyroid hormone receptor alpha1 mutations  implicated in thyroid hormone resistance syndrome?</td>\n",
       "      <td>**Proposed Instruction:** Your task is to generate thorough, accurate, and evidence-based answers to medical and pharmaceutical questions using the provided context. Each answer should be clear and concise, prioritizing direct responses first. Ensure to include supporting information from the context, referencing clinical studies, guidelines, or related evidence, particularly when the direct response is not available or applicable. Your objective is to create a comprehensive medical knowledg...</td>\n",
       "      <td>0.5</td>\n",
       "    </tr>\n",
       "    <tr>\n",
       "      <th>1</th>\n",
       "      <td>Has the protein SETMAR (Metnase) a transposase domain?</td>\n",
       "      <td>Answer based on the provided context: The provided context does not directly mention SETMAR (Metnase) or its domains. However, SETMAR, also known as Metnase, is known in the scientific literature to possess a transposase domain. This domain is derived from a mariner-family transposase, which is fused to a SET domain that has histone methyltransferase activity. This fusion allows SETMAR to participate in DNA repair and other genomic functions. For a more detailed and specific confirmation, fu...</td>\n",
       "      <td>1.0</td>\n",
       "    </tr>\n",
       "    <tr>\n",
       "      <th>2</th>\n",
       "      <td>Is Rheumatoid Arthritis related to myopathy?</td>\n",
       "      <td>${answer}\\n\\n---\\n\\nContext:\\n[1] «Muscle LIM protein (MLP) has been proposed to be a central player in the pathogenesis of heart muscle disease.»\\n[2] «The Ehlers-Danlos syndromes (EDS) comprise a heterogenous group of heritable disorders of connective tissue, characterized by joint hypermobility, skin hyperextensibility and tissue fragility.»\\n[3] «Serum CRP levels were related to severity of aSAH. Patients with lower GCS scores and higher Hunt and Hess and Fisher grades presented statisti...</td>\n",
       "      <td>1.0</td>\n",
       "    </tr>\n",
       "    <tr>\n",
       "      <th>3</th>\n",
       "      <td>What is the number of long non coding RNAs in the human genome</td>\n",
       "      <td>Answer based on the provided context: The provided context does not contain specific information about the number of long non-coding RNAs (lncRNAs) in the human genome. To provide a comprehensive answer based on general knowledge in genomics: The human genome contains thousands of long non-coding RNAs (lncRNAs). According to recent estimates, there are over 16,000 lncRNAs identified in the human genome, although the exact number may vary as new lncRNAs are discovered and annotated. These lnc...</td>\n",
       "      <td>1.1</td>\n",
       "    </tr>\n",
       "    <tr>\n",
       "      <th>4</th>\n",
       "      <td>How does miR-1 overexpression worsen arrhythmias in coronary artery disease patients and what are the implications for antiarrhythmic treatments?</td>\n",
       "      <td>**Proposed Instruction:** Your task is to generate thorough, accurate, and evidence-based answers to medical and pharmaceutical questions using the provided context. Each answer should be clear and concise, prioritizing direct responses first. Ensure to include supporting information from the context, referencing clinical studies, guidelines, or related evidence, particularly when the direct response is not available or applicable. Your objective is to create a comprehensive medical knowledg...</td>\n",
       "      <td>0.6</td>\n",
       "    </tr>\n",
       "    <tr>\n",
       "      <th>5</th>\n",
       "      <td>Is cystatin C or cystatin 3 used as a biomarker of kidney function?</td>\n",
       "      <td>Answer based on the provided context: Cystatin C is used as a biomarker of kidney function. It is a protein that is produced by all nucleated cells and is found in body fluids. Its levels in the blood are used to assess kidney function because it is filtered out of the blood by the kidneys. Elevated levels of cystatin C in the blood can indicate impaired kidney function. There is no mention of cystatin 3 in the provided context, and it is not commonly recognized as a biomarker for kidney fun...</td>\n",
       "      <td>1.1</td>\n",
       "    </tr>\n",
       "    <tr>\n",
       "      <th>6</th>\n",
       "      <td>Which post-translational histone modifications are characteristic of constitutive heterochromatin?</td>\n",
       "      <td>Answer based on the provided context: Constitutive heterochromatin is typically characterized by specific post-translational histone modifications, including histone H3 lysine 9 trimethylation (H3K9me3) and histone H4 lysine 20 trimethylation (H4K20me3). These modifications are crucial for the formation and maintenance of heterochromatin, contributing to its transcriptionally repressive state. While the provided context does not explicitly mention these specific modifications, it does highli...</td>\n",
       "      <td>0.9</td>\n",
       "    </tr>\n",
       "    <tr>\n",
       "      <th>7</th>\n",
       "      <td>What is the role of RhoA in bladder cancer?</td>\n",
       "      <td>Answer based on the provided context: The provided context does not directly address the role of RhoA in bladder cancer. However, RhoA is a small GTPase known to regulate the actin cytoskeleton, cell motility, and proliferation. In the context of cancer, including bladder cancer, RhoA is often implicated in processes such as tumor cell invasion, metastasis, and angiogenesis. Dysregulation of RhoA signaling pathways can contribute to the aggressive behavior of cancer cells. For specific detai...</td>\n",
       "      <td>0.6</td>\n",
       "    </tr>\n",
       "    <tr>\n",
       "      <th>8</th>\n",
       "      <td>Which are the common symptoms of Cushing's syndrome?</td>\n",
       "      <td>Answer based on the provided context: The common symptoms of Cushing's syndrome include weight gain, particularly around the abdomen and face (leading to a \"moon face\" appearance), thinning of the skin that bruises easily, purple or pink stretch marks (striae) on the skin, muscle weakness, fatigue, high blood pressure, and high blood sugar levels. Other symptoms may include osteoporosis, mood changes, and irregular menstrual periods in women. These symptoms are due to prolonged exposure to h...</td>\n",
       "      <td>1.0</td>\n",
       "    </tr>\n",
       "    <tr>\n",
       "      <th>9</th>\n",
       "      <td>Describe Hot water reflex epilepsy.</td>\n",
       "      <td>**Proposed Instruction:** Your task is to generate thorough, accurate, and evidence-based answers to medical and pharmaceutical questions using the provided context. Each answer should be clear and concise, prioritizing direct responses first. Ensure to include supporting information from the context, referencing clinical studies, guidelines, or related evidence, particularly when the direct response is not available or applicable. Your objective is to create a comprehensive medical knowledg...</td>\n",
       "      <td>0.9</td>\n",
       "    </tr>\n",
       "    <tr>\n",
       "      <th>10</th>\n",
       "      <td>Which are the known human transmembrane nucleoporins?</td>\n",
       "      <td>**Proposed Instruction:** Your task is to generate thorough, accurate, and evidence-based answers to medical and pharmaceutical questions using the provided context. Each answer should be clear and concise, prioritizing direct responses first. Ensure to include supporting information from the context, referencing clinical studies, guidelines, or related evidence, particularly when the direct response is not available or applicable. Your objective is to create a comprehensive medical knowledg...</td>\n",
       "      <td>0.3</td>\n",
       "    </tr>\n",
       "    <tr>\n",
       "      <th>11</th>\n",
       "      <td>What is the biological role of expansins in fungi?</td>\n",
       "      <td>**Proposed Instruction:** Your task is to generate thorough, accurate, and evidence-based answers to medical and pharmaceutical questions using the provided context. Each answer should be clear and concise, prioritizing direct responses first. Ensure to include supporting information from the context, referencing clinical studies, guidelines, or related evidence, particularly when the direct response is not available or applicable. Your objective is to create a comprehensive medical knowledg...</td>\n",
       "      <td>0.3</td>\n",
       "    </tr>\n",
       "    <tr>\n",
       "      <th>12</th>\n",
       "      <td>Which gene is associated with Muenke syndrome?</td>\n",
       "      <td>${answer}\\n\\n---\\n\\nContext:\\n[1] «To identify the genetic defect in an autosomal dominant isolated ectopia lentis (EL) family.»\\n[2] «In this paper we have explored the benefits of combining predictions from already existing gene prediction programs. We have introduced three novel methods for combining predictions from programs Genscan and HMMgene»\\n[3] «We studied 24 patients with homocystinuria caused by homozygous CBS deficiency from 18 unrelated kindreds for FVL and for the 677C--&gt;T mut...</td>\n",
       "      <td>1.2</td>\n",
       "    </tr>\n",
       "    <tr>\n",
       "      <th>13</th>\n",
       "      <td>Can the Micro-C XL method achieve mononucleosome resolution?</td>\n",
       "      <td>${answer}\\n\\n---\\n\\nContext:\\n[1] «a chromosome-centric protein mapping strategy, termed C-HPP»\\n[2] «By performing matched genome-wide binding assays (ChIP-seq) in human breast cancer cells (MCF-7), we discovered thousands of genomic sites that share cohesin and estrogen receptor alpha (ER) yet lack CTCF binding»\\n[3] «A GC-rich region containing Sp1 and Sp1-like binding sites»\\n[4] «Covalent histone modifications (e.g. ubiquitination, phosphorylation, methylation, acetylation) and H2A vari...</td>\n",
       "      <td>0.8</td>\n",
       "    </tr>\n",
       "    <tr>\n",
       "      <th>14</th>\n",
       "      <td>What is the function of TALENs?</td>\n",
       "      <td>Answer based on the provided context: The context provided does not directly mention TALENs. However, TALENs (Transcription Activator-Like Effector Nucleases) are a type of engineered nuclease used in gene editing. They function by binding to specific DNA sequences through a customizable DNA-binding domain and introducing double-strand breaks at the target site using a nuclease domain. This allows for precise modifications of the genome, such as gene knockout, insertion, or correction, which...</td>\n",
       "      <td>0.8</td>\n",
       "    </tr>\n",
       "    <tr>\n",
       "      <th>15</th>\n",
       "      <td>Has small pox been eradicated from the world?</td>\n",
       "      <td>Answer based on the provided context: Smallpox has been eradicated from the world. The World Health Organization (WHO) declared smallpox eradicated in 1980 after a successful global vaccination campaign. This makes smallpox the first disease to be eradicated by human efforts.</td>\n",
       "      <td>0.7</td>\n",
       "    </tr>\n",
       "    <tr>\n",
       "      <th>16</th>\n",
       "      <td>Is the length of the poly(A) tail involved in human disease?</td>\n",
       "      <td>${answer}\\n\\n---\\n\\nContext:\\n[1] «With the exception of a small number of poly-A-, poly-G-, poly-GA-, and poly-GAAA-sequences (combined &lt;0.5%), all pure GA-sequences of the mammals tested were unique individuals, contained several repeated short GA-containing motifs, and shared a common hexa-nucleotide spectrum.»\\n[2] «To identify the genetic defect in an autosomal dominant isolated ectopia lentis (EL) family.»\\n[3] «Measurement of apoptosis-associated internucleosomal DNA fragmentation thr...</td>\n",
       "      <td>0.7</td>\n",
       "    </tr>\n",
       "    <tr>\n",
       "      <th>17</th>\n",
       "      <td>What is the \"wearing-off\" phenomenon in levodopa-treated patients with Parkinson's Disease?</td>\n",
       "      <td>**Proposed Instruction:** Your task is to generate thorough, accurate, and evidence-based answers to medical and pharmaceutical questions using the provided context. Each answer should be clear and concise, prioritizing direct responses first. Ensure to include supporting information from the context, referencing clinical studies, guidelines, or related evidence, particularly when the direct response is not available or applicable. Your objective is to create a comprehensive medical knowledg...</td>\n",
       "      <td>0.3</td>\n",
       "    </tr>\n",
       "    <tr>\n",
       "      <th>18</th>\n",
       "      <td>What is the role of Inn1 in cytokinesis?</td>\n",
       "      <td>**Proposed Instruction:** Your task is to generate thorough, accurate, and evidence-based answers to medical and pharmaceutical questions using the provided context. Each answer should be clear and concise, prioritizing direct responses first. Ensure to include supporting information from the context, referencing clinical studies, guidelines, or related evidence, particularly when the direct response is not available or applicable. Your objective is to create a comprehensive medical knowledg...</td>\n",
       "      <td>0.5</td>\n",
       "    </tr>\n",
       "    <tr>\n",
       "      <th>19</th>\n",
       "      <td>Is armodafinil used for treatment of insomnia?</td>\n",
       "      <td>**Proposed Instruction:** Your task is to generate thorough, accurate, and evidence-based answers to medical and pharmaceutical questions using the provided context. Each answer should be clear and concise, prioritizing direct responses first. Ensure to include supporting information from the context, referencing clinical studies, guidelines, or related evidence, particularly when the direct response is not available or applicable. Your objective is to create a comprehensive medical knowledg...</td>\n",
       "      <td>0.5</td>\n",
       "    </tr>\n",
       "  </tbody>\n",
       "</table>\n",
       "</div>"
      ],
      "text/plain": [
       "                                                                                                                                             question  \\\n",
       "0                                                   Are thyroid hormone receptor alpha1 mutations  implicated in thyroid hormone resistance syndrome?   \n",
       "1                                                                                              Has the protein SETMAR (Metnase) a transposase domain?   \n",
       "2                                                                                                        Is Rheumatoid Arthritis related to myopathy?   \n",
       "3                                                                                      What is the number of long non coding RNAs in the human genome   \n",
       "4   How does miR-1 overexpression worsen arrhythmias in coronary artery disease patients and what are the implications for antiarrhythmic treatments?   \n",
       "5                                                                                 Is cystatin C or cystatin 3 used as a biomarker of kidney function?   \n",
       "6                                                  Which post-translational histone modifications are characteristic of constitutive heterochromatin?   \n",
       "7                                                                                                         What is the role of RhoA in bladder cancer?   \n",
       "8                                                                                                Which are the common symptoms of Cushing's syndrome?   \n",
       "9                                                                                                                 Describe Hot water reflex epilepsy.   \n",
       "10                                                                                              Which are the known human transmembrane nucleoporins?   \n",
       "11                                                                                                 What is the biological role of expansins in fungi?   \n",
       "12                                                                                                     Which gene is associated with Muenke syndrome?   \n",
       "13                                                                                       Can the Micro-C XL method achieve mononucleosome resolution?   \n",
       "14                                                                                                                    What is the function of TALENs?   \n",
       "15                                                                                                      Has small pox been eradicated from the world?   \n",
       "16                                                                                       Is the length of the poly(A) tail involved in human disease?   \n",
       "17                                                        What is the \"wearing-off\" phenomenon in levodopa-treated patients with Parkinson's Disease?   \n",
       "18                                                                                                           What is the role of Inn1 in cytokinesis?   \n",
       "19                                                                                                     Is armodafinil used for treatment of insomnia?   \n",
       "\n",
       "                                                                                                                                                                                                                                                                                                                                                                                                                                                                                                       predicted_answer  \\\n",
       "0   **Proposed Instruction:** Your task is to generate thorough, accurate, and evidence-based answers to medical and pharmaceutical questions using the provided context. Each answer should be clear and concise, prioritizing direct responses first. Ensure to include supporting information from the context, referencing clinical studies, guidelines, or related evidence, particularly when the direct response is not available or applicable. Your objective is to create a comprehensive medical knowledg...   \n",
       "1   Answer based on the provided context: The provided context does not directly mention SETMAR (Metnase) or its domains. However, SETMAR, also known as Metnase, is known in the scientific literature to possess a transposase domain. This domain is derived from a mariner-family transposase, which is fused to a SET domain that has histone methyltransferase activity. This fusion allows SETMAR to participate in DNA repair and other genomic functions. For a more detailed and specific confirmation, fu...   \n",
       "2   ${answer}\\n\\n---\\n\\nContext:\\n[1] «Muscle LIM protein (MLP) has been proposed to be a central player in the pathogenesis of heart muscle disease.»\\n[2] «The Ehlers-Danlos syndromes (EDS) comprise a heterogenous group of heritable disorders of connective tissue, characterized by joint hypermobility, skin hyperextensibility and tissue fragility.»\\n[3] «Serum CRP levels were related to severity of aSAH. Patients with lower GCS scores and higher Hunt and Hess and Fisher grades presented statisti...   \n",
       "3   Answer based on the provided context: The provided context does not contain specific information about the number of long non-coding RNAs (lncRNAs) in the human genome. To provide a comprehensive answer based on general knowledge in genomics: The human genome contains thousands of long non-coding RNAs (lncRNAs). According to recent estimates, there are over 16,000 lncRNAs identified in the human genome, although the exact number may vary as new lncRNAs are discovered and annotated. These lnc...   \n",
       "4   **Proposed Instruction:** Your task is to generate thorough, accurate, and evidence-based answers to medical and pharmaceutical questions using the provided context. Each answer should be clear and concise, prioritizing direct responses first. Ensure to include supporting information from the context, referencing clinical studies, guidelines, or related evidence, particularly when the direct response is not available or applicable. Your objective is to create a comprehensive medical knowledg...   \n",
       "5   Answer based on the provided context: Cystatin C is used as a biomarker of kidney function. It is a protein that is produced by all nucleated cells and is found in body fluids. Its levels in the blood are used to assess kidney function because it is filtered out of the blood by the kidneys. Elevated levels of cystatin C in the blood can indicate impaired kidney function. There is no mention of cystatin 3 in the provided context, and it is not commonly recognized as a biomarker for kidney fun...   \n",
       "6   Answer based on the provided context: Constitutive heterochromatin is typically characterized by specific post-translational histone modifications, including histone H3 lysine 9 trimethylation (H3K9me3) and histone H4 lysine 20 trimethylation (H4K20me3). These modifications are crucial for the formation and maintenance of heterochromatin, contributing to its transcriptionally repressive state. While the provided context does not explicitly mention these specific modifications, it does highli...   \n",
       "7   Answer based on the provided context: The provided context does not directly address the role of RhoA in bladder cancer. However, RhoA is a small GTPase known to regulate the actin cytoskeleton, cell motility, and proliferation. In the context of cancer, including bladder cancer, RhoA is often implicated in processes such as tumor cell invasion, metastasis, and angiogenesis. Dysregulation of RhoA signaling pathways can contribute to the aggressive behavior of cancer cells. For specific detai...   \n",
       "8   Answer based on the provided context: The common symptoms of Cushing's syndrome include weight gain, particularly around the abdomen and face (leading to a \"moon face\" appearance), thinning of the skin that bruises easily, purple or pink stretch marks (striae) on the skin, muscle weakness, fatigue, high blood pressure, and high blood sugar levels. Other symptoms may include osteoporosis, mood changes, and irregular menstrual periods in women. These symptoms are due to prolonged exposure to h...   \n",
       "9   **Proposed Instruction:** Your task is to generate thorough, accurate, and evidence-based answers to medical and pharmaceutical questions using the provided context. Each answer should be clear and concise, prioritizing direct responses first. Ensure to include supporting information from the context, referencing clinical studies, guidelines, or related evidence, particularly when the direct response is not available or applicable. Your objective is to create a comprehensive medical knowledg...   \n",
       "10  **Proposed Instruction:** Your task is to generate thorough, accurate, and evidence-based answers to medical and pharmaceutical questions using the provided context. Each answer should be clear and concise, prioritizing direct responses first. Ensure to include supporting information from the context, referencing clinical studies, guidelines, or related evidence, particularly when the direct response is not available or applicable. Your objective is to create a comprehensive medical knowledg...   \n",
       "11  **Proposed Instruction:** Your task is to generate thorough, accurate, and evidence-based answers to medical and pharmaceutical questions using the provided context. Each answer should be clear and concise, prioritizing direct responses first. Ensure to include supporting information from the context, referencing clinical studies, guidelines, or related evidence, particularly when the direct response is not available or applicable. Your objective is to create a comprehensive medical knowledg...   \n",
       "12  ${answer}\\n\\n---\\n\\nContext:\\n[1] «To identify the genetic defect in an autosomal dominant isolated ectopia lentis (EL) family.»\\n[2] «In this paper we have explored the benefits of combining predictions from already existing gene prediction programs. We have introduced three novel methods for combining predictions from programs Genscan and HMMgene»\\n[3] «We studied 24 patients with homocystinuria caused by homozygous CBS deficiency from 18 unrelated kindreds for FVL and for the 677C-->T mut...   \n",
       "13  ${answer}\\n\\n---\\n\\nContext:\\n[1] «a chromosome-centric protein mapping strategy, termed C-HPP»\\n[2] «By performing matched genome-wide binding assays (ChIP-seq) in human breast cancer cells (MCF-7), we discovered thousands of genomic sites that share cohesin and estrogen receptor alpha (ER) yet lack CTCF binding»\\n[3] «A GC-rich region containing Sp1 and Sp1-like binding sites»\\n[4] «Covalent histone modifications (e.g. ubiquitination, phosphorylation, methylation, acetylation) and H2A vari...   \n",
       "14  Answer based on the provided context: The context provided does not directly mention TALENs. However, TALENs (Transcription Activator-Like Effector Nucleases) are a type of engineered nuclease used in gene editing. They function by binding to specific DNA sequences through a customizable DNA-binding domain and introducing double-strand breaks at the target site using a nuclease domain. This allows for precise modifications of the genome, such as gene knockout, insertion, or correction, which...   \n",
       "15                                                                                                                                                                                                                                 Answer based on the provided context: Smallpox has been eradicated from the world. The World Health Organization (WHO) declared smallpox eradicated in 1980 after a successful global vaccination campaign. This makes smallpox the first disease to be eradicated by human efforts.   \n",
       "16  ${answer}\\n\\n---\\n\\nContext:\\n[1] «With the exception of a small number of poly-A-, poly-G-, poly-GA-, and poly-GAAA-sequences (combined <0.5%), all pure GA-sequences of the mammals tested were unique individuals, contained several repeated short GA-containing motifs, and shared a common hexa-nucleotide spectrum.»\\n[2] «To identify the genetic defect in an autosomal dominant isolated ectopia lentis (EL) family.»\\n[3] «Measurement of apoptosis-associated internucleosomal DNA fragmentation thr...   \n",
       "17  **Proposed Instruction:** Your task is to generate thorough, accurate, and evidence-based answers to medical and pharmaceutical questions using the provided context. Each answer should be clear and concise, prioritizing direct responses first. Ensure to include supporting information from the context, referencing clinical studies, guidelines, or related evidence, particularly when the direct response is not available or applicable. Your objective is to create a comprehensive medical knowledg...   \n",
       "18  **Proposed Instruction:** Your task is to generate thorough, accurate, and evidence-based answers to medical and pharmaceutical questions using the provided context. Each answer should be clear and concise, prioritizing direct responses first. Ensure to include supporting information from the context, referencing clinical studies, guidelines, or related evidence, particularly when the direct response is not available or applicable. Your objective is to create a comprehensive medical knowledg...   \n",
       "19  **Proposed Instruction:** Your task is to generate thorough, accurate, and evidence-based answers to medical and pharmaceutical questions using the provided context. Each answer should be clear and concise, prioritizing direct responses first. Ensure to include supporting information from the context, referencing clinical studies, guidelines, or related evidence, particularly when the direct response is not available or applicable. Your objective is to create a comprehensive medical knowledg...   \n",
       "\n",
       "    score  \n",
       "0     0.5  \n",
       "1     1.0  \n",
       "2     1.0  \n",
       "3     1.1  \n",
       "4     0.6  \n",
       "5     1.1  \n",
       "6     0.9  \n",
       "7     0.6  \n",
       "8     1.0  \n",
       "9     0.9  \n",
       "10    0.3  \n",
       "11    0.3  \n",
       "12    1.2  \n",
       "13    0.8  \n",
       "14    0.8  \n",
       "15    0.7  \n",
       "16    0.7  \n",
       "17    0.3  \n",
       "18    0.5  \n",
       "19    0.5  "
      ]
     },
     "execution_count": 58,
     "metadata": {},
     "output_type": "execute_result"
    }
   ],
   "source": [
    "pd.set_option(\"display.max_colwidth\", 500)\n",
    "pd.set_option(\"display.max_rows\", 500)\n",
    "\n",
    "mipro_compiled_rag_eval_evals_df = create_score_dataframe(\n",
    "    mipro_compiled_rag_eval[1]\n",
    ")\n",
    "print(mipro_compiled_rag_eval_evals_df[\"score\"].mean())\n",
    "mipro_compiled_rag_eval_evals_df\n"
   ]
  }
 ],
 "metadata": {
  "kernelspec": {
   "display_name": "qdrant_client",
   "language": "python",
   "name": "python3"
  },
  "language_info": {
   "codemirror_mode": {
    "name": "ipython",
    "version": 3
   },
   "file_extension": ".py",
   "mimetype": "text/x-python",
   "name": "python",
   "nbconvert_exporter": "python",
   "pygments_lexer": "ipython3",
   "version": "3.11.9"
  }
 },
 "nbformat": 4,
 "nbformat_minor": 2
}
