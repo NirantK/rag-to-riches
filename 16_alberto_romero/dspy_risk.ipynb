{
 "cells": [
  {
   "cell_type": "markdown",
   "metadata": {},
   "source": [
    "# DSPy in Financial Services\n",
    "# Risk assessment with DSPy"
   ]
  },
  {
   "cell_type": "markdown",
   "metadata": {},
   "source": [
    "DSPy makes it easy to create, evaluate, and deploy GenAI applications in a repeatable and scalable way.\n",
    "\n",
    "In Financial Services, like in other regulated industries, it is crucial to ensure that outcomes produced by AI applications comply with laws, regulations, and ethical guidelines. In particular there are 3 aspects to consider:\n",
    "\n",
    "1. **Explainability**: It is crucial to understand why an AI system made a particular decision or prediction. Outcomes must also be fair and non-discriminatory.\n",
    "2. **Reliability**: It is important that regardless of the complexities of the processes that lead to an outcome, the elements along the way reliably function as intended.\n",
    "3. **Consistency**: It is of paramount importance that outcome quality is consistent and reliable across different invocations of the system and there is no room for hallucinations.\n",
    "\n",
    "In this notebook we will see how to use DSPy to create a risk assessment agent.\n",
    "\n",
    "We will use the following optimizers to progress through the use case and demonstrate their differences:\n",
    "\n",
    "- **Zero Shot**: This is the simplest form of prompting. We only provide with a description of the task (instruction).\n",
    "- **Labeled Few Shot**: This is a more advanced form of prompting. We provide a description of the task (instruction), and a few labelled examples for the model to learn from and follow.\n",
    "- **Bootstrap Few Shot**: This optimizer goes a level up in terms of performance by introducing the use of metrics to generate complete demonstrations of the program and optimize against them.\n",
    "- **MIPRO v2**: Finally, this optimizer leverages Bayesian Optimization to optimize both instructions and few shot examples simultaneously by finding the best combination of instructions and examples."
   ]
  },
  {
   "cell_type": "markdown",
   "metadata": {},
   "source": [
    "## Zero Shot"
   ]
  },
  {
   "cell_type": "code",
   "execution_count": 1,
   "metadata": {},
   "outputs": [],
   "source": [
    "import dspy\n",
    "from dspy.evaluate import Evaluate\n",
    "from dspy import ChainOfThought\n",
    "from dsp import Claude\n",
    "from typing import List, Optional\n",
    "import pandas as pd\n",
    "import textwrap"
   ]
  },
  {
   "cell_type": "code",
   "execution_count": 2,
   "metadata": {},
   "outputs": [
    {
     "name": "stdout",
     "output_type": "stream",
     "text": [
      "🌍 To view the Phoenix app in your browser, visit http://localhost:6006/\n",
      "📖 For more information on how to use Phoenix, check out https://docs.arize.com/phoenix\n",
      "🔭 OpenTelemetry Tracing Details 🔭\n",
      "|  Phoenix Project: default\n",
      "|  Span Processor: SimpleSpanProcessor\n",
      "|  Collector Endpoint: http://127.0.0.1:6006/v1/traces\n",
      "|  Transport: HTTP\n",
      "|  Transport Headers: {}\n",
      "|  \n",
      "|  Using a default SpanProcessor. `add_span_processor` will overwrite this default.\n",
      "\n"
     ]
    }
   ],
   "source": [
    "import os\n",
    "os.environ[\"DSP_CACHEBOOL\"] = \"False\"\n",
    "import phoenix as px\n",
    "from phoenix.trace import using_project\n",
    "\n",
    "phoenix_session = px.launch_app()\n",
    "from openinference.instrumentation.dspy import DSPyInstrumentor\n",
    "from openinference.instrumentation.anthropic import AnthropicInstrumentor\n",
    "\n",
    "from phoenix.otel import register\n",
    "from opentelemetry.exporter.otlp.proto.http.trace_exporter import OTLPSpanExporter\n",
    "from opentelemetry.sdk.trace.export import ConsoleSpanExporter, SimpleSpanProcessor\n",
    "\n",
    "endpoint = \"http://127.0.0.1:6006/v1/traces\"\n",
    "tracer_provider = register(endpoint=endpoint, set_global_tracer_provider=False)\n",
    "tracer_provider.add_span_processor(SimpleSpanProcessor(OTLPSpanExporter(endpoint)))\n",
    "\n",
    "DSPyInstrumentor().instrument(tracer_provider=tracer_provider, skip_dep_check=True)\n",
    "AnthropicInstrumentor().instrument(tracer_provider=tracer_provider)"
   ]
  },
  {
   "cell_type": "code",
   "execution_count": 3,
   "metadata": {},
   "outputs": [],
   "source": [
    "# Initialize the language model\n",
    "#worker = dspy.OpenAI(model=\"gpt-3.5-turbo\", model_type=\"chat\", max_tokens=3000)\n",
    "worker = Claude(model=\"claude-3-5-sonnet-20240620\", max_tokens=3000)\n",
    "#worker = dspy.Cohere(model=\"command-r-plus\", max_tokens=3000)\n",
    "#worker = dspy.HFModel(model = 'mistralai/Mistral-7B-Instruct-v0.2', max_tokens=3000)\n",
    "dspy.configure(lm=worker)\n",
    "dspy.settings.configure(backoff_time = 60)"
   ]
  },
  {
   "cell_type": "code",
   "execution_count": 4,
   "metadata": {},
   "outputs": [],
   "source": [
    "# Input data\n",
    "applicant_info = \"\"\"\n",
    "Name: John Doe\n",
    "Age: 35\n",
    "Annual Income: $75,000\n",
    "Credit Score: 720\n",
    "Existing Debts: $20,000 in student loans, $5,000 in credit card debt\n",
    "Loan Amount Requested: $250,000 for a home mortgage\n",
    "Employment: Software Engineer at Tech Corp for 5 years\n",
    "\"\"\""
   ]
  },
  {
   "cell_type": "code",
   "execution_count": 5,
   "metadata": {},
   "outputs": [],
   "source": [
    "class ZeroShot(dspy.Module):\n",
    "    \"\"\"\n",
    "    You are given a piece of text that contains information about an applicant. \n",
    "    Analyze the applicant's financial information and return a risk assessment.\n",
    "    \"\"\"\n",
    "    def __init__(self):\n",
    "        super().__init__()\n",
    "        self.prog = dspy.Predict(\"question -> answer\")\n",
    "\n",
    "    def forward(self, applicant):\n",
    "        return self.prog(question=\"Analyze the applicant's financial information and return a risk assessment. Applicant: \" + applicant)"
   ]
  },
  {
   "cell_type": "code",
   "execution_count": 6,
   "metadata": {},
   "outputs": [
    {
     "name": "stderr",
     "output_type": "stream",
     "text": [
      "WARNING:root:\t*** In DSPy 2.5, all LM clients except `dspy.LM` are deprecated. ***\n",
      " \t\tYou are using the client Claude, which will be removed in DSPy 2.6.\n",
      " \t\tChanging the client is straightforward and will let you use new features (Adapters) that improve the consistency of LM outputs, especially when using chat LMs. \n",
      "\n",
      " \t\tLearn more about the changes and how to migrate at\n",
      " \t\thttps://github.com/stanfordnlp/dspy/blob/main/examples/migration.ipynb\n"
     ]
    },
    {
     "name": "stdout",
     "output_type": "stream",
     "text": [
      "ZeroShot response:\n",
      " Prediction(\n",
      "    answer=\"Based on the provided financial information for John Doe, here's a risk assessment:\\n\\nAnswer: Low to Moderate Risk\\n\\nReasons for this assessment:\\n\\n1. Positive factors:\\n   - Stable employment: 5 years at Tech Corp as a Software Engineer\\n   - Good credit score: 720 is considered good and indicates responsible credit management\\n   - Solid annual income: $75,000 is a respectable salary for a 35-year-old professional\\n   - Debt-to-income ratio: Existing debts are relatively low compared to annual income\\n\\n2. Potential concerns:\\n   - Loan amount requested ($250,000) is more than 3 times the annual income, which is on the higher side\\n   - Existing debts, while not excessive, do add to the overall financial obligations\\n\\n3. Recommendations:\\n   - Verify the applicant's ability to make consistent mortgage payments\\n   - Consider the local housing market and ensure the loan amount is appropriate for the property value\\n   - Review the applicant's savings and assets to assess their ability to handle unexpected expenses or income disruptions\\n\\nOverall, John Doe appears to be a relatively low-risk applicant, but the high loan amount relative to income warrants careful consideration. Additional information on savings, assets, and local housing market conditions would help refine this assessment.\"\n",
      ")\n",
      "\n",
      "\n",
      "\n",
      "Given the fields `question`, produce the fields `answer`.\n",
      "\n",
      "---\n",
      "\n",
      "Follow the following format.\n",
      "\n",
      "Question: ${question}\n",
      "Answer: ${answer}\n",
      "\n",
      "---\n",
      "\n",
      "Question: Analyze the applicant's financial information and return a risk assessment. Applicant: Name: John Doe Age: 35 Annual Income: $75,000 Credit Score: 720 Existing Debts: $20,000 in student loans, $5,000 in credit card debt Loan Amount Requested: $250,000 for a home mortgage Employment: Software Engineer at Tech Corp for 5 years\n",
      "Answer:\u001b[32mBased on the provided financial information for John Doe, here's a risk assessment:\n",
      "\n",
      "Answer: Low to Moderate Risk\n",
      "\n",
      "Reasons for this assessment:\n",
      "\n",
      "1. Positive factors:\n",
      "   - Stable employment: 5 years at Tech Corp as a Software Engineer\n",
      "   - Good credit score: 720 is considered good and indicates responsible credit management\n",
      "   - Solid annual income: $75,000 is a respectable salary for a 35-year-old professional\n",
      "   - Debt-to-income ratio: Existing debts are relatively low compared to annual income\n",
      "\n",
      "2. Potential concerns:\n",
      "   - Loan amount requested ($250,000) is more than 3 times the annual income, which is on the higher side\n",
      "   - Existing debts, while not excessive, do add to the overall financial obligations\n",
      "\n",
      "3. Recommendations:\n",
      "   - Verify the applicant's ability to make consistent mortgage payments\n",
      "   - Consider the local housing market and ensure the loan amount is appropriate for the property value\n",
      "   - Review the applicant's savings and assets to assess their ability to handle unexpected expenses or income disruptions\n",
      "\n",
      "Overall, John Doe appears to be a relatively low-risk applicant, but the high loan amount relative to income warrants careful consideration. Additional information on savings, assets, and local housing market conditions would help refine this assessment.\u001b[0m\n",
      "\n",
      "\n",
      "\n",
      "Prompt used: \n",
      "\n",
      "\n",
      "Given the fields `question`, produce the fields `answer`.\n",
      "\n",
      "---\n",
      "\n",
      "Follow the following format.\n",
      "\n",
      "Question: ${question}\n",
      "Answer: ${answer}\n",
      "\n",
      "---\n",
      "\n",
      "Question: Analyze the applicant's financial information and return a risk assessment. Applicant: Name: John Doe Age: 35 Annual Income: $75,000 Credit Score: 720 Existing Debts: $20,000 in student loans, $5,000 in credit card debt Loan Amount Requested: $250,000 for a home mortgage Employment: Software Engineer at Tech Corp for 5 years\n",
      "Answer:\u001b[32mBased on the provided financial information for John Doe, here's a risk assessment:\n",
      "\n",
      "Answer: Low to Moderate Risk\n",
      "\n",
      "Reasons for this assessment:\n",
      "\n",
      "1. Positive factors:\n",
      "   - Stable employment: 5 years at Tech Corp as a Software Engineer\n",
      "   - Good credit score: 720 is considered good and indicates responsible credit management\n",
      "   - Solid annual income: $75,000 is a respectable salary for a 35-year-old professional\n",
      "   - Debt-to-income ratio: Existing debts are relatively low compared to annual income\n",
      "\n",
      "2. Potential concerns:\n",
      "   - Loan amount requested ($250,000) is more than 3 times the annual income, which is on the higher side\n",
      "   - Existing debts, while not excessive, do add to the overall financial obligations\n",
      "\n",
      "3. Recommendations:\n",
      "   - Verify the applicant's ability to make consistent mortgage payments\n",
      "   - Consider the local housing market and ensure the loan amount is appropriate for the property value\n",
      "   - Review the applicant's savings and assets to assess their ability to handle unexpected expenses or income disruptions\n",
      "\n",
      "Overall, John Doe appears to be a relatively low-risk applicant, but the high loan amount relative to income warrants careful consideration. Additional information on savings, assets, and local housing market conditions would help refine this assessment.\u001b[0m\n",
      "\n",
      "\n",
      "\n"
     ]
    }
   ],
   "source": [
    "with using_project(\"zero_shot\"):\n",
    "    module = ZeroShot()\n",
    "    response = module(applicant_info)\n",
    "    print(f\"ZeroShot response:\\n {response}\")\n",
    "\n",
    "    prompt_used = worker.inspect_history(n=1)\n",
    "    print(f\"Prompt used: {prompt_used}\")"
   ]
  },
  {
   "cell_type": "markdown",
   "metadata": {},
   "source": [
    "## Labeled Few Shot"
   ]
  },
  {
   "cell_type": "code",
   "execution_count": 7,
   "metadata": {},
   "outputs": [],
   "source": [
    "import json\n",
    "from dspy.teleprompt import LabeledFewShot"
   ]
  },
  {
   "cell_type": "code",
   "execution_count": 8,
   "metadata": {},
   "outputs": [],
   "source": [
    "class RiskAssessment(dspy.Signature):\n",
    "    \"\"\"Analyze the applicant's financial information and return a risk assessment.\"\"\"\n",
    "    question = dspy.InputField()\n",
    "    applicant = dspy.InputField()\n",
    "    answer = dspy.OutputField(desc=\"\"\"\n",
    "                              A thorough risk analysis about the applicant, justifying the assessment \n",
    "                              for each of the parameters considered from the applicant\n",
    "                              \"\"\"\n",
    "                              )"
   ]
  },
  {
   "cell_type": "code",
   "execution_count": 9,
   "metadata": {},
   "outputs": [],
   "source": [
    "class RiskAssessmentAgent(dspy.Module):\n",
    "    def __init__(self):\n",
    "        self.question = \"Analyze the applicant's financial information and return a risk assessment.\"\n",
    "        self.assess_risk = ChainOfThought(RiskAssessment, n=3)\n",
    "    def forward(self, applicant:str):\n",
    "        question = self.question\n",
    "        applicant = applicant\n",
    "        pred = self.assess_risk(question=question, applicant=applicant)\n",
    "\n",
    "        return dspy.Prediction(answer = pred.answer)"
   ]
  },
  {
   "cell_type": "code",
   "execution_count": 10,
   "metadata": {},
   "outputs": [],
   "source": [
    "# Load the training data\n",
    "dataset = json.load(open(\"data/training_data.json\", \"r\"))['examples']\n",
    "trainset = [dspy.Example(question=\"Analyze the applicant's financial information and return a risk assessment\", \n",
    "                         applicant=e['applicant'], \n",
    "                         answer=e['answer']) for e in dataset]"
   ]
  },
  {
   "cell_type": "code",
   "execution_count": 11,
   "metadata": {},
   "outputs": [],
   "source": [
    "# Train\n",
    "teleprompter = LabeledFewShot()\n",
    "lfs_optimized_advisor = teleprompter.compile(RiskAssessmentAgent(), \n",
    "                                             trainset=trainset[3:]\n",
    "                                            )"
   ]
  },
  {
   "cell_type": "code",
   "execution_count": 12,
   "metadata": {},
   "outputs": [
    {
     "name": "stdout",
     "output_type": "stream",
     "text": [
      "LabeledFewShot Optimised response:\n",
      " Based on the analysis of John Doe's financial information, the risk\n",
      "assessment is Low to Medium Risk.   Justification: 1. John's good\n",
      "credit score (720) indicates a history of responsible credit\n",
      "management. 2. His stable employment as a Software Engineer for 5\n",
      "years suggests job security and income stability. 3. The annual income\n",
      "of $75,000 provides a solid foundation for loan repayment. 4. The\n",
      "existing debts are manageable, though the addition of a mortgage will\n",
      "significantly increase his debt load. 5. The loan-to-income ratio for\n",
      "the requested mortgage is within typical lending standards.  However,\n",
      "there are some factors to consider: 1. The potential debt-to-income\n",
      "ratio after the mortgage (52.42%) is on the higher side, which could\n",
      "strain his finances. 2. The $5,000 in credit card debt, while not\n",
      "excessive, should be monitored.  Overall, John Doe appears to be a\n",
      "responsible borrower with a stable financial situation. The main\n",
      "concern is the potential strain on his finances with the addition of a\n",
      "large mortgage. The lender might want to ensure that John has a plan\n",
      "for managing his increased debt load and possibly suggest a slightly\n",
      "smaller loan amount to reduce the risk. With proper financial\n",
      "management, John should be able to handle the mortgage, but close\n",
      "monitoring of his financial situation is advisable.\n"
     ]
    }
   ],
   "source": [
    "with using_project(\"labeled_few_shot\"):\n",
    "    response = lfs_optimized_advisor(applicant_info)\n",
    "    wrapped_response = textwrap.fill(response.answer, width=70)\n",
    "    print(f\"LabeledFewShot Optimised response:\\n {wrapped_response}\")"
   ]
  },
  {
   "cell_type": "code",
   "execution_count": 13,
   "metadata": {},
   "outputs": [
    {
     "name": "stdout",
     "output_type": "stream",
     "text": [
      "\n",
      "\n",
      "\n",
      "Analyze the applicant's financial information and return a risk assessment.\n",
      "\n",
      "---\n",
      "\n",
      "Follow the following format.\n",
      "\n",
      "Question: ${question}\n",
      "\n",
      "Applicant: ${applicant}\n",
      "\n",
      "Reasoning: Let's think step by step in order to ${produce the answer}. We ...\n",
      "\n",
      "Answer: A thorough risk analysis about the applicant, justifying the assessment for each of the parameters considered from the applicant\n",
      "\n",
      "---\n",
      "\n",
      "Question: Analyze the applicant's financial information and return a risk assessment\n",
      "Applicant: Name: Richard Turner Age: 45 Annual Income: $95,000 Credit Score: 620 Existing Debts: $20,000 in credit card debt Loan Amount Requested: $30,000 for home renovations Employment: Engineer at a manufacturing company for 15 years\n",
      "Answer: Based on the analysis of Richard Turner's financial information, the risk assessment is Medium. Here's the justification for this assessment: 1. Income: Richard's annual income of $95,000 is relatively high, providing a good foundation for loan repayment. 2. Employment Stability: 15 years as an engineer at the same manufacturing company indicates job security and consistent income. 3. Credit Score: His credit score of 620 is fair but not excellent, suggesting some credit management issues in the past. 4. Existing Debt: The $20,000 in credit card debt is a significant amount, which, combined with the fair credit score, raises concerns about his ability to manage additional debt. 5. Loan Purpose: Home renovations are a legitimate reason for borrowing, but the $30,000 loan amount is substantial and may strain his financial situation. 6. Debt-to-Income Ratio: If the loan is approved, his debt-to-income ratio would be approximately 47%, which is high and indicates potential difficulty in meeting all financial obligations. While Richard's income and employment stability are positive factors, the fair credit score, existing debt, and the substantial loan amount for home renovations contribute to the medium-risk assessment. The lender should carefully consider these factors and possibly request additional information about Richard's financial habits and plans for managing his debt before making a decision.\n",
      "\n",
      "---\n",
      "\n",
      "Question: Analyze the applicant's financial information and return a risk assessment\n",
      "Applicant: Name: Sarah Collins Age: 28 Annual Income: $50,000 Credit Score: 680 Existing Debts: $5,000 in auto loans Loan Amount Requested: $10,000 for education expenses Employment: Teacher at a private school for 3 years\n",
      "Answer: Based on the analysis of Sarah Collins' financial information, the risk assessment is Medium-Low. Here's the justification for this assessment: 1. Income: Sarah's annual income of $50,000 is moderate, providing a good foundation for loan repayment. 2. Employment Stability: 3 years as a teacher at a private school indicates job security and consistent income. 3. Credit Score: Her credit score of 680 is good, suggesting responsible credit management and lower risk of default. 4. Existing Debt: The $5,000 in auto loans is a moderate amount, which, combined with the good credit score, indicates a manageable debt load. 5. Loan Purpose: Education expenses are a legitimate reason for borrowing, and the $10,000 loan amount is reasonable for this purpose. 6. Debt-to-Income Ratio: If the loan is approved, her debt-to-income ratio would be approximately 30%, which is within acceptable limits. While Sarah's income, employment stability, and credit score are positive factors, the existing debt and the loan amount for education expenses contribute to the medium-low risk assessment. The lender should consider these factors and possibly request additional information about Sarah's educational plans and financial habits before making a decision.\n",
      "\n",
      "---\n",
      "\n",
      "Question: Analyze the applicant's financial information and return a risk assessment\n",
      "Applicant: Name: Emily White Age: 55 Annual Income: $150,000 Credit Score: 800 Existing Debts: $20,000 in auto loans Loan Amount Requested: $100,000 for home renovations Employment: Senior manager at a large corporation for 20 years\n",
      "Answer: Based on the analysis of Emily White's financial information, the risk assessment is Low Risk. This assessment is justified by the following factors: 1. High Annual Income: Emily's $150,000 annual income provides a strong foundation for loan repayment. 2. Excellent Credit Score: Her credit score of 800 indicates a history of responsible credit management, reducing the risk of default. 3. Stable Employment: 20 years as a senior manager at a large corporation suggests job stability and consistent income. 4. Manageable Existing Debt: While she has $20,000 in auto loans, this is relatively low compared to her income. 5. Strong Debt-to-Income Ratio: Even with the new loan, her debt-to-income ratio is likely to remain within acceptable limits due to her high income. 6. Strategic Loan Purpose: Home renovations can potentially increase property value, making this a strategic investment. 7. Age and Financial Maturity: At 55, Emily is likely to have significant financial experience and stability. However, there are a few minor considerations: 1. Loan Size: The $100,000 loan is substantial, which slightly increases risk. 2. Approaching Retirement: At 55, long-term loan repayment plans should consider potential changes in income near retirement age. Overall, Emily White presents a low risk profile for the requested loan, with her high income, excellent credit score, and stable employment outweighing the minor risk factors.\n",
      "\n",
      "---\n",
      "\n",
      "Question: Analyze the applicant's financial information and return a risk assessment\n",
      "Applicant: Name: Daniel Wilson Age: 38 Annual Income: $60,000 Credit Score: 550 Existing Debts: $20,000 in student loans Loan Amount Requested: $10,000 for home repairs Employment: Freelance graphic designer for 5 years\n",
      "Answer: Based on the analysis of Daniel Wilson's financial information, the risk assessment is High Risk. Here's the justification for this assessment: 1. Income: Daniel's annual income of $60,000 is moderate, but as a freelance graphic designer, his income may be irregular and less predictable than a traditional job. 2. Employment Stability: Freelance work can be volatile, and with only 5 years of experience, Daniel's job security is uncertain. 3. Credit Score: His credit score of 550 is poor, indicating significant credit management issues and increasing the risk of default. 4. Existing Debt: The $20,000 in student loans is a substantial amount, which, combined with the poor credit score, raises concerns about his ability to manage additional debt. 5. Loan Purpose: Home repairs are a legitimate reason for borrowing, but the $10,000 loan amount is significant and may strain his financial situation. 6. Debt-to-Income Ratio: If the loan is approved, his debt-to-income ratio would be approximately 50%, which is high and indicates potential difficulty in meeting all financial obligations. While Daniel's income and the loan purpose are positive factors, the freelance nature of his work, poor credit score, existing debt, and the substantial loan amount for home repairs contribute to the high-risk assessment. The lender should exercise extreme caution in considering this loan application. If approved, it should be with stringent terms and possibly at a higher interest rate to account for the increased risk. Alternatively, the lender might consider offering a smaller loan amount or suggesting credit counseling services to help Daniel improve his financial situation before taking on additional debt.\n",
      "\n",
      "---\n",
      "\n",
      "Question: Analyze the applicant's financial information and return a risk assessment\n",
      "Applicant: Name: Eric Baker Age: 45 Annual Income: $90,000 Credit Score: 620 Existing Debts: $20,000 in credit card debt Loan Amount Requested: $30,000 for home repairs Employment: Project manager at a construction company for 15 years\n",
      "Answer: Based on the analysis of Eric Baker's financial information, the risk assessment is Medium. Here's the justification for this assessment: 1. Income: Eric's annual income of $90,000 is relatively high, providing a good foundation for loan repayment. 2. Employment Stability: 15 years as a project manager at a construction company indicates job security and consistent income. 3. Credit Score: His credit score of 620 is fair but not excellent, suggesting some credit management issues in the past. 4. Existing Debt: The $20,000 in credit card debt is a significant amount, which, combined with the fair credit score, raises concerns about his ability to manage additional debt. 5. Loan Purpose: Home repairs are a legitimate reason for borrowing, but the $30,000 loan amount is substantial and may strain his financial situation. 6. Debt-to-Income Ratio: If the loan is approved, his debt-to-income ratio would be approximately 44.44%, which is high and indicates potential difficulty in meeting all financial obligations. While Eric's income and employment stability are positive factors, the fair credit score, existing debt, and the substantial loan amount for home repairs contribute to the medium-risk assessment. The lender should carefully consider these factors and possibly request additional information about Eric's financial habits and plans for managing his debt before making a decision.\n",
      "\n",
      "---\n",
      "\n",
      "Question: Analyze the applicant's financial information and return a risk assessment\n",
      "Applicant: Name: Rachel Hill Age: 40 Annual Income: $80,000 Credit Score: 650 Existing Debts: $15,000 in personal loans Loan Amount Requested: $20,000 for debt consolidation Employment: Human resources manager at a large corporation for 10 years\n",
      "Answer: Based on the analysis of Rachel Hill's financial information, the risk assessment is Medium. Here's the justification for this assessment: 1. Income: Rachel's annual income of $80,000 is moderate, providing a good foundation for loan repayment. 2. Employment Stability: 10 years as a human resources manager at a large corporation indicates job security and consistent income. 3. Credit Score: Her credit score of 650 is fair but not excellent, suggesting some credit management issues in the past. 4. Existing Debt: The $15,000 in personal loans is a significant amount, which, combined with the fair credit score, raises concerns about her ability to manage additional debt. 5. Loan Purpose: Debt consolidation is a legitimate reason for borrowing, and the $20,000 loan amount is reasonable for this purpose. 6. Debt-to-Income Ratio: If the loan is approved, her debt-to-income ratio would be approximately 37.5%, which is within acceptable limits. While Rachel's income and employment stability are positive factors, the fair credit score, existing debt, and the loan amount for debt consolidation contribute to the medium-risk assessment. The lender should carefully consider these factors and possibly request additional information about Rachel's financial habits and plans for managing her debt before making a decision.\n",
      "\n",
      "---\n",
      "\n",
      "Question: Analyze the applicant's financial information and return a risk assessment\n",
      "Applicant: Name: John Roberts Age: 55 Annual Income: $80,000 Credit Score: 620 Existing Debts: $15,000 in auto loans Loan Amount Requested: $20,000 for home repairs Employment: Manager at a retail store for 10 years\n",
      "Answer: Based on the analysis, John Roberts presents a Medium risk for a $20,000 loan for home repairs. Here's the justification for each parameter: 1. Age (55): Neutral factor. Older age suggests more financial experience but also potential for reduced income in the future. 2. Income ($80,000): Moderate income, suggesting a reasonable ability to repay, but not high enough to easily absorb financial shocks. 3. Credit Score (620): Fair score, indicating some credit management issues and slightly increasing the risk. 4. Existing Debts ($15,000 auto loans): Moderate amount, but manageable given the income level. 5. Loan Amount ($20,000): Reasonable in relation to income and existing debt, but the purpose for home repairs introduces some risk. 6. Employment (10 years as a retail store manager): Shows some stability, but the role may not offer significant income growth potential. 7. Debt-to-Income Ratio (estimated 31.25%): Acceptable, but the addition of a new loan may strain the budget. The moderate income, fair credit score, and purpose of the loan for home repairs are the main risk factors. While John has stable employment and a manageable debt load, the potential risks associated with the loan amount and purpose warrant a medium-risk assessment. The lender should carefully consider these factors and possibly request additional information about John's financial habits and plans for managing his debt before making a decision.\n",
      "\n",
      "---\n",
      "\n",
      "Question: Analyze the applicant's financial information and return a risk assessment\n",
      "Applicant: Name: Jessica Green Age: 29 Annual Income: $40,000 Credit Score: 720 Existing Debts: $5,000 in credit card debt Loan Amount Requested: $5,000 for a vacation Employment: Teacher at a public school for 4 years\n",
      "Answer: Based on the analysis of Jessica Green's financial information, the risk assessment is Medium. Here's the justification for this assessment: 1. Income: Jessica's annual income of $40,000 is relatively low, which may make it challenging for her to comfortably manage additional debt payments. 2. Employment Stability: With only four years at her current job, she has limited employment history, which increases risk. 3. Credit Score: Her credit score of 720 is good, suggesting responsible credit management and lower risk of default. 4. Existing Debt: While her current credit card debt of $5,000 is manageable, adding another $5,000 loan would double her debt burden. 5. Loan Purpose: A vacation is a discretionary expense, not a necessity or investment, which raises concerns about the loan's purpose. 6. Age: At 29, Jessica is young and may have limited financial experience, which could increase risk. 7. Debt-to-Income Ratio: If the loan is granted, her debt-to-income ratio would be acceptable, which is a positive factor. While Jessica's debt-to-income ratio would remain manageable if the loan is granted, her low income, limited job stability, and the discretionary nature of the loan raise concerns. The fact that she's seeking a loan for a vacation also suggests she may not have adequate savings, which could indicate financial vulnerability. Given these factors, Jessica presents a Medium risk. If the loan is to be granted, it may be advisable to offer a smaller amount or consider implementing additional safeguards to mitigate the risk.\n",
      "\n",
      "---\n",
      "\n",
      "Question: Analyze the applicant's financial information and return a risk assessment\n",
      "Applicant: Name: Brian Cooper Age: 40 Annual Income: $85,000 Credit Score: 650 Existing Debts: $15,000 in personal loans Loan Amount Requested: $20,000 for debt consolidation Employment: IT manager at a tech company for 10 years\n",
      "Answer: Based on the analysis of Brian Cooper's financial information, the risk assessment is Medium. Here's the justification for this assessment: 1. Income: Brian's annual income of $85,000 is moderate, providing a good foundation for loan repayment. 2. Employment Stability: 10 years as an IT manager at a tech company indicates job security and consistent income. 3. Credit Score: His credit score of 650 is fair but not excellent, suggesting some credit management issues in the past. 4. Existing Debt: The $15,000 in personal loans is a significant amount, which, combined with the fair credit score, raises concerns about his ability to manage additional debt. 5. Loan Purpose: Debt consolidation is a legitimate reason for borrowing, and the $20,000 loan amount is reasonable for this purpose. 6. Debt-to-Income Ratio: If the loan is approved, his debt-to-income ratio would be approximately 41.18%, which is within acceptable limits. While Brian's income and employment stability are positive factors, the fair credit score, existing debt, and the loan amount for debt consolidation contribute to the medium-risk assessment. The lender should carefully consider these factors and possibly request additional information about Brian's financial habits and plans for managing his debt before making a decision.\n",
      "\n",
      "---\n",
      "\n",
      "Question: Analyze the applicant's financial information and return a risk assessment\n",
      "Applicant: Name: Laura Adams Age: 32 Annual Income: $55,000 Credit Score: 690 Existing Debts: $8,000 in auto loans Loan Amount Requested: $5,000 for medical expenses Employment: Nurse at a hospital for 7 years\n",
      "Answer: Based on the analysis of Laura Adams' financial information, the risk assessment is Low to Medium Risk. Justification: 1. Income Stability: Laura has a steady job as a nurse with 7 years of experience, indicating job security and a stable income stream. 2. Credit Score: Her credit score of 690 is good, suggesting responsible credit management and lower risk of default. 3. Debt Management: The existing auto loan of $8,000 shows experience with loan repayment. The total debt-to-income ratio of 23.6% (including the new loan) is within an acceptable range. 4. Loan Purpose: The loan is for medical expenses, which is a legitimate and often necessary reason for borrowing. 5. Loan Amount: The requested amount of $5,000 is relatively small compared to her annual income, indicating a higher likelihood of repayment. The main factors contributing to the low-to-medium risk assessment are Laura's stable employment, good credit score, and manageable debt levels. However, the presence of existing debt and the addition of a new loan do add some level of risk, hence the assessment is not categorized as purely low risk. Overall, Laura Adams appears to be a responsible borrower with a stable financial situation, making her a relatively safe candidate for the loan.\n",
      "\n",
      "---\n",
      "\n",
      "Question: Analyze the applicant's financial information and return a risk assessment\n",
      "Applicant: Name: Lisa Martinez Age: 45 Annual Income: $95,000 Credit Score: 620 Existing Debts: $20,000 in credit card debt Loan Amount Requested: $30,000 for home renovations Employment: Nurse at a hospital for 15 years\n",
      "Answer: Based on the analysis of Lisa Martinez's financial information, the risk assessment is Medium. Here's the justification for this assessment: 1. Income: Lisa's annual income of $95,000 is relatively high, providing a good foundation for loan repayment. 2. Employment Stability: 15 years as a nurse at a hospital indicates job security and consistent income. 3. Credit Score: Her credit score of 620 is fair but not excellent, suggesting some credit management issues in the past. 4. Existing Debt: The $20,000 in credit card debt is a significant amount, which, combined with the fair credit score, raises concerns about her ability to manage additional debt. 5. Loan Purpose: Home renovations are a legitimate reason for borrowing, but the $30,000 loan amount is substantial and may strain her financial situation. 6. Debt-to-Income Ratio: If the loan is approved, her debt-to-income ratio would be approximately 42.11%, which is high and indicates potential difficulty in meeting all financial obligations. While Lisa's income and employment stability are positive factors, the fair credit score, existing debt, and the substantial loan amount for home renovations contribute to the medium-risk assessment. The lender should carefully consider these factors and possibly request additional information about Lisa's financial habits and plans for managing her debt before making a decision.\n",
      "\n",
      "---\n",
      "\n",
      "Question: Analyze the applicant's financial information and return a risk assessment\n",
      "Applicant: Name: Jennifer Taylor Age: 25 Annual Income: $35,000 Credit Score: 650 Existing Debts: $2,000 in credit card debt Loan Amount Requested: $2,000 for emergency expenses Employment: Receptionist at a small business for 1 year\n",
      "Answer: Based on the analysis of Jennifer Taylor's financial information, I would assess her as a Medium-High Risk applicant. Here's the justification for this assessment: 1. Income: Jennifer's annual income of $35,000 is relatively low, which may make it challenging for her to comfortably manage additional debt payments. 2. Employment Stability: With only one year at her current job, she has limited employment history, which increases risk.3. Credit Score: Her credit score of 650 is fair but not excellent, indicating some potential issues with credit management in the past. 4. Existing Debt: While her current credit card debt of $2,000 is manageable, adding another $2,000 loan would double her debt burden. 5. Loan Purpose: Emergency expenses, while necessary, don't contribute to long-term financial stability or growth. 6. Age: At 25, Jennifer is young and may have limited financial experience, which could increase risk. 7. Debt-to-Income Ratio: If the loan is granted, her debt-to-income ratio would be acceptable, which is a positive factor. While Jennifer's debt-to-income ratio would remain manageable if the loan is granted, her low income, limited job stability, and fair credit score raise concerns. The fact that she's seeking a loan for emergency expenses also suggests she may not have adequate savings, which could indicate financial vulnerability. Given these factors, Jennifer presents a Medium-High risk. If the loan is to be granted, it may be advisable to offer a smaller amount or consider implementing additional safeguards to mitigate the risk.\n",
      "\n",
      "---\n",
      "\n",
      "Question: Analyze the applicant's financial information and return a risk assessment\n",
      "Applicant: Name: Sarah Johnson Age: 45 Annual Income: $120,000 Credit Score: 620 Existing Debts: $10,000 in credit card debt Loan Amount Requested: $10,000 for a personal loan Employment: Self-employed as a freelance writer for 10 years\n",
      "Answer: Based on the analysis, Sarah Johnson presents a Medium to High Risk for the following reasons: 1. Income Stability: While her annual income of $120,000 is substantial, her self-employment status as a freelance writer introduces some uncertainty about income stability. 2. Credit Score: Her credit score of 620 is concerning, as it falls in the fair to poor range. This suggests a history of credit management issues and increases the risk of default. 3. Existing Debt: The $10,000 in credit card debt, combined with the fair-to-poor credit score, indicates potential financial management problems. 4. Loan Purpose: The lack of specificity regarding the purpose of the personal loan raises questions about its necessity and how it will be used. 5. Debt-to-Income Ratio: If the loan is approved, her debt-to-income ratio would be acceptable at 16.67%. However, this needs to be considered in conjunction with her credit score and existing debt. 6. Age and Employment Duration: Her age (45) and long-term self-employment (10 years) are positive factors, suggesting career stability. While her high income and long-term employment are positive factors, the combination of a low credit score, existing credit card debt, and the unspecified purpose of the loan increase the risk. The lender should carefully consider these factors and possibly request additional information about the loan's purpose and Sarah's plans for managing her existing debt before making a decision.\n",
      "\n",
      "---\n",
      "\n",
      "Question: Analyze the applicant's financial information and return a risk assessment\n",
      "Applicant: Name: David Lee Age: 40 Annual Income: $70,000 Credit Score: 580 Existing Debts: $30,000 in student loans Loan Amount Requested: $20,000 for debt consolidation Employment: Teacher at a public school for 15 years\n",
      "Answer: Based on the analysis of David Lee's financial information, the risk assessment is High Risk. The primary factors contributing to this assessment are: 1. Poor credit score (580): This suggests a history of credit problems and increases the likelihood of future payment issues. 2. High existing debt ($30,000) relative to income: Even before the new loan, David's debt level is significant compared to his annual income. 3. High debt-to-income ratio: If the new loan is approved, David's debt-to-income ratio would be approximately 71%, which is extremely high and indicates potential difficulty in meeting all financial obligations. 4. Large loan request relative to income: The $20,000 loan request is nearly 30% of his annual income, which is substantial. Mitigating factors include: 1. Stable employment: 15 years as a teacher suggests job security. 2. Moderate income: $70,000 per year provides some capacity for loan repayment. 3. Purpose of the loan: Debt consolidation could potentially improve David's financial situation if it results in lower overall interest rates. However, these positive factors are outweighed by the significant credit and debt concerns. The lender should exercise extreme caution in considering this loan application. If approved, it should be with stringent terms and possibly at a higher interest rate to account for the increased risk. Alternatively, the lender might consider offering a smaller loan amount or suggesting credit counseling services to help David improve his financial situation before taking on additional debt.\n",
      "\n",
      "---\n",
      "\n",
      "Question: Analyze the applicant's financial information and return a risk assessment\n",
      "Applicant: Name: Robert Martinez Age: 60 Annual Income: $100,000 Credit Score: 720 Existing Debts: $5,000 in personal loans Loan Amount Requested: $10,000 for travel expenses Employment: Retired, receiving pension for 5 years\n",
      "Answer: Based on the analysis, Robert Martinez presents a Low to Medium risk for the following reasons: 1. Positive Factors: - Good credit score (720) indicating responsible credit management. - High annual income ($100,000). - Low existing debt ($5,000). - Stable income source (pension for 5 years). - Low debt-to-income ratio even with the new loan. 2. Risk Factors: - Age (60) suggests potential for decreased future income. - Retired status, which may lead to reduced income in the future. - Loan purpose (travel expenses) is not a necessity or investment. Overall, while Robert has a strong financial profile with a good credit score, high income, and low existing debt, his age and retired status introduce some level of risk. The purpose of the loan for travel expenses, while not critical, is offset by his current financial stability. Given these factors, Robert Martinez can be considered a Low to Medium risk applicant, leaning towards the lower end of the risk spectrum. The lender should feel relatively confident in Robert's ability to repay the loan, but may want to consider the term length carefully given his age and retired status.\n",
      "\n",
      "---\n",
      "\n",
      "Question: Analyze the applicant's financial information and return a risk assessment\n",
      "Applicant: Name: Christopher Harris Age: 50 Annual Income: $85,000 Credit Score: 650 Existing Debts: $15,000 in auto loans Loan Amount Requested: $25,000 for home improvements Employment: Manager at a retail store for 12 years\n",
      "Answer: Based on the analysis of Christopher Harris' financial information, the risk assessment is Medium. Here's the justification for this assessment: 1. Income: Christopher's annual income of $85,000 is moderate, providing a good foundation for loan repayment. 2. Employment Stability: 12 years as a manager at the same retail store indicates job security and consistent income. 3. Credit Score: His credit score of 650 is fair but not excellent, suggesting some credit management issues in the past. 4. Existing Debt: The $15,000 in auto loans is a significant amount, which, combined with the fair credit score, raises concerns about his ability to manage additional debt. 5. Loan Purpose: Home improvements are a legitimate reason for borrowing, but the $25,000 loan amount is substantial and may strain his financial situation. 6. Debt-to-Income Ratio: If the loan is approved, his debt-to-income ratio would be approximately 47%, which is high and indicates potential difficulty in meeting all financial obligations. While Christopher's income and employment stability are positive factors, the fair credit score, existing debt, and the substantial loan amount for home improvements contribute to the medium-risk assessment. The lender should carefully consider these factors and possibly request additional information about Christopher's financial habits and plans for managing his debt before making a decision.\n",
      "\n",
      "---\n",
      "\n",
      "Question: Analyze the applicant's financial information and return a risk assessment.\n",
      "\n",
      "Applicant: Name: John Doe Age: 35 Annual Income: $75,000 Credit Score: 720 Existing Debts: $20,000 in student loans, $5,000 in credit card debt Loan Amount Requested: $250,000 for a home mortgage Employment: Software Engineer at Tech Corp for 5 years\n",
      "\n",
      "Reasoning: Let's think step by step in order to\u001b[32mReasoning: Let's think step by step in order to produce a comprehensive risk assessment for John Doe:\n",
      "\n",
      "1. Age and Employment:\n",
      "   - At 35, John is in his prime working years.\n",
      "   - He has been employed as a Software Engineer for 5 years, indicating stability.\n",
      "\n",
      "2. Income:\n",
      "   - Annual income of $75,000 is solid for his age and profession.\n",
      "   - This suggests a good capacity for loan repayment.\n",
      "\n",
      "3. Credit Score:\n",
      "   - A credit score of 720 is considered good to very good.\n",
      "   - This indicates responsible credit management and lower risk of default.\n",
      "\n",
      "4. Existing Debts:\n",
      "   - $20,000 in student loans is not unusual for his profession.\n",
      "   - $5,000 in credit card debt is manageable but should be monitored.\n",
      "   - Total existing debt: $25,000\n",
      "\n",
      "5. Loan Amount Requested:\n",
      "   - $250,000 for a home mortgage is significant but not unreasonable for his income.\n",
      "   - The loan-to-income ratio is about 3.33:1, which is within typical lending standards.\n",
      "\n",
      "6. Debt-to-Income Ratio (DTI):\n",
      "   - Current DTI: ($25,000 / $75,000) * 100 = 33.33%\n",
      "   - Potential DTI after mortgage (assuming 4% interest rate, 30-year term):\n",
      "     Monthly mortgage payment ≈ $1,193\n",
      "     Annual mortgage payments ≈ $14,316\n",
      "     New DTI: (($25,000 + $14,316) / $75,000) * 100 = 52.42%\n",
      "\n",
      "7. Overall Financial Picture:\n",
      "   - John has a stable job with a good income.\n",
      "   - His credit score suggests responsible financial behavior.\n",
      "   - The existing debt is manageable, but adding a mortgage will significantly increase his obligations.\n",
      "\n",
      "Answer: Based on the analysis of John Doe's financial information, the risk assessment is Low to Medium Risk. \n",
      "\n",
      "Justification:\n",
      "1. John's good credit score (720) indicates a history of responsible credit management.\n",
      "2. His stable employment as a Software Engineer for 5 years suggests job security and income stability.\n",
      "3. The annual income of $75,000 provides a solid foundation for loan repayment.\n",
      "4. The existing debts are manageable, though the addition of a mortgage will significantly increase his debt load.\n",
      "5. The loan-to-income ratio for the requested mortgage is within typical lending standards.\n",
      "\n",
      "However, there are some factors to consider:\n",
      "1. The potential debt-to-income ratio after the mortgage (52.42%) is on the higher side, which could strain his finances.\n",
      "2. The $5,000 in credit card debt, while not excessive, should be monitored.\n",
      "\n",
      "Overall, John Doe appears to be a responsible borrower with a stable financial situation. The main concern is the potential strain on his finances with the addition of a large mortgage. The lender might want to ensure that John has a plan for managing his increased debt load and possibly suggest a slightly smaller loan amount to reduce the risk. With proper financial management, John should be able to handle the mortgage, but close monitoring of his financial situation is advisable.\u001b[0m\n",
      "\n",
      "\n",
      "\n",
      "Prompt used: \n",
      "\n",
      "\n",
      "Analyze the applicant's financial information and return a risk assessment.\n",
      "\n",
      "---\n",
      "\n",
      "Follow the following format.\n",
      "\n",
      "Question: ${question}\n",
      "\n",
      "Applicant: ${applicant}\n",
      "\n",
      "Reasoning: Let's think step by step in order to ${produce the answer}. We ...\n",
      "\n",
      "Answer: A thorough risk analysis about the applicant, justifying the assessment for each of the parameters considered from the applicant\n",
      "\n",
      "---\n",
      "\n",
      "Question: Analyze the applicant's financial information and return a risk assessment\n",
      "Applicant: Name: Richard Turner Age: 45 Annual Income: $95,000 Credit Score: 620 Existing Debts: $20,000 in credit card debt Loan Amount Requested: $30,000 for home renovations Employment: Engineer at a manufacturing company for 15 years\n",
      "Answer: Based on the analysis of Richard Turner's financial information, the risk assessment is Medium. Here's the justification for this assessment: 1. Income: Richard's annual income of $95,000 is relatively high, providing a good foundation for loan repayment. 2. Employment Stability: 15 years as an engineer at the same manufacturing company indicates job security and consistent income. 3. Credit Score: His credit score of 620 is fair but not excellent, suggesting some credit management issues in the past. 4. Existing Debt: The $20,000 in credit card debt is a significant amount, which, combined with the fair credit score, raises concerns about his ability to manage additional debt. 5. Loan Purpose: Home renovations are a legitimate reason for borrowing, but the $30,000 loan amount is substantial and may strain his financial situation. 6. Debt-to-Income Ratio: If the loan is approved, his debt-to-income ratio would be approximately 47%, which is high and indicates potential difficulty in meeting all financial obligations. While Richard's income and employment stability are positive factors, the fair credit score, existing debt, and the substantial loan amount for home renovations contribute to the medium-risk assessment. The lender should carefully consider these factors and possibly request additional information about Richard's financial habits and plans for managing his debt before making a decision.\n",
      "\n",
      "---\n",
      "\n",
      "Question: Analyze the applicant's financial information and return a risk assessment\n",
      "Applicant: Name: Sarah Collins Age: 28 Annual Income: $50,000 Credit Score: 680 Existing Debts: $5,000 in auto loans Loan Amount Requested: $10,000 for education expenses Employment: Teacher at a private school for 3 years\n",
      "Answer: Based on the analysis of Sarah Collins' financial information, the risk assessment is Medium-Low. Here's the justification for this assessment: 1. Income: Sarah's annual income of $50,000 is moderate, providing a good foundation for loan repayment. 2. Employment Stability: 3 years as a teacher at a private school indicates job security and consistent income. 3. Credit Score: Her credit score of 680 is good, suggesting responsible credit management and lower risk of default. 4. Existing Debt: The $5,000 in auto loans is a moderate amount, which, combined with the good credit score, indicates a manageable debt load. 5. Loan Purpose: Education expenses are a legitimate reason for borrowing, and the $10,000 loan amount is reasonable for this purpose. 6. Debt-to-Income Ratio: If the loan is approved, her debt-to-income ratio would be approximately 30%, which is within acceptable limits. While Sarah's income, employment stability, and credit score are positive factors, the existing debt and the loan amount for education expenses contribute to the medium-low risk assessment. The lender should consider these factors and possibly request additional information about Sarah's educational plans and financial habits before making a decision.\n",
      "\n",
      "---\n",
      "\n",
      "Question: Analyze the applicant's financial information and return a risk assessment\n",
      "Applicant: Name: Emily White Age: 55 Annual Income: $150,000 Credit Score: 800 Existing Debts: $20,000 in auto loans Loan Amount Requested: $100,000 for home renovations Employment: Senior manager at a large corporation for 20 years\n",
      "Answer: Based on the analysis of Emily White's financial information, the risk assessment is Low Risk. This assessment is justified by the following factors: 1. High Annual Income: Emily's $150,000 annual income provides a strong foundation for loan repayment. 2. Excellent Credit Score: Her credit score of 800 indicates a history of responsible credit management, reducing the risk of default. 3. Stable Employment: 20 years as a senior manager at a large corporation suggests job stability and consistent income. 4. Manageable Existing Debt: While she has $20,000 in auto loans, this is relatively low compared to her income. 5. Strong Debt-to-Income Ratio: Even with the new loan, her debt-to-income ratio is likely to remain within acceptable limits due to her high income. 6. Strategic Loan Purpose: Home renovations can potentially increase property value, making this a strategic investment. 7. Age and Financial Maturity: At 55, Emily is likely to have significant financial experience and stability. However, there are a few minor considerations: 1. Loan Size: The $100,000 loan is substantial, which slightly increases risk. 2. Approaching Retirement: At 55, long-term loan repayment plans should consider potential changes in income near retirement age. Overall, Emily White presents a low risk profile for the requested loan, with her high income, excellent credit score, and stable employment outweighing the minor risk factors.\n",
      "\n",
      "---\n",
      "\n",
      "Question: Analyze the applicant's financial information and return a risk assessment\n",
      "Applicant: Name: Daniel Wilson Age: 38 Annual Income: $60,000 Credit Score: 550 Existing Debts: $20,000 in student loans Loan Amount Requested: $10,000 for home repairs Employment: Freelance graphic designer for 5 years\n",
      "Answer: Based on the analysis of Daniel Wilson's financial information, the risk assessment is High Risk. Here's the justification for this assessment: 1. Income: Daniel's annual income of $60,000 is moderate, but as a freelance graphic designer, his income may be irregular and less predictable than a traditional job. 2. Employment Stability: Freelance work can be volatile, and with only 5 years of experience, Daniel's job security is uncertain. 3. Credit Score: His credit score of 550 is poor, indicating significant credit management issues and increasing the risk of default. 4. Existing Debt: The $20,000 in student loans is a substantial amount, which, combined with the poor credit score, raises concerns about his ability to manage additional debt. 5. Loan Purpose: Home repairs are a legitimate reason for borrowing, but the $10,000 loan amount is significant and may strain his financial situation. 6. Debt-to-Income Ratio: If the loan is approved, his debt-to-income ratio would be approximately 50%, which is high and indicates potential difficulty in meeting all financial obligations. While Daniel's income and the loan purpose are positive factors, the freelance nature of his work, poor credit score, existing debt, and the substantial loan amount for home repairs contribute to the high-risk assessment. The lender should exercise extreme caution in considering this loan application. If approved, it should be with stringent terms and possibly at a higher interest rate to account for the increased risk. Alternatively, the lender might consider offering a smaller loan amount or suggesting credit counseling services to help Daniel improve his financial situation before taking on additional debt.\n",
      "\n",
      "---\n",
      "\n",
      "Question: Analyze the applicant's financial information and return a risk assessment\n",
      "Applicant: Name: Eric Baker Age: 45 Annual Income: $90,000 Credit Score: 620 Existing Debts: $20,000 in credit card debt Loan Amount Requested: $30,000 for home repairs Employment: Project manager at a construction company for 15 years\n",
      "Answer: Based on the analysis of Eric Baker's financial information, the risk assessment is Medium. Here's the justification for this assessment: 1. Income: Eric's annual income of $90,000 is relatively high, providing a good foundation for loan repayment. 2. Employment Stability: 15 years as a project manager at a construction company indicates job security and consistent income. 3. Credit Score: His credit score of 620 is fair but not excellent, suggesting some credit management issues in the past. 4. Existing Debt: The $20,000 in credit card debt is a significant amount, which, combined with the fair credit score, raises concerns about his ability to manage additional debt. 5. Loan Purpose: Home repairs are a legitimate reason for borrowing, but the $30,000 loan amount is substantial and may strain his financial situation. 6. Debt-to-Income Ratio: If the loan is approved, his debt-to-income ratio would be approximately 44.44%, which is high and indicates potential difficulty in meeting all financial obligations. While Eric's income and employment stability are positive factors, the fair credit score, existing debt, and the substantial loan amount for home repairs contribute to the medium-risk assessment. The lender should carefully consider these factors and possibly request additional information about Eric's financial habits and plans for managing his debt before making a decision.\n",
      "\n",
      "---\n",
      "\n",
      "Question: Analyze the applicant's financial information and return a risk assessment\n",
      "Applicant: Name: Rachel Hill Age: 40 Annual Income: $80,000 Credit Score: 650 Existing Debts: $15,000 in personal loans Loan Amount Requested: $20,000 for debt consolidation Employment: Human resources manager at a large corporation for 10 years\n",
      "Answer: Based on the analysis of Rachel Hill's financial information, the risk assessment is Medium. Here's the justification for this assessment: 1. Income: Rachel's annual income of $80,000 is moderate, providing a good foundation for loan repayment. 2. Employment Stability: 10 years as a human resources manager at a large corporation indicates job security and consistent income. 3. Credit Score: Her credit score of 650 is fair but not excellent, suggesting some credit management issues in the past. 4. Existing Debt: The $15,000 in personal loans is a significant amount, which, combined with the fair credit score, raises concerns about her ability to manage additional debt. 5. Loan Purpose: Debt consolidation is a legitimate reason for borrowing, and the $20,000 loan amount is reasonable for this purpose. 6. Debt-to-Income Ratio: If the loan is approved, her debt-to-income ratio would be approximately 37.5%, which is within acceptable limits. While Rachel's income and employment stability are positive factors, the fair credit score, existing debt, and the loan amount for debt consolidation contribute to the medium-risk assessment. The lender should carefully consider these factors and possibly request additional information about Rachel's financial habits and plans for managing her debt before making a decision.\n",
      "\n",
      "---\n",
      "\n",
      "Question: Analyze the applicant's financial information and return a risk assessment\n",
      "Applicant: Name: John Roberts Age: 55 Annual Income: $80,000 Credit Score: 620 Existing Debts: $15,000 in auto loans Loan Amount Requested: $20,000 for home repairs Employment: Manager at a retail store for 10 years\n",
      "Answer: Based on the analysis, John Roberts presents a Medium risk for a $20,000 loan for home repairs. Here's the justification for each parameter: 1. Age (55): Neutral factor. Older age suggests more financial experience but also potential for reduced income in the future. 2. Income ($80,000): Moderate income, suggesting a reasonable ability to repay, but not high enough to easily absorb financial shocks. 3. Credit Score (620): Fair score, indicating some credit management issues and slightly increasing the risk. 4. Existing Debts ($15,000 auto loans): Moderate amount, but manageable given the income level. 5. Loan Amount ($20,000): Reasonable in relation to income and existing debt, but the purpose for home repairs introduces some risk. 6. Employment (10 years as a retail store manager): Shows some stability, but the role may not offer significant income growth potential. 7. Debt-to-Income Ratio (estimated 31.25%): Acceptable, but the addition of a new loan may strain the budget. The moderate income, fair credit score, and purpose of the loan for home repairs are the main risk factors. While John has stable employment and a manageable debt load, the potential risks associated with the loan amount and purpose warrant a medium-risk assessment. The lender should carefully consider these factors and possibly request additional information about John's financial habits and plans for managing his debt before making a decision.\n",
      "\n",
      "---\n",
      "\n",
      "Question: Analyze the applicant's financial information and return a risk assessment\n",
      "Applicant: Name: Jessica Green Age: 29 Annual Income: $40,000 Credit Score: 720 Existing Debts: $5,000 in credit card debt Loan Amount Requested: $5,000 for a vacation Employment: Teacher at a public school for 4 years\n",
      "Answer: Based on the analysis of Jessica Green's financial information, the risk assessment is Medium. Here's the justification for this assessment: 1. Income: Jessica's annual income of $40,000 is relatively low, which may make it challenging for her to comfortably manage additional debt payments. 2. Employment Stability: With only four years at her current job, she has limited employment history, which increases risk. 3. Credit Score: Her credit score of 720 is good, suggesting responsible credit management and lower risk of default. 4. Existing Debt: While her current credit card debt of $5,000 is manageable, adding another $5,000 loan would double her debt burden. 5. Loan Purpose: A vacation is a discretionary expense, not a necessity or investment, which raises concerns about the loan's purpose. 6. Age: At 29, Jessica is young and may have limited financial experience, which could increase risk. 7. Debt-to-Income Ratio: If the loan is granted, her debt-to-income ratio would be acceptable, which is a positive factor. While Jessica's debt-to-income ratio would remain manageable if the loan is granted, her low income, limited job stability, and the discretionary nature of the loan raise concerns. The fact that she's seeking a loan for a vacation also suggests she may not have adequate savings, which could indicate financial vulnerability. Given these factors, Jessica presents a Medium risk. If the loan is to be granted, it may be advisable to offer a smaller amount or consider implementing additional safeguards to mitigate the risk.\n",
      "\n",
      "---\n",
      "\n",
      "Question: Analyze the applicant's financial information and return a risk assessment\n",
      "Applicant: Name: Brian Cooper Age: 40 Annual Income: $85,000 Credit Score: 650 Existing Debts: $15,000 in personal loans Loan Amount Requested: $20,000 for debt consolidation Employment: IT manager at a tech company for 10 years\n",
      "Answer: Based on the analysis of Brian Cooper's financial information, the risk assessment is Medium. Here's the justification for this assessment: 1. Income: Brian's annual income of $85,000 is moderate, providing a good foundation for loan repayment. 2. Employment Stability: 10 years as an IT manager at a tech company indicates job security and consistent income. 3. Credit Score: His credit score of 650 is fair but not excellent, suggesting some credit management issues in the past. 4. Existing Debt: The $15,000 in personal loans is a significant amount, which, combined with the fair credit score, raises concerns about his ability to manage additional debt. 5. Loan Purpose: Debt consolidation is a legitimate reason for borrowing, and the $20,000 loan amount is reasonable for this purpose. 6. Debt-to-Income Ratio: If the loan is approved, his debt-to-income ratio would be approximately 41.18%, which is within acceptable limits. While Brian's income and employment stability are positive factors, the fair credit score, existing debt, and the loan amount for debt consolidation contribute to the medium-risk assessment. The lender should carefully consider these factors and possibly request additional information about Brian's financial habits and plans for managing his debt before making a decision.\n",
      "\n",
      "---\n",
      "\n",
      "Question: Analyze the applicant's financial information and return a risk assessment\n",
      "Applicant: Name: Laura Adams Age: 32 Annual Income: $55,000 Credit Score: 690 Existing Debts: $8,000 in auto loans Loan Amount Requested: $5,000 for medical expenses Employment: Nurse at a hospital for 7 years\n",
      "Answer: Based on the analysis of Laura Adams' financial information, the risk assessment is Low to Medium Risk. Justification: 1. Income Stability: Laura has a steady job as a nurse with 7 years of experience, indicating job security and a stable income stream. 2. Credit Score: Her credit score of 690 is good, suggesting responsible credit management and lower risk of default. 3. Debt Management: The existing auto loan of $8,000 shows experience with loan repayment. The total debt-to-income ratio of 23.6% (including the new loan) is within an acceptable range. 4. Loan Purpose: The loan is for medical expenses, which is a legitimate and often necessary reason for borrowing. 5. Loan Amount: The requested amount of $5,000 is relatively small compared to her annual income, indicating a higher likelihood of repayment. The main factors contributing to the low-to-medium risk assessment are Laura's stable employment, good credit score, and manageable debt levels. However, the presence of existing debt and the addition of a new loan do add some level of risk, hence the assessment is not categorized as purely low risk. Overall, Laura Adams appears to be a responsible borrower with a stable financial situation, making her a relatively safe candidate for the loan.\n",
      "\n",
      "---\n",
      "\n",
      "Question: Analyze the applicant's financial information and return a risk assessment\n",
      "Applicant: Name: Lisa Martinez Age: 45 Annual Income: $95,000 Credit Score: 620 Existing Debts: $20,000 in credit card debt Loan Amount Requested: $30,000 for home renovations Employment: Nurse at a hospital for 15 years\n",
      "Answer: Based on the analysis of Lisa Martinez's financial information, the risk assessment is Medium. Here's the justification for this assessment: 1. Income: Lisa's annual income of $95,000 is relatively high, providing a good foundation for loan repayment. 2. Employment Stability: 15 years as a nurse at a hospital indicates job security and consistent income. 3. Credit Score: Her credit score of 620 is fair but not excellent, suggesting some credit management issues in the past. 4. Existing Debt: The $20,000 in credit card debt is a significant amount, which, combined with the fair credit score, raises concerns about her ability to manage additional debt. 5. Loan Purpose: Home renovations are a legitimate reason for borrowing, but the $30,000 loan amount is substantial and may strain her financial situation. 6. Debt-to-Income Ratio: If the loan is approved, her debt-to-income ratio would be approximately 42.11%, which is high and indicates potential difficulty in meeting all financial obligations. While Lisa's income and employment stability are positive factors, the fair credit score, existing debt, and the substantial loan amount for home renovations contribute to the medium-risk assessment. The lender should carefully consider these factors and possibly request additional information about Lisa's financial habits and plans for managing her debt before making a decision.\n",
      "\n",
      "---\n",
      "\n",
      "Question: Analyze the applicant's financial information and return a risk assessment\n",
      "Applicant: Name: Jennifer Taylor Age: 25 Annual Income: $35,000 Credit Score: 650 Existing Debts: $2,000 in credit card debt Loan Amount Requested: $2,000 for emergency expenses Employment: Receptionist at a small business for 1 year\n",
      "Answer: Based on the analysis of Jennifer Taylor's financial information, I would assess her as a Medium-High Risk applicant. Here's the justification for this assessment: 1. Income: Jennifer's annual income of $35,000 is relatively low, which may make it challenging for her to comfortably manage additional debt payments. 2. Employment Stability: With only one year at her current job, she has limited employment history, which increases risk.3. Credit Score: Her credit score of 650 is fair but not excellent, indicating some potential issues with credit management in the past. 4. Existing Debt: While her current credit card debt of $2,000 is manageable, adding another $2,000 loan would double her debt burden. 5. Loan Purpose: Emergency expenses, while necessary, don't contribute to long-term financial stability or growth. 6. Age: At 25, Jennifer is young and may have limited financial experience, which could increase risk. 7. Debt-to-Income Ratio: If the loan is granted, her debt-to-income ratio would be acceptable, which is a positive factor. While Jennifer's debt-to-income ratio would remain manageable if the loan is granted, her low income, limited job stability, and fair credit score raise concerns. The fact that she's seeking a loan for emergency expenses also suggests she may not have adequate savings, which could indicate financial vulnerability. Given these factors, Jennifer presents a Medium-High risk. If the loan is to be granted, it may be advisable to offer a smaller amount or consider implementing additional safeguards to mitigate the risk.\n",
      "\n",
      "---\n",
      "\n",
      "Question: Analyze the applicant's financial information and return a risk assessment\n",
      "Applicant: Name: Sarah Johnson Age: 45 Annual Income: $120,000 Credit Score: 620 Existing Debts: $10,000 in credit card debt Loan Amount Requested: $10,000 for a personal loan Employment: Self-employed as a freelance writer for 10 years\n",
      "Answer: Based on the analysis, Sarah Johnson presents a Medium to High Risk for the following reasons: 1. Income Stability: While her annual income of $120,000 is substantial, her self-employment status as a freelance writer introduces some uncertainty about income stability. 2. Credit Score: Her credit score of 620 is concerning, as it falls in the fair to poor range. This suggests a history of credit management issues and increases the risk of default. 3. Existing Debt: The $10,000 in credit card debt, combined with the fair-to-poor credit score, indicates potential financial management problems. 4. Loan Purpose: The lack of specificity regarding the purpose of the personal loan raises questions about its necessity and how it will be used. 5. Debt-to-Income Ratio: If the loan is approved, her debt-to-income ratio would be acceptable at 16.67%. However, this needs to be considered in conjunction with her credit score and existing debt. 6. Age and Employment Duration: Her age (45) and long-term self-employment (10 years) are positive factors, suggesting career stability. While her high income and long-term employment are positive factors, the combination of a low credit score, existing credit card debt, and the unspecified purpose of the loan increase the risk. The lender should carefully consider these factors and possibly request additional information about the loan's purpose and Sarah's plans for managing her existing debt before making a decision.\n",
      "\n",
      "---\n",
      "\n",
      "Question: Analyze the applicant's financial information and return a risk assessment\n",
      "Applicant: Name: David Lee Age: 40 Annual Income: $70,000 Credit Score: 580 Existing Debts: $30,000 in student loans Loan Amount Requested: $20,000 for debt consolidation Employment: Teacher at a public school for 15 years\n",
      "Answer: Based on the analysis of David Lee's financial information, the risk assessment is High Risk. The primary factors contributing to this assessment are: 1. Poor credit score (580): This suggests a history of credit problems and increases the likelihood of future payment issues. 2. High existing debt ($30,000) relative to income: Even before the new loan, David's debt level is significant compared to his annual income. 3. High debt-to-income ratio: If the new loan is approved, David's debt-to-income ratio would be approximately 71%, which is extremely high and indicates potential difficulty in meeting all financial obligations. 4. Large loan request relative to income: The $20,000 loan request is nearly 30% of his annual income, which is substantial. Mitigating factors include: 1. Stable employment: 15 years as a teacher suggests job security. 2. Moderate income: $70,000 per year provides some capacity for loan repayment. 3. Purpose of the loan: Debt consolidation could potentially improve David's financial situation if it results in lower overall interest rates. However, these positive factors are outweighed by the significant credit and debt concerns. The lender should exercise extreme caution in considering this loan application. If approved, it should be with stringent terms and possibly at a higher interest rate to account for the increased risk. Alternatively, the lender might consider offering a smaller loan amount or suggesting credit counseling services to help David improve his financial situation before taking on additional debt.\n",
      "\n",
      "---\n",
      "\n",
      "Question: Analyze the applicant's financial information and return a risk assessment\n",
      "Applicant: Name: Robert Martinez Age: 60 Annual Income: $100,000 Credit Score: 720 Existing Debts: $5,000 in personal loans Loan Amount Requested: $10,000 for travel expenses Employment: Retired, receiving pension for 5 years\n",
      "Answer: Based on the analysis, Robert Martinez presents a Low to Medium risk for the following reasons: 1. Positive Factors: - Good credit score (720) indicating responsible credit management. - High annual income ($100,000). - Low existing debt ($5,000). - Stable income source (pension for 5 years). - Low debt-to-income ratio even with the new loan. 2. Risk Factors: - Age (60) suggests potential for decreased future income. - Retired status, which may lead to reduced income in the future. - Loan purpose (travel expenses) is not a necessity or investment. Overall, while Robert has a strong financial profile with a good credit score, high income, and low existing debt, his age and retired status introduce some level of risk. The purpose of the loan for travel expenses, while not critical, is offset by his current financial stability. Given these factors, Robert Martinez can be considered a Low to Medium risk applicant, leaning towards the lower end of the risk spectrum. The lender should feel relatively confident in Robert's ability to repay the loan, but may want to consider the term length carefully given his age and retired status.\n",
      "\n",
      "---\n",
      "\n",
      "Question: Analyze the applicant's financial information and return a risk assessment\n",
      "Applicant: Name: Christopher Harris Age: 50 Annual Income: $85,000 Credit Score: 650 Existing Debts: $15,000 in auto loans Loan Amount Requested: $25,000 for home improvements Employment: Manager at a retail store for 12 years\n",
      "Answer: Based on the analysis of Christopher Harris' financial information, the risk assessment is Medium. Here's the justification for this assessment: 1. Income: Christopher's annual income of $85,000 is moderate, providing a good foundation for loan repayment. 2. Employment Stability: 12 years as a manager at the same retail store indicates job security and consistent income. 3. Credit Score: His credit score of 650 is fair but not excellent, suggesting some credit management issues in the past. 4. Existing Debt: The $15,000 in auto loans is a significant amount, which, combined with the fair credit score, raises concerns about his ability to manage additional debt. 5. Loan Purpose: Home improvements are a legitimate reason for borrowing, but the $25,000 loan amount is substantial and may strain his financial situation. 6. Debt-to-Income Ratio: If the loan is approved, his debt-to-income ratio would be approximately 47%, which is high and indicates potential difficulty in meeting all financial obligations. While Christopher's income and employment stability are positive factors, the fair credit score, existing debt, and the substantial loan amount for home improvements contribute to the medium-risk assessment. The lender should carefully consider these factors and possibly request additional information about Christopher's financial habits and plans for managing his debt before making a decision.\n",
      "\n",
      "---\n",
      "\n",
      "Question: Analyze the applicant's financial information and return a risk assessment.\n",
      "\n",
      "Applicant: Name: John Doe Age: 35 Annual Income: $75,000 Credit Score: 720 Existing Debts: $20,000 in student loans, $5,000 in credit card debt Loan Amount Requested: $250,000 for a home mortgage Employment: Software Engineer at Tech Corp for 5 years\n",
      "\n",
      "Reasoning: Let's think step by step in order to\u001b[32mReasoning: Let's think step by step in order to produce a comprehensive risk assessment for John Doe:\n",
      "\n",
      "1. Age and Employment:\n",
      "   - At 35, John is in his prime working years.\n",
      "   - He has been employed as a Software Engineer for 5 years, indicating stability.\n",
      "\n",
      "2. Income:\n",
      "   - Annual income of $75,000 is solid for his age and profession.\n",
      "   - This suggests a good capacity for loan repayment.\n",
      "\n",
      "3. Credit Score:\n",
      "   - A credit score of 720 is considered good to very good.\n",
      "   - This indicates responsible credit management and lower risk of default.\n",
      "\n",
      "4. Existing Debts:\n",
      "   - $20,000 in student loans is not unusual for his profession.\n",
      "   - $5,000 in credit card debt is manageable but should be monitored.\n",
      "   - Total existing debt: $25,000\n",
      "\n",
      "5. Loan Amount Requested:\n",
      "   - $250,000 for a home mortgage is significant but not unreasonable for his income.\n",
      "   - The loan-to-income ratio is about 3.33:1, which is within typical lending standards.\n",
      "\n",
      "6. Debt-to-Income Ratio (DTI):\n",
      "   - Current DTI: ($25,000 / $75,000) * 100 = 33.33%\n",
      "   - Potential DTI after mortgage (assuming 4% interest rate, 30-year term):\n",
      "     Monthly mortgage payment ≈ $1,193\n",
      "     Annual mortgage payments ≈ $14,316\n",
      "     New DTI: (($25,000 + $14,316) / $75,000) * 100 = 52.42%\n",
      "\n",
      "7. Overall Financial Picture:\n",
      "   - John has a stable job with a good income.\n",
      "   - His credit score suggests responsible financial behavior.\n",
      "   - The existing debt is manageable, but adding a mortgage will significantly increase his obligations.\n",
      "\n",
      "Answer: Based on the analysis of John Doe's financial information, the risk assessment is Low to Medium Risk. \n",
      "\n",
      "Justification:\n",
      "1. John's good credit score (720) indicates a history of responsible credit management.\n",
      "2. His stable employment as a Software Engineer for 5 years suggests job security and income stability.\n",
      "3. The annual income of $75,000 provides a solid foundation for loan repayment.\n",
      "4. The existing debts are manageable, though the addition of a mortgage will significantly increase his debt load.\n",
      "5. The loan-to-income ratio for the requested mortgage is within typical lending standards.\n",
      "\n",
      "However, there are some factors to consider:\n",
      "1. The potential debt-to-income ratio after the mortgage (52.42%) is on the higher side, which could strain his finances.\n",
      "2. The $5,000 in credit card debt, while not excessive, should be monitored.\n",
      "\n",
      "Overall, John Doe appears to be a responsible borrower with a stable financial situation. The main concern is the potential strain on his finances with the addition of a large mortgage. The lender might want to ensure that John has a plan for managing his increased debt load and possibly suggest a slightly smaller loan amount to reduce the risk. With proper financial management, John should be able to handle the mortgage, but close monitoring of his financial situation is advisable.\u001b[0m\n",
      "\n",
      "\n",
      "\n"
     ]
    }
   ],
   "source": [
    "prompt_used = worker.inspect_history(n=1)\n",
    "print(f\"Prompt used: {prompt_used}\")"
   ]
  },
  {
   "cell_type": "markdown",
   "metadata": {},
   "source": [
    "## Bootstrap Few Shot"
   ]
  },
  {
   "cell_type": "code",
   "execution_count": 14,
   "metadata": {},
   "outputs": [],
   "source": [
    "from dspy.teleprompt import BootstrapFewShot"
   ]
  },
  {
   "cell_type": "code",
   "execution_count": 15,
   "metadata": {},
   "outputs": [],
   "source": [
    "# Define the signature for automatic assessments.\n",
    "class Assess(dspy.Signature):\n",
    "    \"\"\"Assess the quality of a risk assessment along the specified dimension.\"\"\"\n",
    "\n",
    "    assessed_text = dspy.InputField()\n",
    "    assessment_question = dspy.InputField()\n",
    "    assessment_answer = dspy.OutputField(desc=\"Yes or No\")"
   ]
  },
  {
   "cell_type": "code",
   "execution_count": 16,
   "metadata": {},
   "outputs": [],
   "source": [
    "def risk_assessment_metric(gold, pred, trace=None):\n",
    "    applicant, risk_assessment = gold.applicant, pred.answer\n",
    "\n",
    "    correct = f\"The text above should provide a risk assessment for `{applicant}`. Does it do so? Answer with Yes or No.\"\n",
    "    complete = f\"Does the text above make for a reasoned assessment across all areas mentioned in `{applicant}`? Answer with Yes or No.\"\n",
    "\n",
    "    with dspy.context(lm=worker):\n",
    "        correct =  dspy.Predict(Assess)(assessed_text=risk_assessment, assessment_question=correct)\n",
    "        complete = dspy.Predict(Assess)(assessed_text=risk_assessment, assessment_question=complete)\n",
    "\n",
    "    correct, complete = [m.assessment_answer.split()[0].lower() == 'yes' for m in [correct, complete]]\n",
    "    score = (correct + complete) if correct else 0\n",
    "\n",
    "    if trace is not None: return score >= 2\n",
    "    return score / 2.0"
   ]
  },
  {
   "cell_type": "code",
   "execution_count": 17,
   "metadata": {},
   "outputs": [],
   "source": [
    "# Load the training data\n",
    "dataset = json.load(open(\"data/training_data.json\", \"r\"))['examples']\n",
    "trainset = [dspy.Example(question=\"Analyze the applicant's financial information and return a risk assessment\", \n",
    "                         applicant=e['applicant'], \n",
    "                         answer=e['answer']) for e in dataset]"
   ]
  },
  {
   "cell_type": "code",
   "execution_count": 18,
   "metadata": {},
   "outputs": [
    {
     "name": "stderr",
     "output_type": "stream",
     "text": [
      " 56%|█████▌    | 15/27 [10:07<08:05, 40.47s/it]"
     ]
    },
    {
     "name": "stdout",
     "output_type": "stream",
     "text": [
      "Bootstrapped 4 full traces after 16 examples in round 0.\n"
     ]
    },
    {
     "name": "stderr",
     "output_type": "stream",
     "text": [
      "\n"
     ]
    }
   ],
   "source": [
    "with using_project(\"bootstrap_few_shot\"):\n",
    "    bfs_trainset = [x.with_inputs('applicant') for x in trainset]\n",
    "    config = dict(max_bootstrapped_demos=4, max_labeled_demos=4)\n",
    "    bfs_optimized = BootstrapFewShot(metric=risk_assessment_metric, **config)\n",
    "    bfs_optimized_advisor = bfs_optimized.compile(RiskAssessmentAgent(),\n",
    "                                                trainset=bfs_trainset)"
   ]
  },
  {
   "cell_type": "code",
   "execution_count": 19,
   "metadata": {},
   "outputs": [
    {
     "name": "stdout",
     "output_type": "stream",
     "text": [
      "BootstrapFewShot Optimised response:\n",
      " Based on the analysis of John Doe's financial information, the risk\n",
      "assessment is Medium Risk. Here's the justification for this\n",
      "assessment:  1. Income and Employment: John's stable job as a Software\n",
      "Engineer with 5 years of experience and a solid annual income of\n",
      "$75,000 provide a good foundation for loan repayment.  2. Credit\n",
      "Score: His credit score of 720 is good, indicating responsible credit\n",
      "management and reducing the risk of default.  3. Existing Debts: While\n",
      "the student loan debt is significant, it's not unusual for his\n",
      "profession. The credit card debt, however, suggests some potential for\n",
      "financial strain.  4. Debt-to-Income Ratio: The current DTI of 33.33%\n",
      "is manageable, but the potential DTI after the mortgage (51.30%) is\n",
      "concerning. Most lenders prefer a DTI below 43% for qualified\n",
      "mortgages.  5. Housing Expense Ratio: At 17.97%, this is within the\n",
      "generally acceptable range of 28% or less.  6. Loan Amount: The\n",
      "$250,000 mortgage is substantial relative to his income, which\n",
      "increases risk.  7. Age and Career Stage: At 35, John is likely in a\n",
      "stable phase of his career with potential for income growth.  The main\n",
      "factors contributing to the medium risk assessment are: - The high\n",
      "potential DTI after the mortgage - The substantial loan amount\n",
      "relative to income - The existing credit card debt  To mitigate risks,\n",
      "the lender might consider: 1. Requesting that John pay down his credit\n",
      "card debt before approving the mortgage. 2. Suggesting a smaller loan\n",
      "amount to keep the DTI ratio more favorable. 3. Verifying John's\n",
      "potential for income growth in his current role. 4. Requiring a larger\n",
      "down payment to reduce the loan amount.  Overall, while John has\n",
      "several positive factors (good credit score, stable employment, solid\n",
      "income), the high potential DTI and existing debts raise the risk\n",
      "level to medium. Careful consideration and possibly some adjustments\n",
      "to the loan terms or John's current financial situation would be\n",
      "advisable before proceeding with the mortgage.\n"
     ]
    }
   ],
   "source": [
    "with using_project(\"bootstrap_few_shot\"):\n",
    "    response = bfs_optimized_advisor(applicant_info)\n",
    "    wrapped_response = textwrap.fill(response.answer, width=70)\n",
    "    print(f\"BootstrapFewShot Optimised response:\\n {wrapped_response}\")"
   ]
  },
  {
   "cell_type": "code",
   "execution_count": 20,
   "metadata": {},
   "outputs": [
    {
     "name": "stdout",
     "output_type": "stream",
     "text": [
      "\n",
      "\n",
      "\n",
      "Analyze the applicant's financial information and return a risk assessment.\n",
      "\n",
      "---\n",
      "\n",
      "Follow the following format.\n",
      "\n",
      "Question: ${question}\n",
      "\n",
      "Applicant: ${applicant}\n",
      "\n",
      "Reasoning: Let's think step by step in order to ${produce the answer}. We ...\n",
      "\n",
      "Answer: A thorough risk analysis about the applicant, justifying the assessment for each of the parameters considered from the applicant\n",
      "\n",
      "---\n",
      "\n",
      "Question: Analyze the applicant's financial information and return a risk assessment.\n",
      "\n",
      "Applicant: Name: John Smith Age: 35 Annual Income: $80,000 Credit Score: 750 Existing Debts: $0 Loan Amount Requested: $50,000 for a car loan Employment: Software Engineer at XYZ Corp for 5 years\n",
      "\n",
      "Reasoning: Let's think step by step in order to Reasoning: Let's think step by step in order to produce a comprehensive risk assessment for John Smith: 1. Age: At 35, John is in his prime working years, which is a positive factor. 2. Annual Income: $80,000 is a solid income, indicating good earning potential and ability to repay. 3. Credit Score: 750 is considered very good, suggesting responsible credit management. 4. Existing Debts: $0 is excellent, showing no current financial obligations. 5. Loan Amount Requested: $50,000 for a car loan is significant but not unreasonable given his income. 6. Employment: 5 years as a Software Engineer at the same company indicates stability and job security. 7. Debt-to-Income Ratio (DTI): Assuming a 5-year car loan at 5% interest, the monthly payment would be around $943. This would make his DTI about 14%, which is well within acceptable limits. 8. Loan Purpose: A car loan is a common and generally accepted reason for borrowing. 9. Financial Cushion: With no existing debts, John likely has some savings, though we don't have specific information on this.\n",
      "\n",
      "Answer: Based on the analysis of John Smith's financial information, the risk assessment is Low. Here's the justification for this assessment: 1. Income Stability: John's annual income of $80,000 and his 5-year tenure as a Software Engineer demonstrate a stable and sufficient income to support the loan payments. 2. Credit Worthiness: His excellent credit score of 750 indicates a history of responsible credit management, reducing the risk of default. 3. Debt Management: With no existing debts, John shows a clean financial slate and the ability to live within his means. 4. Debt-to-Income Ratio: Even after taking on the car loan, John's estimated DTI would be around 14%, which is well below the typical maximum threshold of 36-43% that lenders prefer. 5. Loan Purpose: The loan for a car is a tangible asset that can serve as collateral, which reduces the lender's risk. 6. Age and Career Stage: At 35, John is likely in a stable phase of his career with potential for future income growth. The combination of a strong income, excellent credit score, lack of existing debts, and a reasonable loan amount for a secured asset (car) all contribute to a low-risk profile. The only potential concern might be the relatively large loan amount compared to his annual income, but given all other factors, this is mitigated. Overall, John Smith appears to be a very low-risk applicant for this car loan.\n",
      "\n",
      "---\n",
      "\n",
      "Question: Analyze the applicant's financial information and return a risk assessment.\n",
      "\n",
      "Applicant: Name: Laura Adams Age: 32 Annual Income: $55,000 Credit Score: 690 Existing Debts: $8,000 in auto loans Loan Amount Requested: $5,000 for medical expenses Employment: Nurse at a hospital for 7 years\n",
      "\n",
      "Reasoning: Let's think step by step in order to Reasoning: Let's think step by step in order to produce a thorough risk assessment for Laura Adams: 1. Age: At 32, Laura is in her prime working years, which is generally positive for financial stability. 2. Income: $55,000 is a moderate income, providing a reasonable basis for loan repayment. 3. Credit Score: 690 is considered a good credit score, indicating responsible credit management overall. 4. Existing Debts: $8,000 in auto loans is a moderate amount of debt, not excessively high given her income. 5. Loan Amount Requested: $5,000 is a relatively small loan, especially compared to her annual income. 6. Loan Purpose: Medical expenses are a necessary and understandable reason for borrowing. 7. Employment: 7 years as a nurse at a hospital indicates strong job stability in a generally secure field. 8. Debt-to-Income Ratio: Current DTI = ($8,000 / $55,000) * 100 = 14.5% If new loan is approved: (($8,000 + $5,000) / $55,000) * 100 = 23.6% This is still within an acceptable range.\n",
      "\n",
      "Answer: Based on the analysis of Laura Adams' financial information, the risk assessment is Low to Medium-Low Risk. Here's the justification for this assessment: 1. Income Stability: Laura's 7-year tenure as a nurse demonstrates job stability in a field with consistent demand, reducing employment risk. 2. Credit Score: Her credit score of 690 is good, indicating responsible credit management and lowering the risk of default. 3. Debt Management: While she has existing auto loans, the amount is manageable relative to her income. The addition of the requested loan would still keep her debt-to-income ratio at a reasonable level. 4. Loan Purpose: The loan is for medical expenses, which is a necessary and justifiable reason for borrowing, rather than discretionary spending. 5. Loan Amount: The requested $5,000 is relatively small compared to her annual income, suggesting she should be able to manage the repayments. 6. Age and Career Stage: At 32, Laura is likely to have potential for income growth in her nursing career. The main factors contributing to the low risk assessment are her stable employment, good credit score, and the manageable loan amount relative to her income. The only slight concern is the existing auto loan, but even with the additional $5,000, her overall debt load remains reasonable. Given these factors, Laura appears to be a responsible borrower with a strong capacity to repay the loan. The lender might consider offering favorable terms due to the low risk profile.\n",
      "\n",
      "---\n",
      "\n",
      "Question: Analyze the applicant's financial information and return a risk assessment.\n",
      "\n",
      "Applicant: Name: Mary Roberts Age: 42 Annual Income: $75,000 Credit Score: 680 Existing Debts: $10,000 in personal loans Loan Amount Requested: $20,000 for debt consolidation Employment: Accountant at a financial firm for 8 years\n",
      "\n",
      "Reasoning: Let's think step by step in order to Reasoning: Let's think step by step in order to produce a thorough risk assessment for Mary Roberts: 1. Age: At 42, Mary is in her prime working years, which is generally a positive factor. 2. Income: $75,000 annual income is solid and above the national average, indicating good earning potential. 3. Credit Score: 680 is considered fair to good, but not excellent. This suggests some past credit issues or high credit utilization. 4. Existing Debts: $10,000 in personal loans is significant but not overwhelming given her income. 5. Loan Amount Requested: $20,000 for debt consolidation is a reasonable amount and the purpose is financially responsible. 6. Employment: 8 years as an accountant at a financial firm indicates stability and job security. 7. Debt-to-Income Ratio (DTI): Current DTI = ($10,000 / $75,000) * 100 = 13.33% Potential DTI after new loan = ($30,000 / $75,000) * 100 = 40% 8. Loan Purpose: Debt consolidation can be beneficial if it results in lower overall interest rates and better financial management.\n",
      "\n",
      "Answer: Based on the analysis of Mary Roberts' financial information, the risk assessment is Medium-Low Risk. Here's the justification for this assessment: 1. Income and Employment: Mary's stable job as an accountant with 8 years of experience and a solid annual income of $75,000 provide a strong foundation for loan repayment. 2. Credit Score: Her credit score of 680 is fair to good, indicating some responsibility in credit management, but also suggesting there might have been some minor issues in the past. 3. Existing Debts and Loan Purpose: The existing $10,000 in personal loans, combined with the request for a $20,000 loan for debt consolidation, indicates that Mary is taking steps to manage her finances more effectively. This is a positive sign, as long as the consolidation results in better terms and lower overall interest rates. 4. Debt-to-Income Ratio: If the loan is approved, Mary's DTI would increase to 40%, which is on the higher end of what's generally considered acceptable but still manageable. 5. Age and Career Stage: At 42, Mary is likely in a stable phase of her career, which reduces the risk of income volatility. The main factors contributing to the Medium-Low risk assessment are Mary's stable employment, good income, and the responsible purpose of the loan. However, her credit score, while not poor, leaves some room for improvement, and the potential 40% DTI after the loan is approved is a point of concern. To mitigate risks, the lender might consider: 1. Verifying that the debt consolidation will indeed result in better terms for Mary. 2. Possibly offering financial counseling services to ensure Mary has a solid plan for managing her consolidated debt. 3. Considering a slightly lower loan amount to keep the DTI ratio more favorable. Overall, while there are some risk factors to consider, Mary appears to be a relatively solid candidate for the loan, especially given the responsible purpose of debt consolidation.\n",
      "\n",
      "---\n",
      "\n",
      "Question: Analyze the applicant's financial information and return a risk assessment.\n",
      "\n",
      "Applicant: Name: Amanda King Age: 35 Annual Income: $70,000 Credit Score: 700 Existing Debts: $10,000 in student loans Loan Amount Requested: $15,000 for a business venture Employment: Marketing specialist at a tech startup for 5 years\n",
      "\n",
      "Reasoning: Let's think step by step in order to Reasoning: Let's think step by step in order to produce a thorough risk assessment for Amanda King: 1. Age: At 35, Amanda is in her prime working years, which is a positive factor. 2. Income: $70,000 is a solid annual income, indicating good earning potential. 3. Credit Score: A score of 700 is considered good, suggesting responsible credit management. 4. Existing Debts: $10,000 in student loans is manageable given her income. 5. Loan Amount Requested: $15,000 is a moderate amount compared to her income. 6. Loan Purpose: A business venture carries some inherent risk but also potential for returns. 7. Employment: 5 years at a tech startup shows stability, though startups can be volatile. 8. Debt-to-Income Ratio: Current: ($10,000 / $70,000) = 14.3% After proposed loan: (($10,000 + $15,000) / $70,000) = 35.7% This is within acceptable limits but approaching the higher end.\n",
      "\n",
      "Answer: Based on the analysis of Amanda King's financial information, the risk assessment is Low to Medium Risk. Here's the justification for this assessment: 1. Income Stability: Amanda's $70,000 annual income provides a solid foundation for loan repayment. Her 5-year tenure at her current job indicates employment stability, although working for a startup carries some inherent risk. 2. Credit History: Her credit score of 700 is good, suggesting responsible credit management and reducing the risk of default. 3. Existing Debt: The $10,000 in student loans is manageable given her income level. This shows she has experience managing debt responsibly. 4. Debt-to-Income Ratio: Even with the new loan, her debt-to-income ratio would be 35.7%, which is within acceptable limits but approaching the higher end of what's typically considered safe. 5. Loan Purpose: The business venture purpose adds a slight element of risk, as the success of the venture is not guaranteed. However, it also shows entrepreneurial spirit and potential for additional income. 6. Age and Career Stage: At 35, Amanda is likely in a stable career phase with potential for future income growth. The main factors contributing to the low-to-medium risk assessment are Amanda's solid income, good credit score, and manageable existing debt. The slight increase in risk comes from the purpose of the loan (business venture) and the fact that her employment is with a startup, which can be less stable than more established companies. Overall, Amanda appears to be a relatively strong candidate for the loan, but the lender should consider requesting more details about the business venture and possibly implementing some safeguards to mitigate the slight increase in risk associated with this purpose.\n",
      "\n",
      "---\n",
      "\n",
      "Question: Analyze the applicant's financial information and return a risk assessment.\n",
      "\n",
      "Applicant: Name: John Doe Age: 35 Annual Income: $75,000 Credit Score: 720 Existing Debts: $20,000 in student loans, $5,000 in credit card debt Loan Amount Requested: $250,000 for a home mortgage Employment: Software Engineer at Tech Corp for 5 years\n",
      "\n",
      "Reasoning: Let's think step by step in order to\u001b[32mReasoning: Let's think step by step in order to produce a thorough risk assessment for John Doe:\n",
      "\n",
      "1. Age: At 35, John is in his prime working years, which is a positive factor for long-term financial stability.\n",
      "\n",
      "2. Income: $75,000 is a solid annual income, indicating good earning potential.\n",
      "\n",
      "3. Credit Score: 720 is considered a good to very good credit score, suggesting responsible credit management.\n",
      "\n",
      "4. Existing Debts:\n",
      "   - $20,000 in student loans is significant but not unusual for his age and profession.\n",
      "   - $5,000 in credit card debt is moderate and could indicate some financial strain.\n",
      "   - Total existing debt: $25,000\n",
      "\n",
      "5. Loan Amount Requested: $250,000 for a home mortgage is substantial but not unreasonable given his income and the current housing market.\n",
      "\n",
      "6. Employment: 5 years as a Software Engineer at Tech Corp shows stability and potential for career growth.\n",
      "\n",
      "7. Debt-to-Income Ratio (DTI):\n",
      "   - Current DTI: ($25,000 / $75,000) * 100 = 33.33%\n",
      "   - Potential DTI after mortgage (assuming 3.5% interest rate on a 30-year fixed mortgage):\n",
      "     Monthly mortgage payment ≈ $1,123\n",
      "     Annual mortgage payments ≈ $13,476\n",
      "     New DTI: (($25,000 + $13,476) / $75,000) * 100 = 51.30%\n",
      "\n",
      "8. Housing Expense Ratio:\n",
      "   (Annual mortgage payments / Annual income) * 100 = ($13,476 / $75,000) * 100 = 17.97%\n",
      "\n",
      "Answer: Based on the analysis of John Doe's financial information, the risk assessment is Medium Risk. Here's the justification for this assessment:\n",
      "\n",
      "1. Income and Employment: John's stable job as a Software Engineer with 5 years of experience and a solid annual income of $75,000 provide a good foundation for loan repayment.\n",
      "\n",
      "2. Credit Score: His credit score of 720 is good, indicating responsible credit management and reducing the risk of default.\n",
      "\n",
      "3. Existing Debts: While the student loan debt is significant, it's not unusual for his profession. The credit card debt, however, suggests some potential for financial strain.\n",
      "\n",
      "4. Debt-to-Income Ratio: The current DTI of 33.33% is manageable, but the potential DTI after the mortgage (51.30%) is concerning. Most lenders prefer a DTI below 43% for qualified mortgages.\n",
      "\n",
      "5. Housing Expense Ratio: At 17.97%, this is within the generally acceptable range of 28% or less.\n",
      "\n",
      "6. Loan Amount: The $250,000 mortgage is substantial relative to his income, which increases risk.\n",
      "\n",
      "7. Age and Career Stage: At 35, John is likely in a stable phase of his career with potential for income growth.\n",
      "\n",
      "The main factors contributing to the medium risk assessment are:\n",
      "- The high potential DTI after the mortgage\n",
      "- The substantial loan amount relative to income\n",
      "- The existing credit card debt\n",
      "\n",
      "To mitigate risks, the lender might consider:\n",
      "1. Requesting that John pay down his credit card debt before approving the mortgage.\n",
      "2. Suggesting a smaller loan amount to keep the DTI ratio more favorable.\n",
      "3. Verifying John's potential for income growth in his current role.\n",
      "4. Requiring a larger down payment to reduce the loan amount.\n",
      "\n",
      "Overall, while John has several positive factors (good credit score, stable employment, solid income), the high potential DTI and existing debts raise the risk level to medium. Careful consideration and possibly some adjustments to the loan terms or John's current financial situation would be advisable before proceeding with the mortgage.\u001b[0m\n",
      "\n",
      "\n",
      "\n",
      "Prompt used: \n",
      "\n",
      "\n",
      "Analyze the applicant's financial information and return a risk assessment.\n",
      "\n",
      "---\n",
      "\n",
      "Follow the following format.\n",
      "\n",
      "Question: ${question}\n",
      "\n",
      "Applicant: ${applicant}\n",
      "\n",
      "Reasoning: Let's think step by step in order to ${produce the answer}. We ...\n",
      "\n",
      "Answer: A thorough risk analysis about the applicant, justifying the assessment for each of the parameters considered from the applicant\n",
      "\n",
      "---\n",
      "\n",
      "Question: Analyze the applicant's financial information and return a risk assessment.\n",
      "\n",
      "Applicant: Name: John Smith Age: 35 Annual Income: $80,000 Credit Score: 750 Existing Debts: $0 Loan Amount Requested: $50,000 for a car loan Employment: Software Engineer at XYZ Corp for 5 years\n",
      "\n",
      "Reasoning: Let's think step by step in order to Reasoning: Let's think step by step in order to produce a comprehensive risk assessment for John Smith: 1. Age: At 35, John is in his prime working years, which is a positive factor. 2. Annual Income: $80,000 is a solid income, indicating good earning potential and ability to repay. 3. Credit Score: 750 is considered very good, suggesting responsible credit management. 4. Existing Debts: $0 is excellent, showing no current financial obligations. 5. Loan Amount Requested: $50,000 for a car loan is significant but not unreasonable given his income. 6. Employment: 5 years as a Software Engineer at the same company indicates stability and job security. 7. Debt-to-Income Ratio (DTI): Assuming a 5-year car loan at 5% interest, the monthly payment would be around $943. This would make his DTI about 14%, which is well within acceptable limits. 8. Loan Purpose: A car loan is a common and generally accepted reason for borrowing. 9. Financial Cushion: With no existing debts, John likely has some savings, though we don't have specific information on this.\n",
      "\n",
      "Answer: Based on the analysis of John Smith's financial information, the risk assessment is Low. Here's the justification for this assessment: 1. Income Stability: John's annual income of $80,000 and his 5-year tenure as a Software Engineer demonstrate a stable and sufficient income to support the loan payments. 2. Credit Worthiness: His excellent credit score of 750 indicates a history of responsible credit management, reducing the risk of default. 3. Debt Management: With no existing debts, John shows a clean financial slate and the ability to live within his means. 4. Debt-to-Income Ratio: Even after taking on the car loan, John's estimated DTI would be around 14%, which is well below the typical maximum threshold of 36-43% that lenders prefer. 5. Loan Purpose: The loan for a car is a tangible asset that can serve as collateral, which reduces the lender's risk. 6. Age and Career Stage: At 35, John is likely in a stable phase of his career with potential for future income growth. The combination of a strong income, excellent credit score, lack of existing debts, and a reasonable loan amount for a secured asset (car) all contribute to a low-risk profile. The only potential concern might be the relatively large loan amount compared to his annual income, but given all other factors, this is mitigated. Overall, John Smith appears to be a very low-risk applicant for this car loan.\n",
      "\n",
      "---\n",
      "\n",
      "Question: Analyze the applicant's financial information and return a risk assessment.\n",
      "\n",
      "Applicant: Name: Laura Adams Age: 32 Annual Income: $55,000 Credit Score: 690 Existing Debts: $8,000 in auto loans Loan Amount Requested: $5,000 for medical expenses Employment: Nurse at a hospital for 7 years\n",
      "\n",
      "Reasoning: Let's think step by step in order to Reasoning: Let's think step by step in order to produce a thorough risk assessment for Laura Adams: 1. Age: At 32, Laura is in her prime working years, which is generally positive for financial stability. 2. Income: $55,000 is a moderate income, providing a reasonable basis for loan repayment. 3. Credit Score: 690 is considered a good credit score, indicating responsible credit management overall. 4. Existing Debts: $8,000 in auto loans is a moderate amount of debt, not excessively high given her income. 5. Loan Amount Requested: $5,000 is a relatively small loan, especially compared to her annual income. 6. Loan Purpose: Medical expenses are a necessary and understandable reason for borrowing. 7. Employment: 7 years as a nurse at a hospital indicates strong job stability in a generally secure field. 8. Debt-to-Income Ratio: Current DTI = ($8,000 / $55,000) * 100 = 14.5% If new loan is approved: (($8,000 + $5,000) / $55,000) * 100 = 23.6% This is still within an acceptable range.\n",
      "\n",
      "Answer: Based on the analysis of Laura Adams' financial information, the risk assessment is Low to Medium-Low Risk. Here's the justification for this assessment: 1. Income Stability: Laura's 7-year tenure as a nurse demonstrates job stability in a field with consistent demand, reducing employment risk. 2. Credit Score: Her credit score of 690 is good, indicating responsible credit management and lowering the risk of default. 3. Debt Management: While she has existing auto loans, the amount is manageable relative to her income. The addition of the requested loan would still keep her debt-to-income ratio at a reasonable level. 4. Loan Purpose: The loan is for medical expenses, which is a necessary and justifiable reason for borrowing, rather than discretionary spending. 5. Loan Amount: The requested $5,000 is relatively small compared to her annual income, suggesting she should be able to manage the repayments. 6. Age and Career Stage: At 32, Laura is likely to have potential for income growth in her nursing career. The main factors contributing to the low risk assessment are her stable employment, good credit score, and the manageable loan amount relative to her income. The only slight concern is the existing auto loan, but even with the additional $5,000, her overall debt load remains reasonable. Given these factors, Laura appears to be a responsible borrower with a strong capacity to repay the loan. The lender might consider offering favorable terms due to the low risk profile.\n",
      "\n",
      "---\n",
      "\n",
      "Question: Analyze the applicant's financial information and return a risk assessment.\n",
      "\n",
      "Applicant: Name: Mary Roberts Age: 42 Annual Income: $75,000 Credit Score: 680 Existing Debts: $10,000 in personal loans Loan Amount Requested: $20,000 for debt consolidation Employment: Accountant at a financial firm for 8 years\n",
      "\n",
      "Reasoning: Let's think step by step in order to Reasoning: Let's think step by step in order to produce a thorough risk assessment for Mary Roberts: 1. Age: At 42, Mary is in her prime working years, which is generally a positive factor. 2. Income: $75,000 annual income is solid and above the national average, indicating good earning potential. 3. Credit Score: 680 is considered fair to good, but not excellent. This suggests some past credit issues or high credit utilization. 4. Existing Debts: $10,000 in personal loans is significant but not overwhelming given her income. 5. Loan Amount Requested: $20,000 for debt consolidation is a reasonable amount and the purpose is financially responsible. 6. Employment: 8 years as an accountant at a financial firm indicates stability and job security. 7. Debt-to-Income Ratio (DTI): Current DTI = ($10,000 / $75,000) * 100 = 13.33% Potential DTI after new loan = ($30,000 / $75,000) * 100 = 40% 8. Loan Purpose: Debt consolidation can be beneficial if it results in lower overall interest rates and better financial management.\n",
      "\n",
      "Answer: Based on the analysis of Mary Roberts' financial information, the risk assessment is Medium-Low Risk. Here's the justification for this assessment: 1. Income and Employment: Mary's stable job as an accountant with 8 years of experience and a solid annual income of $75,000 provide a strong foundation for loan repayment. 2. Credit Score: Her credit score of 680 is fair to good, indicating some responsibility in credit management, but also suggesting there might have been some minor issues in the past. 3. Existing Debts and Loan Purpose: The existing $10,000 in personal loans, combined with the request for a $20,000 loan for debt consolidation, indicates that Mary is taking steps to manage her finances more effectively. This is a positive sign, as long as the consolidation results in better terms and lower overall interest rates. 4. Debt-to-Income Ratio: If the loan is approved, Mary's DTI would increase to 40%, which is on the higher end of what's generally considered acceptable but still manageable. 5. Age and Career Stage: At 42, Mary is likely in a stable phase of her career, which reduces the risk of income volatility. The main factors contributing to the Medium-Low risk assessment are Mary's stable employment, good income, and the responsible purpose of the loan. However, her credit score, while not poor, leaves some room for improvement, and the potential 40% DTI after the loan is approved is a point of concern. To mitigate risks, the lender might consider: 1. Verifying that the debt consolidation will indeed result in better terms for Mary. 2. Possibly offering financial counseling services to ensure Mary has a solid plan for managing her consolidated debt. 3. Considering a slightly lower loan amount to keep the DTI ratio more favorable. Overall, while there are some risk factors to consider, Mary appears to be a relatively solid candidate for the loan, especially given the responsible purpose of debt consolidation.\n",
      "\n",
      "---\n",
      "\n",
      "Question: Analyze the applicant's financial information and return a risk assessment.\n",
      "\n",
      "Applicant: Name: Amanda King Age: 35 Annual Income: $70,000 Credit Score: 700 Existing Debts: $10,000 in student loans Loan Amount Requested: $15,000 for a business venture Employment: Marketing specialist at a tech startup for 5 years\n",
      "\n",
      "Reasoning: Let's think step by step in order to Reasoning: Let's think step by step in order to produce a thorough risk assessment for Amanda King: 1. Age: At 35, Amanda is in her prime working years, which is a positive factor. 2. Income: $70,000 is a solid annual income, indicating good earning potential. 3. Credit Score: A score of 700 is considered good, suggesting responsible credit management. 4. Existing Debts: $10,000 in student loans is manageable given her income. 5. Loan Amount Requested: $15,000 is a moderate amount compared to her income. 6. Loan Purpose: A business venture carries some inherent risk but also potential for returns. 7. Employment: 5 years at a tech startup shows stability, though startups can be volatile. 8. Debt-to-Income Ratio: Current: ($10,000 / $70,000) = 14.3% After proposed loan: (($10,000 + $15,000) / $70,000) = 35.7% This is within acceptable limits but approaching the higher end.\n",
      "\n",
      "Answer: Based on the analysis of Amanda King's financial information, the risk assessment is Low to Medium Risk. Here's the justification for this assessment: 1. Income Stability: Amanda's $70,000 annual income provides a solid foundation for loan repayment. Her 5-year tenure at her current job indicates employment stability, although working for a startup carries some inherent risk. 2. Credit History: Her credit score of 700 is good, suggesting responsible credit management and reducing the risk of default. 3. Existing Debt: The $10,000 in student loans is manageable given her income level. This shows she has experience managing debt responsibly. 4. Debt-to-Income Ratio: Even with the new loan, her debt-to-income ratio would be 35.7%, which is within acceptable limits but approaching the higher end of what's typically considered safe. 5. Loan Purpose: The business venture purpose adds a slight element of risk, as the success of the venture is not guaranteed. However, it also shows entrepreneurial spirit and potential for additional income. 6. Age and Career Stage: At 35, Amanda is likely in a stable career phase with potential for future income growth. The main factors contributing to the low-to-medium risk assessment are Amanda's solid income, good credit score, and manageable existing debt. The slight increase in risk comes from the purpose of the loan (business venture) and the fact that her employment is with a startup, which can be less stable than more established companies. Overall, Amanda appears to be a relatively strong candidate for the loan, but the lender should consider requesting more details about the business venture and possibly implementing some safeguards to mitigate the slight increase in risk associated with this purpose.\n",
      "\n",
      "---\n",
      "\n",
      "Question: Analyze the applicant's financial information and return a risk assessment.\n",
      "\n",
      "Applicant: Name: John Doe Age: 35 Annual Income: $75,000 Credit Score: 720 Existing Debts: $20,000 in student loans, $5,000 in credit card debt Loan Amount Requested: $250,000 for a home mortgage Employment: Software Engineer at Tech Corp for 5 years\n",
      "\n",
      "Reasoning: Let's think step by step in order to\u001b[32mReasoning: Let's think step by step in order to produce a thorough risk assessment for John Doe:\n",
      "\n",
      "1. Age: At 35, John is in his prime working years, which is a positive factor for long-term financial stability.\n",
      "\n",
      "2. Income: $75,000 is a solid annual income, indicating good earning potential.\n",
      "\n",
      "3. Credit Score: 720 is considered a good to very good credit score, suggesting responsible credit management.\n",
      "\n",
      "4. Existing Debts:\n",
      "   - $20,000 in student loans is significant but not unusual for his age and profession.\n",
      "   - $5,000 in credit card debt is moderate and could indicate some financial strain.\n",
      "   - Total existing debt: $25,000\n",
      "\n",
      "5. Loan Amount Requested: $250,000 for a home mortgage is substantial but not unreasonable given his income and the current housing market.\n",
      "\n",
      "6. Employment: 5 years as a Software Engineer at Tech Corp shows stability and potential for career growth.\n",
      "\n",
      "7. Debt-to-Income Ratio (DTI):\n",
      "   - Current DTI: ($25,000 / $75,000) * 100 = 33.33%\n",
      "   - Potential DTI after mortgage (assuming 3.5% interest rate on a 30-year fixed mortgage):\n",
      "     Monthly mortgage payment ≈ $1,123\n",
      "     Annual mortgage payments ≈ $13,476\n",
      "     New DTI: (($25,000 + $13,476) / $75,000) * 100 = 51.30%\n",
      "\n",
      "8. Housing Expense Ratio:\n",
      "   (Annual mortgage payments / Annual income) * 100 = ($13,476 / $75,000) * 100 = 17.97%\n",
      "\n",
      "Answer: Based on the analysis of John Doe's financial information, the risk assessment is Medium Risk. Here's the justification for this assessment:\n",
      "\n",
      "1. Income and Employment: John's stable job as a Software Engineer with 5 years of experience and a solid annual income of $75,000 provide a good foundation for loan repayment.\n",
      "\n",
      "2. Credit Score: His credit score of 720 is good, indicating responsible credit management and reducing the risk of default.\n",
      "\n",
      "3. Existing Debts: While the student loan debt is significant, it's not unusual for his profession. The credit card debt, however, suggests some potential for financial strain.\n",
      "\n",
      "4. Debt-to-Income Ratio: The current DTI of 33.33% is manageable, but the potential DTI after the mortgage (51.30%) is concerning. Most lenders prefer a DTI below 43% for qualified mortgages.\n",
      "\n",
      "5. Housing Expense Ratio: At 17.97%, this is within the generally acceptable range of 28% or less.\n",
      "\n",
      "6. Loan Amount: The $250,000 mortgage is substantial relative to his income, which increases risk.\n",
      "\n",
      "7. Age and Career Stage: At 35, John is likely in a stable phase of his career with potential for income growth.\n",
      "\n",
      "The main factors contributing to the medium risk assessment are:\n",
      "- The high potential DTI after the mortgage\n",
      "- The substantial loan amount relative to income\n",
      "- The existing credit card debt\n",
      "\n",
      "To mitigate risks, the lender might consider:\n",
      "1. Requesting that John pay down his credit card debt before approving the mortgage.\n",
      "2. Suggesting a smaller loan amount to keep the DTI ratio more favorable.\n",
      "3. Verifying John's potential for income growth in his current role.\n",
      "4. Requiring a larger down payment to reduce the loan amount.\n",
      "\n",
      "Overall, while John has several positive factors (good credit score, stable employment, solid income), the high potential DTI and existing debts raise the risk level to medium. Careful consideration and possibly some adjustments to the loan terms or John's current financial situation would be advisable before proceeding with the mortgage.\u001b[0m\n",
      "\n",
      "\n",
      "\n"
     ]
    }
   ],
   "source": [
    "prompt_used = worker.inspect_history(n=1)\n",
    "print(f\"Prompt used: {prompt_used}\")"
   ]
  },
  {
   "cell_type": "code",
   "execution_count": 21,
   "metadata": {},
   "outputs": [
    {
     "name": "stdout",
     "output_type": "stream",
     "text": [
      "[('assess_risk', Predict(StringSignature(question, applicant -> rationale, answer\n",
      "    instructions=\"Analyze the applicant's financial information and return a risk assessment.\"\n",
      "    question = Field(annotation=str required=True json_schema_extra={'__dspy_field_type': 'input', 'prefix': 'Question:', 'desc': '${question}'})\n",
      "    applicant = Field(annotation=str required=True json_schema_extra={'__dspy_field_type': 'input', 'prefix': 'Applicant:', 'desc': '${applicant}'})\n",
      "    rationale = Field(annotation=str required=True json_schema_extra={'prefix': \"Reasoning: Let's think step by step in order to\", 'desc': '${produce the answer}. We ...', '__dspy_field_type': 'output'})\n",
      "    answer = Field(annotation=str required=True json_schema_extra={'desc': '\\n                              A thorough risk analysis about the applicant, justifying the assessment \\n                              for each of the parameters considered from the applicant\\n                              ', '__dspy_field_type': 'output', 'prefix': 'Answer:'})\n",
      ")))]\n"
     ]
    }
   ],
   "source": [
    "bfs_optimized_advisor.save('bfs_optimized_advisor_compiled.json')"
   ]
  },
  {
   "cell_type": "markdown",
   "metadata": {},
   "source": [
    "## Bootstrap Few Shot with Advanced Metrics using G-Eval (https://arxiv.org/abs/2303.16634)"
   ]
  },
  {
   "cell_type": "code",
   "execution_count": 23,
   "metadata": {},
   "outputs": [
    {
     "name": "stderr",
     "output_type": "stream",
     "text": [
      "WARNING:opentelemetry.instrumentation.instrumentor:Attempting to instrument while already instrumented\n"
     ]
    }
   ],
   "source": [
    "from deepeval.metrics import GEval, BiasMetric, AnswerRelevancyMetric\n",
    "from deepeval.test_case import LLMTestCase, LLMTestCaseParams\n",
    "from openinference.instrumentation.openai import OpenAIInstrumentor\n",
    "\n",
    "OpenAIInstrumentor().instrument(tracer_provider=tracer_provider)\n"
   ]
  },
  {
   "cell_type": "code",
   "execution_count": 39,
   "metadata": {},
   "outputs": [],
   "source": [
    "def risk_assessment_metric_adv(gold, pred, trace=None):\n",
    "    applicant, risk_assessment = gold.applicant, pred.answer\n",
    "\n",
    "    test_case = LLMTestCase(\n",
    "            input=applicant,\n",
    "            actual_output=risk_assessment\n",
    "    )\n",
    "    bias_metric = BiasMetric(\n",
    "        threshold=0.7,\n",
    "        include_reason=True,\n",
    "        async_mode=False\n",
    "    )\n",
    "    bias_metric.measure(test_case)\n",
    "    answer_relevancy_metric = AnswerRelevancyMetric(\n",
    "        threshold=0.7,\n",
    "        include_reason=True,\n",
    "        async_mode=False\n",
    "    )\n",
    "    answer_relevancy_metric.measure(test_case)\n",
    "    coherence_metric = GEval(\n",
    "        name=\"coherence\",\n",
    "        criteria=\"Coherence - determine if the actual output is coherent with the input\",\n",
    "        evaluation_params=[LLMTestCaseParams.INPUT, LLMTestCaseParams.ACTUAL_OUTPUT],\n",
    "        evaluation_steps=[\n",
    "            \"Check if the actual output is logically consistent with the input on the basis of the instructions from the input\",\n",
    "            \"Assess if the actual output is relevant to the input and maintains a logical flow on the basis of the instructions from the input\",\n",
    "        ],\n",
    "        async_mode=False\n",
    "    )\n",
    "    coherence_metric.measure(test_case)\n",
    "    \n",
    "    \n",
    "    score = (1 - bias_metric.score) + answer_relevancy_metric.score + coherence_metric.score\n",
    "    \n",
    "    if trace is not None: return score >= 3\n",
    "    return score / 3.0"
   ]
  },
  {
   "cell_type": "code",
   "execution_count": 25,
   "metadata": {},
   "outputs": [],
   "source": [
    "# Load the training data\n",
    "dataset = json.load(open(\"data/training_data.json\", \"r\"))['examples']\n",
    "trainset = [dspy.Example(question=\"Analyze the applicant's financial information and return a risk assessment\", \n",
    "                         applicant=e['applicant'], \n",
    "                         answer=e['answer']) for e in dataset]"
   ]
  },
  {
   "cell_type": "code",
   "execution_count": 26,
   "metadata": {},
   "outputs": [
    {
     "name": "stderr",
     "output_type": "stream",
     "text": [
      "  0%|          | 0/27 [00:00<?, ?it/s]"
     ]
    },
    {
     "data": {
      "application/vnd.jupyter.widget-view+json": {
       "model_id": "77620e982aa94107ab192946a066a4d9",
       "version_major": 2,
       "version_minor": 0
      },
      "text/plain": [
       "Output()"
      ]
     },
     "metadata": {},
     "output_type": "display_data"
    },
    {
     "data": {
      "text/html": [
       "<pre style=\"white-space:pre;overflow-x:auto;line-height:normal;font-family:Menlo,'DejaVu Sans Mono',consolas,'Courier New',monospace\"></pre>\n"
      ],
      "text/plain": []
     },
     "metadata": {},
     "output_type": "display_data"
    },
    {
     "data": {
      "application/vnd.jupyter.widget-view+json": {
       "model_id": "50e92fc5e3f24bc0a750a861c05fcdf6",
       "version_major": 2,
       "version_minor": 0
      },
      "text/plain": [
       "Output()"
      ]
     },
     "metadata": {},
     "output_type": "display_data"
    },
    {
     "data": {
      "text/html": [
       "<pre style=\"white-space:pre;overflow-x:auto;line-height:normal;font-family:Menlo,'DejaVu Sans Mono',consolas,'Courier New',monospace\"></pre>\n"
      ],
      "text/plain": []
     },
     "metadata": {},
     "output_type": "display_data"
    },
    {
     "data": {
      "application/vnd.jupyter.widget-view+json": {
       "model_id": "19c7025db56e45bab75d5966a97df612",
       "version_major": 2,
       "version_minor": 0
      },
      "text/plain": [
       "Output()"
      ]
     },
     "metadata": {},
     "output_type": "display_data"
    },
    {
     "data": {
      "text/html": [
       "<pre style=\"white-space:pre;overflow-x:auto;line-height:normal;font-family:Menlo,'DejaVu Sans Mono',consolas,'Courier New',monospace\"></pre>\n"
      ],
      "text/plain": []
     },
     "metadata": {},
     "output_type": "display_data"
    },
    {
     "name": "stderr",
     "output_type": "stream",
     "text": [
      "  4%|▎         | 1/27 [01:04<28:03, 64.73s/it]"
     ]
    },
    {
     "data": {
      "application/vnd.jupyter.widget-view+json": {
       "model_id": "9d71363a185b487c9a6afdf61b529b3e",
       "version_major": 2,
       "version_minor": 0
      },
      "text/plain": [
       "Output()"
      ]
     },
     "metadata": {},
     "output_type": "display_data"
    },
    {
     "data": {
      "text/html": [
       "<pre style=\"white-space:pre;overflow-x:auto;line-height:normal;font-family:Menlo,'DejaVu Sans Mono',consolas,'Courier New',monospace\"></pre>\n"
      ],
      "text/plain": []
     },
     "metadata": {},
     "output_type": "display_data"
    },
    {
     "data": {
      "application/vnd.jupyter.widget-view+json": {
       "model_id": "2f8674d95dbf4049954b757bea2da766",
       "version_major": 2,
       "version_minor": 0
      },
      "text/plain": [
       "Output()"
      ]
     },
     "metadata": {},
     "output_type": "display_data"
    },
    {
     "data": {
      "text/html": [
       "<pre style=\"white-space:pre;overflow-x:auto;line-height:normal;font-family:Menlo,'DejaVu Sans Mono',consolas,'Courier New',monospace\"></pre>\n"
      ],
      "text/plain": []
     },
     "metadata": {},
     "output_type": "display_data"
    },
    {
     "data": {
      "application/vnd.jupyter.widget-view+json": {
       "model_id": "a662deeb77e7422e878b850bc2bcff7c",
       "version_major": 2,
       "version_minor": 0
      },
      "text/plain": [
       "Output()"
      ]
     },
     "metadata": {},
     "output_type": "display_data"
    },
    {
     "data": {
      "text/html": [
       "<pre style=\"white-space:pre;overflow-x:auto;line-height:normal;font-family:Menlo,'DejaVu Sans Mono',consolas,'Courier New',monospace\"></pre>\n"
      ],
      "text/plain": []
     },
     "metadata": {},
     "output_type": "display_data"
    },
    {
     "name": "stderr",
     "output_type": "stream",
     "text": [
      "  7%|▋         | 2/27 [02:00<24:48, 59.54s/it]"
     ]
    },
    {
     "data": {
      "application/vnd.jupyter.widget-view+json": {
       "model_id": "e2960aeaf85c404796d43dcc52dd26e4",
       "version_major": 2,
       "version_minor": 0
      },
      "text/plain": [
       "Output()"
      ]
     },
     "metadata": {},
     "output_type": "display_data"
    },
    {
     "data": {
      "text/html": [
       "<pre style=\"white-space:pre;overflow-x:auto;line-height:normal;font-family:Menlo,'DejaVu Sans Mono',consolas,'Courier New',monospace\"></pre>\n"
      ],
      "text/plain": []
     },
     "metadata": {},
     "output_type": "display_data"
    },
    {
     "data": {
      "application/vnd.jupyter.widget-view+json": {
       "model_id": "d45d87dfc7094071b7bc39f0d62defd2",
       "version_major": 2,
       "version_minor": 0
      },
      "text/plain": [
       "Output()"
      ]
     },
     "metadata": {},
     "output_type": "display_data"
    },
    {
     "data": {
      "text/html": [
       "<pre style=\"white-space:pre;overflow-x:auto;line-height:normal;font-family:Menlo,'DejaVu Sans Mono',consolas,'Courier New',monospace\"></pre>\n"
      ],
      "text/plain": []
     },
     "metadata": {},
     "output_type": "display_data"
    },
    {
     "data": {
      "application/vnd.jupyter.widget-view+json": {
       "model_id": "e787570230964328b520042dee550192",
       "version_major": 2,
       "version_minor": 0
      },
      "text/plain": [
       "Output()"
      ]
     },
     "metadata": {},
     "output_type": "display_data"
    },
    {
     "data": {
      "text/html": [
       "<pre style=\"white-space:pre;overflow-x:auto;line-height:normal;font-family:Menlo,'DejaVu Sans Mono',consolas,'Courier New',monospace\"></pre>\n"
      ],
      "text/plain": []
     },
     "metadata": {},
     "output_type": "display_data"
    },
    {
     "name": "stderr",
     "output_type": "stream",
     "text": [
      " 11%|█         | 3/27 [03:01<24:07, 60.32s/it]"
     ]
    },
    {
     "data": {
      "application/vnd.jupyter.widget-view+json": {
       "model_id": "0cd60c0ef85d491582fe3156e4c93cf8",
       "version_major": 2,
       "version_minor": 0
      },
      "text/plain": [
       "Output()"
      ]
     },
     "metadata": {},
     "output_type": "display_data"
    },
    {
     "data": {
      "text/html": [
       "<pre style=\"white-space:pre;overflow-x:auto;line-height:normal;font-family:Menlo,'DejaVu Sans Mono',consolas,'Courier New',monospace\"></pre>\n"
      ],
      "text/plain": []
     },
     "metadata": {},
     "output_type": "display_data"
    },
    {
     "data": {
      "application/vnd.jupyter.widget-view+json": {
       "model_id": "3dd6a89f0641412ab4c860caecee8509",
       "version_major": 2,
       "version_minor": 0
      },
      "text/plain": [
       "Output()"
      ]
     },
     "metadata": {},
     "output_type": "display_data"
    },
    {
     "data": {
      "text/html": [
       "<pre style=\"white-space:pre;overflow-x:auto;line-height:normal;font-family:Menlo,'DejaVu Sans Mono',consolas,'Courier New',monospace\"></pre>\n"
      ],
      "text/plain": []
     },
     "metadata": {},
     "output_type": "display_data"
    },
    {
     "data": {
      "application/vnd.jupyter.widget-view+json": {
       "model_id": "f21ac30580e840af9816c383c154e200",
       "version_major": 2,
       "version_minor": 0
      },
      "text/plain": [
       "Output()"
      ]
     },
     "metadata": {},
     "output_type": "display_data"
    },
    {
     "data": {
      "text/html": [
       "<pre style=\"white-space:pre;overflow-x:auto;line-height:normal;font-family:Menlo,'DejaVu Sans Mono',consolas,'Courier New',monospace\"></pre>\n"
      ],
      "text/plain": []
     },
     "metadata": {},
     "output_type": "display_data"
    },
    {
     "name": "stderr",
     "output_type": "stream",
     "text": [
      " 15%|█▍        | 4/27 [03:59<22:56, 59.83s/it]"
     ]
    },
    {
     "name": "stdout",
     "output_type": "stream",
     "text": [
      "Bootstrapped 4 full traces after 5 examples in round 0.\n"
     ]
    },
    {
     "name": "stderr",
     "output_type": "stream",
     "text": [
      "\n"
     ]
    }
   ],
   "source": [
    "with using_project(\"bootstrap_few_shot_adv_metrics\"):\n",
    "    bfs_trainset = [x.with_inputs('applicant') for x in trainset]\n",
    "    config = dict(max_bootstrapped_demos=4, max_labeled_demos=4)\n",
    "    bfs_optimized_adv_metrics = BootstrapFewShot(metric=risk_assessment_metric_adv, **config)\n",
    "    bfs_optimized_advisor_adv_metrics = bfs_optimized_adv_metrics.compile(RiskAssessmentAgent(),\n",
    "                                                trainset=bfs_trainset)"
   ]
  },
  {
   "cell_type": "code",
   "execution_count": 27,
   "metadata": {},
   "outputs": [
    {
     "name": "stdout",
     "output_type": "stream",
     "text": [
      "BootstrapFewShot Optimised with Advanced Metricsresponse:\n",
      " Based on the analysis of John Doe's financial information, the risk\n",
      "assessment is Medium Risk. Here's the justification for this\n",
      "assessment:  1. Income and Employment: John's income is solid, and his\n",
      "5-year tenure as a Software Engineer demonstrates stability and\n",
      "potential for future income growth. This is a positive factor in the\n",
      "risk assessment.  2. Credit Score: His credit score of 720 is good to\n",
      "very good, indicating responsible credit management and lowering the\n",
      "risk of default. This is another positive factor.  3. Existing Debts:\n",
      "While John has existing debts, they are not excessive given his income\n",
      "and education level. The student loans suggest he has invested in his\n",
      "career, which is generally positive.  4. Loan Amount: The $250,000\n",
      "mortgage request is about 3.33 times his annual income, which is\n",
      "within typical guidelines but on the higher end. This increases the\n",
      "risk slightly.  5. Debt-to-Income Ratio: The potential new DTI of\n",
      "51.3% is concerning. Most lenders prefer a DTI of 43% or lower for\n",
      "qualified mortgages. This high DTI is a significant risk factor.  6.\n",
      "Housing Expense Ratio: At 18%, this is within the typically acceptable\n",
      "range of under 28%, which is positive.  7. Age and Career Stage: At\n",
      "35, John is likely in a stable phase of his career in a field with\n",
      "good income potential, which mitigates some risk.  While John has\n",
      "several positive factors, including a good credit score, stable\n",
      "employment, and a solid income, the high potential DTI is a\n",
      "significant concern. This suggests that a large portion of his income\n",
      "would be going towards debt payments, leaving little room for savings\n",
      "or unexpected expenses.  Given these factors, John presents a medium\n",
      "risk. The lender might consider offering the loan with some\n",
      "conditions, such as: - Requiring a larger down payment to reduce the\n",
      "loan amount - Suggesting John pay down some of his existing debt\n",
      "before taking on the mortgage - Offering a slightly higher interest\n",
      "rate to compensate for the increased risk - Requiring additional\n",
      "assets or collateral to secure the loan  The lender should also\n",
      "carefully verify John's income stability and potential for future\n",
      "earnings in his current role to ensure he can manage the significant\n",
      "debt load he would be taking on with this mortgage.\n"
     ]
    }
   ],
   "source": [
    "with using_project(\"bootstrap_few_shot_adv_metrics\"):\n",
    "    response = bfs_optimized_advisor_adv_metrics(applicant_info)\n",
    "    wrapped_response = textwrap.fill(response.answer, width=70)\n",
    "    print(f\"BootstrapFewShot Optimised with Advanced Metricsresponse:\\n {wrapped_response}\")"
   ]
  },
  {
   "cell_type": "code",
   "execution_count": 28,
   "metadata": {},
   "outputs": [
    {
     "name": "stdout",
     "output_type": "stream",
     "text": [
      "\n",
      "\n",
      "\n",
      "Analyze the applicant's financial information and return a risk assessment.\n",
      "\n",
      "---\n",
      "\n",
      "Follow the following format.\n",
      "\n",
      "Question: ${question}\n",
      "\n",
      "Applicant: ${applicant}\n",
      "\n",
      "Reasoning: Let's think step by step in order to ${produce the answer}. We ...\n",
      "\n",
      "Answer: A thorough risk analysis about the applicant, justifying the assessment for each of the parameters considered from the applicant\n",
      "\n",
      "---\n",
      "\n",
      "Question: Analyze the applicant's financial information and return a risk assessment.\n",
      "\n",
      "Applicant: Name: Jane Doe Age: 28 Annual Income: $65,000 Credit Score: 680 Existing Debts: $15,000 in student loans Loan Amount Requested: $200,000 for a home mortgage Employment: Marketing Manager at ABC Corp for 3 years\n",
      "\n",
      "Reasoning: Let's think step by step in order to Reasoning: Let's think step by step in order to produce a thorough risk assessment for Jane Doe: 1. Age: At 28, Jane is relatively young, which could be both positive (potential for income growth) and negative (less financial experience). 2. Annual Income: $65,000 is a solid income for her age, indicating good earning potential. 3. Credit Score: 680 is considered fair to good, suggesting generally responsible credit management with some room for improvement. 4. Existing Debts: $15,000 in student loans is not unusual for her age and education level. 5. Loan Amount Requested: $200,000 for a home mortgage is a significant amount, about 3 times her annual income. 6. Employment: 3 years as a Marketing Manager shows some stability, but it's not an extremely long tenure. 7. Debt-to-Income Ratio: - Current DTI: ($15,000 / $65,000) = 23% - Potential DTI with mortgage (assuming 4% interest rate, 30-year term): Monthly mortgage payment ≈ $955 Annual mortgage payments = $11,460 New DTI: ($15,000 + $11,460) / $65,000 = 40.7% 8. Housing Expense Ratio: Monthly mortgage payment / Monthly income = $955 / $5,416 = 17.6%\n",
      "\n",
      "Answer: Based on the analysis of Jane Doe's financial information, the risk assessment is Medium Risk. Here's the justification for this assessment: 1. Income and Employment: Jane's income is solid for her age, and her position as a Marketing Manager suggests potential for future income growth. However, her 3-year tenure is relatively short, which adds some uncertainty. 2. Credit Score: Her credit score of 680 is fair to good, indicating generally responsible credit management, but there's room for improvement. This score doesn't place her in the highest risk category, but also not in the lowest risk category. 3. Existing Debts: The $15,000 in student loans is manageable given her income, and suggests she has completed higher education, which is positive for long-term earning potential. 4. Loan Amount: The $200,000 mortgage request is about 3 times her annual income, which is within typical guidelines but on the higher end. 5. Debt-to-Income Ratio: If the mortgage is approved, her DTI would be around 40.7%, which is below the typical maximum of 43% for qualified mortgages, but still relatively high. 6. Housing Expense Ratio: At 17.6%, this is within the typically acceptable range of under 28%. 7. Age and Financial Experience: At 28, Jane may have less financial experience and savings than older applicants, which could increase risk slightly. While Jane has several positive factors, including a good income, manageable existing debt, and debt ratios within acceptable ranges, there are also some concerns. Her credit score, while not poor, leaves room for improvement, and her job tenure is relatively short. The loan amount is significant relative to her income, which could strain her finances if her income were to decrease or if she faced unexpected expenses. Given these factors, Jane presents a medium risk. She's not a high-risk applicant, but also not the lowest risk. The lender might consider offering the loan with slightly higher interest rates or requiring a larger down payment to mitigate the risk. Additionally, the lender should carefully verify Jane's income stability and potential for future earnings in her current role.\n",
      "\n",
      "---\n",
      "\n",
      "Question: Analyze the applicant's financial information and return a risk assessment.\n",
      "\n",
      "Applicant: Name: John Smith Age: 35 Annual Income: $80,000 Credit Score: 750 Existing Debts: $0 Loan Amount Requested: $50,000 for a car loan Employment: Software Engineer at XYZ Corp for 5 years\n",
      "\n",
      "Reasoning: Let's think step by step in order to Reasoning: Let's think step by step in order to produce a comprehensive risk assessment for John Smith: 1. Age: At 35, John is in his prime working years, which is a positive factor. 2. Annual Income: $80,000 is a solid income, indicating good earning potential and ability to repay. 3. Credit Score: 750 is considered very good, suggesting responsible credit management. 4. Existing Debts: $0 is excellent, showing no current financial obligations. 5. Loan Amount Requested: $50,000 for a car loan is significant but not unreasonable given his income. 6. Employment: 5 years as a Software Engineer at the same company indicates stability and job security. 7. Debt-to-Income Ratio (DTI): Assuming a 5-year car loan at 5% interest, the monthly payment would be around $943. This would make his DTI about 14%, which is well within acceptable limits. 8. Loan Purpose: A car loan is a common and generally accepted reason for borrowing. 9. Financial Cushion: With no existing debts, John likely has some savings, though we don't have specific information on this.\n",
      "\n",
      "Answer: Based on the analysis of John Smith's financial information, the risk assessment is Low. Here's the justification for this assessment: 1. Income Stability: John's annual income of $80,000 and his 5-year tenure as a Software Engineer demonstrate a stable and sufficient income to support the loan payments. 2. Credit Worthiness: His excellent credit score of 750 indicates a history of responsible credit management, reducing the risk of default. 3. Debt Management: With no existing debts, John shows a clean financial slate and the ability to live within his means. 4. Debt-to-Income Ratio: Even after taking on the car loan, John's estimated DTI would be around 14%, which is well below the typical 36% threshold that lenders consider risky. 5. Loan Purpose: The request for a car loan is a standard and justifiable reason for borrowing, and the amount is reasonable given his income. 6. Age and Career Stage: At 35, John is likely in a stable phase of his career, reducing the risk of income volatility. 7. Employment Sector: The tech industry is generally stable and well-paying, adding to John's financial security. While the loan amount is substantial, all other factors point to John being a low-risk borrower. He demonstrates financial responsibility, has a stable job with a good income, and has no existing debts. The only potential concern is the lack of information about his savings or assets, which could provide additional security. However, based on the available information, John Smith presents a low risk for the $50,000 car loan.\n",
      "\n",
      "---\n",
      "\n",
      "Question: Analyze the applicant's financial information and return a risk assessment.\n",
      "\n",
      "Applicant: Name: Sarah Johnson Age: 45 Annual Income: $120,000 Credit Score: 620 Existing Debts: $10,000 in credit card debt Loan Amount Requested: $10,000 for a personal loan Employment: Self-employed as a freelance writer for 10 years\n",
      "\n",
      "Reasoning: Let's think step by step in order to Reasoning: Let's think step by step in order to produce a thorough risk assessment for Sarah Johnson: 1. Age: At 45, Sarah is in her prime earning years, which is generally positive. 2. Income: $120,000 annually is a strong income, suggesting good ability to repay loans. 3. Credit Score: 620 is considered fair to poor, indicating potential past credit issues. 4. Existing Debts: $10,000 in credit card debt is significant and may indicate financial stress. 5. Loan Amount: $10,000 is relatively modest compared to her income. 6. Employment: Self-employed for 10 years shows stability, but freelance work can be unpredictable. 7. Debt-to-Income Ratio: With existing debt and new loan, it would be about 16.7% ((10,000 + 10,000) / 120,000), which is acceptable. 8. Purpose of Loan: A personal loan could be for various reasons, some more risky than others.\n",
      "\n",
      "Answer: Based on the analysis of Sarah Johnson's financial information, the risk assessment is Medium Risk. Here's the justification for each parameter: 1. Income: Sarah's high annual income of $120,000 is a strong positive factor, indicating good potential for loan repayment. 2. Age: At 45, Sarah is likely at a stable point in her career, which reduces risk. 3. Credit Score: The credit score of 620 is a significant concern. It suggests a history of credit management issues, increasing the risk of default. 4. Existing Debts: The $10,000 in credit card debt, combined with the low credit score, raises red flags about her financial management skills. 5. Loan Amount: The requested $10,000 is reasonable given her income, but it would double her current debt load. 6. Employment: While 10 years of self-employment shows stability, freelance work can be unpredictable, which adds some risk. 7. Debt-to-Income Ratio: Even with the new loan, her debt-to-income ratio would be acceptable, which is positive. 8. Loan Purpose: Without knowing the specific purpose of the personal loan, it's difficult to assess whether it's a necessary expense or potentially frivolous. The high income and long-term self-employment are strong positives, but they are offset by the poor credit score and existing credit card debt. The combination suggests that while Sarah has the income to handle the loan, her past financial management raises concerns. The lender should carefully consider these factors and possibly request additional information about Sarah's financial habits, reasons for the low credit score, and plans for managing her debt before making a decision. Implementing additional safeguards or offering a smaller loan amount might be advisable to mitigate the risk.\n",
      "\n",
      "---\n",
      "\n",
      "Question: Analyze the applicant's financial information and return a risk assessment.\n",
      "\n",
      "Applicant: Name: Michael Brown Age: 30 Annual Income: $45,000 Credit Score: 700 Existing Debts: $5,000 in medical bills Loan Amount Requested: $5,000 for a personal loan Employment: Retail sales associate at a local store for 2 years\n",
      "\n",
      "Reasoning: Let's think step by step in order to Reasoning: Let's think step by step in order to produce a comprehensive risk assessment for Michael Brown: 1. Income: - Annual income of $45,000 is moderate to low, depending on the cost of living in his area. - This income may limit his ability to take on additional debt comfortably. 2. Age and Employment: - At 30, Michael is relatively young but should have some financial experience. - 2 years of employment as a retail sales associate suggests limited job stability and potential for income growth. 3. Credit Score: - A credit score of 700 is considered good, indicating responsible credit management. - This score suggests a lower risk of default. 4. Existing Debts: - $5,000 in medical bills is a moderate amount of debt. - Medical bills can be negotiated or put on payment plans, which is a positive factor. 5. Loan Amount Requested: - $5,000 for a personal loan is a relatively small amount. - The purpose is not specified, which could be a concern. 6. Debt-to-Income Ratio: - Current debt-to-income ratio: ($5,000 / $45,000) = 11.1% - If the new loan is approved, the ratio would increase to: ($10,000 / $45,000) = 22.2% - This is still within an acceptable range, but approaching caution levels. 7. Overall Financial Picture: - Michael's income is not high, but his credit score is good. - He has some existing debt, but it's not overwhelming. - The requested loan amount is reasonable in relation to his income.\n",
      "\n",
      "Answer: Based on the analysis of Michael Brown's financial information, the risk assessment is Medium-Low Risk. Here's the justification for this assessment: 1. Income and Employment: Michael's annual income of $45,000 is moderate, and his employment history is relatively short. This creates some uncertainty about his long-term ability to repay the loan. 2. Credit Score: His credit score of 700 is good, indicating responsible credit management and lowering the risk of default. 3. Existing Debts: The $5,000 in medical bills is manageable, and medical debts are often viewed more favorably than other types of consumer debt. 4. Loan Amount: The requested $5,000 personal loan is relatively small and in line with his current debt level, which is positive. 5. Debt-to-Income Ratio: Even with the new loan, his debt-to-income ratio would remain at an acceptable level, though it's approaching the higher end of what's considered safe. 6. Age and Financial Experience: At 30, Michael should have some financial experience, but his job in retail sales may limit his income growth potential. While there are some concerns about Michael's income level and job stability, his good credit score, manageable existing debt, and the reasonable loan amount requested suggest that he presents a medium-low risk. The lender should consider requesting additional information about the purpose of the loan and Michael's plans for managing his overall financial situation to further mitigate any potential risks.\n",
      "\n",
      "---\n",
      "\n",
      "Question: Analyze the applicant's financial information and return a risk assessment.\n",
      "\n",
      "Applicant: Name: John Doe Age: 35 Annual Income: $75,000 Credit Score: 720 Existing Debts: $20,000 in student loans, $5,000 in credit card debt Loan Amount Requested: $250,000 for a home mortgage Employment: Software Engineer at Tech Corp for 5 years\n",
      "\n",
      "Reasoning: Let's think step by step in order to\u001b[32mReasoning: Let's think step by step in order to produce a comprehensive risk assessment for John Doe:\n",
      "\n",
      "1. Age and Employment:\n",
      "   - At 35, John is in his prime working years.\n",
      "   - 5 years as a Software Engineer at Tech Corp suggests stability and potential for career growth.\n",
      "\n",
      "2. Income:\n",
      "   - Annual income of $75,000 is solid for his age and profession.\n",
      "   - This income level suggests good ability to make loan payments.\n",
      "\n",
      "3. Credit Score:\n",
      "   - A credit score of 720 is considered good to very good.\n",
      "   - This indicates responsible credit management and lower risk of default.\n",
      "\n",
      "4. Existing Debts:\n",
      "   - $20,000 in student loans is not unusual for his age and profession.\n",
      "   - $5,000 in credit card debt is moderate and manageable given his income.\n",
      "   - Total existing debt: $25,000\n",
      "\n",
      "5. Loan Amount Requested:\n",
      "   - $250,000 for a home mortgage is significant but not unreasonable given his income.\n",
      "   - The loan amount is about 3.33 times his annual income, which is within typical guidelines.\n",
      "\n",
      "6. Debt-to-Income Ratio (DTI):\n",
      "   - Current DTI: ($25,000 / $75,000) = 33.3%\n",
      "   - Estimated mortgage payment (assuming 3.5% interest rate, 30-year term): ~$1,123/month or $13,476/year\n",
      "   - Potential new DTI: ($25,000 + $13,476) / $75,000 = 51.3%\n",
      "\n",
      "7. Housing Expense Ratio:\n",
      "   - Estimated monthly mortgage payment / Monthly income: $1,123 / $6,250 = 18%\n",
      "\n",
      "Answer: Based on the analysis of John Doe's financial information, the risk assessment is Medium Risk. Here's the justification for this assessment:\n",
      "\n",
      "1. Income and Employment: John's income is solid, and his 5-year tenure as a Software Engineer demonstrates stability and potential for future income growth. This is a positive factor in the risk assessment.\n",
      "\n",
      "2. Credit Score: His credit score of 720 is good to very good, indicating responsible credit management and lowering the risk of default. This is another positive factor.\n",
      "\n",
      "3. Existing Debts: While John has existing debts, they are not excessive given his income and education level. The student loans suggest he has invested in his career, which is generally positive.\n",
      "\n",
      "4. Loan Amount: The $250,000 mortgage request is about 3.33 times his annual income, which is within typical guidelines but on the higher end. This increases the risk slightly.\n",
      "\n",
      "5. Debt-to-Income Ratio: The potential new DTI of 51.3% is concerning. Most lenders prefer a DTI of 43% or lower for qualified mortgages. This high DTI is a significant risk factor.\n",
      "\n",
      "6. Housing Expense Ratio: At 18%, this is within the typically acceptable range of under 28%, which is positive.\n",
      "\n",
      "7. Age and Career Stage: At 35, John is likely in a stable phase of his career in a field with good income potential, which mitigates some risk.\n",
      "\n",
      "While John has several positive factors, including a good credit score, stable employment, and a solid income, the high potential DTI is a significant concern. This suggests that a large portion of his income would be going towards debt payments, leaving little room for savings or unexpected expenses.\n",
      "\n",
      "Given these factors, John presents a medium risk. The lender might consider offering the loan with some conditions, such as:\n",
      "- Requiring a larger down payment to reduce the loan amount\n",
      "- Suggesting John pay down some of his existing debt before taking on the mortgage\n",
      "- Offering a slightly higher interest rate to compensate for the increased risk\n",
      "- Requiring additional assets or collateral to secure the loan\n",
      "\n",
      "The lender should also carefully verify John's income stability and potential for future earnings in his current role to ensure he can manage the significant debt load he would be taking on with this mortgage.\u001b[0m\n",
      "\n",
      "\n",
      "\n",
      "Prompt used: \n",
      "\n",
      "\n",
      "Analyze the applicant's financial information and return a risk assessment.\n",
      "\n",
      "---\n",
      "\n",
      "Follow the following format.\n",
      "\n",
      "Question: ${question}\n",
      "\n",
      "Applicant: ${applicant}\n",
      "\n",
      "Reasoning: Let's think step by step in order to ${produce the answer}. We ...\n",
      "\n",
      "Answer: A thorough risk analysis about the applicant, justifying the assessment for each of the parameters considered from the applicant\n",
      "\n",
      "---\n",
      "\n",
      "Question: Analyze the applicant's financial information and return a risk assessment.\n",
      "\n",
      "Applicant: Name: Jane Doe Age: 28 Annual Income: $65,000 Credit Score: 680 Existing Debts: $15,000 in student loans Loan Amount Requested: $200,000 for a home mortgage Employment: Marketing Manager at ABC Corp for 3 years\n",
      "\n",
      "Reasoning: Let's think step by step in order to Reasoning: Let's think step by step in order to produce a thorough risk assessment for Jane Doe: 1. Age: At 28, Jane is relatively young, which could be both positive (potential for income growth) and negative (less financial experience). 2. Annual Income: $65,000 is a solid income for her age, indicating good earning potential. 3. Credit Score: 680 is considered fair to good, suggesting generally responsible credit management with some room for improvement. 4. Existing Debts: $15,000 in student loans is not unusual for her age and education level. 5. Loan Amount Requested: $200,000 for a home mortgage is a significant amount, about 3 times her annual income. 6. Employment: 3 years as a Marketing Manager shows some stability, but it's not an extremely long tenure. 7. Debt-to-Income Ratio: - Current DTI: ($15,000 / $65,000) = 23% - Potential DTI with mortgage (assuming 4% interest rate, 30-year term): Monthly mortgage payment ≈ $955 Annual mortgage payments = $11,460 New DTI: ($15,000 + $11,460) / $65,000 = 40.7% 8. Housing Expense Ratio: Monthly mortgage payment / Monthly income = $955 / $5,416 = 17.6%\n",
      "\n",
      "Answer: Based on the analysis of Jane Doe's financial information, the risk assessment is Medium Risk. Here's the justification for this assessment: 1. Income and Employment: Jane's income is solid for her age, and her position as a Marketing Manager suggests potential for future income growth. However, her 3-year tenure is relatively short, which adds some uncertainty. 2. Credit Score: Her credit score of 680 is fair to good, indicating generally responsible credit management, but there's room for improvement. This score doesn't place her in the highest risk category, but also not in the lowest risk category. 3. Existing Debts: The $15,000 in student loans is manageable given her income, and suggests she has completed higher education, which is positive for long-term earning potential. 4. Loan Amount: The $200,000 mortgage request is about 3 times her annual income, which is within typical guidelines but on the higher end. 5. Debt-to-Income Ratio: If the mortgage is approved, her DTI would be around 40.7%, which is below the typical maximum of 43% for qualified mortgages, but still relatively high. 6. Housing Expense Ratio: At 17.6%, this is within the typically acceptable range of under 28%. 7. Age and Financial Experience: At 28, Jane may have less financial experience and savings than older applicants, which could increase risk slightly. While Jane has several positive factors, including a good income, manageable existing debt, and debt ratios within acceptable ranges, there are also some concerns. Her credit score, while not poor, leaves room for improvement, and her job tenure is relatively short. The loan amount is significant relative to her income, which could strain her finances if her income were to decrease or if she faced unexpected expenses. Given these factors, Jane presents a medium risk. She's not a high-risk applicant, but also not the lowest risk. The lender might consider offering the loan with slightly higher interest rates or requiring a larger down payment to mitigate the risk. Additionally, the lender should carefully verify Jane's income stability and potential for future earnings in her current role.\n",
      "\n",
      "---\n",
      "\n",
      "Question: Analyze the applicant's financial information and return a risk assessment.\n",
      "\n",
      "Applicant: Name: John Smith Age: 35 Annual Income: $80,000 Credit Score: 750 Existing Debts: $0 Loan Amount Requested: $50,000 for a car loan Employment: Software Engineer at XYZ Corp for 5 years\n",
      "\n",
      "Reasoning: Let's think step by step in order to Reasoning: Let's think step by step in order to produce a comprehensive risk assessment for John Smith: 1. Age: At 35, John is in his prime working years, which is a positive factor. 2. Annual Income: $80,000 is a solid income, indicating good earning potential and ability to repay. 3. Credit Score: 750 is considered very good, suggesting responsible credit management. 4. Existing Debts: $0 is excellent, showing no current financial obligations. 5. Loan Amount Requested: $50,000 for a car loan is significant but not unreasonable given his income. 6. Employment: 5 years as a Software Engineer at the same company indicates stability and job security. 7. Debt-to-Income Ratio (DTI): Assuming a 5-year car loan at 5% interest, the monthly payment would be around $943. This would make his DTI about 14%, which is well within acceptable limits. 8. Loan Purpose: A car loan is a common and generally accepted reason for borrowing. 9. Financial Cushion: With no existing debts, John likely has some savings, though we don't have specific information on this.\n",
      "\n",
      "Answer: Based on the analysis of John Smith's financial information, the risk assessment is Low. Here's the justification for this assessment: 1. Income Stability: John's annual income of $80,000 and his 5-year tenure as a Software Engineer demonstrate a stable and sufficient income to support the loan payments. 2. Credit Worthiness: His excellent credit score of 750 indicates a history of responsible credit management, reducing the risk of default. 3. Debt Management: With no existing debts, John shows a clean financial slate and the ability to live within his means. 4. Debt-to-Income Ratio: Even after taking on the car loan, John's estimated DTI would be around 14%, which is well below the typical 36% threshold that lenders consider risky. 5. Loan Purpose: The request for a car loan is a standard and justifiable reason for borrowing, and the amount is reasonable given his income. 6. Age and Career Stage: At 35, John is likely in a stable phase of his career, reducing the risk of income volatility. 7. Employment Sector: The tech industry is generally stable and well-paying, adding to John's financial security. While the loan amount is substantial, all other factors point to John being a low-risk borrower. He demonstrates financial responsibility, has a stable job with a good income, and has no existing debts. The only potential concern is the lack of information about his savings or assets, which could provide additional security. However, based on the available information, John Smith presents a low risk for the $50,000 car loan.\n",
      "\n",
      "---\n",
      "\n",
      "Question: Analyze the applicant's financial information and return a risk assessment.\n",
      "\n",
      "Applicant: Name: Sarah Johnson Age: 45 Annual Income: $120,000 Credit Score: 620 Existing Debts: $10,000 in credit card debt Loan Amount Requested: $10,000 for a personal loan Employment: Self-employed as a freelance writer for 10 years\n",
      "\n",
      "Reasoning: Let's think step by step in order to Reasoning: Let's think step by step in order to produce a thorough risk assessment for Sarah Johnson: 1. Age: At 45, Sarah is in her prime earning years, which is generally positive. 2. Income: $120,000 annually is a strong income, suggesting good ability to repay loans. 3. Credit Score: 620 is considered fair to poor, indicating potential past credit issues. 4. Existing Debts: $10,000 in credit card debt is significant and may indicate financial stress. 5. Loan Amount: $10,000 is relatively modest compared to her income. 6. Employment: Self-employed for 10 years shows stability, but freelance work can be unpredictable. 7. Debt-to-Income Ratio: With existing debt and new loan, it would be about 16.7% ((10,000 + 10,000) / 120,000), which is acceptable. 8. Purpose of Loan: A personal loan could be for various reasons, some more risky than others.\n",
      "\n",
      "Answer: Based on the analysis of Sarah Johnson's financial information, the risk assessment is Medium Risk. Here's the justification for each parameter: 1. Income: Sarah's high annual income of $120,000 is a strong positive factor, indicating good potential for loan repayment. 2. Age: At 45, Sarah is likely at a stable point in her career, which reduces risk. 3. Credit Score: The credit score of 620 is a significant concern. It suggests a history of credit management issues, increasing the risk of default. 4. Existing Debts: The $10,000 in credit card debt, combined with the low credit score, raises red flags about her financial management skills. 5. Loan Amount: The requested $10,000 is reasonable given her income, but it would double her current debt load. 6. Employment: While 10 years of self-employment shows stability, freelance work can be unpredictable, which adds some risk. 7. Debt-to-Income Ratio: Even with the new loan, her debt-to-income ratio would be acceptable, which is positive. 8. Loan Purpose: Without knowing the specific purpose of the personal loan, it's difficult to assess whether it's a necessary expense or potentially frivolous. The high income and long-term self-employment are strong positives, but they are offset by the poor credit score and existing credit card debt. The combination suggests that while Sarah has the income to handle the loan, her past financial management raises concerns. The lender should carefully consider these factors and possibly request additional information about Sarah's financial habits, reasons for the low credit score, and plans for managing her debt before making a decision. Implementing additional safeguards or offering a smaller loan amount might be advisable to mitigate the risk.\n",
      "\n",
      "---\n",
      "\n",
      "Question: Analyze the applicant's financial information and return a risk assessment.\n",
      "\n",
      "Applicant: Name: Michael Brown Age: 30 Annual Income: $45,000 Credit Score: 700 Existing Debts: $5,000 in medical bills Loan Amount Requested: $5,000 for a personal loan Employment: Retail sales associate at a local store for 2 years\n",
      "\n",
      "Reasoning: Let's think step by step in order to Reasoning: Let's think step by step in order to produce a comprehensive risk assessment for Michael Brown: 1. Income: - Annual income of $45,000 is moderate to low, depending on the cost of living in his area. - This income may limit his ability to take on additional debt comfortably. 2. Age and Employment: - At 30, Michael is relatively young but should have some financial experience. - 2 years of employment as a retail sales associate suggests limited job stability and potential for income growth. 3. Credit Score: - A credit score of 700 is considered good, indicating responsible credit management. - This score suggests a lower risk of default. 4. Existing Debts: - $5,000 in medical bills is a moderate amount of debt. - Medical bills can be negotiated or put on payment plans, which is a positive factor. 5. Loan Amount Requested: - $5,000 for a personal loan is a relatively small amount. - The purpose is not specified, which could be a concern. 6. Debt-to-Income Ratio: - Current debt-to-income ratio: ($5,000 / $45,000) = 11.1% - If the new loan is approved, the ratio would increase to: ($10,000 / $45,000) = 22.2% - This is still within an acceptable range, but approaching caution levels. 7. Overall Financial Picture: - Michael's income is not high, but his credit score is good. - He has some existing debt, but it's not overwhelming. - The requested loan amount is reasonable in relation to his income.\n",
      "\n",
      "Answer: Based on the analysis of Michael Brown's financial information, the risk assessment is Medium-Low Risk. Here's the justification for this assessment: 1. Income and Employment: Michael's annual income of $45,000 is moderate, and his employment history is relatively short. This creates some uncertainty about his long-term ability to repay the loan. 2. Credit Score: His credit score of 700 is good, indicating responsible credit management and lowering the risk of default. 3. Existing Debts: The $5,000 in medical bills is manageable, and medical debts are often viewed more favorably than other types of consumer debt. 4. Loan Amount: The requested $5,000 personal loan is relatively small and in line with his current debt level, which is positive. 5. Debt-to-Income Ratio: Even with the new loan, his debt-to-income ratio would remain at an acceptable level, though it's approaching the higher end of what's considered safe. 6. Age and Financial Experience: At 30, Michael should have some financial experience, but his job in retail sales may limit his income growth potential. While there are some concerns about Michael's income level and job stability, his good credit score, manageable existing debt, and the reasonable loan amount requested suggest that he presents a medium-low risk. The lender should consider requesting additional information about the purpose of the loan and Michael's plans for managing his overall financial situation to further mitigate any potential risks.\n",
      "\n",
      "---\n",
      "\n",
      "Question: Analyze the applicant's financial information and return a risk assessment.\n",
      "\n",
      "Applicant: Name: John Doe Age: 35 Annual Income: $75,000 Credit Score: 720 Existing Debts: $20,000 in student loans, $5,000 in credit card debt Loan Amount Requested: $250,000 for a home mortgage Employment: Software Engineer at Tech Corp for 5 years\n",
      "\n",
      "Reasoning: Let's think step by step in order to\u001b[32mReasoning: Let's think step by step in order to produce a comprehensive risk assessment for John Doe:\n",
      "\n",
      "1. Age and Employment:\n",
      "   - At 35, John is in his prime working years.\n",
      "   - 5 years as a Software Engineer at Tech Corp suggests stability and potential for career growth.\n",
      "\n",
      "2. Income:\n",
      "   - Annual income of $75,000 is solid for his age and profession.\n",
      "   - This income level suggests good ability to make loan payments.\n",
      "\n",
      "3. Credit Score:\n",
      "   - A credit score of 720 is considered good to very good.\n",
      "   - This indicates responsible credit management and lower risk of default.\n",
      "\n",
      "4. Existing Debts:\n",
      "   - $20,000 in student loans is not unusual for his age and profession.\n",
      "   - $5,000 in credit card debt is moderate and manageable given his income.\n",
      "   - Total existing debt: $25,000\n",
      "\n",
      "5. Loan Amount Requested:\n",
      "   - $250,000 for a home mortgage is significant but not unreasonable given his income.\n",
      "   - The loan amount is about 3.33 times his annual income, which is within typical guidelines.\n",
      "\n",
      "6. Debt-to-Income Ratio (DTI):\n",
      "   - Current DTI: ($25,000 / $75,000) = 33.3%\n",
      "   - Estimated mortgage payment (assuming 3.5% interest rate, 30-year term): ~$1,123/month or $13,476/year\n",
      "   - Potential new DTI: ($25,000 + $13,476) / $75,000 = 51.3%\n",
      "\n",
      "7. Housing Expense Ratio:\n",
      "   - Estimated monthly mortgage payment / Monthly income: $1,123 / $6,250 = 18%\n",
      "\n",
      "Answer: Based on the analysis of John Doe's financial information, the risk assessment is Medium Risk. Here's the justification for this assessment:\n",
      "\n",
      "1. Income and Employment: John's income is solid, and his 5-year tenure as a Software Engineer demonstrates stability and potential for future income growth. This is a positive factor in the risk assessment.\n",
      "\n",
      "2. Credit Score: His credit score of 720 is good to very good, indicating responsible credit management and lowering the risk of default. This is another positive factor.\n",
      "\n",
      "3. Existing Debts: While John has existing debts, they are not excessive given his income and education level. The student loans suggest he has invested in his career, which is generally positive.\n",
      "\n",
      "4. Loan Amount: The $250,000 mortgage request is about 3.33 times his annual income, which is within typical guidelines but on the higher end. This increases the risk slightly.\n",
      "\n",
      "5. Debt-to-Income Ratio: The potential new DTI of 51.3% is concerning. Most lenders prefer a DTI of 43% or lower for qualified mortgages. This high DTI is a significant risk factor.\n",
      "\n",
      "6. Housing Expense Ratio: At 18%, this is within the typically acceptable range of under 28%, which is positive.\n",
      "\n",
      "7. Age and Career Stage: At 35, John is likely in a stable phase of his career in a field with good income potential, which mitigates some risk.\n",
      "\n",
      "While John has several positive factors, including a good credit score, stable employment, and a solid income, the high potential DTI is a significant concern. This suggests that a large portion of his income would be going towards debt payments, leaving little room for savings or unexpected expenses.\n",
      "\n",
      "Given these factors, John presents a medium risk. The lender might consider offering the loan with some conditions, such as:\n",
      "- Requiring a larger down payment to reduce the loan amount\n",
      "- Suggesting John pay down some of his existing debt before taking on the mortgage\n",
      "- Offering a slightly higher interest rate to compensate for the increased risk\n",
      "- Requiring additional assets or collateral to secure the loan\n",
      "\n",
      "The lender should also carefully verify John's income stability and potential for future earnings in his current role to ensure he can manage the significant debt load he would be taking on with this mortgage.\u001b[0m\n",
      "\n",
      "\n",
      "\n"
     ]
    }
   ],
   "source": [
    "prompt_used = worker.inspect_history(n=1)\n",
    "print(f\"Prompt used: {prompt_used}\")"
   ]
  },
  {
   "cell_type": "code",
   "execution_count": 29,
   "metadata": {},
   "outputs": [
    {
     "name": "stdout",
     "output_type": "stream",
     "text": [
      "[('assess_risk', Predict(StringSignature(question, applicant -> rationale, answer\n",
      "    instructions=\"Analyze the applicant's financial information and return a risk assessment.\"\n",
      "    question = Field(annotation=str required=True json_schema_extra={'__dspy_field_type': 'input', 'prefix': 'Question:', 'desc': '${question}'})\n",
      "    applicant = Field(annotation=str required=True json_schema_extra={'__dspy_field_type': 'input', 'prefix': 'Applicant:', 'desc': '${applicant}'})\n",
      "    rationale = Field(annotation=str required=True json_schema_extra={'prefix': \"Reasoning: Let's think step by step in order to\", 'desc': '${produce the answer}. We ...', '__dspy_field_type': 'output'})\n",
      "    answer = Field(annotation=str required=True json_schema_extra={'desc': '\\n                              A thorough risk analysis about the applicant, justifying the assessment \\n                              for each of the parameters considered from the applicant\\n                              ', '__dspy_field_type': 'output', 'prefix': 'Answer:'})\n",
      ")))]\n"
     ]
    }
   ],
   "source": [
    "bfs_optimized_advisor_adv_metrics.save('bfs_optimized_advisor_with_adv_metrics_compiled.json')"
   ]
  },
  {
   "cell_type": "markdown",
   "metadata": {},
   "source": [
    "## MIPRO"
   ]
  },
  {
   "cell_type": "code",
   "execution_count": 30,
   "metadata": {},
   "outputs": [],
   "source": [
    "from dspy.teleprompt import MIPROv2"
   ]
  },
  {
   "cell_type": "code",
   "execution_count": 47,
   "metadata": {},
   "outputs": [
    {
     "name": "stdout",
     "output_type": "stream",
     "text": [
      "\u001b[93m\u001b[1mProjected Language Model (LM) Calls\u001b[0m\n",
      "\n",
      "Please be advised that based on the parameters you have set, the maximum number of LM calls is projected as follows:\n",
      "\n",
      "\n",
      "\u001b[93m- Prompt Model: \u001b[94m\u001b[1m10\u001b[0m\u001b[93m data summarizer calls + \u001b[94m\u001b[1m10\u001b[0m\u001b[93m * \u001b[94m\u001b[1m1\u001b[0m\u001b[93m lm calls in program + (\u001b[94m\u001b[1m2\u001b[0m\u001b[93m) lm calls in program aware proposer = \u001b[94m\u001b[1m22\u001b[0m\u001b[93m prompt model calls\u001b[0m\n",
      "\u001b[93m- Task Model: \u001b[94m\u001b[1m21\u001b[0m\u001b[93m examples in val set * \u001b[94m\u001b[1m5\u001b[0m\u001b[93m batches * \u001b[94m\u001b[1m# of LM calls in your program\u001b[0m\u001b[93m = (\u001b[94m\u001b[1m30 * # of LM calls in your program\u001b[0m\u001b[93m) task model calls\u001b[0m\n",
      "\n",
      "\u001b[93m\u001b[1mEstimated Cost Calculation:\u001b[0m\n",
      "\n",
      "\u001b[93mTotal Cost = (Number of calls to task model * (Avg Input Token Length per Call * Task Model Price per Input Token + Avg Output Token Length per Call * Task Model Price per Output Token) \n",
      "            + (Number of calls to prompt model * (Avg Input Token Length per Call * Task Prompt Price per Input Token + Avg Output Token Length per Call * Prompt Model Price per Output Token).\u001b[0m\n",
      "\n",
      "For a preliminary estimate of potential costs, we recommend you perform your own calculations based on the task\n",
      "and prompt models you intend to use. If the projected costs exceed your budget or expectations, you may consider:\n",
      "\n",
      "\u001b[93m- Reducing the number of trials (`num_trials`), the size of the valset, or the number of LM calls in your program.\u001b[0m\n",
      "\u001b[93m- Using a cheaper task model to optimize the prompt.\u001b[0m\n",
      "\n",
      "To proceed with the execution of this program, please confirm by typing \u001b[94m'y'\u001b[0m for yes or \u001b[94m'n'\u001b[0m for no.\n",
      "\n",
      "If you would like to bypass this confirmation step in future executions, set the \u001b[93m`requires_permission_to_run`\u001b[0m flag to \u001b[93m`False`\u001b[0m when calling compile.\n",
      "\n",
      "\u001b[93mAwaiting your input...\u001b[0m\n",
      "\n",
      "Beginning MIPROv2 optimization process...\n",
      "\n",
      "==> STEP 1: BOOTSTRAP FEWSHOT EXAMPLES <==\n",
      "These will be used for as few-shot examples candidates for our program and for creating instructions.\n",
      "\n",
      "Bootstrapping N=10 sets of demonstrations...\n",
      "Bootstrapping set 1/10\n",
      "Bootstrapping set 2/10\n",
      "Bootstrapping set 3/10\n"
     ]
    },
    {
     "name": "stderr",
     "output_type": "stream",
     "text": [
      "  0%|          | 0/6 [00:00<?, ?it/s]"
     ]
    },
    {
     "data": {
      "application/vnd.jupyter.widget-view+json": {
       "model_id": "48585000781c41a1918f9e418bc0070e",
       "version_major": 2,
       "version_minor": 0
      },
      "text/plain": [
       "Output()"
      ]
     },
     "metadata": {},
     "output_type": "display_data"
    },
    {
     "data": {
      "text/html": [
       "<pre style=\"white-space:pre;overflow-x:auto;line-height:normal;font-family:Menlo,'DejaVu Sans Mono',consolas,'Courier New',monospace\"></pre>\n"
      ],
      "text/plain": []
     },
     "metadata": {},
     "output_type": "display_data"
    },
    {
     "data": {
      "application/vnd.jupyter.widget-view+json": {
       "model_id": "c90f20c2eec0479a8c077f588d78c1cb",
       "version_major": 2,
       "version_minor": 0
      },
      "text/plain": [
       "Output()"
      ]
     },
     "metadata": {},
     "output_type": "display_data"
    },
    {
     "data": {
      "text/html": [
       "<pre style=\"white-space:pre;overflow-x:auto;line-height:normal;font-family:Menlo,'DejaVu Sans Mono',consolas,'Courier New',monospace\"></pre>\n"
      ],
      "text/plain": []
     },
     "metadata": {},
     "output_type": "display_data"
    },
    {
     "data": {
      "application/vnd.jupyter.widget-view+json": {
       "model_id": "e23b82bba09948ac93cc5c0ce6a688af",
       "version_major": 2,
       "version_minor": 0
      },
      "text/plain": [
       "Output()"
      ]
     },
     "metadata": {},
     "output_type": "display_data"
    },
    {
     "data": {
      "text/html": [
       "<pre style=\"white-space:pre;overflow-x:auto;line-height:normal;font-family:Menlo,'DejaVu Sans Mono',consolas,'Courier New',monospace\"></pre>\n"
      ],
      "text/plain": []
     },
     "metadata": {},
     "output_type": "display_data"
    },
    {
     "name": "stderr",
     "output_type": "stream",
     "text": [
      " 17%|█▋        | 1/6 [00:13<01:09, 13.82s/it]"
     ]
    },
    {
     "data": {
      "application/vnd.jupyter.widget-view+json": {
       "model_id": "379d27cc3b724a169e5e2bde3a28d334",
       "version_major": 2,
       "version_minor": 0
      },
      "text/plain": [
       "Output()"
      ]
     },
     "metadata": {},
     "output_type": "display_data"
    },
    {
     "data": {
      "text/html": [
       "<pre style=\"white-space:pre;overflow-x:auto;line-height:normal;font-family:Menlo,'DejaVu Sans Mono',consolas,'Courier New',monospace\"></pre>\n"
      ],
      "text/plain": []
     },
     "metadata": {},
     "output_type": "display_data"
    },
    {
     "data": {
      "application/vnd.jupyter.widget-view+json": {
       "model_id": "e98eaa2e4c0b4ff19050dac00c3c3363",
       "version_major": 2,
       "version_minor": 0
      },
      "text/plain": [
       "Output()"
      ]
     },
     "metadata": {},
     "output_type": "display_data"
    },
    {
     "data": {
      "text/html": [
       "<pre style=\"white-space:pre;overflow-x:auto;line-height:normal;font-family:Menlo,'DejaVu Sans Mono',consolas,'Courier New',monospace\"></pre>\n"
      ],
      "text/plain": []
     },
     "metadata": {},
     "output_type": "display_data"
    },
    {
     "data": {
      "application/vnd.jupyter.widget-view+json": {
       "model_id": "d79e0d981d05499ea58f8d6ee9d175f0",
       "version_major": 2,
       "version_minor": 0
      },
      "text/plain": [
       "Output()"
      ]
     },
     "metadata": {},
     "output_type": "display_data"
    },
    {
     "data": {
      "text/html": [
       "<pre style=\"white-space:pre;overflow-x:auto;line-height:normal;font-family:Menlo,'DejaVu Sans Mono',consolas,'Courier New',monospace\"></pre>\n"
      ],
      "text/plain": []
     },
     "metadata": {},
     "output_type": "display_data"
    },
    {
     "name": "stderr",
     "output_type": "stream",
     "text": [
      " 33%|███▎      | 2/6 [00:23<00:45, 11.46s/it]"
     ]
    },
    {
     "data": {
      "application/vnd.jupyter.widget-view+json": {
       "model_id": "e714411131af4c82a87537482106ab3e",
       "version_major": 2,
       "version_minor": 0
      },
      "text/plain": [
       "Output()"
      ]
     },
     "metadata": {},
     "output_type": "display_data"
    },
    {
     "data": {
      "text/html": [
       "<pre style=\"white-space:pre;overflow-x:auto;line-height:normal;font-family:Menlo,'DejaVu Sans Mono',consolas,'Courier New',monospace\"></pre>\n"
      ],
      "text/plain": []
     },
     "metadata": {},
     "output_type": "display_data"
    },
    {
     "data": {
      "application/vnd.jupyter.widget-view+json": {
       "model_id": "02b5dad5e69b4708b7e712c6b0b50a7d",
       "version_major": 2,
       "version_minor": 0
      },
      "text/plain": [
       "Output()"
      ]
     },
     "metadata": {},
     "output_type": "display_data"
    },
    {
     "data": {
      "text/html": [
       "<pre style=\"white-space:pre;overflow-x:auto;line-height:normal;font-family:Menlo,'DejaVu Sans Mono',consolas,'Courier New',monospace\"></pre>\n"
      ],
      "text/plain": []
     },
     "metadata": {},
     "output_type": "display_data"
    },
    {
     "data": {
      "application/vnd.jupyter.widget-view+json": {
       "model_id": "9bb5078b50b44eb1907120d9e0060288",
       "version_major": 2,
       "version_minor": 0
      },
      "text/plain": [
       "Output()"
      ]
     },
     "metadata": {},
     "output_type": "display_data"
    },
    {
     "data": {
      "text/html": [
       "<pre style=\"white-space:pre;overflow-x:auto;line-height:normal;font-family:Menlo,'DejaVu Sans Mono',consolas,'Courier New',monospace\"></pre>\n"
      ],
      "text/plain": []
     },
     "metadata": {},
     "output_type": "display_data"
    },
    {
     "name": "stderr",
     "output_type": "stream",
     "text": [
      " 50%|█████     | 3/6 [00:45<00:49, 16.42s/it]"
     ]
    },
    {
     "data": {
      "application/vnd.jupyter.widget-view+json": {
       "model_id": "975e5f757598453398d6899b6d8333be",
       "version_major": 2,
       "version_minor": 0
      },
      "text/plain": [
       "Output()"
      ]
     },
     "metadata": {},
     "output_type": "display_data"
    },
    {
     "data": {
      "text/html": [
       "<pre style=\"white-space:pre;overflow-x:auto;line-height:normal;font-family:Menlo,'DejaVu Sans Mono',consolas,'Courier New',monospace\"></pre>\n"
      ],
      "text/plain": []
     },
     "metadata": {},
     "output_type": "display_data"
    },
    {
     "data": {
      "application/vnd.jupyter.widget-view+json": {
       "model_id": "e57b21cf9d714cf8a5070bfcbdf1593c",
       "version_major": 2,
       "version_minor": 0
      },
      "text/plain": [
       "Output()"
      ]
     },
     "metadata": {},
     "output_type": "display_data"
    },
    {
     "data": {
      "text/html": [
       "<pre style=\"white-space:pre;overflow-x:auto;line-height:normal;font-family:Menlo,'DejaVu Sans Mono',consolas,'Courier New',monospace\"></pre>\n"
      ],
      "text/plain": []
     },
     "metadata": {},
     "output_type": "display_data"
    },
    {
     "data": {
      "application/vnd.jupyter.widget-view+json": {
       "model_id": "c4136ce0c9d4413bbbcb47b7232d44b4",
       "version_major": 2,
       "version_minor": 0
      },
      "text/plain": [
       "Output()"
      ]
     },
     "metadata": {},
     "output_type": "display_data"
    },
    {
     "data": {
      "text/html": [
       "<pre style=\"white-space:pre;overflow-x:auto;line-height:normal;font-family:Menlo,'DejaVu Sans Mono',consolas,'Courier New',monospace\"></pre>\n"
      ],
      "text/plain": []
     },
     "metadata": {},
     "output_type": "display_data"
    },
    {
     "name": "stderr",
     "output_type": "stream",
     "text": [
      " 67%|██████▋   | 4/6 [01:08<00:37, 18.69s/it]"
     ]
    },
    {
     "data": {
      "application/vnd.jupyter.widget-view+json": {
       "model_id": "af4dc9f0f8c143f59ac836c9dfe374c9",
       "version_major": 2,
       "version_minor": 0
      },
      "text/plain": [
       "Output()"
      ]
     },
     "metadata": {},
     "output_type": "display_data"
    },
    {
     "data": {
      "text/html": [
       "<pre style=\"white-space:pre;overflow-x:auto;line-height:normal;font-family:Menlo,'DejaVu Sans Mono',consolas,'Courier New',monospace\"></pre>\n"
      ],
      "text/plain": []
     },
     "metadata": {},
     "output_type": "display_data"
    },
    {
     "data": {
      "application/vnd.jupyter.widget-view+json": {
       "model_id": "195afc3d8b0841bba4fe53ce5798a131",
       "version_major": 2,
       "version_minor": 0
      },
      "text/plain": [
       "Output()"
      ]
     },
     "metadata": {},
     "output_type": "display_data"
    },
    {
     "data": {
      "text/html": [
       "<pre style=\"white-space:pre;overflow-x:auto;line-height:normal;font-family:Menlo,'DejaVu Sans Mono',consolas,'Courier New',monospace\"></pre>\n"
      ],
      "text/plain": []
     },
     "metadata": {},
     "output_type": "display_data"
    },
    {
     "data": {
      "application/vnd.jupyter.widget-view+json": {
       "model_id": "9f08ad3b56cb4ac38d538ef86398de3b",
       "version_major": 2,
       "version_minor": 0
      },
      "text/plain": [
       "Output()"
      ]
     },
     "metadata": {},
     "output_type": "display_data"
    },
    {
     "data": {
      "text/html": [
       "<pre style=\"white-space:pre;overflow-x:auto;line-height:normal;font-family:Menlo,'DejaVu Sans Mono',consolas,'Courier New',monospace\"></pre>\n"
      ],
      "text/plain": []
     },
     "metadata": {},
     "output_type": "display_data"
    },
    {
     "name": "stderr",
     "output_type": "stream",
     "text": [
      " 83%|████████▎ | 5/6 [01:28<00:19, 19.42s/it]"
     ]
    },
    {
     "data": {
      "application/vnd.jupyter.widget-view+json": {
       "model_id": "b5a14e313530459eafc4ecd50da0e6eb",
       "version_major": 2,
       "version_minor": 0
      },
      "text/plain": [
       "Output()"
      ]
     },
     "metadata": {},
     "output_type": "display_data"
    },
    {
     "data": {
      "text/html": [
       "<pre style=\"white-space:pre;overflow-x:auto;line-height:normal;font-family:Menlo,'DejaVu Sans Mono',consolas,'Courier New',monospace\"></pre>\n"
      ],
      "text/plain": []
     },
     "metadata": {},
     "output_type": "display_data"
    },
    {
     "data": {
      "application/vnd.jupyter.widget-view+json": {
       "model_id": "0b3a686533d3415590f9268231c0a5cf",
       "version_major": 2,
       "version_minor": 0
      },
      "text/plain": [
       "Output()"
      ]
     },
     "metadata": {},
     "output_type": "display_data"
    },
    {
     "data": {
      "text/html": [
       "<pre style=\"white-space:pre;overflow-x:auto;line-height:normal;font-family:Menlo,'DejaVu Sans Mono',consolas,'Courier New',monospace\"></pre>\n"
      ],
      "text/plain": []
     },
     "metadata": {},
     "output_type": "display_data"
    },
    {
     "data": {
      "application/vnd.jupyter.widget-view+json": {
       "model_id": "a21d5cdc1e944d4ba2b461034a37f4b7",
       "version_major": 2,
       "version_minor": 0
      },
      "text/plain": [
       "Output()"
      ]
     },
     "metadata": {},
     "output_type": "display_data"
    },
    {
     "data": {
      "text/html": [
       "<pre style=\"white-space:pre;overflow-x:auto;line-height:normal;font-family:Menlo,'DejaVu Sans Mono',consolas,'Courier New',monospace\"></pre>\n"
      ],
      "text/plain": []
     },
     "metadata": {},
     "output_type": "display_data"
    },
    {
     "name": "stderr",
     "output_type": "stream",
     "text": [
      "100%|██████████| 6/6 [01:47<00:00, 17.84s/it]\n"
     ]
    },
    {
     "name": "stdout",
     "output_type": "stream",
     "text": [
      "Bootstrapped 0 full traces after 6 examples in round 0.\n",
      "Bootstrapping set 4/10\n"
     ]
    },
    {
     "name": "stderr",
     "output_type": "stream",
     "text": [
      "  0%|          | 0/6 [00:00<?, ?it/s]"
     ]
    },
    {
     "data": {
      "application/vnd.jupyter.widget-view+json": {
       "model_id": "21aad6dd39234354ae89a0dc29403534",
       "version_major": 2,
       "version_minor": 0
      },
      "text/plain": [
       "Output()"
      ]
     },
     "metadata": {},
     "output_type": "display_data"
    },
    {
     "data": {
      "text/html": [
       "<pre style=\"white-space:pre;overflow-x:auto;line-height:normal;font-family:Menlo,'DejaVu Sans Mono',consolas,'Courier New',monospace\"></pre>\n"
      ],
      "text/plain": []
     },
     "metadata": {},
     "output_type": "display_data"
    },
    {
     "data": {
      "application/vnd.jupyter.widget-view+json": {
       "model_id": "8d9c490ab2274bf98db63bd6f18d1cd1",
       "version_major": 2,
       "version_minor": 0
      },
      "text/plain": [
       "Output()"
      ]
     },
     "metadata": {},
     "output_type": "display_data"
    },
    {
     "data": {
      "text/html": [
       "<pre style=\"white-space:pre;overflow-x:auto;line-height:normal;font-family:Menlo,'DejaVu Sans Mono',consolas,'Courier New',monospace\"></pre>\n"
      ],
      "text/plain": []
     },
     "metadata": {},
     "output_type": "display_data"
    },
    {
     "data": {
      "application/vnd.jupyter.widget-view+json": {
       "model_id": "d3e5363292844ca9a38460c4344e09dc",
       "version_major": 2,
       "version_minor": 0
      },
      "text/plain": [
       "Output()"
      ]
     },
     "metadata": {},
     "output_type": "display_data"
    },
    {
     "data": {
      "text/html": [
       "<pre style=\"white-space:pre;overflow-x:auto;line-height:normal;font-family:Menlo,'DejaVu Sans Mono',consolas,'Courier New',monospace\"></pre>\n"
      ],
      "text/plain": []
     },
     "metadata": {},
     "output_type": "display_data"
    },
    {
     "name": "stderr",
     "output_type": "stream",
     "text": [
      " 17%|█▋        | 1/6 [00:10<00:53, 10.78s/it]"
     ]
    },
    {
     "data": {
      "application/vnd.jupyter.widget-view+json": {
       "model_id": "773e29504b594835b6b78c48099a76f0",
       "version_major": 2,
       "version_minor": 0
      },
      "text/plain": [
       "Output()"
      ]
     },
     "metadata": {},
     "output_type": "display_data"
    },
    {
     "data": {
      "text/html": [
       "<pre style=\"white-space:pre;overflow-x:auto;line-height:normal;font-family:Menlo,'DejaVu Sans Mono',consolas,'Courier New',monospace\"></pre>\n"
      ],
      "text/plain": []
     },
     "metadata": {},
     "output_type": "display_data"
    },
    {
     "data": {
      "application/vnd.jupyter.widget-view+json": {
       "model_id": "26e119cba2f34979b0a50b6fcd1ff4c8",
       "version_major": 2,
       "version_minor": 0
      },
      "text/plain": [
       "Output()"
      ]
     },
     "metadata": {},
     "output_type": "display_data"
    },
    {
     "data": {
      "text/html": [
       "<pre style=\"white-space:pre;overflow-x:auto;line-height:normal;font-family:Menlo,'DejaVu Sans Mono',consolas,'Courier New',monospace\"></pre>\n"
      ],
      "text/plain": []
     },
     "metadata": {},
     "output_type": "display_data"
    },
    {
     "data": {
      "application/vnd.jupyter.widget-view+json": {
       "model_id": "85dc9abc9c2e4541a80ee35a4cae996e",
       "version_major": 2,
       "version_minor": 0
      },
      "text/plain": [
       "Output()"
      ]
     },
     "metadata": {},
     "output_type": "display_data"
    },
    {
     "data": {
      "text/html": [
       "<pre style=\"white-space:pre;overflow-x:auto;line-height:normal;font-family:Menlo,'DejaVu Sans Mono',consolas,'Courier New',monospace\"></pre>\n"
      ],
      "text/plain": []
     },
     "metadata": {},
     "output_type": "display_data"
    },
    {
     "name": "stderr",
     "output_type": "stream",
     "text": [
      " 33%|███▎      | 2/6 [00:23<00:46, 11.69s/it]"
     ]
    },
    {
     "data": {
      "application/vnd.jupyter.widget-view+json": {
       "model_id": "561e6c7087d74410a14eb420535560ef",
       "version_major": 2,
       "version_minor": 0
      },
      "text/plain": [
       "Output()"
      ]
     },
     "metadata": {},
     "output_type": "display_data"
    },
    {
     "data": {
      "text/html": [
       "<pre style=\"white-space:pre;overflow-x:auto;line-height:normal;font-family:Menlo,'DejaVu Sans Mono',consolas,'Courier New',monospace\"></pre>\n"
      ],
      "text/plain": []
     },
     "metadata": {},
     "output_type": "display_data"
    },
    {
     "data": {
      "application/vnd.jupyter.widget-view+json": {
       "model_id": "9dea547d998b4a41bdcee6773e9244bb",
       "version_major": 2,
       "version_minor": 0
      },
      "text/plain": [
       "Output()"
      ]
     },
     "metadata": {},
     "output_type": "display_data"
    },
    {
     "data": {
      "text/html": [
       "<pre style=\"white-space:pre;overflow-x:auto;line-height:normal;font-family:Menlo,'DejaVu Sans Mono',consolas,'Courier New',monospace\"></pre>\n"
      ],
      "text/plain": []
     },
     "metadata": {},
     "output_type": "display_data"
    },
    {
     "data": {
      "application/vnd.jupyter.widget-view+json": {
       "model_id": "c09daf9c958749f490e992f9b4dbf250",
       "version_major": 2,
       "version_minor": 0
      },
      "text/plain": [
       "Output()"
      ]
     },
     "metadata": {},
     "output_type": "display_data"
    },
    {
     "data": {
      "text/html": [
       "<pre style=\"white-space:pre;overflow-x:auto;line-height:normal;font-family:Menlo,'DejaVu Sans Mono',consolas,'Courier New',monospace\"></pre>\n"
      ],
      "text/plain": []
     },
     "metadata": {},
     "output_type": "display_data"
    },
    {
     "name": "stderr",
     "output_type": "stream",
     "text": [
      " 50%|█████     | 3/6 [00:42<00:45, 15.17s/it]"
     ]
    },
    {
     "data": {
      "application/vnd.jupyter.widget-view+json": {
       "model_id": "065f81568e694f1db4ef27df812fa756",
       "version_major": 2,
       "version_minor": 0
      },
      "text/plain": [
       "Output()"
      ]
     },
     "metadata": {},
     "output_type": "display_data"
    },
    {
     "data": {
      "text/html": [
       "<pre style=\"white-space:pre;overflow-x:auto;line-height:normal;font-family:Menlo,'DejaVu Sans Mono',consolas,'Courier New',monospace\"></pre>\n"
      ],
      "text/plain": []
     },
     "metadata": {},
     "output_type": "display_data"
    },
    {
     "data": {
      "application/vnd.jupyter.widget-view+json": {
       "model_id": "fc4a151f98f44a01aad4e0e67279bc95",
       "version_major": 2,
       "version_minor": 0
      },
      "text/plain": [
       "Output()"
      ]
     },
     "metadata": {},
     "output_type": "display_data"
    },
    {
     "data": {
      "text/html": [
       "<pre style=\"white-space:pre;overflow-x:auto;line-height:normal;font-family:Menlo,'DejaVu Sans Mono',consolas,'Courier New',monospace\"></pre>\n"
      ],
      "text/plain": []
     },
     "metadata": {},
     "output_type": "display_data"
    },
    {
     "data": {
      "application/vnd.jupyter.widget-view+json": {
       "model_id": "ed544d977e21462cb0a0e8f439053e25",
       "version_major": 2,
       "version_minor": 0
      },
      "text/plain": [
       "Output()"
      ]
     },
     "metadata": {},
     "output_type": "display_data"
    },
    {
     "data": {
      "text/html": [
       "<pre style=\"white-space:pre;overflow-x:auto;line-height:normal;font-family:Menlo,'DejaVu Sans Mono',consolas,'Courier New',monospace\"></pre>\n"
      ],
      "text/plain": []
     },
     "metadata": {},
     "output_type": "display_data"
    },
    {
     "name": "stderr",
     "output_type": "stream",
     "text": [
      " 67%|██████▋   | 4/6 [01:02<00:34, 17.16s/it]"
     ]
    },
    {
     "data": {
      "application/vnd.jupyter.widget-view+json": {
       "model_id": "f08f6b43d99241128e4e2263c88dd774",
       "version_major": 2,
       "version_minor": 0
      },
      "text/plain": [
       "Output()"
      ]
     },
     "metadata": {},
     "output_type": "display_data"
    },
    {
     "data": {
      "text/html": [
       "<pre style=\"white-space:pre;overflow-x:auto;line-height:normal;font-family:Menlo,'DejaVu Sans Mono',consolas,'Courier New',monospace\"></pre>\n"
      ],
      "text/plain": []
     },
     "metadata": {},
     "output_type": "display_data"
    },
    {
     "data": {
      "application/vnd.jupyter.widget-view+json": {
       "model_id": "0ea1dc365d424e76a7d1cc6711a15c9e",
       "version_major": 2,
       "version_minor": 0
      },
      "text/plain": [
       "Output()"
      ]
     },
     "metadata": {},
     "output_type": "display_data"
    },
    {
     "data": {
      "text/html": [
       "<pre style=\"white-space:pre;overflow-x:auto;line-height:normal;font-family:Menlo,'DejaVu Sans Mono',consolas,'Courier New',monospace\"></pre>\n"
      ],
      "text/plain": []
     },
     "metadata": {},
     "output_type": "display_data"
    },
    {
     "data": {
      "application/vnd.jupyter.widget-view+json": {
       "model_id": "4842d9c686994281b76679601a8feaeb",
       "version_major": 2,
       "version_minor": 0
      },
      "text/plain": [
       "Output()"
      ]
     },
     "metadata": {},
     "output_type": "display_data"
    },
    {
     "data": {
      "text/html": [
       "<pre style=\"white-space:pre;overflow-x:auto;line-height:normal;font-family:Menlo,'DejaVu Sans Mono',consolas,'Courier New',monospace\"></pre>\n"
      ],
      "text/plain": []
     },
     "metadata": {},
     "output_type": "display_data"
    },
    {
     "name": "stderr",
     "output_type": "stream",
     "text": [
      " 83%|████████▎ | 5/6 [01:28<00:20, 20.44s/it]"
     ]
    },
    {
     "data": {
      "application/vnd.jupyter.widget-view+json": {
       "model_id": "31915c30c5db441985999271de52d5ae",
       "version_major": 2,
       "version_minor": 0
      },
      "text/plain": [
       "Output()"
      ]
     },
     "metadata": {},
     "output_type": "display_data"
    },
    {
     "data": {
      "text/html": [
       "<pre style=\"white-space:pre;overflow-x:auto;line-height:normal;font-family:Menlo,'DejaVu Sans Mono',consolas,'Courier New',monospace\"></pre>\n"
      ],
      "text/plain": []
     },
     "metadata": {},
     "output_type": "display_data"
    },
    {
     "data": {
      "application/vnd.jupyter.widget-view+json": {
       "model_id": "148a319b71ec4614a0010ff4a2296bfa",
       "version_major": 2,
       "version_minor": 0
      },
      "text/plain": [
       "Output()"
      ]
     },
     "metadata": {},
     "output_type": "display_data"
    },
    {
     "data": {
      "text/html": [
       "<pre style=\"white-space:pre;overflow-x:auto;line-height:normal;font-family:Menlo,'DejaVu Sans Mono',consolas,'Courier New',monospace\"></pre>\n"
      ],
      "text/plain": []
     },
     "metadata": {},
     "output_type": "display_data"
    },
    {
     "data": {
      "application/vnd.jupyter.widget-view+json": {
       "model_id": "79d5b7730f0b4c72a5ef83adc80d9a3d",
       "version_major": 2,
       "version_minor": 0
      },
      "text/plain": [
       "Output()"
      ]
     },
     "metadata": {},
     "output_type": "display_data"
    },
    {
     "data": {
      "text/html": [
       "<pre style=\"white-space:pre;overflow-x:auto;line-height:normal;font-family:Menlo,'DejaVu Sans Mono',consolas,'Courier New',monospace\"></pre>\n"
      ],
      "text/plain": []
     },
     "metadata": {},
     "output_type": "display_data"
    },
    {
     "name": "stderr",
     "output_type": "stream",
     "text": [
      "100%|██████████| 6/6 [01:50<00:00, 18.43s/it]\n"
     ]
    },
    {
     "name": "stdout",
     "output_type": "stream",
     "text": [
      "Bootstrapped 0 full traces after 6 examples in round 0.\n",
      "Bootstrapping set 5/10\n"
     ]
    },
    {
     "name": "stderr",
     "output_type": "stream",
     "text": [
      "  0%|          | 0/6 [00:00<?, ?it/s]"
     ]
    },
    {
     "data": {
      "application/vnd.jupyter.widget-view+json": {
       "model_id": "720a3f884b2346679c0fdfabdf3e3ee5",
       "version_major": 2,
       "version_minor": 0
      },
      "text/plain": [
       "Output()"
      ]
     },
     "metadata": {},
     "output_type": "display_data"
    },
    {
     "data": {
      "text/html": [
       "<pre style=\"white-space:pre;overflow-x:auto;line-height:normal;font-family:Menlo,'DejaVu Sans Mono',consolas,'Courier New',monospace\"></pre>\n"
      ],
      "text/plain": []
     },
     "metadata": {},
     "output_type": "display_data"
    },
    {
     "data": {
      "application/vnd.jupyter.widget-view+json": {
       "model_id": "a8ad8c0726284da09bbea4e809e43ea4",
       "version_major": 2,
       "version_minor": 0
      },
      "text/plain": [
       "Output()"
      ]
     },
     "metadata": {},
     "output_type": "display_data"
    },
    {
     "data": {
      "text/html": [
       "<pre style=\"white-space:pre;overflow-x:auto;line-height:normal;font-family:Menlo,'DejaVu Sans Mono',consolas,'Courier New',monospace\"></pre>\n"
      ],
      "text/plain": []
     },
     "metadata": {},
     "output_type": "display_data"
    },
    {
     "data": {
      "application/vnd.jupyter.widget-view+json": {
       "model_id": "83dbfb47eb43402da1d7de3e25afed01",
       "version_major": 2,
       "version_minor": 0
      },
      "text/plain": [
       "Output()"
      ]
     },
     "metadata": {},
     "output_type": "display_data"
    },
    {
     "data": {
      "text/html": [
       "<pre style=\"white-space:pre;overflow-x:auto;line-height:normal;font-family:Menlo,'DejaVu Sans Mono',consolas,'Courier New',monospace\"></pre>\n"
      ],
      "text/plain": []
     },
     "metadata": {},
     "output_type": "display_data"
    },
    {
     "name": "stderr",
     "output_type": "stream",
     "text": [
      " 17%|█▋        | 1/6 [00:13<01:06, 13.30s/it]\n"
     ]
    },
    {
     "name": "stdout",
     "output_type": "stream",
     "text": [
      "Bootstrapped 1 full traces after 2 examples in round 0.\n",
      "Bootstrapping set 6/10\n"
     ]
    },
    {
     "name": "stderr",
     "output_type": "stream",
     "text": [
      "  0%|          | 0/6 [00:00<?, ?it/s]"
     ]
    },
    {
     "data": {
      "application/vnd.jupyter.widget-view+json": {
       "model_id": "e6a79455baed4086bd2ab7b316fda96b",
       "version_major": 2,
       "version_minor": 0
      },
      "text/plain": [
       "Output()"
      ]
     },
     "metadata": {},
     "output_type": "display_data"
    },
    {
     "data": {
      "text/html": [
       "<pre style=\"white-space:pre;overflow-x:auto;line-height:normal;font-family:Menlo,'DejaVu Sans Mono',consolas,'Courier New',monospace\"></pre>\n"
      ],
      "text/plain": []
     },
     "metadata": {},
     "output_type": "display_data"
    },
    {
     "data": {
      "application/vnd.jupyter.widget-view+json": {
       "model_id": "0e5c7429b83a49bf92603ca49312be4b",
       "version_major": 2,
       "version_minor": 0
      },
      "text/plain": [
       "Output()"
      ]
     },
     "metadata": {},
     "output_type": "display_data"
    },
    {
     "data": {
      "text/html": [
       "<pre style=\"white-space:pre;overflow-x:auto;line-height:normal;font-family:Menlo,'DejaVu Sans Mono',consolas,'Courier New',monospace\"></pre>\n"
      ],
      "text/plain": []
     },
     "metadata": {},
     "output_type": "display_data"
    },
    {
     "data": {
      "application/vnd.jupyter.widget-view+json": {
       "model_id": "c7f0fd844697486ea3a3e12ac1e4e74a",
       "version_major": 2,
       "version_minor": 0
      },
      "text/plain": [
       "Output()"
      ]
     },
     "metadata": {},
     "output_type": "display_data"
    },
    {
     "data": {
      "text/html": [
       "<pre style=\"white-space:pre;overflow-x:auto;line-height:normal;font-family:Menlo,'DejaVu Sans Mono',consolas,'Courier New',monospace\"></pre>\n"
      ],
      "text/plain": []
     },
     "metadata": {},
     "output_type": "display_data"
    },
    {
     "name": "stderr",
     "output_type": "stream",
     "text": [
      " 17%|█▋        | 1/6 [00:08<00:42,  8.49s/it]\n"
     ]
    },
    {
     "name": "stdout",
     "output_type": "stream",
     "text": [
      "Bootstrapped 1 full traces after 2 examples in round 0.\n",
      "Bootstrapping set 7/10\n"
     ]
    },
    {
     "name": "stderr",
     "output_type": "stream",
     "text": [
      "  0%|          | 0/6 [00:00<?, ?it/s]"
     ]
    },
    {
     "data": {
      "application/vnd.jupyter.widget-view+json": {
       "model_id": "194cb24c869340d0aa15874940c1e649",
       "version_major": 2,
       "version_minor": 0
      },
      "text/plain": [
       "Output()"
      ]
     },
     "metadata": {},
     "output_type": "display_data"
    },
    {
     "data": {
      "text/html": [
       "<pre style=\"white-space:pre;overflow-x:auto;line-height:normal;font-family:Menlo,'DejaVu Sans Mono',consolas,'Courier New',monospace\"></pre>\n"
      ],
      "text/plain": []
     },
     "metadata": {},
     "output_type": "display_data"
    },
    {
     "data": {
      "application/vnd.jupyter.widget-view+json": {
       "model_id": "247100528cfc422aa857d4098160c757",
       "version_major": 2,
       "version_minor": 0
      },
      "text/plain": [
       "Output()"
      ]
     },
     "metadata": {},
     "output_type": "display_data"
    },
    {
     "data": {
      "text/html": [
       "<pre style=\"white-space:pre;overflow-x:auto;line-height:normal;font-family:Menlo,'DejaVu Sans Mono',consolas,'Courier New',monospace\"></pre>\n"
      ],
      "text/plain": []
     },
     "metadata": {},
     "output_type": "display_data"
    },
    {
     "data": {
      "application/vnd.jupyter.widget-view+json": {
       "model_id": "b7e4f22286e540bd9368424f988f91e6",
       "version_major": 2,
       "version_minor": 0
      },
      "text/plain": [
       "Output()"
      ]
     },
     "metadata": {},
     "output_type": "display_data"
    },
    {
     "data": {
      "text/html": [
       "<pre style=\"white-space:pre;overflow-x:auto;line-height:normal;font-family:Menlo,'DejaVu Sans Mono',consolas,'Courier New',monospace\"></pre>\n"
      ],
      "text/plain": []
     },
     "metadata": {},
     "output_type": "display_data"
    },
    {
     "name": "stderr",
     "output_type": "stream",
     "text": [
      " 17%|█▋        | 1/6 [00:16<01:20, 16.15s/it]"
     ]
    },
    {
     "data": {
      "application/vnd.jupyter.widget-view+json": {
       "model_id": "392ff5a67035459c825599f292ccfdf0",
       "version_major": 2,
       "version_minor": 0
      },
      "text/plain": [
       "Output()"
      ]
     },
     "metadata": {},
     "output_type": "display_data"
    },
    {
     "data": {
      "text/html": [
       "<pre style=\"white-space:pre;overflow-x:auto;line-height:normal;font-family:Menlo,'DejaVu Sans Mono',consolas,'Courier New',monospace\"></pre>\n"
      ],
      "text/plain": []
     },
     "metadata": {},
     "output_type": "display_data"
    },
    {
     "data": {
      "application/vnd.jupyter.widget-view+json": {
       "model_id": "aa3172ab6d4c4644a20473b1e39942ea",
       "version_major": 2,
       "version_minor": 0
      },
      "text/plain": [
       "Output()"
      ]
     },
     "metadata": {},
     "output_type": "display_data"
    },
    {
     "data": {
      "text/html": [
       "<pre style=\"white-space:pre;overflow-x:auto;line-height:normal;font-family:Menlo,'DejaVu Sans Mono',consolas,'Courier New',monospace\"></pre>\n"
      ],
      "text/plain": []
     },
     "metadata": {},
     "output_type": "display_data"
    },
    {
     "data": {
      "application/vnd.jupyter.widget-view+json": {
       "model_id": "b7107aef8ffe48239085a4d7d66a2fef",
       "version_major": 2,
       "version_minor": 0
      },
      "text/plain": [
       "Output()"
      ]
     },
     "metadata": {},
     "output_type": "display_data"
    },
    {
     "data": {
      "text/html": [
       "<pre style=\"white-space:pre;overflow-x:auto;line-height:normal;font-family:Menlo,'DejaVu Sans Mono',consolas,'Courier New',monospace\"></pre>\n"
      ],
      "text/plain": []
     },
     "metadata": {},
     "output_type": "display_data"
    },
    {
     "name": "stderr",
     "output_type": "stream",
     "text": [
      " 33%|███▎      | 2/6 [00:34<01:08, 17.06s/it]\n"
     ]
    },
    {
     "name": "stdout",
     "output_type": "stream",
     "text": [
      "Bootstrapped 1 full traces after 3 examples in round 0.\n",
      "Bootstrapping set 8/10\n"
     ]
    },
    {
     "name": "stderr",
     "output_type": "stream",
     "text": [
      "  0%|          | 0/6 [00:00<?, ?it/s]"
     ]
    },
    {
     "data": {
      "application/vnd.jupyter.widget-view+json": {
       "model_id": "2c23a794d4d149a48164a93d98be209d",
       "version_major": 2,
       "version_minor": 0
      },
      "text/plain": [
       "Output()"
      ]
     },
     "metadata": {},
     "output_type": "display_data"
    },
    {
     "data": {
      "text/html": [
       "<pre style=\"white-space:pre;overflow-x:auto;line-height:normal;font-family:Menlo,'DejaVu Sans Mono',consolas,'Courier New',monospace\"></pre>\n"
      ],
      "text/plain": []
     },
     "metadata": {},
     "output_type": "display_data"
    },
    {
     "data": {
      "application/vnd.jupyter.widget-view+json": {
       "model_id": "a39731c4aabb450888229a00e9535aa8",
       "version_major": 2,
       "version_minor": 0
      },
      "text/plain": [
       "Output()"
      ]
     },
     "metadata": {},
     "output_type": "display_data"
    },
    {
     "data": {
      "text/html": [
       "<pre style=\"white-space:pre;overflow-x:auto;line-height:normal;font-family:Menlo,'DejaVu Sans Mono',consolas,'Courier New',monospace\"></pre>\n"
      ],
      "text/plain": []
     },
     "metadata": {},
     "output_type": "display_data"
    },
    {
     "data": {
      "application/vnd.jupyter.widget-view+json": {
       "model_id": "8e7e03b960694985a2c4b543eab0fa09",
       "version_major": 2,
       "version_minor": 0
      },
      "text/plain": [
       "Output()"
      ]
     },
     "metadata": {},
     "output_type": "display_data"
    },
    {
     "data": {
      "text/html": [
       "<pre style=\"white-space:pre;overflow-x:auto;line-height:normal;font-family:Menlo,'DejaVu Sans Mono',consolas,'Courier New',monospace\"></pre>\n"
      ],
      "text/plain": []
     },
     "metadata": {},
     "output_type": "display_data"
    },
    {
     "name": "stderr",
     "output_type": "stream",
     "text": [
      " 17%|█▋        | 1/6 [00:12<01:03, 12.79s/it]"
     ]
    },
    {
     "data": {
      "application/vnd.jupyter.widget-view+json": {
       "model_id": "35874111d60440a880e8695b7d0e253c",
       "version_major": 2,
       "version_minor": 0
      },
      "text/plain": [
       "Output()"
      ]
     },
     "metadata": {},
     "output_type": "display_data"
    },
    {
     "data": {
      "text/html": [
       "<pre style=\"white-space:pre;overflow-x:auto;line-height:normal;font-family:Menlo,'DejaVu Sans Mono',consolas,'Courier New',monospace\"></pre>\n"
      ],
      "text/plain": []
     },
     "metadata": {},
     "output_type": "display_data"
    },
    {
     "data": {
      "application/vnd.jupyter.widget-view+json": {
       "model_id": "c5e2d1c77e1448d0922822e2a7817e45",
       "version_major": 2,
       "version_minor": 0
      },
      "text/plain": [
       "Output()"
      ]
     },
     "metadata": {},
     "output_type": "display_data"
    },
    {
     "data": {
      "text/html": [
       "<pre style=\"white-space:pre;overflow-x:auto;line-height:normal;font-family:Menlo,'DejaVu Sans Mono',consolas,'Courier New',monospace\"></pre>\n"
      ],
      "text/plain": []
     },
     "metadata": {},
     "output_type": "display_data"
    },
    {
     "data": {
      "application/vnd.jupyter.widget-view+json": {
       "model_id": "54eff5cfdf1540a1aea1f86cbdc60e88",
       "version_major": 2,
       "version_minor": 0
      },
      "text/plain": [
       "Output()"
      ]
     },
     "metadata": {},
     "output_type": "display_data"
    },
    {
     "data": {
      "text/html": [
       "<pre style=\"white-space:pre;overflow-x:auto;line-height:normal;font-family:Menlo,'DejaVu Sans Mono',consolas,'Courier New',monospace\"></pre>\n"
      ],
      "text/plain": []
     },
     "metadata": {},
     "output_type": "display_data"
    },
    {
     "name": "stderr",
     "output_type": "stream",
     "text": [
      " 33%|███▎      | 2/6 [00:37<01:20, 20.02s/it]"
     ]
    },
    {
     "data": {
      "application/vnd.jupyter.widget-view+json": {
       "model_id": "58e14106091d4491a68a974e8b55f825",
       "version_major": 2,
       "version_minor": 0
      },
      "text/plain": [
       "Output()"
      ]
     },
     "metadata": {},
     "output_type": "display_data"
    },
    {
     "data": {
      "text/html": [
       "<pre style=\"white-space:pre;overflow-x:auto;line-height:normal;font-family:Menlo,'DejaVu Sans Mono',consolas,'Courier New',monospace\"></pre>\n"
      ],
      "text/plain": []
     },
     "metadata": {},
     "output_type": "display_data"
    },
    {
     "data": {
      "application/vnd.jupyter.widget-view+json": {
       "model_id": "4e267aa76d6d482aadce8ae358753b1b",
       "version_major": 2,
       "version_minor": 0
      },
      "text/plain": [
       "Output()"
      ]
     },
     "metadata": {},
     "output_type": "display_data"
    },
    {
     "data": {
      "text/html": [
       "<pre style=\"white-space:pre;overflow-x:auto;line-height:normal;font-family:Menlo,'DejaVu Sans Mono',consolas,'Courier New',monospace\"></pre>\n"
      ],
      "text/plain": []
     },
     "metadata": {},
     "output_type": "display_data"
    },
    {
     "data": {
      "application/vnd.jupyter.widget-view+json": {
       "model_id": "15a4481a2e0c47869fbd1283d86fec5f",
       "version_major": 2,
       "version_minor": 0
      },
      "text/plain": [
       "Output()"
      ]
     },
     "metadata": {},
     "output_type": "display_data"
    },
    {
     "data": {
      "text/html": [
       "<pre style=\"white-space:pre;overflow-x:auto;line-height:normal;font-family:Menlo,'DejaVu Sans Mono',consolas,'Courier New',monospace\"></pre>\n"
      ],
      "text/plain": []
     },
     "metadata": {},
     "output_type": "display_data"
    },
    {
     "name": "stderr",
     "output_type": "stream",
     "text": [
      " 50%|█████     | 3/6 [00:55<00:55, 18.60s/it]\n"
     ]
    },
    {
     "name": "stdout",
     "output_type": "stream",
     "text": [
      "Bootstrapped 1 full traces after 4 examples in round 0.\n",
      "Bootstrapping set 9/10\n"
     ]
    },
    {
     "name": "stderr",
     "output_type": "stream",
     "text": [
      "  0%|          | 0/6 [00:00<?, ?it/s]"
     ]
    },
    {
     "data": {
      "application/vnd.jupyter.widget-view+json": {
       "model_id": "f956e4b0a1aa4c5e9ecf7f58a0c02f16",
       "version_major": 2,
       "version_minor": 0
      },
      "text/plain": [
       "Output()"
      ]
     },
     "metadata": {},
     "output_type": "display_data"
    },
    {
     "data": {
      "text/html": [
       "<pre style=\"white-space:pre;overflow-x:auto;line-height:normal;font-family:Menlo,'DejaVu Sans Mono',consolas,'Courier New',monospace\"></pre>\n"
      ],
      "text/plain": []
     },
     "metadata": {},
     "output_type": "display_data"
    },
    {
     "data": {
      "application/vnd.jupyter.widget-view+json": {
       "model_id": "4c527177d80d43c0b30052265bd572da",
       "version_major": 2,
       "version_minor": 0
      },
      "text/plain": [
       "Output()"
      ]
     },
     "metadata": {},
     "output_type": "display_data"
    },
    {
     "data": {
      "text/html": [
       "<pre style=\"white-space:pre;overflow-x:auto;line-height:normal;font-family:Menlo,'DejaVu Sans Mono',consolas,'Courier New',monospace\"></pre>\n"
      ],
      "text/plain": []
     },
     "metadata": {},
     "output_type": "display_data"
    },
    {
     "data": {
      "application/vnd.jupyter.widget-view+json": {
       "model_id": "d45e3cd7a57d4317ae4729033b4c9feb",
       "version_major": 2,
       "version_minor": 0
      },
      "text/plain": [
       "Output()"
      ]
     },
     "metadata": {},
     "output_type": "display_data"
    },
    {
     "data": {
      "text/html": [
       "<pre style=\"white-space:pre;overflow-x:auto;line-height:normal;font-family:Menlo,'DejaVu Sans Mono',consolas,'Courier New',monospace\"></pre>\n"
      ],
      "text/plain": []
     },
     "metadata": {},
     "output_type": "display_data"
    },
    {
     "name": "stderr",
     "output_type": "stream",
     "text": [
      " 17%|█▋        | 1/6 [00:12<01:02, 12.56s/it]"
     ]
    },
    {
     "data": {
      "application/vnd.jupyter.widget-view+json": {
       "model_id": "93676c1cca7d4a28bf71d851c37e5286",
       "version_major": 2,
       "version_minor": 0
      },
      "text/plain": [
       "Output()"
      ]
     },
     "metadata": {},
     "output_type": "display_data"
    },
    {
     "data": {
      "text/html": [
       "<pre style=\"white-space:pre;overflow-x:auto;line-height:normal;font-family:Menlo,'DejaVu Sans Mono',consolas,'Courier New',monospace\"></pre>\n"
      ],
      "text/plain": []
     },
     "metadata": {},
     "output_type": "display_data"
    },
    {
     "data": {
      "application/vnd.jupyter.widget-view+json": {
       "model_id": "f29d73c54c2f401a9e7e347dc7ccd96b",
       "version_major": 2,
       "version_minor": 0
      },
      "text/plain": [
       "Output()"
      ]
     },
     "metadata": {},
     "output_type": "display_data"
    },
    {
     "data": {
      "text/html": [
       "<pre style=\"white-space:pre;overflow-x:auto;line-height:normal;font-family:Menlo,'DejaVu Sans Mono',consolas,'Courier New',monospace\"></pre>\n"
      ],
      "text/plain": []
     },
     "metadata": {},
     "output_type": "display_data"
    },
    {
     "data": {
      "application/vnd.jupyter.widget-view+json": {
       "model_id": "f2fb9a9a81b641a6bff46990360d72ff",
       "version_major": 2,
       "version_minor": 0
      },
      "text/plain": [
       "Output()"
      ]
     },
     "metadata": {},
     "output_type": "display_data"
    },
    {
     "data": {
      "text/html": [
       "<pre style=\"white-space:pre;overflow-x:auto;line-height:normal;font-family:Menlo,'DejaVu Sans Mono',consolas,'Courier New',monospace\"></pre>\n"
      ],
      "text/plain": []
     },
     "metadata": {},
     "output_type": "display_data"
    },
    {
     "name": "stderr",
     "output_type": "stream",
     "text": [
      " 33%|███▎      | 2/6 [00:23<00:47, 11.81s/it]"
     ]
    },
    {
     "data": {
      "application/vnd.jupyter.widget-view+json": {
       "model_id": "5ca0992a4d0a49c095229cbb49defdf6",
       "version_major": 2,
       "version_minor": 0
      },
      "text/plain": [
       "Output()"
      ]
     },
     "metadata": {},
     "output_type": "display_data"
    },
    {
     "data": {
      "text/html": [
       "<pre style=\"white-space:pre;overflow-x:auto;line-height:normal;font-family:Menlo,'DejaVu Sans Mono',consolas,'Courier New',monospace\"></pre>\n"
      ],
      "text/plain": []
     },
     "metadata": {},
     "output_type": "display_data"
    },
    {
     "data": {
      "application/vnd.jupyter.widget-view+json": {
       "model_id": "8e781635541744c2a3a9dd3d3ec242ec",
       "version_major": 2,
       "version_minor": 0
      },
      "text/plain": [
       "Output()"
      ]
     },
     "metadata": {},
     "output_type": "display_data"
    },
    {
     "data": {
      "text/html": [
       "<pre style=\"white-space:pre;overflow-x:auto;line-height:normal;font-family:Menlo,'DejaVu Sans Mono',consolas,'Courier New',monospace\"></pre>\n"
      ],
      "text/plain": []
     },
     "metadata": {},
     "output_type": "display_data"
    },
    {
     "data": {
      "application/vnd.jupyter.widget-view+json": {
       "model_id": "ee4d7ace21694e4ea24ba92ba0a3dd76",
       "version_major": 2,
       "version_minor": 0
      },
      "text/plain": [
       "Output()"
      ]
     },
     "metadata": {},
     "output_type": "display_data"
    },
    {
     "data": {
      "text/html": [
       "<pre style=\"white-space:pre;overflow-x:auto;line-height:normal;font-family:Menlo,'DejaVu Sans Mono',consolas,'Courier New',monospace\"></pre>\n"
      ],
      "text/plain": []
     },
     "metadata": {},
     "output_type": "display_data"
    },
    {
     "name": "stderr",
     "output_type": "stream",
     "text": [
      " 50%|█████     | 3/6 [00:46<00:50, 16.68s/it]"
     ]
    },
    {
     "data": {
      "application/vnd.jupyter.widget-view+json": {
       "model_id": "38f51b877c3d4eb4a6e9648464b2aaa0",
       "version_major": 2,
       "version_minor": 0
      },
      "text/plain": [
       "Output()"
      ]
     },
     "metadata": {},
     "output_type": "display_data"
    },
    {
     "data": {
      "text/html": [
       "<pre style=\"white-space:pre;overflow-x:auto;line-height:normal;font-family:Menlo,'DejaVu Sans Mono',consolas,'Courier New',monospace\"></pre>\n"
      ],
      "text/plain": []
     },
     "metadata": {},
     "output_type": "display_data"
    },
    {
     "data": {
      "application/vnd.jupyter.widget-view+json": {
       "model_id": "a4e239440c51495db2f14d0a67f08277",
       "version_major": 2,
       "version_minor": 0
      },
      "text/plain": [
       "Output()"
      ]
     },
     "metadata": {},
     "output_type": "display_data"
    },
    {
     "data": {
      "text/html": [
       "<pre style=\"white-space:pre;overflow-x:auto;line-height:normal;font-family:Menlo,'DejaVu Sans Mono',consolas,'Courier New',monospace\"></pre>\n"
      ],
      "text/plain": []
     },
     "metadata": {},
     "output_type": "display_data"
    },
    {
     "data": {
      "application/vnd.jupyter.widget-view+json": {
       "model_id": "c7b801b6d69d4d6fa21e5eb66f4038dd",
       "version_major": 2,
       "version_minor": 0
      },
      "text/plain": [
       "Output()"
      ]
     },
     "metadata": {},
     "output_type": "display_data"
    },
    {
     "data": {
      "text/html": [
       "<pre style=\"white-space:pre;overflow-x:auto;line-height:normal;font-family:Menlo,'DejaVu Sans Mono',consolas,'Courier New',monospace\"></pre>\n"
      ],
      "text/plain": []
     },
     "metadata": {},
     "output_type": "display_data"
    },
    {
     "name": "stderr",
     "output_type": "stream",
     "text": [
      " 67%|██████▋   | 4/6 [01:12<00:40, 20.25s/it]"
     ]
    },
    {
     "data": {
      "application/vnd.jupyter.widget-view+json": {
       "model_id": "f9dca80a3c384aaba43ba164b833e885",
       "version_major": 2,
       "version_minor": 0
      },
      "text/plain": [
       "Output()"
      ]
     },
     "metadata": {},
     "output_type": "display_data"
    },
    {
     "data": {
      "text/html": [
       "<pre style=\"white-space:pre;overflow-x:auto;line-height:normal;font-family:Menlo,'DejaVu Sans Mono',consolas,'Courier New',monospace\"></pre>\n"
      ],
      "text/plain": []
     },
     "metadata": {},
     "output_type": "display_data"
    },
    {
     "data": {
      "application/vnd.jupyter.widget-view+json": {
       "model_id": "f487abe12937438292fe8a400dbcc4b7",
       "version_major": 2,
       "version_minor": 0
      },
      "text/plain": [
       "Output()"
      ]
     },
     "metadata": {},
     "output_type": "display_data"
    },
    {
     "data": {
      "text/html": [
       "<pre style=\"white-space:pre;overflow-x:auto;line-height:normal;font-family:Menlo,'DejaVu Sans Mono',consolas,'Courier New',monospace\"></pre>\n"
      ],
      "text/plain": []
     },
     "metadata": {},
     "output_type": "display_data"
    },
    {
     "data": {
      "application/vnd.jupyter.widget-view+json": {
       "model_id": "82121ed39c5248b7889cbfbe883794d3",
       "version_major": 2,
       "version_minor": 0
      },
      "text/plain": [
       "Output()"
      ]
     },
     "metadata": {},
     "output_type": "display_data"
    },
    {
     "data": {
      "text/html": [
       "<pre style=\"white-space:pre;overflow-x:auto;line-height:normal;font-family:Menlo,'DejaVu Sans Mono',consolas,'Courier New',monospace\"></pre>\n"
      ],
      "text/plain": []
     },
     "metadata": {},
     "output_type": "display_data"
    },
    {
     "name": "stderr",
     "output_type": "stream",
     "text": [
      " 83%|████████▎ | 5/6 [01:28<00:18, 18.92s/it]"
     ]
    },
    {
     "data": {
      "application/vnd.jupyter.widget-view+json": {
       "model_id": "11ff0eb3059f4a9bb7322e7250ef09a1",
       "version_major": 2,
       "version_minor": 0
      },
      "text/plain": [
       "Output()"
      ]
     },
     "metadata": {},
     "output_type": "display_data"
    },
    {
     "data": {
      "text/html": [
       "<pre style=\"white-space:pre;overflow-x:auto;line-height:normal;font-family:Menlo,'DejaVu Sans Mono',consolas,'Courier New',monospace\"></pre>\n"
      ],
      "text/plain": []
     },
     "metadata": {},
     "output_type": "display_data"
    },
    {
     "data": {
      "application/vnd.jupyter.widget-view+json": {
       "model_id": "1e8e74505aaa4c2aa4cee8b228e14303",
       "version_major": 2,
       "version_minor": 0
      },
      "text/plain": [
       "Output()"
      ]
     },
     "metadata": {},
     "output_type": "display_data"
    },
    {
     "data": {
      "text/html": [
       "<pre style=\"white-space:pre;overflow-x:auto;line-height:normal;font-family:Menlo,'DejaVu Sans Mono',consolas,'Courier New',monospace\"></pre>\n"
      ],
      "text/plain": []
     },
     "metadata": {},
     "output_type": "display_data"
    },
    {
     "data": {
      "application/vnd.jupyter.widget-view+json": {
       "model_id": "923b6bdd26dd417e8d7344eb8c4088e0",
       "version_major": 2,
       "version_minor": 0
      },
      "text/plain": [
       "Output()"
      ]
     },
     "metadata": {},
     "output_type": "display_data"
    },
    {
     "data": {
      "text/html": [
       "<pre style=\"white-space:pre;overflow-x:auto;line-height:normal;font-family:Menlo,'DejaVu Sans Mono',consolas,'Courier New',monospace\"></pre>\n"
      ],
      "text/plain": []
     },
     "metadata": {},
     "output_type": "display_data"
    },
    {
     "name": "stderr",
     "output_type": "stream",
     "text": [
      "100%|██████████| 6/6 [01:47<00:00, 17.86s/it]\n"
     ]
    },
    {
     "name": "stdout",
     "output_type": "stream",
     "text": [
      "Bootstrapped 2 full traces after 6 examples in round 0.\n",
      "Bootstrapping set 10/10\n"
     ]
    },
    {
     "name": "stderr",
     "output_type": "stream",
     "text": [
      "  0%|          | 0/6 [00:00<?, ?it/s]"
     ]
    },
    {
     "data": {
      "application/vnd.jupyter.widget-view+json": {
       "model_id": "07c93294413e42ae9b026646c2aa3973",
       "version_major": 2,
       "version_minor": 0
      },
      "text/plain": [
       "Output()"
      ]
     },
     "metadata": {},
     "output_type": "display_data"
    },
    {
     "data": {
      "text/html": [
       "<pre style=\"white-space:pre;overflow-x:auto;line-height:normal;font-family:Menlo,'DejaVu Sans Mono',consolas,'Courier New',monospace\"></pre>\n"
      ],
      "text/plain": []
     },
     "metadata": {},
     "output_type": "display_data"
    },
    {
     "data": {
      "application/vnd.jupyter.widget-view+json": {
       "model_id": "25fc751eb71c4cf9a03811a5a8b726fa",
       "version_major": 2,
       "version_minor": 0
      },
      "text/plain": [
       "Output()"
      ]
     },
     "metadata": {},
     "output_type": "display_data"
    },
    {
     "data": {
      "text/html": [
       "<pre style=\"white-space:pre;overflow-x:auto;line-height:normal;font-family:Menlo,'DejaVu Sans Mono',consolas,'Courier New',monospace\"></pre>\n"
      ],
      "text/plain": []
     },
     "metadata": {},
     "output_type": "display_data"
    },
    {
     "data": {
      "application/vnd.jupyter.widget-view+json": {
       "model_id": "27a33f73648f42228bda10dba764538f",
       "version_major": 2,
       "version_minor": 0
      },
      "text/plain": [
       "Output()"
      ]
     },
     "metadata": {},
     "output_type": "display_data"
    },
    {
     "data": {
      "text/html": [
       "<pre style=\"white-space:pre;overflow-x:auto;line-height:normal;font-family:Menlo,'DejaVu Sans Mono',consolas,'Courier New',monospace\"></pre>\n"
      ],
      "text/plain": []
     },
     "metadata": {},
     "output_type": "display_data"
    },
    {
     "name": "stderr",
     "output_type": "stream",
     "text": [
      " 17%|█▋        | 1/6 [00:11<00:57, 11.46s/it]\n"
     ]
    },
    {
     "name": "stdout",
     "output_type": "stream",
     "text": [
      "Bootstrapped 1 full traces after 2 examples in round 0.\n",
      "\n",
      "==> STEP 2: PROPOSE INSTRUCTION CANDIDATES <==\n",
      "In this step, by default we will use the few-shot examples from the previous step, a generated dataset summary, a summary of the program code, and a randomly selected prompting tip to propose instructions.\n",
      "\n",
      "Proposing instructions...\n",
      "\n",
      "Proposed Instructions for Predictor 0:\n",
      "\n",
      "0: Analyze the applicant's financial information and return a risk assessment.\n",
      "\n",
      "1: Analyze the provided financial information of the applicant and generate a comprehensive risk assessment. Ensure that your response includes a detailed rationale that justifies the risk level assigned, considering all relevant financial metrics such as credit score, debts, income, debt-to-income ratio, employment stability, and potential financial changes. Provide a clear and thorough explanation for each parameter evaluated to support the final risk assessment.\n",
      "\n",
      "2: Analyze the provided financial information of the applicant and deliver a comprehensive risk assessment, including a detailed rationale for each parameter considered.\n",
      "\n",
      "3: Analyze the provided financial information of the applicant to generate a comprehensive risk assessment. Consider key metrics such as credit score, debts, income, and debt-to-income ratio, as well as qualitative factors like employment stability and potential financial changes. Provide a detailed rationale that explains the step-by-step reasoning process used to evaluate each parameter, and conclude with a justified risk rating ranging from Low to High Risk.\n",
      "\n",
      "4: Analyze the applicant's financial information and provide a comprehensive risk assessment, considering the potential impact on the applicant's ability to secure a critical loan for a major life event, such as purchasing a home or funding a child's education. Ensure that the assessment includes a detailed rationale for each financial metric evaluated, highlighting both strengths and potential risks, to guide the lender in making an informed decision.\n",
      "\n",
      "5: Analyze the applicant's financial information in detail and provide a comprehensive risk assessment. Consider key financial metrics such as annual income, credit score, existing debts, loan amount requested, employment stability, debt-to-income ratio, and age. Use a step-by-step reasoning approach to evaluate each parameter, and justify your final risk assessment by explaining how these factors contribute to the applicant's financial profile. Your assessment should categorize the applicant's risk level as Low, Medium, or High, and provide a clear rationale for this categorization, aiding financial institutions in making informed lending decisions.\n",
      "\n",
      "6: Evaluate the financial profile of the applicant and provide a detailed risk assessment. Consider factors such as age, income, credit score, existing debts, requested loan amount, and employment status. Use a step-by-step reasoning approach to explain how each factor influences the overall risk level, and conclude with a comprehensive summary justifying the risk assessment.\n",
      "\n",
      "7: Evaluate the applicant's financial profile and provide a detailed risk assessment, considering factors such as income stability, credit score, existing debts, loan amount requested, debt-to-income ratio, and employment history. Justify the risk level assigned with a comprehensive rationale for each parameter.\n",
      "\n",
      "8: You are a financial risk assessment expert tasked with evaluating loan applicants. Analyze the provided financial information of the applicant, considering factors such as age, income, credit score, existing debts, loan amount requested, employment history, and debt-to-income ratio. Use a step-by-step reasoning approach to determine the risk level associated with lending to the applicant, and provide a comprehensive risk assessment that categorizes the applicant as low, medium, or high risk. Justify your assessment with detailed explanations for each factor considered.\n",
      "\n",
      "9: Analyze the applicant's financial information and provide a comprehensive risk assessment, considering the potential impact on the applicant's ability to repay a significant loan. Assume this assessment will directly influence a high-stakes decision on whether to approve a substantial loan amount, which could have major financial implications for both the applicant and the lending institution.\n",
      "\n",
      "\n",
      "\n",
      "Evaluating the default program...\n",
      "\n"
     ]
    },
    {
     "name": "stderr",
     "output_type": "stream",
     "text": [
      "  0%|          | 0/21 [00:00<?, ?it/s]"
     ]
    },
    {
     "data": {
      "application/vnd.jupyter.widget-view+json": {
       "model_id": "6a5075e85f7541da9098d5e02d990bbe",
       "version_major": 2,
       "version_minor": 0
      },
      "text/plain": [
       "Output()"
      ]
     },
     "metadata": {},
     "output_type": "display_data"
    },
    {
     "data": {
      "application/vnd.jupyter.widget-view+json": {
       "model_id": "0747dab6d3a54e0eab56331cd61f79c2",
       "version_major": 2,
       "version_minor": 0
      },
      "text/plain": [
       "Output()"
      ]
     },
     "metadata": {},
     "output_type": "display_data"
    },
    {
     "data": {
      "application/vnd.jupyter.widget-view+json": {
       "model_id": "9b28503dd9c4463aa9a9894079bf30df",
       "version_major": 2,
       "version_minor": 0
      },
      "text/plain": [
       "Output()"
      ]
     },
     "metadata": {},
     "output_type": "display_data"
    },
    {
     "data": {
      "application/vnd.jupyter.widget-view+json": {
       "model_id": "8977a338d6604afcaabe15dc56b17e5e",
       "version_major": 2,
       "version_minor": 0
      },
      "text/plain": [
       "Output()"
      ]
     },
     "metadata": {},
     "output_type": "display_data"
    },
    {
     "data": {
      "application/vnd.jupyter.widget-view+json": {
       "model_id": "6a781f14ef934d61aa7f4de770ca2c92",
       "version_major": 2,
       "version_minor": 0
      },
      "text/plain": [
       "Output()"
      ]
     },
     "metadata": {},
     "output_type": "display_data"
    },
    {
     "data": {
      "application/vnd.jupyter.widget-view+json": {
       "model_id": "d5b29c8ad89a4f01a6c2224097594302",
       "version_major": 2,
       "version_minor": 0
      },
      "text/plain": [
       "Output()"
      ]
     },
     "metadata": {},
     "output_type": "display_data"
    },
    {
     "data": {
      "application/vnd.jupyter.widget-view+json": {
       "model_id": "5299d8a8f9ae4ab2bb2133fe8feccce7",
       "version_major": 2,
       "version_minor": 0
      },
      "text/plain": [
       "Output()"
      ]
     },
     "metadata": {},
     "output_type": "display_data"
    },
    {
     "data": {
      "application/vnd.jupyter.widget-view+json": {
       "model_id": "6aef048bf183423ba32c2464febc712c",
       "version_major": 2,
       "version_minor": 0
      },
      "text/plain": [
       "Output()"
      ]
     },
     "metadata": {},
     "output_type": "display_data"
    },
    {
     "data": {
      "application/vnd.jupyter.widget-view+json": {
       "model_id": "818d9ced13a04265a3a784f4aed73a8c",
       "version_major": 2,
       "version_minor": 0
      },
      "text/plain": [
       "Output()"
      ]
     },
     "metadata": {},
     "output_type": "display_data"
    },
    {
     "data": {
      "application/vnd.jupyter.widget-view+json": {
       "model_id": "2df5a49f21e24cdf84458fd81b04848a",
       "version_major": 2,
       "version_minor": 0
      },
      "text/plain": [
       "Output()"
      ]
     },
     "metadata": {},
     "output_type": "display_data"
    },
    {
     "data": {
      "application/vnd.jupyter.widget-view+json": {
       "model_id": "175d9de3a34e4096b39b0c805929f411",
       "version_major": 2,
       "version_minor": 0
      },
      "text/plain": [
       "Output()"
      ]
     },
     "metadata": {},
     "output_type": "display_data"
    },
    {
     "data": {
      "application/vnd.jupyter.widget-view+json": {
       "model_id": "0f8b89f049f748379941f74672e66a34",
       "version_major": 2,
       "version_minor": 0
      },
      "text/plain": [
       "Output()"
      ]
     },
     "metadata": {},
     "output_type": "display_data"
    },
    {
     "data": {
      "application/vnd.jupyter.widget-view+json": {
       "model_id": "c29fe0d83cdd47b3a41c5fb83e3d672d",
       "version_major": 2,
       "version_minor": 0
      },
      "text/plain": [
       "Output()"
      ]
     },
     "metadata": {},
     "output_type": "display_data"
    },
    {
     "data": {
      "application/vnd.jupyter.widget-view+json": {
       "model_id": "42997060337140c38e160965d3a8c831",
       "version_major": 2,
       "version_minor": 0
      },
      "text/plain": [
       "Output()"
      ]
     },
     "metadata": {},
     "output_type": "display_data"
    },
    {
     "data": {
      "application/vnd.jupyter.widget-view+json": {
       "model_id": "adb1c9d144974fedac8caa0835e273ca",
       "version_major": 2,
       "version_minor": 0
      },
      "text/plain": [
       "Output()"
      ]
     },
     "metadata": {},
     "output_type": "display_data"
    },
    {
     "data": {
      "application/vnd.jupyter.widget-view+json": {
       "model_id": "b4197b66653e44ae9a73e80e0f107c18",
       "version_major": 2,
       "version_minor": 0
      },
      "text/plain": [
       "Output()"
      ]
     },
     "metadata": {},
     "output_type": "display_data"
    },
    {
     "data": {
      "application/vnd.jupyter.widget-view+json": {
       "model_id": "7c29009000a049519e470d2ee5b71a2c",
       "version_major": 2,
       "version_minor": 0
      },
      "text/plain": [
       "Output()"
      ]
     },
     "metadata": {},
     "output_type": "display_data"
    },
    {
     "data": {
      "application/vnd.jupyter.widget-view+json": {
       "model_id": "7b461cc5e2104db1bd2e81a8d96156e9",
       "version_major": 2,
       "version_minor": 0
      },
      "text/plain": [
       "Output()"
      ]
     },
     "metadata": {},
     "output_type": "display_data"
    },
    {
     "data": {
      "application/vnd.jupyter.widget-view+json": {
       "model_id": "db8a930690f84635bd24bbb8202ced3a",
       "version_major": 2,
       "version_minor": 0
      },
      "text/plain": [
       "Output()"
      ]
     },
     "metadata": {},
     "output_type": "display_data"
    },
    {
     "data": {
      "application/vnd.jupyter.widget-view+json": {
       "model_id": "af952f88884b43a6883f1ca695797e95",
       "version_major": 2,
       "version_minor": 0
      },
      "text/plain": [
       "Output()"
      ]
     },
     "metadata": {},
     "output_type": "display_data"
    },
    {
     "data": {
      "application/vnd.jupyter.widget-view+json": {
       "model_id": "19b96bd931fb47349543ed45d45a3820",
       "version_major": 2,
       "version_minor": 0
      },
      "text/plain": [
       "Output()"
      ]
     },
     "metadata": {},
     "output_type": "display_data"
    },
    {
     "data": {
      "application/vnd.jupyter.widget-view+json": {
       "model_id": "5c69448bf8144d73a79311cc33c2fde1",
       "version_major": 2,
       "version_minor": 0
      },
      "text/plain": [
       "Output()"
      ]
     },
     "metadata": {},
     "output_type": "display_data"
    },
    {
     "data": {
      "application/vnd.jupyter.widget-view+json": {
       "model_id": "590eabfd8d0e4d2fa55502adcd40c257",
       "version_major": 2,
       "version_minor": 0
      },
      "text/plain": [
       "Output()"
      ]
     },
     "metadata": {},
     "output_type": "display_data"
    },
    {
     "data": {
      "application/vnd.jupyter.widget-view+json": {
       "model_id": "e1eea9759c5943d3a6ab97a82d8e9f06",
       "version_major": 2,
       "version_minor": 0
      },
      "text/plain": [
       "Output()"
      ]
     },
     "metadata": {},
     "output_type": "display_data"
    },
    {
     "data": {
      "application/vnd.jupyter.widget-view+json": {
       "model_id": "457f9a11a2c84d5f97fc6ad6ef692014",
       "version_major": 2,
       "version_minor": 0
      },
      "text/plain": [
       "Output()"
      ]
     },
     "metadata": {},
     "output_type": "display_data"
    },
    {
     "data": {
      "application/vnd.jupyter.widget-view+json": {
       "model_id": "5aded5722d854d74ae735a2831ca7a98",
       "version_major": 2,
       "version_minor": 0
      },
      "text/plain": [
       "Output()"
      ]
     },
     "metadata": {},
     "output_type": "display_data"
    },
    {
     "data": {
      "application/vnd.jupyter.widget-view+json": {
       "model_id": "75e440045e0a4992bd06aa7b47d483b4",
       "version_major": 2,
       "version_minor": 0
      },
      "text/plain": [
       "Output()"
      ]
     },
     "metadata": {},
     "output_type": "display_data"
    },
    {
     "data": {
      "application/vnd.jupyter.widget-view+json": {
       "model_id": "f8a6dae62cb143608db91c32a3b6500b",
       "version_major": 2,
       "version_minor": 0
      },
      "text/plain": [
       "Output()"
      ]
     },
     "metadata": {},
     "output_type": "display_data"
    },
    {
     "data": {
      "application/vnd.jupyter.widget-view+json": {
       "model_id": "20c954bbcec1402a88a7c5d4483a6955",
       "version_major": 2,
       "version_minor": 0
      },
      "text/plain": [
       "Output()"
      ]
     },
     "metadata": {},
     "output_type": "display_data"
    },
    {
     "data": {
      "application/vnd.jupyter.widget-view+json": {
       "model_id": "0c5eaadf6c3e4f37938130ad60139256",
       "version_major": 2,
       "version_minor": 0
      },
      "text/plain": [
       "Output()"
      ]
     },
     "metadata": {},
     "output_type": "display_data"
    },
    {
     "data": {
      "application/vnd.jupyter.widget-view+json": {
       "model_id": "bd09141182e6442cbd6d681a743f7542",
       "version_major": 2,
       "version_minor": 0
      },
      "text/plain": [
       "Output()"
      ]
     },
     "metadata": {},
     "output_type": "display_data"
    },
    {
     "data": {
      "application/vnd.jupyter.widget-view+json": {
       "model_id": "3ad7cb1fa7cf4ccbae758850ff6aa27a",
       "version_major": 2,
       "version_minor": 0
      },
      "text/plain": [
       "Output()"
      ]
     },
     "metadata": {},
     "output_type": "display_data"
    },
    {
     "data": {
      "application/vnd.jupyter.widget-view+json": {
       "model_id": "ce6c24e3eaea4f96a261d610e11281c5",
       "version_major": 2,
       "version_minor": 0
      },
      "text/plain": [
       "Output()"
      ]
     },
     "metadata": {},
     "output_type": "display_data"
    },
    {
     "data": {
      "application/vnd.jupyter.widget-view+json": {
       "model_id": "ea525c4680864205b126eea0ae517875",
       "version_major": 2,
       "version_minor": 0
      },
      "text/plain": [
       "Output()"
      ]
     },
     "metadata": {},
     "output_type": "display_data"
    },
    {
     "data": {
      "application/vnd.jupyter.widget-view+json": {
       "model_id": "7507b5018a67406ea12ac98c10fff32f",
       "version_major": 2,
       "version_minor": 0
      },
      "text/plain": [
       "Output()"
      ]
     },
     "metadata": {},
     "output_type": "display_data"
    },
    {
     "data": {
      "application/vnd.jupyter.widget-view+json": {
       "model_id": "b0ff233a841046a0a0b5dd2ad3a08191",
       "version_major": 2,
       "version_minor": 0
      },
      "text/plain": [
       "Output()"
      ]
     },
     "metadata": {},
     "output_type": "display_data"
    },
    {
     "data": {
      "application/vnd.jupyter.widget-view+json": {
       "model_id": "02b82211f6fd4da5beadfd8b8385f79c",
       "version_major": 2,
       "version_minor": 0
      },
      "text/plain": [
       "Output()"
      ]
     },
     "metadata": {},
     "output_type": "display_data"
    },
    {
     "data": {
      "application/vnd.jupyter.widget-view+json": {
       "model_id": "c0dea3a3ed624edc9b1153f35433a0c3",
       "version_major": 2,
       "version_minor": 0
      },
      "text/plain": [
       "Output()"
      ]
     },
     "metadata": {},
     "output_type": "display_data"
    },
    {
     "data": {
      "application/vnd.jupyter.widget-view+json": {
       "model_id": "2bc36baffb09450a8ee6bb59d6fee5a1",
       "version_major": 2,
       "version_minor": 0
      },
      "text/plain": [
       "Output()"
      ]
     },
     "metadata": {},
     "output_type": "display_data"
    },
    {
     "data": {
      "application/vnd.jupyter.widget-view+json": {
       "model_id": "44844bf47b254f45a9adfe7533fdb12d",
       "version_major": 2,
       "version_minor": 0
      },
      "text/plain": [
       "Output()"
      ]
     },
     "metadata": {},
     "output_type": "display_data"
    },
    {
     "data": {
      "application/vnd.jupyter.widget-view+json": {
       "model_id": "ec314d4211fa4e0c89d118c1e37b4229",
       "version_major": 2,
       "version_minor": 0
      },
      "text/plain": [
       "Output()"
      ]
     },
     "metadata": {},
     "output_type": "display_data"
    },
    {
     "data": {
      "application/vnd.jupyter.widget-view+json": {
       "model_id": "790addd2824a4a6ea8968758a452b223",
       "version_major": 2,
       "version_minor": 0
      },
      "text/plain": [
       "Output()"
      ]
     },
     "metadata": {},
     "output_type": "display_data"
    },
    {
     "data": {
      "application/vnd.jupyter.widget-view+json": {
       "model_id": "e7604b94a03b4df2a3b7120b371e3228",
       "version_major": 2,
       "version_minor": 0
      },
      "text/plain": [
       "Output()"
      ]
     },
     "metadata": {},
     "output_type": "display_data"
    },
    {
     "data": {
      "application/vnd.jupyter.widget-view+json": {
       "model_id": "0d2157be3d104a079eb4bce1c46d9562",
       "version_major": 2,
       "version_minor": 0
      },
      "text/plain": [
       "Output()"
      ]
     },
     "metadata": {},
     "output_type": "display_data"
    },
    {
     "data": {
      "application/vnd.jupyter.widget-view+json": {
       "model_id": "80a046a4be6f44578ae35e1b752d78d8",
       "version_major": 2,
       "version_minor": 0
      },
      "text/plain": [
       "Output()"
      ]
     },
     "metadata": {},
     "output_type": "display_data"
    },
    {
     "data": {
      "application/vnd.jupyter.widget-view+json": {
       "model_id": "16e50630c9df417fa435faf7d26a0c16",
       "version_major": 2,
       "version_minor": 0
      },
      "text/plain": [
       "Output()"
      ]
     },
     "metadata": {},
     "output_type": "display_data"
    },
    {
     "data": {
      "application/vnd.jupyter.widget-view+json": {
       "model_id": "aece6f18743941a8b2184a1ba033f3d4",
       "version_major": 2,
       "version_minor": 0
      },
      "text/plain": [
       "Output()"
      ]
     },
     "metadata": {},
     "output_type": "display_data"
    },
    {
     "data": {
      "application/vnd.jupyter.widget-view+json": {
       "model_id": "94be4275a6984ec1a5ab3601cf07e543",
       "version_major": 2,
       "version_minor": 0
      },
      "text/plain": [
       "Output()"
      ]
     },
     "metadata": {},
     "output_type": "display_data"
    },
    {
     "data": {
      "application/vnd.jupyter.widget-view+json": {
       "model_id": "ca3927e6d9244c19b20880bdc03ba7e2",
       "version_major": 2,
       "version_minor": 0
      },
      "text/plain": [
       "Output()"
      ]
     },
     "metadata": {},
     "output_type": "display_data"
    },
    {
     "data": {
      "application/vnd.jupyter.widget-view+json": {
       "model_id": "11cb267d148746dab5fd2a49673cbbc6",
       "version_major": 2,
       "version_minor": 0
      },
      "text/plain": [
       "Output()"
      ]
     },
     "metadata": {},
     "output_type": "display_data"
    },
    {
     "data": {
      "application/vnd.jupyter.widget-view+json": {
       "model_id": "490b1e1f2a174863a0562aa67ba657a8",
       "version_major": 2,
       "version_minor": 0
      },
      "text/plain": [
       "Output()"
      ]
     },
     "metadata": {},
     "output_type": "display_data"
    },
    {
     "data": {
      "application/vnd.jupyter.widget-view+json": {
       "model_id": "513eeb373e2a47b09a325210eb938030",
       "version_major": 2,
       "version_minor": 0
      },
      "text/plain": [
       "Output()"
      ]
     },
     "metadata": {},
     "output_type": "display_data"
    },
    {
     "data": {
      "application/vnd.jupyter.widget-view+json": {
       "model_id": "4544f06b5263411f925d46c5e8bee1d3",
       "version_major": 2,
       "version_minor": 0
      },
      "text/plain": [
       "Output()"
      ]
     },
     "metadata": {},
     "output_type": "display_data"
    },
    {
     "data": {
      "application/vnd.jupyter.widget-view+json": {
       "model_id": "c5d46efb47f64c5c87fba9d362f0401e",
       "version_major": 2,
       "version_minor": 0
      },
      "text/plain": [
       "Output()"
      ]
     },
     "metadata": {},
     "output_type": "display_data"
    },
    {
     "data": {
      "application/vnd.jupyter.widget-view+json": {
       "model_id": "90b5cc4bbf6a4677a41e87860f922698",
       "version_major": 2,
       "version_minor": 0
      },
      "text/plain": [
       "Output()"
      ]
     },
     "metadata": {},
     "output_type": "display_data"
    },
    {
     "data": {
      "application/vnd.jupyter.widget-view+json": {
       "model_id": "74a6d9fc06bd470e99cc4000fc75fcd9",
       "version_major": 2,
       "version_minor": 0
      },
      "text/plain": [
       "Output()"
      ]
     },
     "metadata": {},
     "output_type": "display_data"
    },
    {
     "data": {
      "application/vnd.jupyter.widget-view+json": {
       "model_id": "b263d648122048ecabef28fc64845e14",
       "version_major": 2,
       "version_minor": 0
      },
      "text/plain": [
       "Output()"
      ]
     },
     "metadata": {},
     "output_type": "display_data"
    },
    {
     "data": {
      "application/vnd.jupyter.widget-view+json": {
       "model_id": "59da6cb152ca4b9f952e4ba98f372cf5",
       "version_major": 2,
       "version_minor": 0
      },
      "text/plain": [
       "Output()"
      ]
     },
     "metadata": {},
     "output_type": "display_data"
    },
    {
     "data": {
      "application/vnd.jupyter.widget-view+json": {
       "model_id": "2edd2063f0eb4982a8495272773db744",
       "version_major": 2,
       "version_minor": 0
      },
      "text/plain": [
       "Output()"
      ]
     },
     "metadata": {},
     "output_type": "display_data"
    },
    {
     "data": {
      "application/vnd.jupyter.widget-view+json": {
       "model_id": "6501dd13ce8542d282e0f789b1dec5f8",
       "version_major": 2,
       "version_minor": 0
      },
      "text/plain": [
       "Output()"
      ]
     },
     "metadata": {},
     "output_type": "display_data"
    },
    {
     "data": {
      "application/vnd.jupyter.widget-view+json": {
       "model_id": "a22b5dc019b64927a5becf6ca8802d42",
       "version_major": 2,
       "version_minor": 0
      },
      "text/plain": [
       "Output()"
      ]
     },
     "metadata": {},
     "output_type": "display_data"
    },
    {
     "data": {
      "application/vnd.jupyter.widget-view+json": {
       "model_id": "ab5c6524e986487c9c5d0c347c7a5033",
       "version_major": 2,
       "version_minor": 0
      },
      "text/plain": [
       "Output()"
      ]
     },
     "metadata": {},
     "output_type": "display_data"
    },
    {
     "data": {
      "application/vnd.jupyter.widget-view+json": {
       "model_id": "be69c2d54beb4505823c83eabf84249e",
       "version_major": 2,
       "version_minor": 0
      },
      "text/plain": [
       "Output()"
      ]
     },
     "metadata": {},
     "output_type": "display_data"
    },
    {
     "data": {
      "application/vnd.jupyter.widget-view+json": {
       "model_id": "9b153db0461f4e3e9a4d39fda94c94c6",
       "version_major": 2,
       "version_minor": 0
      },
      "text/plain": [
       "Output()"
      ]
     },
     "metadata": {},
     "output_type": "display_data"
    },
    {
     "data": {
      "application/vnd.jupyter.widget-view+json": {
       "model_id": "fd71578bc77648378b54963a11d9e2fb",
       "version_major": 2,
       "version_minor": 0
      },
      "text/plain": [
       "Output()"
      ]
     },
     "metadata": {},
     "output_type": "display_data"
    },
    {
     "data": {
      "application/vnd.jupyter.widget-view+json": {
       "model_id": "39735c66304045a9b37ea1602ccf31aa",
       "version_major": 2,
       "version_minor": 0
      },
      "text/plain": [
       "Output()"
      ]
     },
     "metadata": {},
     "output_type": "display_data"
    },
    {
     "data": {
      "application/vnd.jupyter.widget-view+json": {
       "model_id": "322d9a5fd13f473a92d60e75c8146dfa",
       "version_major": 2,
       "version_minor": 0
      },
      "text/plain": [
       "Output()"
      ]
     },
     "metadata": {},
     "output_type": "display_data"
    },
    {
     "data": {
      "application/vnd.jupyter.widget-view+json": {
       "model_id": "8366ef2b66e6432b95eb6c9a7edce4ad",
       "version_major": 2,
       "version_minor": 0
      },
      "text/plain": [
       "Output()"
      ]
     },
     "metadata": {},
     "output_type": "display_data"
    },
    {
     "data": {
      "application/vnd.jupyter.widget-view+json": {
       "model_id": "710955fad1c0496687be670eefe844f8",
       "version_major": 2,
       "version_minor": 0
      },
      "text/plain": [
       "Output()"
      ]
     },
     "metadata": {},
     "output_type": "display_data"
    },
    {
     "data": {
      "application/vnd.jupyter.widget-view+json": {
       "model_id": "40b34241dbb2432bb2c1449508193371",
       "version_major": 2,
       "version_minor": 0
      },
      "text/plain": [
       "Output()"
      ]
     },
     "metadata": {},
     "output_type": "display_data"
    },
    {
     "data": {
      "application/vnd.jupyter.widget-view+json": {
       "model_id": "55afdaec13444a8fa60870f9e79f807d",
       "version_major": 2,
       "version_minor": 0
      },
      "text/plain": [
       "Output()"
      ]
     },
     "metadata": {},
     "output_type": "display_data"
    },
    {
     "data": {
      "application/vnd.jupyter.widget-view+json": {
       "model_id": "094d82b8f92645e083a089683a49a23b",
       "version_major": 2,
       "version_minor": 0
      },
      "text/plain": [
       "Output()"
      ]
     },
     "metadata": {},
     "output_type": "display_data"
    },
    {
     "data": {
      "application/vnd.jupyter.widget-view+json": {
       "model_id": "f09ef1f1afe24d55a25ba0612ddda60d",
       "version_major": 2,
       "version_minor": 0
      },
      "text/plain": [
       "Output()"
      ]
     },
     "metadata": {},
     "output_type": "display_data"
    },
    {
     "data": {
      "application/vnd.jupyter.widget-view+json": {
       "model_id": "93ffda22d437470faf072e81c8ee25ff",
       "version_major": 2,
       "version_minor": 0
      },
      "text/plain": [
       "Output()"
      ]
     },
     "metadata": {},
     "output_type": "display_data"
    },
    {
     "data": {
      "application/vnd.jupyter.widget-view+json": {
       "model_id": "fc19a3c1c9f24103be0834c738eb147a",
       "version_major": 2,
       "version_minor": 0
      },
      "text/plain": [
       "Output()"
      ]
     },
     "metadata": {},
     "output_type": "display_data"
    },
    {
     "data": {
      "application/vnd.jupyter.widget-view+json": {
       "model_id": "650b39fac3f04d1b8b506cfadf70cbf2",
       "version_major": 2,
       "version_minor": 0
      },
      "text/plain": [
       "Output()"
      ]
     },
     "metadata": {},
     "output_type": "display_data"
    },
    {
     "data": {
      "application/vnd.jupyter.widget-view+json": {
       "model_id": "f0840ee03cfe4b6990d3a868f3b79895",
       "version_major": 2,
       "version_minor": 0
      },
      "text/plain": [
       "Output()"
      ]
     },
     "metadata": {},
     "output_type": "display_data"
    },
    {
     "data": {
      "application/vnd.jupyter.widget-view+json": {
       "model_id": "84e05d37dab94656a4b5104a1bd98d01",
       "version_major": 2,
       "version_minor": 0
      },
      "text/plain": [
       "Output()"
      ]
     },
     "metadata": {},
     "output_type": "display_data"
    },
    {
     "data": {
      "application/vnd.jupyter.widget-view+json": {
       "model_id": "a793c36ba00742b78882292d13aa74a3",
       "version_major": 2,
       "version_minor": 0
      },
      "text/plain": [
       "Output()"
      ]
     },
     "metadata": {},
     "output_type": "display_data"
    },
    {
     "data": {
      "application/vnd.jupyter.widget-view+json": {
       "model_id": "f8d70c34fb2d4a418382d4ebb5a180b5",
       "version_major": 2,
       "version_minor": 0
      },
      "text/plain": [
       "Output()"
      ]
     },
     "metadata": {},
     "output_type": "display_data"
    },
    {
     "data": {
      "application/vnd.jupyter.widget-view+json": {
       "model_id": "b579a652ec79483abc1a697c4670396d",
       "version_major": 2,
       "version_minor": 0
      },
      "text/plain": [
       "Output()"
      ]
     },
     "metadata": {},
     "output_type": "display_data"
    },
    {
     "data": {
      "application/vnd.jupyter.widget-view+json": {
       "model_id": "6473b3e8e2c34fd2b766883c8ede4f6b",
       "version_major": 2,
       "version_minor": 0
      },
      "text/plain": [
       "Output()"
      ]
     },
     "metadata": {},
     "output_type": "display_data"
    },
    {
     "data": {
      "application/vnd.jupyter.widget-view+json": {
       "model_id": "fbddc475ce724cdfa949ec79bb90f1c1",
       "version_major": 2,
       "version_minor": 0
      },
      "text/plain": [
       "Output()"
      ]
     },
     "metadata": {},
     "output_type": "display_data"
    },
    {
     "data": {
      "application/vnd.jupyter.widget-view+json": {
       "model_id": "a293474fe53e4bbba01a4dc601359c0e",
       "version_major": 2,
       "version_minor": 0
      },
      "text/plain": [
       "Output()"
      ]
     },
     "metadata": {},
     "output_type": "display_data"
    },
    {
     "data": {
      "application/vnd.jupyter.widget-view+json": {
       "model_id": "f24cd2adfb8e410e8c8c694bd1e46918",
       "version_major": 2,
       "version_minor": 0
      },
      "text/plain": [
       "Output()"
      ]
     },
     "metadata": {},
     "output_type": "display_data"
    },
    {
     "data": {
      "application/vnd.jupyter.widget-view+json": {
       "model_id": "4e1afa1b7fae4200aa5a6281e7bf655d",
       "version_major": 2,
       "version_minor": 0
      },
      "text/plain": [
       "Output()"
      ]
     },
     "metadata": {},
     "output_type": "display_data"
    },
    {
     "data": {
      "application/vnd.jupyter.widget-view+json": {
       "model_id": "5be6f0da239c440d8259308be41fd230",
       "version_major": 2,
       "version_minor": 0
      },
      "text/plain": [
       "Output()"
      ]
     },
     "metadata": {},
     "output_type": "display_data"
    },
    {
     "data": {
      "application/vnd.jupyter.widget-view+json": {
       "model_id": "1ee0654c89ed4d1786a2ddff30dc9254",
       "version_major": 2,
       "version_minor": 0
      },
      "text/plain": [
       "Output()"
      ]
     },
     "metadata": {},
     "output_type": "display_data"
    },
    {
     "data": {
      "application/vnd.jupyter.widget-view+json": {
       "model_id": "bd01fab19da04a2b991e2a43d330a59f",
       "version_major": 2,
       "version_minor": 0
      },
      "text/plain": [
       "Output()"
      ]
     },
     "metadata": {},
     "output_type": "display_data"
    },
    {
     "data": {
      "application/vnd.jupyter.widget-view+json": {
       "model_id": "4cf5ea76c356415a97ee16738bebbaf2",
       "version_major": 2,
       "version_minor": 0
      },
      "text/plain": [
       "Output()"
      ]
     },
     "metadata": {},
     "output_type": "display_data"
    },
    {
     "data": {
      "application/vnd.jupyter.widget-view+json": {
       "model_id": "8b7aa502c9cf464b827d45fd6b2ec14e",
       "version_major": 2,
       "version_minor": 0
      },
      "text/plain": [
       "Output()"
      ]
     },
     "metadata": {},
     "output_type": "display_data"
    },
    {
     "data": {
      "application/vnd.jupyter.widget-view+json": {
       "model_id": "3ef2345806d04d24a51e6afa3b0e9f8b",
       "version_major": 2,
       "version_minor": 0
      },
      "text/plain": [
       "Output()"
      ]
     },
     "metadata": {},
     "output_type": "display_data"
    },
    {
     "data": {
      "application/vnd.jupyter.widget-view+json": {
       "model_id": "b3b9aea76cf34fbfafcb79fb88858e86",
       "version_major": 2,
       "version_minor": 0
      },
      "text/plain": [
       "Output()"
      ]
     },
     "metadata": {},
     "output_type": "display_data"
    },
    {
     "data": {
      "application/vnd.jupyter.widget-view+json": {
       "model_id": "d6f013ec26ed4404b33ad48b40b4bdf7",
       "version_major": 2,
       "version_minor": 0
      },
      "text/plain": [
       "Output()"
      ]
     },
     "metadata": {},
     "output_type": "display_data"
    },
    {
     "data": {
      "application/vnd.jupyter.widget-view+json": {
       "model_id": "6d5841a4da144cd78ea531307ac06988",
       "version_major": 2,
       "version_minor": 0
      },
      "text/plain": [
       "Output()"
      ]
     },
     "metadata": {},
     "output_type": "display_data"
    },
    {
     "data": {
      "application/vnd.jupyter.widget-view+json": {
       "model_id": "fad59d4b5e104db7a09f101213434eef",
       "version_major": 2,
       "version_minor": 0
      },
      "text/plain": [
       "Output()"
      ]
     },
     "metadata": {},
     "output_type": "display_data"
    },
    {
     "data": {
      "application/vnd.jupyter.widget-view+json": {
       "model_id": "21a1b3e60b914083bb5510abf7acea30",
       "version_major": 2,
       "version_minor": 0
      },
      "text/plain": [
       "Output()"
      ]
     },
     "metadata": {},
     "output_type": "display_data"
    },
    {
     "data": {
      "application/vnd.jupyter.widget-view+json": {
       "model_id": "73282d7315204411993d804eb4e13a10",
       "version_major": 2,
       "version_minor": 0
      },
      "text/plain": [
       "Output()"
      ]
     },
     "metadata": {},
     "output_type": "display_data"
    },
    {
     "data": {
      "application/vnd.jupyter.widget-view+json": {
       "model_id": "c4be345efd0a468e83f21b0dc6cd0f94",
       "version_major": 2,
       "version_minor": 0
      },
      "text/plain": [
       "Output()"
      ]
     },
     "metadata": {},
     "output_type": "display_data"
    },
    {
     "data": {
      "application/vnd.jupyter.widget-view+json": {
       "model_id": "c84537ddd075447ebfcba2332f581749",
       "version_major": 2,
       "version_minor": 0
      },
      "text/plain": [
       "Output()"
      ]
     },
     "metadata": {},
     "output_type": "display_data"
    },
    {
     "data": {
      "application/vnd.jupyter.widget-view+json": {
       "model_id": "43f195431b7b436295856d66f6406a37",
       "version_major": 2,
       "version_minor": 0
      },
      "text/plain": [
       "Output()"
      ]
     },
     "metadata": {},
     "output_type": "display_data"
    },
    {
     "data": {
      "application/vnd.jupyter.widget-view+json": {
       "model_id": "8d87ce358cc34bca8375360c15eb2a9b",
       "version_major": 2,
       "version_minor": 0
      },
      "text/plain": [
       "Output()"
      ]
     },
     "metadata": {},
     "output_type": "display_data"
    },
    {
     "data": {
      "application/vnd.jupyter.widget-view+json": {
       "model_id": "1b7dc73b98df4fe6830792fb5f0b9609",
       "version_major": 2,
       "version_minor": 0
      },
      "text/plain": [
       "Output()"
      ]
     },
     "metadata": {},
     "output_type": "display_data"
    },
    {
     "data": {
      "application/vnd.jupyter.widget-view+json": {
       "model_id": "b417044dfd11439bb9ad21445114d8c4",
       "version_major": 2,
       "version_minor": 0
      },
      "text/plain": [
       "Output()"
      ]
     },
     "metadata": {},
     "output_type": "display_data"
    },
    {
     "data": {
      "application/vnd.jupyter.widget-view+json": {
       "model_id": "f873fff31fe1455e98523377c473352e",
       "version_major": 2,
       "version_minor": 0
      },
      "text/plain": [
       "Output()"
      ]
     },
     "metadata": {},
     "output_type": "display_data"
    },
    {
     "data": {
      "application/vnd.jupyter.widget-view+json": {
       "model_id": "0bd9df5c502b4debada6c34a9ac5063d",
       "version_major": 2,
       "version_minor": 0
      },
      "text/plain": [
       "Output()"
      ]
     },
     "metadata": {},
     "output_type": "display_data"
    },
    {
     "data": {
      "application/vnd.jupyter.widget-view+json": {
       "model_id": "bee79050affe4a1f91790193c45e820b",
       "version_major": 2,
       "version_minor": 0
      },
      "text/plain": [
       "Output()"
      ]
     },
     "metadata": {},
     "output_type": "display_data"
    },
    {
     "data": {
      "application/vnd.jupyter.widget-view+json": {
       "model_id": "c676ec0048f44552b54175fe762b09b5",
       "version_major": 2,
       "version_minor": 0
      },
      "text/plain": [
       "Output()"
      ]
     },
     "metadata": {},
     "output_type": "display_data"
    },
    {
     "data": {
      "application/vnd.jupyter.widget-view+json": {
       "model_id": "64b4c42f60924268af09da78b63e124a",
       "version_major": 2,
       "version_minor": 0
      },
      "text/plain": [
       "Output()"
      ]
     },
     "metadata": {},
     "output_type": "display_data"
    },
    {
     "data": {
      "application/vnd.jupyter.widget-view+json": {
       "model_id": "b355f16c07124548976d6f094e7641ce",
       "version_major": 2,
       "version_minor": 0
      },
      "text/plain": [
       "Output()"
      ]
     },
     "metadata": {},
     "output_type": "display_data"
    },
    {
     "data": {
      "application/vnd.jupyter.widget-view+json": {
       "model_id": "b6b2190d39a642dbb8f056c621738d66",
       "version_major": 2,
       "version_minor": 0
      },
      "text/plain": [
       "Output()"
      ]
     },
     "metadata": {},
     "output_type": "display_data"
    },
    {
     "data": {
      "application/vnd.jupyter.widget-view+json": {
       "model_id": "f75609aa84ac4b6e82b9bba1777154e7",
       "version_major": 2,
       "version_minor": 0
      },
      "text/plain": [
       "Output()"
      ]
     },
     "metadata": {},
     "output_type": "display_data"
    },
    {
     "data": {
      "application/vnd.jupyter.widget-view+json": {
       "model_id": "2b0657bb29dc41bf80f9abf7b61093fe",
       "version_major": 2,
       "version_minor": 0
      },
      "text/plain": [
       "Output()"
      ]
     },
     "metadata": {},
     "output_type": "display_data"
    },
    {
     "data": {
      "application/vnd.jupyter.widget-view+json": {
       "model_id": "cedacce33c3c44e6a733a5ef3d9c2b24",
       "version_major": 2,
       "version_minor": 0
      },
      "text/plain": [
       "Output()"
      ]
     },
     "metadata": {},
     "output_type": "display_data"
    },
    {
     "data": {
      "application/vnd.jupyter.widget-view+json": {
       "model_id": "65fdd874b4e8403e8902d496e30e1319",
       "version_major": 2,
       "version_minor": 0
      },
      "text/plain": [
       "Output()"
      ]
     },
     "metadata": {},
     "output_type": "display_data"
    },
    {
     "data": {
      "application/vnd.jupyter.widget-view+json": {
       "model_id": "a3190eb4f9c14d818f5be540da5c49d7",
       "version_major": 2,
       "version_minor": 0
      },
      "text/plain": [
       "Output()"
      ]
     },
     "metadata": {},
     "output_type": "display_data"
    },
    {
     "data": {
      "application/vnd.jupyter.widget-view+json": {
       "model_id": "b49b23fa04504b0eaf39ec940d6582fd",
       "version_major": 2,
       "version_minor": 0
      },
      "text/plain": [
       "Output()"
      ]
     },
     "metadata": {},
     "output_type": "display_data"
    },
    {
     "data": {
      "application/vnd.jupyter.widget-view+json": {
       "model_id": "0b3ace693ace40c8af150bb0cd4b1e9b",
       "version_major": 2,
       "version_minor": 0
      },
      "text/plain": [
       "Output()"
      ]
     },
     "metadata": {},
     "output_type": "display_data"
    },
    {
     "data": {
      "application/vnd.jupyter.widget-view+json": {
       "model_id": "1d2b425a80ba4865b8d89ec9737aee4f",
       "version_major": 2,
       "version_minor": 0
      },
      "text/plain": [
       "Output()"
      ]
     },
     "metadata": {},
     "output_type": "display_data"
    },
    {
     "data": {
      "application/vnd.jupyter.widget-view+json": {
       "model_id": "a3cc13556c244fbba06c2d6c33c570f6",
       "version_major": 2,
       "version_minor": 0
      },
      "text/plain": [
       "Output()"
      ]
     },
     "metadata": {},
     "output_type": "display_data"
    },
    {
     "data": {
      "application/vnd.jupyter.widget-view+json": {
       "model_id": "913ba48ce8e844e9a8372d52c1087a3b",
       "version_major": 2,
       "version_minor": 0
      },
      "text/plain": [
       "Output()"
      ]
     },
     "metadata": {},
     "output_type": "display_data"
    },
    {
     "data": {
      "application/vnd.jupyter.widget-view+json": {
       "model_id": "922ebd9bab364cb08f2ca48f542ba4fa",
       "version_major": 2,
       "version_minor": 0
      },
      "text/plain": [
       "Output()"
      ]
     },
     "metadata": {},
     "output_type": "display_data"
    },
    {
     "data": {
      "application/vnd.jupyter.widget-view+json": {
       "model_id": "2d4118af2f0e4120a17c76a9c55dac1c",
       "version_major": 2,
       "version_minor": 0
      },
      "text/plain": [
       "Output()"
      ]
     },
     "metadata": {},
     "output_type": "display_data"
    },
    {
     "data": {
      "application/vnd.jupyter.widget-view+json": {
       "model_id": "ca593101ec214ed58b5e8417ae3d3473",
       "version_major": 2,
       "version_minor": 0
      },
      "text/plain": [
       "Output()"
      ]
     },
     "metadata": {},
     "output_type": "display_data"
    },
    {
     "data": {
      "application/vnd.jupyter.widget-view+json": {
       "model_id": "56e414a8e7884dbb9554344a47c762df",
       "version_major": 2,
       "version_minor": 0
      },
      "text/plain": [
       "Output()"
      ]
     },
     "metadata": {},
     "output_type": "display_data"
    },
    {
     "data": {
      "application/vnd.jupyter.widget-view+json": {
       "model_id": "c5533f8a169d4813b22147d0891c9d0d",
       "version_major": 2,
       "version_minor": 0
      },
      "text/plain": [
       "Output()"
      ]
     },
     "metadata": {},
     "output_type": "display_data"
    },
    {
     "data": {
      "application/vnd.jupyter.widget-view+json": {
       "model_id": "2604ccc6f6764ab2897ef86700b1f81d",
       "version_major": 2,
       "version_minor": 0
      },
      "text/plain": [
       "Output()"
      ]
     },
     "metadata": {},
     "output_type": "display_data"
    },
    {
     "data": {
      "application/vnd.jupyter.widget-view+json": {
       "model_id": "b4a59ef61cac4680a54d5e3313af49b1",
       "version_major": 2,
       "version_minor": 0
      },
      "text/plain": [
       "Output()"
      ]
     },
     "metadata": {},
     "output_type": "display_data"
    },
    {
     "data": {
      "application/vnd.jupyter.widget-view+json": {
       "model_id": "1a066b2972604131a06d97de5a45993a",
       "version_major": 2,
       "version_minor": 0
      },
      "text/plain": [
       "Output()"
      ]
     },
     "metadata": {},
     "output_type": "display_data"
    },
    {
     "data": {
      "application/vnd.jupyter.widget-view+json": {
       "model_id": "4f78aafd5b124f66b3a0075c16778bfe",
       "version_major": 2,
       "version_minor": 0
      },
      "text/plain": [
       "Output()"
      ]
     },
     "metadata": {},
     "output_type": "display_data"
    },
    {
     "data": {
      "application/vnd.jupyter.widget-view+json": {
       "model_id": "c2fc91cee9d04db7a441b5de59980243",
       "version_major": 2,
       "version_minor": 0
      },
      "text/plain": [
       "Output()"
      ]
     },
     "metadata": {},
     "output_type": "display_data"
    },
    {
     "data": {
      "application/vnd.jupyter.widget-view+json": {
       "model_id": "bc8ac3a5d78149958f997bd24ea7fcb4",
       "version_major": 2,
       "version_minor": 0
      },
      "text/plain": [
       "Output()"
      ]
     },
     "metadata": {},
     "output_type": "display_data"
    },
    {
     "data": {
      "application/vnd.jupyter.widget-view+json": {
       "model_id": "2debfd8871bc42b7a5278e1786f4519d",
       "version_major": 2,
       "version_minor": 0
      },
      "text/plain": [
       "Output()"
      ]
     },
     "metadata": {},
     "output_type": "display_data"
    },
    {
     "data": {
      "application/vnd.jupyter.widget-view+json": {
       "model_id": "d84aa0b595dc4692af06e224cab60095",
       "version_major": 2,
       "version_minor": 0
      },
      "text/plain": [
       "Output()"
      ]
     },
     "metadata": {},
     "output_type": "display_data"
    },
    {
     "data": {
      "application/vnd.jupyter.widget-view+json": {
       "model_id": "91fce4ba4a9d4d5cb2f4317a4712992f",
       "version_major": 2,
       "version_minor": 0
      },
      "text/plain": [
       "Output()"
      ]
     },
     "metadata": {},
     "output_type": "display_data"
    },
    {
     "data": {
      "application/vnd.jupyter.widget-view+json": {
       "model_id": "1fe2e2d9ebf4413d93eca5362b040b8d",
       "version_major": 2,
       "version_minor": 0
      },
      "text/plain": [
       "Output()"
      ]
     },
     "metadata": {},
     "output_type": "display_data"
    },
    {
     "data": {
      "application/vnd.jupyter.widget-view+json": {
       "model_id": "2db488023fa8406c995c3902d167969a",
       "version_major": 2,
       "version_minor": 0
      },
      "text/plain": [
       "Output()"
      ]
     },
     "metadata": {},
     "output_type": "display_data"
    },
    {
     "data": {
      "application/vnd.jupyter.widget-view+json": {
       "model_id": "5f1ab0dd64e44e699846fb27982446a0",
       "version_major": 2,
       "version_minor": 0
      },
      "text/plain": [
       "Output()"
      ]
     },
     "metadata": {},
     "output_type": "display_data"
    },
    {
     "data": {
      "application/vnd.jupyter.widget-view+json": {
       "model_id": "a90b599e3e4346168819f24a56435894",
       "version_major": 2,
       "version_minor": 0
      },
      "text/plain": [
       "Output()"
      ]
     },
     "metadata": {},
     "output_type": "display_data"
    },
    {
     "data": {
      "application/vnd.jupyter.widget-view+json": {
       "model_id": "c11d815b90e54073b74e3dd7b6228e1c",
       "version_major": 2,
       "version_minor": 0
      },
      "text/plain": [
       "Output()"
      ]
     },
     "metadata": {},
     "output_type": "display_data"
    },
    {
     "data": {
      "application/vnd.jupyter.widget-view+json": {
       "model_id": "cd4aa780691c4b03ba1efd9fcc5e91d6",
       "version_major": 2,
       "version_minor": 0
      },
      "text/plain": [
       "Output()"
      ]
     },
     "metadata": {},
     "output_type": "display_data"
    },
    {
     "data": {
      "application/vnd.jupyter.widget-view+json": {
       "model_id": "1b34e878a1d84836bf7fbcc1b6f633cf",
       "version_major": 2,
       "version_minor": 0
      },
      "text/plain": [
       "Output()"
      ]
     },
     "metadata": {},
     "output_type": "display_data"
    },
    {
     "data": {
      "application/vnd.jupyter.widget-view+json": {
       "model_id": "61094203dccd48a3aeb0ae385491c111",
       "version_major": 2,
       "version_minor": 0
      },
      "text/plain": [
       "Output()"
      ]
     },
     "metadata": {},
     "output_type": "display_data"
    },
    {
     "data": {
      "application/vnd.jupyter.widget-view+json": {
       "model_id": "777543b94ec640afbdda06c5f46b9e9b",
       "version_major": 2,
       "version_minor": 0
      },
      "text/plain": [
       "Output()"
      ]
     },
     "metadata": {},
     "output_type": "display_data"
    },
    {
     "data": {
      "application/vnd.jupyter.widget-view+json": {
       "model_id": "97f711808bf74d3fb614715249daa962",
       "version_major": 2,
       "version_minor": 0
      },
      "text/plain": [
       "Output()"
      ]
     },
     "metadata": {},
     "output_type": "display_data"
    },
    {
     "data": {
      "application/vnd.jupyter.widget-view+json": {
       "model_id": "e459101f69fc4e93a38c074135ddbfa4",
       "version_major": 2,
       "version_minor": 0
      },
      "text/plain": [
       "Output()"
      ]
     },
     "metadata": {},
     "output_type": "display_data"
    },
    {
     "data": {
      "application/vnd.jupyter.widget-view+json": {
       "model_id": "1ac49ee9e3674b5fa14afdfb86b69f94",
       "version_major": 2,
       "version_minor": 0
      },
      "text/plain": [
       "Output()"
      ]
     },
     "metadata": {},
     "output_type": "display_data"
    },
    {
     "data": {
      "application/vnd.jupyter.widget-view+json": {
       "model_id": "c074f86192bc4272a263ffdb3e800f50",
       "version_major": 2,
       "version_minor": 0
      },
      "text/plain": [
       "Output()"
      ]
     },
     "metadata": {},
     "output_type": "display_data"
    },
    {
     "data": {
      "application/vnd.jupyter.widget-view+json": {
       "model_id": "05150db5303e46378efb157c4414a3bc",
       "version_major": 2,
       "version_minor": 0
      },
      "text/plain": [
       "Output()"
      ]
     },
     "metadata": {},
     "output_type": "display_data"
    },
    {
     "data": {
      "application/vnd.jupyter.widget-view+json": {
       "model_id": "16b564e5d291497a921abf776afa5749",
       "version_major": 2,
       "version_minor": 0
      },
      "text/plain": [
       "Output()"
      ]
     },
     "metadata": {},
     "output_type": "display_data"
    },
    {
     "data": {
      "application/vnd.jupyter.widget-view+json": {
       "model_id": "4ff7a9406bfb4239a9a7cacbaa206a64",
       "version_major": 2,
       "version_minor": 0
      },
      "text/plain": [
       "Output()"
      ]
     },
     "metadata": {},
     "output_type": "display_data"
    },
    {
     "data": {
      "application/vnd.jupyter.widget-view+json": {
       "model_id": "4b88f68bb97743878cfae6d2771793f0",
       "version_major": 2,
       "version_minor": 0
      },
      "text/plain": [
       "Output()"
      ]
     },
     "metadata": {},
     "output_type": "display_data"
    },
    {
     "data": {
      "application/vnd.jupyter.widget-view+json": {
       "model_id": "9679be3197604677be75009a4be643f4",
       "version_major": 2,
       "version_minor": 0
      },
      "text/plain": [
       "Output()"
      ]
     },
     "metadata": {},
     "output_type": "display_data"
    },
    {
     "data": {
      "application/vnd.jupyter.widget-view+json": {
       "model_id": "a85ccdd630dd4292ae4b6ea694832abf",
       "version_major": 2,
       "version_minor": 0
      },
      "text/plain": [
       "Output()"
      ]
     },
     "metadata": {},
     "output_type": "display_data"
    },
    {
     "data": {
      "application/vnd.jupyter.widget-view+json": {
       "model_id": "d3253d3c47aa499abb49919ed8b742f4",
       "version_major": 2,
       "version_minor": 0
      },
      "text/plain": [
       "Output()"
      ]
     },
     "metadata": {},
     "output_type": "display_data"
    },
    {
     "data": {
      "application/vnd.jupyter.widget-view+json": {
       "model_id": "6562598ca8eb48628621e1b7752a8783",
       "version_major": 2,
       "version_minor": 0
      },
      "text/plain": [
       "Output()"
      ]
     },
     "metadata": {},
     "output_type": "display_data"
    },
    {
     "data": {
      "application/vnd.jupyter.widget-view+json": {
       "model_id": "5fee08136d154c3295cf96566291f6de",
       "version_major": 2,
       "version_minor": 0
      },
      "text/plain": [
       "Output()"
      ]
     },
     "metadata": {},
     "output_type": "display_data"
    },
    {
     "data": {
      "application/vnd.jupyter.widget-view+json": {
       "model_id": "3520e28e66154974a4c35aee0feb74c6",
       "version_major": 2,
       "version_minor": 0
      },
      "text/plain": [
       "Output()"
      ]
     },
     "metadata": {},
     "output_type": "display_data"
    },
    {
     "data": {
      "application/vnd.jupyter.widget-view+json": {
       "model_id": "e1f755776cb94e59a5a9943b34261e96",
       "version_major": 2,
       "version_minor": 0
      },
      "text/plain": [
       "Output()"
      ]
     },
     "metadata": {},
     "output_type": "display_data"
    },
    {
     "data": {
      "application/vnd.jupyter.widget-view+json": {
       "model_id": "31afbde9e9d040e2b03fd24c96955831",
       "version_major": 2,
       "version_minor": 0
      },
      "text/plain": [
       "Output()"
      ]
     },
     "metadata": {},
     "output_type": "display_data"
    },
    {
     "data": {
      "application/vnd.jupyter.widget-view+json": {
       "model_id": "84e39a9243144234b4e1dc55dca8cfd0",
       "version_major": 2,
       "version_minor": 0
      },
      "text/plain": [
       "Output()"
      ]
     },
     "metadata": {},
     "output_type": "display_data"
    },
    {
     "data": {
      "application/vnd.jupyter.widget-view+json": {
       "model_id": "ba1cff24c56c4fb08b2251e8f9625281",
       "version_major": 2,
       "version_minor": 0
      },
      "text/plain": [
       "Output()"
      ]
     },
     "metadata": {},
     "output_type": "display_data"
    },
    {
     "data": {
      "application/vnd.jupyter.widget-view+json": {
       "model_id": "3bf7344c49564e8bb179ff9ed2dc7f25",
       "version_major": 2,
       "version_minor": 0
      },
      "text/plain": [
       "Output()"
      ]
     },
     "metadata": {},
     "output_type": "display_data"
    },
    {
     "data": {
      "application/vnd.jupyter.widget-view+json": {
       "model_id": "0460a9c6d6f548969ac420aebeaf526e",
       "version_major": 2,
       "version_minor": 0
      },
      "text/plain": [
       "Output()"
      ]
     },
     "metadata": {},
     "output_type": "display_data"
    },
    {
     "data": {
      "application/vnd.jupyter.widget-view+json": {
       "model_id": "cce1e92c3ced461aa6ed32aa7783289c",
       "version_major": 2,
       "version_minor": 0
      },
      "text/plain": [
       "Output()"
      ]
     },
     "metadata": {},
     "output_type": "display_data"
    },
    {
     "data": {
      "application/vnd.jupyter.widget-view+json": {
       "model_id": "2e8b40d0ad1b432694abb2abf1b972c1",
       "version_major": 2,
       "version_minor": 0
      },
      "text/plain": [
       "Output()"
      ]
     },
     "metadata": {},
     "output_type": "display_data"
    },
    {
     "data": {
      "application/vnd.jupyter.widget-view+json": {
       "model_id": "2e4600987fd14eb684a8090d6f2da810",
       "version_major": 2,
       "version_minor": 0
      },
      "text/plain": [
       "Output()"
      ]
     },
     "metadata": {},
     "output_type": "display_data"
    },
    {
     "data": {
      "application/vnd.jupyter.widget-view+json": {
       "model_id": "d285512b30a44a53944fe167fb408c3f",
       "version_major": 2,
       "version_minor": 0
      },
      "text/plain": [
       "Output()"
      ]
     },
     "metadata": {},
     "output_type": "display_data"
    },
    {
     "data": {
      "application/vnd.jupyter.widget-view+json": {
       "model_id": "8f210c2a95024cf5bc17597d6d3eaf3e",
       "version_major": 2,
       "version_minor": 0
      },
      "text/plain": [
       "Output()"
      ]
     },
     "metadata": {},
     "output_type": "display_data"
    },
    {
     "data": {
      "application/vnd.jupyter.widget-view+json": {
       "model_id": "23c8e4d3034a491a88b35b4283ba96cb",
       "version_major": 2,
       "version_minor": 0
      },
      "text/plain": [
       "Output()"
      ]
     },
     "metadata": {},
     "output_type": "display_data"
    },
    {
     "data": {
      "application/vnd.jupyter.widget-view+json": {
       "model_id": "65309436a9284fbc8c2cdb89bdb8e4d7",
       "version_major": 2,
       "version_minor": 0
      },
      "text/plain": [
       "Output()"
      ]
     },
     "metadata": {},
     "output_type": "display_data"
    },
    {
     "data": {
      "application/vnd.jupyter.widget-view+json": {
       "model_id": "ff5827f2e57049c89df5499e0d6da4e0",
       "version_major": 2,
       "version_minor": 0
      },
      "text/plain": [
       "Output()"
      ]
     },
     "metadata": {},
     "output_type": "display_data"
    },
    {
     "data": {
      "application/vnd.jupyter.widget-view+json": {
       "model_id": "c01e1af225c14126bfc76e8aa18714d0",
       "version_major": 2,
       "version_minor": 0
      },
      "text/plain": [
       "Output()"
      ]
     },
     "metadata": {},
     "output_type": "display_data"
    },
    {
     "data": {
      "application/vnd.jupyter.widget-view+json": {
       "model_id": "c4e994b757fc472fb692fec9e0faa2d0",
       "version_major": 2,
       "version_minor": 0
      },
      "text/plain": [
       "Output()"
      ]
     },
     "metadata": {},
     "output_type": "display_data"
    },
    {
     "data": {
      "application/vnd.jupyter.widget-view+json": {
       "model_id": "a32b9a4eb4e347e1968dd822302ab184",
       "version_major": 2,
       "version_minor": 0
      },
      "text/plain": [
       "Output()"
      ]
     },
     "metadata": {},
     "output_type": "display_data"
    },
    {
     "data": {
      "application/vnd.jupyter.widget-view+json": {
       "model_id": "2a5bd0b303464e38af31abe757373b66",
       "version_major": 2,
       "version_minor": 0
      },
      "text/plain": [
       "Output()"
      ]
     },
     "metadata": {},
     "output_type": "display_data"
    },
    {
     "data": {
      "application/vnd.jupyter.widget-view+json": {
       "model_id": "fb235d4173cc4e38954b901934f6b078",
       "version_major": 2,
       "version_minor": 0
      },
      "text/plain": [
       "Output()"
      ]
     },
     "metadata": {},
     "output_type": "display_data"
    },
    {
     "data": {
      "application/vnd.jupyter.widget-view+json": {
       "model_id": "b0772c63ac3b459d86769414ff9d821b",
       "version_major": 2,
       "version_minor": 0
      },
      "text/plain": [
       "Output()"
      ]
     },
     "metadata": {},
     "output_type": "display_data"
    },
    {
     "data": {
      "application/vnd.jupyter.widget-view+json": {
       "model_id": "575d1ee3f60a413b971e0366176fe39e",
       "version_major": 2,
       "version_minor": 0
      },
      "text/plain": [
       "Output()"
      ]
     },
     "metadata": {},
     "output_type": "display_data"
    },
    {
     "data": {
      "application/vnd.jupyter.widget-view+json": {
       "model_id": "f6eac94c22c14d45b7c176c5c4e5bd3c",
       "version_major": 2,
       "version_minor": 0
      },
      "text/plain": [
       "Output()"
      ]
     },
     "metadata": {},
     "output_type": "display_data"
    },
    {
     "data": {
      "application/vnd.jupyter.widget-view+json": {
       "model_id": "d57ce2e328f34a5084c233da6f784d1a",
       "version_major": 2,
       "version_minor": 0
      },
      "text/plain": [
       "Output()"
      ]
     },
     "metadata": {},
     "output_type": "display_data"
    },
    {
     "data": {
      "application/vnd.jupyter.widget-view+json": {
       "model_id": "6d0de48eb5a54f81a233422634aab560",
       "version_major": 2,
       "version_minor": 0
      },
      "text/plain": [
       "Output()"
      ]
     },
     "metadata": {},
     "output_type": "display_data"
    },
    {
     "data": {
      "application/vnd.jupyter.widget-view+json": {
       "model_id": "ff7ac460a66449fca43f37c6a2e4da36",
       "version_major": 2,
       "version_minor": 0
      },
      "text/plain": [
       "Output()"
      ]
     },
     "metadata": {},
     "output_type": "display_data"
    },
    {
     "data": {
      "application/vnd.jupyter.widget-view+json": {
       "model_id": "b99ecd1e4db54fb899efa4986c4526d3",
       "version_major": 2,
       "version_minor": 0
      },
      "text/plain": [
       "Output()"
      ]
     },
     "metadata": {},
     "output_type": "display_data"
    },
    {
     "data": {
      "application/vnd.jupyter.widget-view+json": {
       "model_id": "187e871add7e479e9242be6450eed777",
       "version_major": 2,
       "version_minor": 0
      },
      "text/plain": [
       "Output()"
      ]
     },
     "metadata": {},
     "output_type": "display_data"
    },
    {
     "data": {
      "application/vnd.jupyter.widget-view+json": {
       "model_id": "c8b255db65c849e782b51f6f26adb000",
       "version_major": 2,
       "version_minor": 0
      },
      "text/plain": [
       "Output()"
      ]
     },
     "metadata": {},
     "output_type": "display_data"
    },
    {
     "data": {
      "application/vnd.jupyter.widget-view+json": {
       "model_id": "0132cfbd852d446ab1438ce96e0749b8",
       "version_major": 2,
       "version_minor": 0
      },
      "text/plain": [
       "Output()"
      ]
     },
     "metadata": {},
     "output_type": "display_data"
    },
    {
     "data": {
      "application/vnd.jupyter.widget-view+json": {
       "model_id": "b5909c39b6284c299f7c0bf9e7474ea1",
       "version_major": 2,
       "version_minor": 0
      },
      "text/plain": [
       "Output()"
      ]
     },
     "metadata": {},
     "output_type": "display_data"
    },
    {
     "data": {
      "application/vnd.jupyter.widget-view+json": {
       "model_id": "80622d93fb8b40f9ac5ee008274f3bf3",
       "version_major": 2,
       "version_minor": 0
      },
      "text/plain": [
       "Output()"
      ]
     },
     "metadata": {},
     "output_type": "display_data"
    },
    {
     "data": {
      "application/vnd.jupyter.widget-view+json": {
       "model_id": "8dfa0a2a1b5f46afae46061b5c6e7e4e",
       "version_major": 2,
       "version_minor": 0
      },
      "text/plain": [
       "Output()"
      ]
     },
     "metadata": {},
     "output_type": "display_data"
    },
    {
     "data": {
      "application/vnd.jupyter.widget-view+json": {
       "model_id": "6b409142c83b4153a196fb9a6c4d2d93",
       "version_major": 2,
       "version_minor": 0
      },
      "text/plain": [
       "Output()"
      ]
     },
     "metadata": {},
     "output_type": "display_data"
    },
    {
     "data": {
      "application/vnd.jupyter.widget-view+json": {
       "model_id": "88ae3f3a534945bda5de70c3119aa1ac",
       "version_major": 2,
       "version_minor": 0
      },
      "text/plain": [
       "Output()"
      ]
     },
     "metadata": {},
     "output_type": "display_data"
    },
    {
     "data": {
      "application/vnd.jupyter.widget-view+json": {
       "model_id": "a6970bea6d8a453fa3de40c093937719",
       "version_major": 2,
       "version_minor": 0
      },
      "text/plain": [
       "Output()"
      ]
     },
     "metadata": {},
     "output_type": "display_data"
    },
    {
     "data": {
      "application/vnd.jupyter.widget-view+json": {
       "model_id": "a442ff754a5c4815a3e535aac18a2066",
       "version_major": 2,
       "version_minor": 0
      },
      "text/plain": [
       "Output()"
      ]
     },
     "metadata": {},
     "output_type": "display_data"
    },
    {
     "data": {
      "application/vnd.jupyter.widget-view+json": {
       "model_id": "fb005433f866449799177d409216d651",
       "version_major": 2,
       "version_minor": 0
      },
      "text/plain": [
       "Output()"
      ]
     },
     "metadata": {},
     "output_type": "display_data"
    },
    {
     "data": {
      "application/vnd.jupyter.widget-view+json": {
       "model_id": "04cf3f88921d4869989ed57062d19155",
       "version_major": 2,
       "version_minor": 0
      },
      "text/plain": [
       "Output()"
      ]
     },
     "metadata": {},
     "output_type": "display_data"
    },
    {
     "data": {
      "application/vnd.jupyter.widget-view+json": {
       "model_id": "fc044b06221544e2843c7d0542f09731",
       "version_major": 2,
       "version_minor": 0
      },
      "text/plain": [
       "Output()"
      ]
     },
     "metadata": {},
     "output_type": "display_data"
    },
    {
     "data": {
      "application/vnd.jupyter.widget-view+json": {
       "model_id": "2a4d4695f8e84568b624604edf144fe9",
       "version_major": 2,
       "version_minor": 0
      },
      "text/plain": [
       "Output()"
      ]
     },
     "metadata": {},
     "output_type": "display_data"
    },
    {
     "data": {
      "application/vnd.jupyter.widget-view+json": {
       "model_id": "819623ea477e4f42afbb12f90957ca89",
       "version_major": 2,
       "version_minor": 0
      },
      "text/plain": [
       "Output()"
      ]
     },
     "metadata": {},
     "output_type": "display_data"
    },
    {
     "data": {
      "application/vnd.jupyter.widget-view+json": {
       "model_id": "51d9437811b84234b26b1c824a87fce3",
       "version_major": 2,
       "version_minor": 0
      },
      "text/plain": [
       "Output()"
      ]
     },
     "metadata": {},
     "output_type": "display_data"
    },
    {
     "data": {
      "application/vnd.jupyter.widget-view+json": {
       "model_id": "362d9d9cc9ac4d9f9e0ad619bb11c187",
       "version_major": 2,
       "version_minor": 0
      },
      "text/plain": [
       "Output()"
      ]
     },
     "metadata": {},
     "output_type": "display_data"
    },
    {
     "data": {
      "application/vnd.jupyter.widget-view+json": {
       "model_id": "a95f0eefa87848b9b89bdeb6149a2dd5",
       "version_major": 2,
       "version_minor": 0
      },
      "text/plain": [
       "Output()"
      ]
     },
     "metadata": {},
     "output_type": "display_data"
    },
    {
     "data": {
      "application/vnd.jupyter.widget-view+json": {
       "model_id": "e02e736ee46a4464a926600f940965db",
       "version_major": 2,
       "version_minor": 0
      },
      "text/plain": [
       "Output()"
      ]
     },
     "metadata": {},
     "output_type": "display_data"
    },
    {
     "data": {
      "application/vnd.jupyter.widget-view+json": {
       "model_id": "88eb88578c6f4f79993b0f68a91bd506",
       "version_major": 2,
       "version_minor": 0
      },
      "text/plain": [
       "Output()"
      ]
     },
     "metadata": {},
     "output_type": "display_data"
    },
    {
     "data": {
      "application/vnd.jupyter.widget-view+json": {
       "model_id": "1b658ea128064534b0f352cececf1762",
       "version_major": 2,
       "version_minor": 0
      },
      "text/plain": [
       "Output()"
      ]
     },
     "metadata": {},
     "output_type": "display_data"
    },
    {
     "data": {
      "application/vnd.jupyter.widget-view+json": {
       "model_id": "86f895e6df6c4928a1364c487437f205",
       "version_major": 2,
       "version_minor": 0
      },
      "text/plain": [
       "Output()"
      ]
     },
     "metadata": {},
     "output_type": "display_data"
    },
    {
     "data": {
      "application/vnd.jupyter.widget-view+json": {
       "model_id": "0d10df4e335f455e9e08672120d97987",
       "version_major": 2,
       "version_minor": 0
      },
      "text/plain": [
       "Output()"
      ]
     },
     "metadata": {},
     "output_type": "display_data"
    },
    {
     "data": {
      "application/vnd.jupyter.widget-view+json": {
       "model_id": "03746320d6514d98bac678b1f625d791",
       "version_major": 2,
       "version_minor": 0
      },
      "text/plain": [
       "Output()"
      ]
     },
     "metadata": {},
     "output_type": "display_data"
    },
    {
     "data": {
      "application/vnd.jupyter.widget-view+json": {
       "model_id": "1181ba15af6449e38d76f6a4c23e7b9f",
       "version_major": 2,
       "version_minor": 0
      },
      "text/plain": [
       "Output()"
      ]
     },
     "metadata": {},
     "output_type": "display_data"
    },
    {
     "data": {
      "application/vnd.jupyter.widget-view+json": {
       "model_id": "d8df1038af754f6a8e1b50668d7faf01",
       "version_major": 2,
       "version_minor": 0
      },
      "text/plain": [
       "Output()"
      ]
     },
     "metadata": {},
     "output_type": "display_data"
    },
    {
     "data": {
      "application/vnd.jupyter.widget-view+json": {
       "model_id": "e0ae6f80db2049b3ab7043ea2092149c",
       "version_major": 2,
       "version_minor": 0
      },
      "text/plain": [
       "Output()"
      ]
     },
     "metadata": {},
     "output_type": "display_data"
    },
    {
     "data": {
      "application/vnd.jupyter.widget-view+json": {
       "model_id": "33a383b9a9a943718f3a8d3116e678a0",
       "version_major": 2,
       "version_minor": 0
      },
      "text/plain": [
       "Output()"
      ]
     },
     "metadata": {},
     "output_type": "display_data"
    },
    {
     "data": {
      "application/vnd.jupyter.widget-view+json": {
       "model_id": "a093e73453dc4842ba32b177c4c363ff",
       "version_major": 2,
       "version_minor": 0
      },
      "text/plain": [
       "Output()"
      ]
     },
     "metadata": {},
     "output_type": "display_data"
    },
    {
     "data": {
      "application/vnd.jupyter.widget-view+json": {
       "model_id": "57f72729dcf140e7a4349f845d23599f",
       "version_major": 2,
       "version_minor": 0
      },
      "text/plain": [
       "Output()"
      ]
     },
     "metadata": {},
     "output_type": "display_data"
    },
    {
     "data": {
      "application/vnd.jupyter.widget-view+json": {
       "model_id": "7f6ead38fddb4338a0b5cfa9855d55a3",
       "version_major": 2,
       "version_minor": 0
      },
      "text/plain": [
       "Output()"
      ]
     },
     "metadata": {},
     "output_type": "display_data"
    },
    {
     "data": {
      "application/vnd.jupyter.widget-view+json": {
       "model_id": "fb9370f4d78b4d55878d9b240b955676",
       "version_major": 2,
       "version_minor": 0
      },
      "text/plain": [
       "Output()"
      ]
     },
     "metadata": {},
     "output_type": "display_data"
    },
    {
     "data": {
      "application/vnd.jupyter.widget-view+json": {
       "model_id": "8edeb27927854ce1bd63bdbc85ea8775",
       "version_major": 2,
       "version_minor": 0
      },
      "text/plain": [
       "Output()"
      ]
     },
     "metadata": {},
     "output_type": "display_data"
    },
    {
     "data": {
      "application/vnd.jupyter.widget-view+json": {
       "model_id": "aa78a0bcb09544b3a95b808daaaafabf",
       "version_major": 2,
       "version_minor": 0
      },
      "text/plain": [
       "Output()"
      ]
     },
     "metadata": {},
     "output_type": "display_data"
    },
    {
     "data": {
      "application/vnd.jupyter.widget-view+json": {
       "model_id": "37da736771474f1a96f1697680beb7f3",
       "version_major": 2,
       "version_minor": 0
      },
      "text/plain": [
       "Output()"
      ]
     },
     "metadata": {},
     "output_type": "display_data"
    },
    {
     "data": {
      "application/vnd.jupyter.widget-view+json": {
       "model_id": "1324de3983ec4d1680958ef347e86134",
       "version_major": 2,
       "version_minor": 0
      },
      "text/plain": [
       "Output()"
      ]
     },
     "metadata": {},
     "output_type": "display_data"
    },
    {
     "data": {
      "application/vnd.jupyter.widget-view+json": {
       "model_id": "129d14ffa9ce4da2af2011dfac37777f",
       "version_major": 2,
       "version_minor": 0
      },
      "text/plain": [
       "Output()"
      ]
     },
     "metadata": {},
     "output_type": "display_data"
    },
    {
     "data": {
      "application/vnd.jupyter.widget-view+json": {
       "model_id": "8c92d3316fcf4181804e8176a97cecd6",
       "version_major": 2,
       "version_minor": 0
      },
      "text/plain": [
       "Output()"
      ]
     },
     "metadata": {},
     "output_type": "display_data"
    },
    {
     "data": {
      "application/vnd.jupyter.widget-view+json": {
       "model_id": "dc2e5033c11c4584a567a81d5b290dc9",
       "version_major": 2,
       "version_minor": 0
      },
      "text/plain": [
       "Output()"
      ]
     },
     "metadata": {},
     "output_type": "display_data"
    },
    {
     "data": {
      "application/vnd.jupyter.widget-view+json": {
       "model_id": "7fcedefc32ef478484b1c8abd71a411e",
       "version_major": 2,
       "version_minor": 0
      },
      "text/plain": [
       "Output()"
      ]
     },
     "metadata": {},
     "output_type": "display_data"
    },
    {
     "data": {
      "application/vnd.jupyter.widget-view+json": {
       "model_id": "4b0d8a8e5a234a2c8b5ddfbf6cfcd360",
       "version_major": 2,
       "version_minor": 0
      },
      "text/plain": [
       "Output()"
      ]
     },
     "metadata": {},
     "output_type": "display_data"
    },
    {
     "data": {
      "application/vnd.jupyter.widget-view+json": {
       "model_id": "666e4f4820004f4aa9a36a5c3d43c69c",
       "version_major": 2,
       "version_minor": 0
      },
      "text/plain": [
       "Output()"
      ]
     },
     "metadata": {},
     "output_type": "display_data"
    },
    {
     "data": {
      "application/vnd.jupyter.widget-view+json": {
       "model_id": "a5f4509d93704af481b9c8f4b03817d1",
       "version_major": 2,
       "version_minor": 0
      },
      "text/plain": [
       "Output()"
      ]
     },
     "metadata": {},
     "output_type": "display_data"
    },
    {
     "data": {
      "application/vnd.jupyter.widget-view+json": {
       "model_id": "4579c9ef63744284871f197ab29c7908",
       "version_major": 2,
       "version_minor": 0
      },
      "text/plain": [
       "Output()"
      ]
     },
     "metadata": {},
     "output_type": "display_data"
    },
    {
     "data": {
      "application/vnd.jupyter.widget-view+json": {
       "model_id": "4586c52fc43e4171b707a34f97a4b0fb",
       "version_major": 2,
       "version_minor": 0
      },
      "text/plain": [
       "Output()"
      ]
     },
     "metadata": {},
     "output_type": "display_data"
    },
    {
     "data": {
      "application/vnd.jupyter.widget-view+json": {
       "model_id": "54adfd658220412298c55c46facd4397",
       "version_major": 2,
       "version_minor": 0
      },
      "text/plain": [
       "Output()"
      ]
     },
     "metadata": {},
     "output_type": "display_data"
    },
    {
     "data": {
      "application/vnd.jupyter.widget-view+json": {
       "model_id": "2ef9e449f35e4e4abfce10d65ad2bb3e",
       "version_major": 2,
       "version_minor": 0
      },
      "text/plain": [
       "Output()"
      ]
     },
     "metadata": {},
     "output_type": "display_data"
    },
    {
     "data": {
      "application/vnd.jupyter.widget-view+json": {
       "model_id": "4abdd56a9943449686962f4819952739",
       "version_major": 2,
       "version_minor": 0
      },
      "text/plain": [
       "Output()"
      ]
     },
     "metadata": {},
     "output_type": "display_data"
    },
    {
     "data": {
      "application/vnd.jupyter.widget-view+json": {
       "model_id": "41037bf717164edc8973fa5683652aa8",
       "version_major": 2,
       "version_minor": 0
      },
      "text/plain": [
       "Output()"
      ]
     },
     "metadata": {},
     "output_type": "display_data"
    },
    {
     "data": {
      "application/vnd.jupyter.widget-view+json": {
       "model_id": "24b5bef18ebc45bcac68e32fd37876bb",
       "version_major": 2,
       "version_minor": 0
      },
      "text/plain": [
       "Output()"
      ]
     },
     "metadata": {},
     "output_type": "display_data"
    },
    {
     "data": {
      "application/vnd.jupyter.widget-view+json": {
       "model_id": "ef60c875b48d48c28bd3cb26b50c50fc",
       "version_major": 2,
       "version_minor": 0
      },
      "text/plain": [
       "Output()"
      ]
     },
     "metadata": {},
     "output_type": "display_data"
    },
    {
     "data": {
      "application/vnd.jupyter.widget-view+json": {
       "model_id": "e6c65046a42d4323b0ecbfc56c092dda",
       "version_major": 2,
       "version_minor": 0
      },
      "text/plain": [
       "Output()"
      ]
     },
     "metadata": {},
     "output_type": "display_data"
    },
    {
     "data": {
      "application/vnd.jupyter.widget-view+json": {
       "model_id": "24196b377ce540809266dac000c8d567",
       "version_major": 2,
       "version_minor": 0
      },
      "text/plain": [
       "Output()"
      ]
     },
     "metadata": {},
     "output_type": "display_data"
    },
    {
     "data": {
      "application/vnd.jupyter.widget-view+json": {
       "model_id": "4bfab3c90f804f3aad17ae1f7b2b11bc",
       "version_major": 2,
       "version_minor": 0
      },
      "text/plain": [
       "Output()"
      ]
     },
     "metadata": {},
     "output_type": "display_data"
    },
    {
     "data": {
      "application/vnd.jupyter.widget-view+json": {
       "model_id": "93792aa13c124fd99fcfd3af52ce9d83",
       "version_major": 2,
       "version_minor": 0
      },
      "text/plain": [
       "Output()"
      ]
     },
     "metadata": {},
     "output_type": "display_data"
    },
    {
     "data": {
      "application/vnd.jupyter.widget-view+json": {
       "model_id": "3c6c16a9ebc84a3a8f0522e2ee958ca1",
       "version_major": 2,
       "version_minor": 0
      },
      "text/plain": [
       "Output()"
      ]
     },
     "metadata": {},
     "output_type": "display_data"
    },
    {
     "data": {
      "application/vnd.jupyter.widget-view+json": {
       "model_id": "27adecb807b34c2a84ab5985fbb9dc2a",
       "version_major": 2,
       "version_minor": 0
      },
      "text/plain": [
       "Output()"
      ]
     },
     "metadata": {},
     "output_type": "display_data"
    },
    {
     "data": {
      "application/vnd.jupyter.widget-view+json": {
       "model_id": "cb775493901b4ba8ab2fb6b00468c75a",
       "version_major": 2,
       "version_minor": 0
      },
      "text/plain": [
       "Output()"
      ]
     },
     "metadata": {},
     "output_type": "display_data"
    },
    {
     "data": {
      "application/vnd.jupyter.widget-view+json": {
       "model_id": "48ea9a38b4ea4524a507b17a98baa1e6",
       "version_major": 2,
       "version_minor": 0
      },
      "text/plain": [
       "Output()"
      ]
     },
     "metadata": {},
     "output_type": "display_data"
    },
    {
     "data": {
      "application/vnd.jupyter.widget-view+json": {
       "model_id": "97dfc1c77dd7483e9403d21dee8e233f",
       "version_major": 2,
       "version_minor": 0
      },
      "text/plain": [
       "Output()"
      ]
     },
     "metadata": {},
     "output_type": "display_data"
    },
    {
     "data": {
      "application/vnd.jupyter.widget-view+json": {
       "model_id": "e7799a14ad2d4c12bab64fcd818a0000",
       "version_major": 2,
       "version_minor": 0
      },
      "text/plain": [
       "Output()"
      ]
     },
     "metadata": {},
     "output_type": "display_data"
    },
    {
     "data": {
      "application/vnd.jupyter.widget-view+json": {
       "model_id": "155b9af6c55f4e83bdaff87af48c7d59",
       "version_major": 2,
       "version_minor": 0
      },
      "text/plain": [
       "Output()"
      ]
     },
     "metadata": {},
     "output_type": "display_data"
    },
    {
     "data": {
      "application/vnd.jupyter.widget-view+json": {
       "model_id": "87aceed3760e45ebaf8c5281ca1f25b4",
       "version_major": 2,
       "version_minor": 0
      },
      "text/plain": [
       "Output()"
      ]
     },
     "metadata": {},
     "output_type": "display_data"
    },
    {
     "data": {
      "application/vnd.jupyter.widget-view+json": {
       "model_id": "f6728d019ee24f4a9208b6313c125d1a",
       "version_major": 2,
       "version_minor": 0
      },
      "text/plain": [
       "Output()"
      ]
     },
     "metadata": {},
     "output_type": "display_data"
    },
    {
     "data": {
      "application/vnd.jupyter.widget-view+json": {
       "model_id": "4ad80bdb6f794c49a0888e4f7563686e",
       "version_major": 2,
       "version_minor": 0
      },
      "text/plain": [
       "Output()"
      ]
     },
     "metadata": {},
     "output_type": "display_data"
    },
    {
     "data": {
      "application/vnd.jupyter.widget-view+json": {
       "model_id": "a97a77db296141f9b2ca95e997436c6a",
       "version_major": 2,
       "version_minor": 0
      },
      "text/plain": [
       "Output()"
      ]
     },
     "metadata": {},
     "output_type": "display_data"
    },
    {
     "data": {
      "application/vnd.jupyter.widget-view+json": {
       "model_id": "1df394d70c49467597aaa3bda911f56e",
       "version_major": 2,
       "version_minor": 0
      },
      "text/plain": [
       "Output()"
      ]
     },
     "metadata": {},
     "output_type": "display_data"
    },
    {
     "data": {
      "application/vnd.jupyter.widget-view+json": {
       "model_id": "0f44ee90688c409e942c385806547458",
       "version_major": 2,
       "version_minor": 0
      },
      "text/plain": [
       "Output()"
      ]
     },
     "metadata": {},
     "output_type": "display_data"
    },
    {
     "data": {
      "application/vnd.jupyter.widget-view+json": {
       "model_id": "02d8560df47a4b39b7a1ac9844a154f0",
       "version_major": 2,
       "version_minor": 0
      },
      "text/plain": [
       "Output()"
      ]
     },
     "metadata": {},
     "output_type": "display_data"
    },
    {
     "data": {
      "application/vnd.jupyter.widget-view+json": {
       "model_id": "ad7ebbd4b0a24799a8bcde386f7e527a",
       "version_major": 2,
       "version_minor": 0
      },
      "text/plain": [
       "Output()"
      ]
     },
     "metadata": {},
     "output_type": "display_data"
    },
    {
     "data": {
      "application/vnd.jupyter.widget-view+json": {
       "model_id": "00de226b8c084b4ba640d044fc5e0975",
       "version_major": 2,
       "version_minor": 0
      },
      "text/plain": [
       "Output()"
      ]
     },
     "metadata": {},
     "output_type": "display_data"
    },
    {
     "data": {
      "application/vnd.jupyter.widget-view+json": {
       "model_id": "67b5c03717684b3a951028ff6319e77a",
       "version_major": 2,
       "version_minor": 0
      },
      "text/plain": [
       "Output()"
      ]
     },
     "metadata": {},
     "output_type": "display_data"
    },
    {
     "data": {
      "application/vnd.jupyter.widget-view+json": {
       "model_id": "0328bb87def844ef8210123497b0b8a3",
       "version_major": 2,
       "version_minor": 0
      },
      "text/plain": [
       "Output()"
      ]
     },
     "metadata": {},
     "output_type": "display_data"
    },
    {
     "data": {
      "application/vnd.jupyter.widget-view+json": {
       "model_id": "02adcfbc7d0b457a8751c2eec349e6fe",
       "version_major": 2,
       "version_minor": 0
      },
      "text/plain": [
       "Output()"
      ]
     },
     "metadata": {},
     "output_type": "display_data"
    },
    {
     "data": {
      "application/vnd.jupyter.widget-view+json": {
       "model_id": "d19e1a2fd52248d1bbabd737b0aab3fa",
       "version_major": 2,
       "version_minor": 0
      },
      "text/plain": [
       "Output()"
      ]
     },
     "metadata": {},
     "output_type": "display_data"
    },
    {
     "data": {
      "application/vnd.jupyter.widget-view+json": {
       "model_id": "a2c5df4c922a4f3ea57d27ad48789fbe",
       "version_major": 2,
       "version_minor": 0
      },
      "text/plain": [
       "Output()"
      ]
     },
     "metadata": {},
     "output_type": "display_data"
    },
    {
     "data": {
      "application/vnd.jupyter.widget-view+json": {
       "model_id": "568ca84b9805482abf81ecb30a3353cf",
       "version_major": 2,
       "version_minor": 0
      },
      "text/plain": [
       "Output()"
      ]
     },
     "metadata": {},
     "output_type": "display_data"
    },
    {
     "data": {
      "application/vnd.jupyter.widget-view+json": {
       "model_id": "25e206007451414db07285f9bfac1be8",
       "version_major": 2,
       "version_minor": 0
      },
      "text/plain": [
       "Output()"
      ]
     },
     "metadata": {},
     "output_type": "display_data"
    },
    {
     "data": {
      "application/vnd.jupyter.widget-view+json": {
       "model_id": "a6a9b89f43954414a5a604425dcea343",
       "version_major": 2,
       "version_minor": 0
      },
      "text/plain": [
       "Output()"
      ]
     },
     "metadata": {},
     "output_type": "display_data"
    },
    {
     "data": {
      "application/vnd.jupyter.widget-view+json": {
       "model_id": "35b4bcc8e0c149e9ad53bd5eab7848f9",
       "version_major": 2,
       "version_minor": 0
      },
      "text/plain": [
       "Output()"
      ]
     },
     "metadata": {},
     "output_type": "display_data"
    },
    {
     "data": {
      "application/vnd.jupyter.widget-view+json": {
       "model_id": "19928941475045918d30ed94085251be",
       "version_major": 2,
       "version_minor": 0
      },
      "text/plain": [
       "Output()"
      ]
     },
     "metadata": {},
     "output_type": "display_data"
    },
    {
     "data": {
      "application/vnd.jupyter.widget-view+json": {
       "model_id": "1d0006e7aafa425c996db8c6efe74b16",
       "version_major": 2,
       "version_minor": 0
      },
      "text/plain": [
       "Output()"
      ]
     },
     "metadata": {},
     "output_type": "display_data"
    },
    {
     "data": {
      "application/vnd.jupyter.widget-view+json": {
       "model_id": "f9ab48fa80ce428d92fa671d4d7e3c7d",
       "version_major": 2,
       "version_minor": 0
      },
      "text/plain": [
       "Output()"
      ]
     },
     "metadata": {},
     "output_type": "display_data"
    },
    {
     "data": {
      "application/vnd.jupyter.widget-view+json": {
       "model_id": "90754e1434614460ae6bbda43073e27c",
       "version_major": 2,
       "version_minor": 0
      },
      "text/plain": [
       "Output()"
      ]
     },
     "metadata": {},
     "output_type": "display_data"
    },
    {
     "data": {
      "application/vnd.jupyter.widget-view+json": {
       "model_id": "ce6a02ab362647fc986e47ab8f53b388",
       "version_major": 2,
       "version_minor": 0
      },
      "text/plain": [
       "Output()"
      ]
     },
     "metadata": {},
     "output_type": "display_data"
    },
    {
     "data": {
      "application/vnd.jupyter.widget-view+json": {
       "model_id": "fbb63e839ce54faf9317db9852492d19",
       "version_major": 2,
       "version_minor": 0
      },
      "text/plain": [
       "Output()"
      ]
     },
     "metadata": {},
     "output_type": "display_data"
    },
    {
     "data": {
      "application/vnd.jupyter.widget-view+json": {
       "model_id": "bab8fd18dc644402b90295648dbd466b",
       "version_major": 2,
       "version_minor": 0
      },
      "text/plain": [
       "Output()"
      ]
     },
     "metadata": {},
     "output_type": "display_data"
    },
    {
     "data": {
      "application/vnd.jupyter.widget-view+json": {
       "model_id": "09cb86f186134a06a74e5bda41464cef",
       "version_major": 2,
       "version_minor": 0
      },
      "text/plain": [
       "Output()"
      ]
     },
     "metadata": {},
     "output_type": "display_data"
    },
    {
     "data": {
      "application/vnd.jupyter.widget-view+json": {
       "model_id": "5f2be2a443ec468ebd33dfec2f10916e",
       "version_major": 2,
       "version_minor": 0
      },
      "text/plain": [
       "Output()"
      ]
     },
     "metadata": {},
     "output_type": "display_data"
    },
    {
     "data": {
      "application/vnd.jupyter.widget-view+json": {
       "model_id": "ac53f7f91fb943fe904d077d7ef8c6fe",
       "version_major": 2,
       "version_minor": 0
      },
      "text/plain": [
       "Output()"
      ]
     },
     "metadata": {},
     "output_type": "display_data"
    },
    {
     "data": {
      "application/vnd.jupyter.widget-view+json": {
       "model_id": "b640708edd8946e38d965033b7dfa7e5",
       "version_major": 2,
       "version_minor": 0
      },
      "text/plain": [
       "Output()"
      ]
     },
     "metadata": {},
     "output_type": "display_data"
    },
    {
     "data": {
      "application/vnd.jupyter.widget-view+json": {
       "model_id": "ecfe6e9c52744e4e9d73fd8036dfa48b",
       "version_major": 2,
       "version_minor": 0
      },
      "text/plain": [
       "Output()"
      ]
     },
     "metadata": {},
     "output_type": "display_data"
    },
    {
     "data": {
      "application/vnd.jupyter.widget-view+json": {
       "model_id": "939bac2f37ca4f15bf87850ea8007b6a",
       "version_major": 2,
       "version_minor": 0
      },
      "text/plain": [
       "Output()"
      ]
     },
     "metadata": {},
     "output_type": "display_data"
    },
    {
     "data": {
      "application/vnd.jupyter.widget-view+json": {
       "model_id": "2bc5b913b5bc470ab4016380e96faaea",
       "version_major": 2,
       "version_minor": 0
      },
      "text/plain": [
       "Output()"
      ]
     },
     "metadata": {},
     "output_type": "display_data"
    },
    {
     "data": {
      "application/vnd.jupyter.widget-view+json": {
       "model_id": "ac957ddc4e2741818110c11572cd71e5",
       "version_major": 2,
       "version_minor": 0
      },
      "text/plain": [
       "Output()"
      ]
     },
     "metadata": {},
     "output_type": "display_data"
    },
    {
     "data": {
      "application/vnd.jupyter.widget-view+json": {
       "model_id": "08045a7ac2e5426b8a45eeb91f9cd435",
       "version_major": 2,
       "version_minor": 0
      },
      "text/plain": [
       "Output()"
      ]
     },
     "metadata": {},
     "output_type": "display_data"
    },
    {
     "data": {
      "application/vnd.jupyter.widget-view+json": {
       "model_id": "83df38e33e2c4aef83685607d26ca2e4",
       "version_major": 2,
       "version_minor": 0
      },
      "text/plain": [
       "Output()"
      ]
     },
     "metadata": {},
     "output_type": "display_data"
    },
    {
     "data": {
      "application/vnd.jupyter.widget-view+json": {
       "model_id": "f5caa3577d314a0fa2dce214950e4989",
       "version_major": 2,
       "version_minor": 0
      },
      "text/plain": [
       "Output()"
      ]
     },
     "metadata": {},
     "output_type": "display_data"
    },
    {
     "data": {
      "application/vnd.jupyter.widget-view+json": {
       "model_id": "2a3b819076824b1f9b6ae22796639d8c",
       "version_major": 2,
       "version_minor": 0
      },
      "text/plain": [
       "Output()"
      ]
     },
     "metadata": {},
     "output_type": "display_data"
    },
    {
     "data": {
      "application/vnd.jupyter.widget-view+json": {
       "model_id": "b3180ed762074d649d78ae2117cbc73e",
       "version_major": 2,
       "version_minor": 0
      },
      "text/plain": [
       "Output()"
      ]
     },
     "metadata": {},
     "output_type": "display_data"
    },
    {
     "data": {
      "application/vnd.jupyter.widget-view+json": {
       "model_id": "b7084575f7e54028879acd6d6b2f32fa",
       "version_major": 2,
       "version_minor": 0
      },
      "text/plain": [
       "Output()"
      ]
     },
     "metadata": {},
     "output_type": "display_data"
    },
    {
     "data": {
      "application/vnd.jupyter.widget-view+json": {
       "model_id": "b3c16a27947b47de9930f1a54c6ccd43",
       "version_major": 2,
       "version_minor": 0
      },
      "text/plain": [
       "Output()"
      ]
     },
     "metadata": {},
     "output_type": "display_data"
    },
    {
     "data": {
      "application/vnd.jupyter.widget-view+json": {
       "model_id": "e344c97aa5784ca39c9ac7756588912a",
       "version_major": 2,
       "version_minor": 0
      },
      "text/plain": [
       "Output()"
      ]
     },
     "metadata": {},
     "output_type": "display_data"
    },
    {
     "data": {
      "application/vnd.jupyter.widget-view+json": {
       "model_id": "eba2975135654c78a53f01493a31f15b",
       "version_major": 2,
       "version_minor": 0
      },
      "text/plain": [
       "Output()"
      ]
     },
     "metadata": {},
     "output_type": "display_data"
    },
    {
     "data": {
      "application/vnd.jupyter.widget-view+json": {
       "model_id": "c9090d672565423ebc57dd1e51800f15",
       "version_major": 2,
       "version_minor": 0
      },
      "text/plain": [
       "Output()"
      ]
     },
     "metadata": {},
     "output_type": "display_data"
    },
    {
     "data": {
      "application/vnd.jupyter.widget-view+json": {
       "model_id": "2573b13020954b708258f4aaec0e896d",
       "version_major": 2,
       "version_minor": 0
      },
      "text/plain": [
       "Output()"
      ]
     },
     "metadata": {},
     "output_type": "display_data"
    },
    {
     "data": {
      "application/vnd.jupyter.widget-view+json": {
       "model_id": "72a807912a0b4144b20319dc029a7e2e",
       "version_major": 2,
       "version_minor": 0
      },
      "text/plain": [
       "Output()"
      ]
     },
     "metadata": {},
     "output_type": "display_data"
    },
    {
     "data": {
      "application/vnd.jupyter.widget-view+json": {
       "model_id": "21df91535fea4d57a2e0a0d794481ad4",
       "version_major": 2,
       "version_minor": 0
      },
      "text/plain": [
       "Output()"
      ]
     },
     "metadata": {},
     "output_type": "display_data"
    },
    {
     "data": {
      "application/vnd.jupyter.widget-view+json": {
       "model_id": "16c02557a99b4d6f8c54a4ed81abeb7a",
       "version_major": 2,
       "version_minor": 0
      },
      "text/plain": [
       "Output()"
      ]
     },
     "metadata": {},
     "output_type": "display_data"
    },
    {
     "data": {
      "application/vnd.jupyter.widget-view+json": {
       "model_id": "81571a60e38e4f58aa3d34e3c945f930",
       "version_major": 2,
       "version_minor": 0
      },
      "text/plain": [
       "Output()"
      ]
     },
     "metadata": {},
     "output_type": "display_data"
    },
    {
     "data": {
      "application/vnd.jupyter.widget-view+json": {
       "model_id": "013534a544ce438aa05b8d0a9ada3ff1",
       "version_major": 2,
       "version_minor": 0
      },
      "text/plain": [
       "Output()"
      ]
     },
     "metadata": {},
     "output_type": "display_data"
    },
    {
     "data": {
      "application/vnd.jupyter.widget-view+json": {
       "model_id": "bcfdaec611144063b6d0763c930953a7",
       "version_major": 2,
       "version_minor": 0
      },
      "text/plain": [
       "Output()"
      ]
     },
     "metadata": {},
     "output_type": "display_data"
    },
    {
     "data": {
      "application/vnd.jupyter.widget-view+json": {
       "model_id": "d26491c0f4654ab1b6ab1ffc85b114a6",
       "version_major": 2,
       "version_minor": 0
      },
      "text/plain": [
       "Output()"
      ]
     },
     "metadata": {},
     "output_type": "display_data"
    },
    {
     "data": {
      "application/vnd.jupyter.widget-view+json": {
       "model_id": "797176743d424314aac7d27489d2f1f8",
       "version_major": 2,
       "version_minor": 0
      },
      "text/plain": [
       "Output()"
      ]
     },
     "metadata": {},
     "output_type": "display_data"
    },
    {
     "data": {
      "application/vnd.jupyter.widget-view+json": {
       "model_id": "031e8401bcc548b0969f862e33192311",
       "version_major": 2,
       "version_minor": 0
      },
      "text/plain": [
       "Output()"
      ]
     },
     "metadata": {},
     "output_type": "display_data"
    },
    {
     "data": {
      "application/vnd.jupyter.widget-view+json": {
       "model_id": "482464ca68b84e479782b644e445fa4a",
       "version_major": 2,
       "version_minor": 0
      },
      "text/plain": [
       "Output()"
      ]
     },
     "metadata": {},
     "output_type": "display_data"
    },
    {
     "data": {
      "application/vnd.jupyter.widget-view+json": {
       "model_id": "f930b3f7846a4e7081e8158f84155418",
       "version_major": 2,
       "version_minor": 0
      },
      "text/plain": [
       "Output()"
      ]
     },
     "metadata": {},
     "output_type": "display_data"
    },
    {
     "data": {
      "application/vnd.jupyter.widget-view+json": {
       "model_id": "c52be025010a451da491372ce5f30362",
       "version_major": 2,
       "version_minor": 0
      },
      "text/plain": [
       "Output()"
      ]
     },
     "metadata": {},
     "output_type": "display_data"
    },
    {
     "data": {
      "application/vnd.jupyter.widget-view+json": {
       "model_id": "8519f4641e6f42e097647e3a26419265",
       "version_major": 2,
       "version_minor": 0
      },
      "text/plain": [
       "Output()"
      ]
     },
     "metadata": {},
     "output_type": "display_data"
    },
    {
     "data": {
      "application/vnd.jupyter.widget-view+json": {
       "model_id": "4d0593abfac9455baa844759b21ec0ec",
       "version_major": 2,
       "version_minor": 0
      },
      "text/plain": [
       "Output()"
      ]
     },
     "metadata": {},
     "output_type": "display_data"
    },
    {
     "data": {
      "application/vnd.jupyter.widget-view+json": {
       "model_id": "7f996b45ff84418089b16f11633f76c8",
       "version_major": 2,
       "version_minor": 0
      },
      "text/plain": [
       "Output()"
      ]
     },
     "metadata": {},
     "output_type": "display_data"
    },
    {
     "data": {
      "application/vnd.jupyter.widget-view+json": {
       "model_id": "1081923c599743a2bb6df956a5980d83",
       "version_major": 2,
       "version_minor": 0
      },
      "text/plain": [
       "Output()"
      ]
     },
     "metadata": {},
     "output_type": "display_data"
    },
    {
     "data": {
      "application/vnd.jupyter.widget-view+json": {
       "model_id": "4fcd4c9a6f074eb4820a5494940d8a68",
       "version_major": 2,
       "version_minor": 0
      },
      "text/plain": [
       "Output()"
      ]
     },
     "metadata": {},
     "output_type": "display_data"
    },
    {
     "data": {
      "application/vnd.jupyter.widget-view+json": {
       "model_id": "2effa47442ab436a8ce48bf32b25d7d9",
       "version_major": 2,
       "version_minor": 0
      },
      "text/plain": [
       "Output()"
      ]
     },
     "metadata": {},
     "output_type": "display_data"
    },
    {
     "data": {
      "application/vnd.jupyter.widget-view+json": {
       "model_id": "43f4bf78123f44019bc0423cf199755e",
       "version_major": 2,
       "version_minor": 0
      },
      "text/plain": [
       "Output()"
      ]
     },
     "metadata": {},
     "output_type": "display_data"
    },
    {
     "data": {
      "application/vnd.jupyter.widget-view+json": {
       "model_id": "7d1aa808efd04c81a80431c1517773f9",
       "version_major": 2,
       "version_minor": 0
      },
      "text/plain": [
       "Output()"
      ]
     },
     "metadata": {},
     "output_type": "display_data"
    },
    {
     "data": {
      "application/vnd.jupyter.widget-view+json": {
       "model_id": "6561e8649e2444d19d3beb5da0918b95",
       "version_major": 2,
       "version_minor": 0
      },
      "text/plain": [
       "Output()"
      ]
     },
     "metadata": {},
     "output_type": "display_data"
    },
    {
     "data": {
      "application/vnd.jupyter.widget-view+json": {
       "model_id": "72427314d9b04216ae14323cd15bc8ba",
       "version_major": 2,
       "version_minor": 0
      },
      "text/plain": [
       "Output()"
      ]
     },
     "metadata": {},
     "output_type": "display_data"
    },
    {
     "data": {
      "application/vnd.jupyter.widget-view+json": {
       "model_id": "6056ee14b8974b14b57177a7b2f384be",
       "version_major": 2,
       "version_minor": 0
      },
      "text/plain": [
       "Output()"
      ]
     },
     "metadata": {},
     "output_type": "display_data"
    },
    {
     "data": {
      "application/vnd.jupyter.widget-view+json": {
       "model_id": "4c4eb01f39e14c1ca0a637179b43db4c",
       "version_major": 2,
       "version_minor": 0
      },
      "text/plain": [
       "Output()"
      ]
     },
     "metadata": {},
     "output_type": "display_data"
    },
    {
     "data": {
      "application/vnd.jupyter.widget-view+json": {
       "model_id": "9158d1b929be4304ad147e3ee5c72b44",
       "version_major": 2,
       "version_minor": 0
      },
      "text/plain": [
       "Output()"
      ]
     },
     "metadata": {},
     "output_type": "display_data"
    },
    {
     "data": {
      "application/vnd.jupyter.widget-view+json": {
       "model_id": "7ed5902a7e014b7aae2eb8ea3ba0a96c",
       "version_major": 2,
       "version_minor": 0
      },
      "text/plain": [
       "Output()"
      ]
     },
     "metadata": {},
     "output_type": "display_data"
    },
    {
     "data": {
      "application/vnd.jupyter.widget-view+json": {
       "model_id": "c8b5e626ad124d8fb87da37c52d9e7a8",
       "version_major": 2,
       "version_minor": 0
      },
      "text/plain": [
       "Output()"
      ]
     },
     "metadata": {},
     "output_type": "display_data"
    },
    {
     "data": {
      "application/vnd.jupyter.widget-view+json": {
       "model_id": "635aada2a00949c19fb68b07f45d4590",
       "version_major": 2,
       "version_minor": 0
      },
      "text/plain": [
       "Output()"
      ]
     },
     "metadata": {},
     "output_type": "display_data"
    },
    {
     "data": {
      "application/vnd.jupyter.widget-view+json": {
       "model_id": "4f3a9a6aca3243f3945bd656f5408d20",
       "version_major": 2,
       "version_minor": 0
      },
      "text/plain": [
       "Output()"
      ]
     },
     "metadata": {},
     "output_type": "display_data"
    },
    {
     "data": {
      "application/vnd.jupyter.widget-view+json": {
       "model_id": "19c4e1b29cf142e28e8db1f5001a7fb2",
       "version_major": 2,
       "version_minor": 0
      },
      "text/plain": [
       "Output()"
      ]
     },
     "metadata": {},
     "output_type": "display_data"
    },
    {
     "data": {
      "application/vnd.jupyter.widget-view+json": {
       "model_id": "fdedffffb6904f42848ea0dd5c055644",
       "version_major": 2,
       "version_minor": 0
      },
      "text/plain": [
       "Output()"
      ]
     },
     "metadata": {},
     "output_type": "display_data"
    },
    {
     "data": {
      "application/vnd.jupyter.widget-view+json": {
       "model_id": "6c29bbcd780d43e586f13dd1c09ed65b",
       "version_major": 2,
       "version_minor": 0
      },
      "text/plain": [
       "Output()"
      ]
     },
     "metadata": {},
     "output_type": "display_data"
    },
    {
     "data": {
      "application/vnd.jupyter.widget-view+json": {
       "model_id": "47eb6aa1a52e4724b04537613944aab9",
       "version_major": 2,
       "version_minor": 0
      },
      "text/plain": [
       "Output()"
      ]
     },
     "metadata": {},
     "output_type": "display_data"
    },
    {
     "data": {
      "application/vnd.jupyter.widget-view+json": {
       "model_id": "4ba6ebccd4344728b36c59fc2c6782b7",
       "version_major": 2,
       "version_minor": 0
      },
      "text/plain": [
       "Output()"
      ]
     },
     "metadata": {},
     "output_type": "display_data"
    },
    {
     "data": {
      "application/vnd.jupyter.widget-view+json": {
       "model_id": "882c85491c804daa8c619f13cfa1ec6e",
       "version_major": 2,
       "version_minor": 0
      },
      "text/plain": [
       "Output()"
      ]
     },
     "metadata": {},
     "output_type": "display_data"
    },
    {
     "data": {
      "application/vnd.jupyter.widget-view+json": {
       "model_id": "4be1cb52aad54e19bd4e6ec6028f8ef7",
       "version_major": 2,
       "version_minor": 0
      },
      "text/plain": [
       "Output()"
      ]
     },
     "metadata": {},
     "output_type": "display_data"
    },
    {
     "data": {
      "application/vnd.jupyter.widget-view+json": {
       "model_id": "97174863145b454bbd5099851f9e5518",
       "version_major": 2,
       "version_minor": 0
      },
      "text/plain": [
       "Output()"
      ]
     },
     "metadata": {},
     "output_type": "display_data"
    },
    {
     "data": {
      "application/vnd.jupyter.widget-view+json": {
       "model_id": "de1f50784e004937b021ed5e3c7f3558",
       "version_major": 2,
       "version_minor": 0
      },
      "text/plain": [
       "Output()"
      ]
     },
     "metadata": {},
     "output_type": "display_data"
    },
    {
     "data": {
      "application/vnd.jupyter.widget-view+json": {
       "model_id": "d5f691a1332a4d38a1b6019b13cc9aac",
       "version_major": 2,
       "version_minor": 0
      },
      "text/plain": [
       "Output()"
      ]
     },
     "metadata": {},
     "output_type": "display_data"
    },
    {
     "data": {
      "application/vnd.jupyter.widget-view+json": {
       "model_id": "6154edf539164154a1ed7d33d337927f",
       "version_major": 2,
       "version_minor": 0
      },
      "text/plain": [
       "Output()"
      ]
     },
     "metadata": {},
     "output_type": "display_data"
    },
    {
     "data": {
      "application/vnd.jupyter.widget-view+json": {
       "model_id": "01c5ebff55a142c5b04241a3ee2f8342",
       "version_major": 2,
       "version_minor": 0
      },
      "text/plain": [
       "Output()"
      ]
     },
     "metadata": {},
     "output_type": "display_data"
    },
    {
     "data": {
      "application/vnd.jupyter.widget-view+json": {
       "model_id": "e19c9d9bf48c4fc79dcec5a670827742",
       "version_major": 2,
       "version_minor": 0
      },
      "text/plain": [
       "Output()"
      ]
     },
     "metadata": {},
     "output_type": "display_data"
    },
    {
     "data": {
      "application/vnd.jupyter.widget-view+json": {
       "model_id": "7d6165e56470447b863914a111f5ed0e",
       "version_major": 2,
       "version_minor": 0
      },
      "text/plain": [
       "Output()"
      ]
     },
     "metadata": {},
     "output_type": "display_data"
    },
    {
     "data": {
      "application/vnd.jupyter.widget-view+json": {
       "model_id": "32545854bbd740f1933d6efd4e01912a",
       "version_major": 2,
       "version_minor": 0
      },
      "text/plain": [
       "Output()"
      ]
     },
     "metadata": {},
     "output_type": "display_data"
    },
    {
     "data": {
      "application/vnd.jupyter.widget-view+json": {
       "model_id": "d40ed5c48ea346f0a6971b392b46e37d",
       "version_major": 2,
       "version_minor": 0
      },
      "text/plain": [
       "Output()"
      ]
     },
     "metadata": {},
     "output_type": "display_data"
    },
    {
     "data": {
      "application/vnd.jupyter.widget-view+json": {
       "model_id": "e02b4f242a5142a1a9d28f0138b44105",
       "version_major": 2,
       "version_minor": 0
      },
      "text/plain": [
       "Output()"
      ]
     },
     "metadata": {},
     "output_type": "display_data"
    },
    {
     "data": {
      "application/vnd.jupyter.widget-view+json": {
       "model_id": "9a27bed49ee8496f886c4b90fae76aca",
       "version_major": 2,
       "version_minor": 0
      },
      "text/plain": [
       "Output()"
      ]
     },
     "metadata": {},
     "output_type": "display_data"
    },
    {
     "data": {
      "application/vnd.jupyter.widget-view+json": {
       "model_id": "a323838ae15645048a4aee9faec7d524",
       "version_major": 2,
       "version_minor": 0
      },
      "text/plain": [
       "Output()"
      ]
     },
     "metadata": {},
     "output_type": "display_data"
    },
    {
     "data": {
      "application/vnd.jupyter.widget-view+json": {
       "model_id": "cb06f166eb44449aa544d7bdb9ae21f5",
       "version_major": 2,
       "version_minor": 0
      },
      "text/plain": [
       "Output()"
      ]
     },
     "metadata": {},
     "output_type": "display_data"
    },
    {
     "data": {
      "application/vnd.jupyter.widget-view+json": {
       "model_id": "dad18f0ca6a14a869e74e7993b473362",
       "version_major": 2,
       "version_minor": 0
      },
      "text/plain": [
       "Output()"
      ]
     },
     "metadata": {},
     "output_type": "display_data"
    },
    {
     "data": {
      "application/vnd.jupyter.widget-view+json": {
       "model_id": "e96956dbcad24c37a27ddc6458c1bc52",
       "version_major": 2,
       "version_minor": 0
      },
      "text/plain": [
       "Output()"
      ]
     },
     "metadata": {},
     "output_type": "display_data"
    }
   ],
   "source": [
    "with using_project(\"mipro_v2_adv_metrics\"):\n",
    "    worker_gpt4o = dspy.OpenAI(model=\"gpt-4o\", model_type=\"chat\", max_tokens=5000)\n",
    "    dspy.configure(lm=worker_gpt4o)\n",
    "    mipro_trainset = [x.with_inputs('applicant') for x in trainset]\n",
    "    config = dict(num_candidates=10, init_temperature=0.1)\n",
    "    mipro_optimized = MIPROv2(metric=risk_assessment_metric_adv, **config)\n",
    "    mipro_optimized_advisor = mipro_optimized.compile(RiskAssessmentAgent(),\n",
    "                                                trainset=mipro_trainset,\n",
    "                                                max_bootstrapped_demos=2,\n",
    "                                                max_labeled_demos=2,\n",
    "                                                num_trials=5,\n",
    "                                                minibatch=False\n",
    "                                                )\n",
    "    mipro_optimized_advisor.save(f'mipro_optimized_advisor_compiled.json')\n",
    "    response = mipro_optimized_advisor(applicant_info)\n",
    "    print(f\"MIPRO Optimised response:\\n {response}\")\n",
    "    "
   ]
  },
  {
   "cell_type": "code",
   "execution_count": 48,
   "metadata": {},
   "outputs": [
    {
     "name": "stdout",
     "output_type": "stream",
     "text": [
      "MIPRO Optimised response:\n",
      " Based on the analysis, John Doe presents a Moderate risk for the\n",
      "$250,000 home mortgage. While he has a good credit score and stable\n",
      "employment in a promising field, the size of the loan relative to his\n",
      "income and existing debts means his debt-to-income ratio will\n",
      "significantly increase. His current financial obligations are\n",
      "manageable, but the additional mortgage could stretch his financial\n",
      "capacity. While he appears to be a responsible borrower, the lender\n",
      "may want to ensure he has a solid plan for managing the increased debt\n",
      "load. Overall, his risk level is moderate, with a need for careful\n",
      "monitoring of his capacity to manage the higher debt.\n"
     ]
    }
   ],
   "source": [
    "wrapped_response = textwrap.fill(response.answer, width=70)\n",
    "print(f\"MIPRO Optimised response:\\n {wrapped_response}\")"
   ]
  },
  {
   "cell_type": "code",
   "execution_count": 49,
   "metadata": {},
   "outputs": [
    {
     "name": "stdout",
     "output_type": "stream",
     "text": [
      "\n",
      "\n",
      "\n",
      "Analyze the provided financial information of the applicant to generate a comprehensive risk assessment. Consider key metrics such as credit score, debts, income, and debt-to-income ratio, as well as qualitative factors like employment stability and potential financial changes. Provide a detailed rationale that explains the step-by-step reasoning process used to evaluate each parameter, and conclude with a justified risk rating ranging from Low to High Risk.\n",
      "\n",
      "---\n",
      "\n",
      "Follow the following format.\n",
      "\n",
      "Question: ${question}\n",
      "\n",
      "Applicant: ${applicant}\n",
      "\n",
      "Reasoning: Let's think step by step in order to ${produce the answer}. We ...\n",
      "\n",
      "Answer: A thorough risk analysis about the applicant, justifying the assessment for each of the parameters considered from the applicant\n",
      "\n",
      "---\n",
      "\n",
      "Question: Analyze the applicant's financial information and return a risk assessment.\n",
      "\n",
      "Applicant: Name: John Smith Age: 35 Annual Income: $80,000 Credit Score: 750 Existing Debts: $0 Loan Amount Requested: $50,000 for a car loan Employment: Software Engineer at XYZ Corp for 5 years\n",
      "\n",
      "Reasoning: Let's think step by step in order to produce the answer. We start by evaluating each aspect of John Smith's financial profile to determine the level of risk associated with lending him the requested car loan. 1. **Age (35)**: John is in his mid-30s, an age where individuals typically have stable careers and financial responsibilities. This age factor suggests a neutral to positive risk, as he is likely to have gained financial experience. 2. **Annual Income ($80,000)**: This is a solid income level, especially for a single person or a household with moderate financial obligations, indicating a strong ability to repay the loan. This reduces the perceived risk. 3. **Credit Score (750)**: A credit score of 750 is considered excellent, suggesting that John has a history of managing his credit responsibly and is unlikely to default on the loan. 4. **Existing Debts ($0)**: With no existing debts, John's debt-to-income ratio is extremely low, which significantly lowers the risk and shows he has no current financial burdens that could interfere with new loan obligations. 5. **Loan Amount Requested ($50,000)**: The requested amount is reasonable compared to his income and zero existing debt, making it manageable and further lowering the risk. 6. **Employment (5 years as a Software Engineer at XYZ Corp)**: Five years of employment in a stable and high-demand field like software engineering at a presumably reputable company indicates job stability and consistent income, which are strong positive factors.\n",
      "\n",
      "Answer: Based on the analysis, John Smith presents a Low risk for the $50,000 car loan. The primary factors driving this assessment include his high income, excellent credit score, zero existing debt, and stable employment in a lucrative industry. The requested loan amount is reasonable in proportion to his financial profile, and his age suggests financial maturity. Overall, he appears to be a highly reliable candidate for the loan, with all indicators pointing towards a low likelihood of default.\n",
      "\n",
      "---\n",
      "\n",
      "Question: Analyze the applicant's financial information and return a risk assessment.\n",
      "\n",
      "Applicant: Name: Emily White Age: 55 Annual Income: $150,000 Credit Score: 800 Existing Debts: $20,000 in auto loans Loan Amount Requested: $100,000 for home renovations Employment: Senior manager at a large corporation for 20 years\n",
      "\n",
      "Reasoning: Let's think step by step in order to produce the answer. We evaluate Emily's financial profile based on several factors such as age, income, credit score, existing debts, loan amount requested, employment history, and debt-to-income ratio. 1. **Age (55):** Neutral factor. At this age, individuals often have established financial habits and stability but may also be considering retirement planning. 2. **Income ($150,000):** High income, indicating a strong ability to repay the loan. This suggests financial stability and the capacity to handle additional financial obligations. 3. **Credit Score (800):** Excellent credit score, suggesting exceptional credit management and a history of timely payments. This significantly lowers the risk from a lender's perspective. 4. **Existing Debts ($20,000 auto loans):** Moderate debt level relative to income. The nature of the debt (auto loan) is typical and manageable given the income level. 5. **Loan Amount ($100,000 for home renovations):** Substantial loan request but reasonable considering her income level and likely increases in property value due to renovations. 6. **Employment (20 years as a senior manager):** High stability and job security. Long tenure in a managerial position at a large corporation suggests reliability and a steady income stream. 7. **Debt-to-Income Ratio (estimated 13.3%):** Calculated by dividing the total monthly debt payments by the monthly income. This ratio is well within a safe range, indicating a low debt burden relative to income.\n",
      "\n",
      "Answer: Based on the analysis, Emily White presents a Low risk for a $100,000 loan for home renovations. The assessment is justified by her high income, excellent credit score, and stable employment history. Her existing debts are manageable, and the debt-to-income ratio is low, which further supports her ability to repay the requested loan. The loan purpose (home renovations) is likely to enhance the value of her property, adding a positive dimension to the risk assessment. Overall, Emily is a strong candidate for the loan, with minimal risk factors involved.\n",
      "\n",
      "---\n",
      "\n",
      "Question: Analyze the applicant's financial information and return a risk assessment.\n",
      "\n",
      "Applicant: Name: John Doe Age: 35 Annual Income: $75,000 Credit Score: 720 Existing Debts: $20,000 in student loans, $5,000 in credit card debt Loan Amount Requested: $250,000 for a home mortgage Employment: Software Engineer at Tech Corp for 5 years\n",
      "\n",
      "Reasoning: Let's think step by step in order to\u001b[32m produce the answer. We will evaluate John Doe's financial profile by considering his age, income, credit score, existing debts, loan amount requested, employment history, and debt-to-income ratio.\n",
      "\n",
      "1. **Age (35):** John is in his mid-30s, an age that suggests potential career stability and financial maturity. This is generally a neutral factor in risk assessment but can be seen positively if other factors align well.\n",
      "\n",
      "2. **Annual Income ($75,000):** This is a decent income level, but considering the size of the loan requested ($250,000 for a home mortgage), we need to ensure it supports the repayment capacity adequately.\n",
      "\n",
      "3. **Credit Score (720):** A credit score of 720 is considered good and indicates responsible credit management. However, it may suggest slightly higher risk than a score in the excellent range (750+), but still shows a low likelihood of default.\n",
      "\n",
      "4. **Existing Debts ($20,000 in student loans, $5,000 in credit card debt):** The total existing debt is $25,000. The presence of student loans is typical for this age group, but the credit card debt could indicate a need for careful financial management. \n",
      "\n",
      "5. **Loan Amount Requested ($250,000 for a home mortgage):** The requested mortgage amount is substantial relative to his income and existing debts. This requires careful assessment of his debt-to-income ratio to ascertain affordability.\n",
      "\n",
      "6. **Employment (5 years as a Software Engineer at Tech Corp):** Stable employment in a high-demand field suggests job security. Five years at the same company indicates reliability and a consistent income stream, which are positive factors.\n",
      "\n",
      "7. **Debt-to-Income Ratio:** We calculate this by considering all monthly debt obligations against his income. Assuming monthly payments are $200 for student loans and $125 for credit card debt, his monthly debt payments total $325. With a monthly income of $6,250 ($75,000/12), his current debt-to-income ratio is approximately 5.2%. However, adding a potential monthly mortgage payment of approximately $1,200 (a rough estimate for a $250,000 mortgage), his new debt-to-income ratio would be around 24.4%. This is within acceptable lending limits but indicates a significant increase in his financial obligations.\n",
      "\n",
      "Answer: Based on the analysis, John Doe presents a Moderate risk for the $250,000 home mortgage. While he has a good credit score and stable employment in a promising field, the size of the loan relative to his income and existing debts means his debt-to-income ratio will significantly increase. His current financial obligations are manageable, but the additional mortgage could stretch his financial capacity. While he appears to be a responsible borrower, the lender may want to ensure he has a solid plan for managing the increased debt load. Overall, his risk level is moderate, with a need for careful monitoring of his capacity to manage the higher debt.\u001b[0m\u001b[31m \t (and 2 other completions)\u001b[0m\n",
      "\n",
      "\n",
      "\n",
      "Prompt used: \n",
      "\n",
      "\n",
      "Analyze the provided financial information of the applicant to generate a comprehensive risk assessment. Consider key metrics such as credit score, debts, income, and debt-to-income ratio, as well as qualitative factors like employment stability and potential financial changes. Provide a detailed rationale that explains the step-by-step reasoning process used to evaluate each parameter, and conclude with a justified risk rating ranging from Low to High Risk.\n",
      "\n",
      "---\n",
      "\n",
      "Follow the following format.\n",
      "\n",
      "Question: ${question}\n",
      "\n",
      "Applicant: ${applicant}\n",
      "\n",
      "Reasoning: Let's think step by step in order to ${produce the answer}. We ...\n",
      "\n",
      "Answer: A thorough risk analysis about the applicant, justifying the assessment for each of the parameters considered from the applicant\n",
      "\n",
      "---\n",
      "\n",
      "Question: Analyze the applicant's financial information and return a risk assessment.\n",
      "\n",
      "Applicant: Name: John Smith Age: 35 Annual Income: $80,000 Credit Score: 750 Existing Debts: $0 Loan Amount Requested: $50,000 for a car loan Employment: Software Engineer at XYZ Corp for 5 years\n",
      "\n",
      "Reasoning: Let's think step by step in order to produce the answer. We start by evaluating each aspect of John Smith's financial profile to determine the level of risk associated with lending him the requested car loan. 1. **Age (35)**: John is in his mid-30s, an age where individuals typically have stable careers and financial responsibilities. This age factor suggests a neutral to positive risk, as he is likely to have gained financial experience. 2. **Annual Income ($80,000)**: This is a solid income level, especially for a single person or a household with moderate financial obligations, indicating a strong ability to repay the loan. This reduces the perceived risk. 3. **Credit Score (750)**: A credit score of 750 is considered excellent, suggesting that John has a history of managing his credit responsibly and is unlikely to default on the loan. 4. **Existing Debts ($0)**: With no existing debts, John's debt-to-income ratio is extremely low, which significantly lowers the risk and shows he has no current financial burdens that could interfere with new loan obligations. 5. **Loan Amount Requested ($50,000)**: The requested amount is reasonable compared to his income and zero existing debt, making it manageable and further lowering the risk. 6. **Employment (5 years as a Software Engineer at XYZ Corp)**: Five years of employment in a stable and high-demand field like software engineering at a presumably reputable company indicates job stability and consistent income, which are strong positive factors.\n",
      "\n",
      "Answer: Based on the analysis, John Smith presents a Low risk for the $50,000 car loan. The primary factors driving this assessment include his high income, excellent credit score, zero existing debt, and stable employment in a lucrative industry. The requested loan amount is reasonable in proportion to his financial profile, and his age suggests financial maturity. Overall, he appears to be a highly reliable candidate for the loan, with all indicators pointing towards a low likelihood of default.\n",
      "\n",
      "---\n",
      "\n",
      "Question: Analyze the applicant's financial information and return a risk assessment.\n",
      "\n",
      "Applicant: Name: Emily White Age: 55 Annual Income: $150,000 Credit Score: 800 Existing Debts: $20,000 in auto loans Loan Amount Requested: $100,000 for home renovations Employment: Senior manager at a large corporation for 20 years\n",
      "\n",
      "Reasoning: Let's think step by step in order to produce the answer. We evaluate Emily's financial profile based on several factors such as age, income, credit score, existing debts, loan amount requested, employment history, and debt-to-income ratio. 1. **Age (55):** Neutral factor. At this age, individuals often have established financial habits and stability but may also be considering retirement planning. 2. **Income ($150,000):** High income, indicating a strong ability to repay the loan. This suggests financial stability and the capacity to handle additional financial obligations. 3. **Credit Score (800):** Excellent credit score, suggesting exceptional credit management and a history of timely payments. This significantly lowers the risk from a lender's perspective. 4. **Existing Debts ($20,000 auto loans):** Moderate debt level relative to income. The nature of the debt (auto loan) is typical and manageable given the income level. 5. **Loan Amount ($100,000 for home renovations):** Substantial loan request but reasonable considering her income level and likely increases in property value due to renovations. 6. **Employment (20 years as a senior manager):** High stability and job security. Long tenure in a managerial position at a large corporation suggests reliability and a steady income stream. 7. **Debt-to-Income Ratio (estimated 13.3%):** Calculated by dividing the total monthly debt payments by the monthly income. This ratio is well within a safe range, indicating a low debt burden relative to income.\n",
      "\n",
      "Answer: Based on the analysis, Emily White presents a Low risk for a $100,000 loan for home renovations. The assessment is justified by her high income, excellent credit score, and stable employment history. Her existing debts are manageable, and the debt-to-income ratio is low, which further supports her ability to repay the requested loan. The loan purpose (home renovations) is likely to enhance the value of her property, adding a positive dimension to the risk assessment. Overall, Emily is a strong candidate for the loan, with minimal risk factors involved.\n",
      "\n",
      "---\n",
      "\n",
      "Question: Analyze the applicant's financial information and return a risk assessment.\n",
      "\n",
      "Applicant: Name: John Doe Age: 35 Annual Income: $75,000 Credit Score: 720 Existing Debts: $20,000 in student loans, $5,000 in credit card debt Loan Amount Requested: $250,000 for a home mortgage Employment: Software Engineer at Tech Corp for 5 years\n",
      "\n",
      "Reasoning: Let's think step by step in order to\u001b[32m produce the answer. We will evaluate John Doe's financial profile by considering his age, income, credit score, existing debts, loan amount requested, employment history, and debt-to-income ratio.\n",
      "\n",
      "1. **Age (35):** John is in his mid-30s, an age that suggests potential career stability and financial maturity. This is generally a neutral factor in risk assessment but can be seen positively if other factors align well.\n",
      "\n",
      "2. **Annual Income ($75,000):** This is a decent income level, but considering the size of the loan requested ($250,000 for a home mortgage), we need to ensure it supports the repayment capacity adequately.\n",
      "\n",
      "3. **Credit Score (720):** A credit score of 720 is considered good and indicates responsible credit management. However, it may suggest slightly higher risk than a score in the excellent range (750+), but still shows a low likelihood of default.\n",
      "\n",
      "4. **Existing Debts ($20,000 in student loans, $5,000 in credit card debt):** The total existing debt is $25,000. The presence of student loans is typical for this age group, but the credit card debt could indicate a need for careful financial management. \n",
      "\n",
      "5. **Loan Amount Requested ($250,000 for a home mortgage):** The requested mortgage amount is substantial relative to his income and existing debts. This requires careful assessment of his debt-to-income ratio to ascertain affordability.\n",
      "\n",
      "6. **Employment (5 years as a Software Engineer at Tech Corp):** Stable employment in a high-demand field suggests job security. Five years at the same company indicates reliability and a consistent income stream, which are positive factors.\n",
      "\n",
      "7. **Debt-to-Income Ratio:** We calculate this by considering all monthly debt obligations against his income. Assuming monthly payments are $200 for student loans and $125 for credit card debt, his monthly debt payments total $325. With a monthly income of $6,250 ($75,000/12), his current debt-to-income ratio is approximately 5.2%. However, adding a potential monthly mortgage payment of approximately $1,200 (a rough estimate for a $250,000 mortgage), his new debt-to-income ratio would be around 24.4%. This is within acceptable lending limits but indicates a significant increase in his financial obligations.\n",
      "\n",
      "Answer: Based on the analysis, John Doe presents a Moderate risk for the $250,000 home mortgage. While he has a good credit score and stable employment in a promising field, the size of the loan relative to his income and existing debts means his debt-to-income ratio will significantly increase. His current financial obligations are manageable, but the additional mortgage could stretch his financial capacity. While he appears to be a responsible borrower, the lender may want to ensure he has a solid plan for managing the increased debt load. Overall, his risk level is moderate, with a need for careful monitoring of his capacity to manage the higher debt.\u001b[0m\u001b[31m \t (and 2 other completions)\u001b[0m\n",
      "\n",
      "\n",
      "\n"
     ]
    }
   ],
   "source": [
    "prompt_used = worker_gpt4o.inspect_history(n=1)\n",
    "print(f\"Prompt used: {prompt_used}\")"
   ]
  },
  {
   "cell_type": "code",
   "execution_count": 45,
   "metadata": {},
   "outputs": [
    {
     "name": "stdout",
     "output_type": "stream",
     "text": [
      "[('assess_risk', Predict(StringSignature(question, applicant -> rationale, answer\n",
      "    instructions=\"Analyze the applicant's financial information and return a risk assessment.\"\n",
      "    question = Field(annotation=str required=True json_schema_extra={'__dspy_field_type': 'input', 'prefix': 'Question:', 'desc': '${question}'})\n",
      "    applicant = Field(annotation=str required=True json_schema_extra={'__dspy_field_type': 'input', 'prefix': 'Applicant:', 'desc': '${applicant}'})\n",
      "    rationale = Field(annotation=str required=True json_schema_extra={'prefix': \"Reasoning: Let's think step by step in order to\", 'desc': '${produce the answer}. We ...', '__dspy_field_type': 'output'})\n",
      "    answer = Field(annotation=str required=True json_schema_extra={'desc': '\\n                              A thorough risk analysis about the applicant, justifying the assessment \\n                              for each of the parameters considered from the applicant\\n                              ', '__dspy_field_type': 'output', 'prefix': 'Answer:'})\n",
      ")))]\n"
     ]
    }
   ],
   "source": [
    "mipro_optimized_advisor.save(f'mipro_optimized_advisor_compiled.json')"
   ]
  }
 ],
 "metadata": {
  "kernelspec": {
   "display_name": ".venv",
   "language": "python",
   "name": "python3"
  },
  "language_info": {
   "codemirror_mode": {
    "name": "ipython",
    "version": 3
   },
   "file_extension": ".py",
   "mimetype": "text/x-python",
   "name": "python",
   "nbconvert_exporter": "python",
   "pygments_lexer": "ipython3",
   "version": "3.12.6"
  }
 },
 "nbformat": 4,
 "nbformat_minor": 2
}
